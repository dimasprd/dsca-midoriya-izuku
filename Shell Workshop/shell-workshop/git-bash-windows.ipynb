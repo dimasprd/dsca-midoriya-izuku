{
 "cells": [
  {
   "cell_type": "markdown",
   "source": "# Instalasi Git Bash (Windows)\n\n**Git Bash** adalah sistem manajemen kontrol sumber untuk Windows. Ini memungkinkan kita untuk mengetik perintah Git yang membuat manajemen kode lebih mudah melalui pembuatan versi dan riwayat komit (*commit history*). **Bash** adalah baris perintah berbasis Linux (yang telah ditransfer ke Windows) sedangkan **Shell** adalah baris perintah Windows asli.",
   "metadata": {
    "slideshow": {
     "slide_type": "slide"
    },
    "tags": [],
    "cell_id": "00000-5262880f-e189-4df6-aca9-04b4c3f41cb7",
    "deepnote_cell_type": "markdown"
   }
  },
  {
   "cell_type": "markdown",
   "source": "## Langkah 1 - Buka Situs Git Bash\n\nUnduh versi terbaru Git Bash melalui situs resmi di https://git-scm.com/.\n\n<img src=\"../assets/images/web-git-windows.png\" width=\"50%\">",
   "metadata": {
    "slideshow": {
     "slide_type": "slide"
    },
    "tags": [],
    "cell_id": "00001-197df60d-56e1-479b-a6f0-eafccf65e72d",
    "deepnote_cell_type": "markdown"
   }
  },
  {
   "cell_type": "markdown",
   "source": "## Langkah 2 - Jalankan Instalasi\n\nSetelah selesai diunduh, langsung jalankan instalasinya. Klik *Next* setelah membaca lisensi.",
   "metadata": {
    "slideshow": {
     "slide_type": "slide"
    },
    "tags": [],
    "cell_id": "00002-be782b24-86ff-46ec-b50f-723f9195df66",
    "deepnote_cell_type": "markdown"
   }
  },
  {
   "cell_type": "markdown",
   "source": "## Langkah 3 - Pilih Lokasi Instalasi\n\nKita harus memilih lokasi atau direktori di mana kita akan memasang Git Bash. Biasanya, kita akan biarkan opsi yang disediakan oleh Git Bash apa adanya. Klik *Next*.",
   "metadata": {
    "slideshow": {
     "slide_type": "slide"
    },
    "tags": [],
    "cell_id": "00003-ecda7a0a-12b6-494b-a3e7-690127a138ed",
    "deepnote_cell_type": "markdown"
   }
  },
  {
   "cell_type": "markdown",
   "source": "## Langkah 4 - Pilih Komponen yang akan Diinstal\n\nPilih komponen yang akan diinstal atau langsung klik *Next* untuk membiarkan Git Bash memilih komponen apa adanya.",
   "metadata": {
    "slideshow": {
     "slide_type": "slide"
    },
    "tags": [],
    "cell_id": "00004-9a951ba3-0398-44d9-9cb9-433cc5130fdf",
    "deepnote_cell_type": "markdown"
   }
  },
  {
   "cell_type": "markdown",
   "source": "## Langkah 5 - Pilih Editor Default untuk Git\n\nSelanjutnya, kita harus memilih editor yang akan digunakan untuk Git dalam melakukan *commit*. Untuk awalan, jangan pilih opsi editor **vim** karena akan sangat menyusahkan. Sebagai alternatif, kita bisa pilih **Nano** atau **Notepad++** sebagai editor.",
   "metadata": {
    "slideshow": {
     "slide_type": "slide"
    },
    "tags": [],
    "cell_id": "00005-39edc744-857e-40b4-8e0f-fdef5cefdb36",
    "deepnote_cell_type": "markdown"
   }
  },
  {
   "cell_type": "markdown",
   "source": "## Langkah 6 - Menyesuaikan PATH\n\nPilih opsi yang di mana kita ingin menggunakan Git, lalu klik *Next*.\n\nPilih opsi **“Gunakan Git dari Git Bash saja”** jika ingin menjalankan perintah Git dan Bash hanya dari Git Bash. Artinya, kita tidak akan dapat menjalankan perintah Git seperti `git status` di Windows Command Prompt atau Powershell. Mereka hanya bisa dijalankan di Git Bash.\n\nPilih opsi **“Git dari baris perintah dan juga dari perangkat lunak pihak ketiga”** jika Anda ingin menjalankan perintah Git pada Windows Command Prompt atau Powershell.\n\nPilih opsi **“Gunakan Git dan alat Unix opsional dari Command Prompt”** jika Anda ingin menggunakan perintah Git dan Bash pada Command Prompt atau Powershell Windows. Opsi ini akan mengesampingkan beberapa alat Prompt Perintah Windows default seperti temukan dan urutkan.",
   "metadata": {
    "slideshow": {
     "slide_type": "slide"
    },
    "tags": [],
    "cell_id": "00006-44db288a-9e41-4278-a6e5-ddfc1fdb5a32",
    "deepnote_cell_type": "markdown"
   }
  },
  {
   "cell_type": "markdown",
   "source": "## Langkah 7 - Pilih HTTPS Transport Backend\n\nSelanjutnya, pilih **\"Use the OpenSSL library\"** dan klik *Next*.",
   "metadata": {
    "slideshow": {
     "slide_type": "slide"
    },
    "tags": [],
    "cell_id": "00007-a219e8df-2439-483c-8d4a-4a0f32e34a64",
    "deepnote_cell_type": "markdown"
   }
  },
  {
   "cell_type": "markdown",
   "source": "## Langkah 8 - Konfigurasi Konversi Akhir Baris\n\nPilih bagaimana Git harus memperlakukan setiap baris terakhi dalam file teks. Mungkin aman untuk menggunakan opsi default *Checkout Windows-Style, lakukan akhiran baris gaya Unix*. Klik *Next* untuk melanjutkan.",
   "metadata": {
    "slideshow": {
     "slide_type": "slide"
    },
    "tags": [],
    "cell_id": "00008-e7fd690f-886b-45ae-be76-2298f6153c86",
    "deepnote_cell_type": "markdown"
   }
  },
  {
   "cell_type": "markdown",
   "source": "## Langkah 9 - Konfigurasikan Emulator Terminal yang akan digunakan dengan Git Bash\n\nSelanjutnya, pilih emulator terminal yang ingin digunakan oleh Git Bash dengan opsi default *Gunakan MinTTY (terminal default MSYS2)* dan klik *Next*.",
   "metadata": {
    "slideshow": {
     "slide_type": "slide"
    },
    "tags": [],
    "cell_id": "00009-abcc98b9-2227-4d8c-a587-f07d6d3736cf",
    "deepnote_cell_type": "markdown"
   }
  },
  {
   "cell_type": "markdown",
   "source": "## Langkah 10 - Konfigurasi Opsi Ekstra\n\nSeharusnya opsi bawaan dari Git Bash sudah cukup, jadi langsung klik saja *Next*.",
   "metadata": {
    "slideshow": {
     "slide_type": "slide"
    },
    "tags": [],
    "cell_id": "00010-86847d91-891a-4fe8-ac88-22ab0ef16988",
    "deepnote_cell_type": "markdown"
   }
  },
  {
   "cell_type": "markdown",
   "source": "## Langkah 11 - Instalasi Selesai\n\nTunggu proses instalasi sampai selesai. Setelah selesai, silakan centang opsi **\"Launch Git Bash\"** lalu klik **\"Finish\"** untuk langsung membuka Git Bash.",
   "metadata": {
    "slideshow": {
     "slide_type": "slide"
    },
    "tags": [],
    "cell_id": "00011-8c2bf12b-879f-46e8-b6fc-fa6c093dfb83",
    "deepnote_cell_type": "markdown"
   }
  },
  {
   "cell_type": "markdown",
   "source": "<a style='text-decoration:none;line-height:16px;display:flex;color:#5B5B62;padding:10px;justify-content:end;' href='https://deepnote.com?utm_source=created-in-deepnote-cell&projectId=7dfad277-7c63-444a-9b3e-7c7afbe13f77' target=\"_blank\">\n<img alt='Created in deepnote.com' style='display:inline;max-height:16px;margin:0px;margin-right:7.5px;' src='data:image/svg+xml;base64,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' > </img>\nCreated in <span style='font-weight:600;margin-left:4px;'>Deepnote</span></a>",
   "metadata": {
    "tags": [],
    "created_in_deepnote_cell": true,
    "deepnote_cell_type": "markdown"
   }
  }
 ],
 "nbformat": 4,
 "nbformat_minor": 5,
 "metadata": {
  "kernelspec": {
   "display_name": "Python 3",
   "language": "python",
   "name": "python3"
  },
  "language_info": {
   "codemirror_mode": {
    "name": "ipython",
    "version": 3
   },
   "file_extension": ".py",
   "mimetype": "text/x-python",
   "name": "python",
   "nbconvert_exporter": "python",
   "pygments_lexer": "ipython3",
   "version": "3.9.4"
  },
  "deepnote_notebook_id": "44b5dcf7-8e90-4e22-aaac-3adfaef27494",
  "deepnote": {},
  "deepnote_execution_queue": []
 }
}