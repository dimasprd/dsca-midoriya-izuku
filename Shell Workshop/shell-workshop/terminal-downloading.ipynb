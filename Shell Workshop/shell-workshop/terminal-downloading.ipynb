{
 "cells": [
  {
   "cell_type": "markdown",
   "source": "# Mengunduh melalui Terminal dengan `curl`\n\n`curl` adalah utilitas baris perintah untuk mentransfer data dari atau ke server yang dirancang untuk bekerja tanpa interaksi pengguna. Dengan `curl`, kita bisa mengunduh atau mengunggah data menggunakan salah satu protokol yang didukung termasuk HTTP, HTTPS, SCP, SFTP, dan FTP . `curl` menyediakan sejumlah opsi untuk melanjutkan transfer, membatasi bandwidth, dukungan proxy, otentikasi pengguna, dan banyak lagi.\n\nPada bagian ini, kita akan mencoba bagaimana kita bisa menggunakan `curl` untuk beberapa kasus.",
   "metadata": {
    "slideshow": {
     "slide_type": "slide"
    },
    "tags": [],
    "cell_id": "00000-b0492606-cff8-434b-955c-9b430c46a9a6",
    "deepnote_cell_type": "markdown"
   }
  },
  {
   "cell_type": "markdown",
   "source": "## Instalasi `curl`\n\nInstalasi `curl` berbeda-beda tergantugn sistme operasi yang dipakai.\n\n* Untuk pengguna Windows, jika sudah menginstal **Git Bash**, maka `curl` seharusnya sudah terinstal secara otomatsi dan bisa langsung digunakan\n* Untk pengguna Mac, instalasi `curl` termudah adalah dengan menggunakan bantuan `Homebrew`. Jika belum terinstal, silakan instal [Homebrew](https://brew.sh/).\n    Jika sudah, maka kita tinggal ketik dan jalankan perintah `brew install curl`.\n* Untuk pengguna sistem operasi berbasis Linux, jalankan perintah di bawah ini.\n    ```bash\n    sudo apt update\n    sudo apt install curl\n    ```",
   "metadata": {
    "slideshow": {
     "slide_type": "slide"
    },
    "tags": [],
    "cell_id": "00001-2c7f733f-848b-4326-9a97-dfdc735ffdad",
    "deepnote_cell_type": "markdown"
   }
  },
  {
   "cell_type": "markdown",
   "source": "Untuk mengecek apakah `curl` sudah terpasang atau belum, kita bisa cek versi dengan perintah `curl --version`. Contoh luarannya adalah seperti pada potongan kode di bawah ini.\n\n```bash\ncurl 7.64.1 (x86_64-apple-darwin20.0) libcurl/7.64.1 (SecureTransport) LibreSSL/2.8.3 zlib/1.2.11 nghttp2/1.41.0\nRelease-Date: 2019-03-27\nProtocols: dict file ftp ftps gopher http https imap imaps ldap ldaps pop3 pop3s rtsp smb smbs smtp smtps telnet tftp\nFeatures: AsynchDNS GSS-API HTTP2 HTTPS-proxy IPv6 Kerberos Largefile libz MultiSSL NTLM NTLM_WB SPNEGO SSL UnixSockets\n```",
   "metadata": {
    "slideshow": {
     "slide_type": "subslide"
    },
    "tags": [],
    "cell_id": "00002-7c03ab7b-b897-425d-9b11-123588c85ba5",
    "deepnote_cell_type": "markdown"
   }
  },
  {
   "cell_type": "markdown",
   "source": "## Penggunaan `curl`\n\nSintak `curl` adalah sebagai berikut:\n\n```bash\ncurl [OPTIONS] [URL...]\n```\n\nJika kita menjalankan perintah `curl` tanpa menyediakan `OPTIONS`, `curl` akan menampilkan file `html` yang menyusun situs atau domain yang kita sediakan sebagai URL.\nMisalkan kita menjalankan perintah `curl` pada domain `example.com` menggunakan perintah di bawah ini\n\n```bash\ncurl example.com\n```\n\nluaran yang dihasilkan adalah skrip `html` yang ditampilkan langsung pada terminal kita.",
   "metadata": {
    "slideshow": {
     "slide_type": "slide"
    },
    "tags": [],
    "cell_id": "00003-b22803b9-0c24-4976-aa96-7686b98981c6",
    "deepnote_cell_type": "markdown"
   }
  },
  {
   "cell_type": "markdown",
   "source": "## Opsi pada Perintah `curl`\n\nAda beberapa opsi yang bisa berikan untuk mengonfigurasi bagaimana `curl` berinteraksi dengan URL dan/atau luaran yang didapatkan.",
   "metadata": {
    "slideshow": {
     "slide_type": "slide"
    },
    "tags": [],
    "cell_id": "00004-a22f2ee9-25cd-4bdc-ac6c-53cabbde969b",
    "deepnote_cell_type": "markdown"
   }
  },
  {
   "cell_type": "markdown",
   "source": "### Menyimpan Luaran sebagai File\n\nKita bisa menyimpan hasil `curl` ke dalam sebuah file dengan menambahkan opsi `-o` atau `--output` dengan argumen nama file di mana kita ingin menyimpan luarannya.\nMisalkan kita ingin menyimpan luaran dari `example.com` pada file `example.html`, maka perintah yang harus dijalankan adalah sebagai berikut.\n\n```bash\ncurl -o example.html example.com\n```",
   "metadata": {
    "slideshow": {
     "slide_type": "slide"
    },
    "tags": [],
    "cell_id": "00005-f86debb5-18e7-45ef-bd7c-3c8f95fc0039",
    "deepnote_cell_type": "markdown"
   }
  },
  {
   "cell_type": "markdown",
   "source": "`curl` akan menampilkan sebuah proses unduh seperti di bawah ini dan file `example.html` akan dibuat.\n\n```bash\n  % Total    % Received % Xferd  Average Speed   Time    Time     Time  Current\n                                 Dload  Upload   Total   Spent    Left  Speed\n100  1256  100  1256    0     0   3171      0 --:--:-- --:--:-- --:--:--  3163\n```",
   "metadata": {
    "slideshow": {
     "slide_type": "subslide"
    },
    "tags": [],
    "cell_id": "00006-d116c4d7-da3b-4eeb-bdef-8a064cba7571",
    "deepnote_cell_type": "markdown"
   }
  },
  {
   "cell_type": "markdown",
   "source": "Atau, kita juga bisa menggunakan opsi `-O` atau `--remote-name` untuk menyimpan hasil unduhan dengan nama sesuai dengan nama file yang sedang diunduh.\nSebagai contoh, misalkan kita ingin mengunduh sebuah data yang tersedia dan dapat diakses oleh publik. Kita bisa gunakan `curl` seperti di bawah ini.\n\n```bash\ncurl -O https://storage.googleapis.com/devlab-datasets/world-health-statistics/dentists.csv\n```\n\nPerintah di atas akan mengunduh data dan menyimpannya sesuai nama file bawaanya, yaitu `dentist.csv`. Jika kita ingin menyimpannya dengan nama lain, daripada dengan opsi `-O`, kita bisa gunakan opsi `-o NAME_FILE`.",
   "metadata": {
    "slideshow": {
     "slide_type": "subslide"
    },
    "tags": [],
    "cell_id": "00007-afe95e75-60e1-4e8c-9326-ae732f3524cb",
    "deepnote_cell_type": "markdown"
   }
  },
  {
   "cell_type": "markdown",
   "source": "### Melanjutkan Unduhan\n\nKetika kita sedang mengunduh file `dentist.csv` di atas, tapi tiba-tiba ada gangguan koneksi yang menyebabkan data tidak terunduh. Kita tidak perlu khawatir karena kita bisa melanjutkan unduhan tersebut\ndengan menambahkan opsi `-C -` seperti di bawah ini.\n\n```bash\ncurl -C - -O https://storage.googleapis.com/devlab-datasets/world-health-statistics/dentists.csv\n```\n",
   "metadata": {
    "slideshow": {
     "slide_type": "slide"
    },
    "tags": [],
    "cell_id": "00008-8f990962-0b0c-451b-b22e-31e1cb02372f",
    "deepnote_cell_type": "markdown"
   }
  },
  {
   "cell_type": "markdown",
   "source": "<a style='text-decoration:none;line-height:16px;display:flex;color:#5B5B62;padding:10px;justify-content:end;' href='https://deepnote.com?utm_source=created-in-deepnote-cell&projectId=7dfad277-7c63-444a-9b3e-7c7afbe13f77' target=\"_blank\">\n<img alt='Created in deepnote.com' style='display:inline;max-height:16px;margin:0px;margin-right:7.5px;' src='data:image/svg+xml;base64,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' > </img>\nCreated in <span style='font-weight:600;margin-left:4px;'>Deepnote</span></a>",
   "metadata": {
    "tags": [],
    "created_in_deepnote_cell": true,
    "deepnote_cell_type": "markdown"
   }
  }
 ],
 "nbformat": 4,
 "nbformat_minor": 5,
 "metadata": {
  "kernelspec": {
   "display_name": "Python 3",
   "language": "python",
   "name": "python3"
  },
  "language_info": {
   "codemirror_mode": {
    "name": "ipython",
    "version": 3
   },
   "file_extension": ".py",
   "mimetype": "text/x-python",
   "name": "python",
   "nbconvert_exporter": "python",
   "pygments_lexer": "ipython3",
   "version": "3.9.4"
  },
  "deepnote_notebook_id": "bf11bbeb-03d2-4faa-bb8d-f76f3a938017",
  "deepnote": {},
  "deepnote_execution_queue": []
 }
}