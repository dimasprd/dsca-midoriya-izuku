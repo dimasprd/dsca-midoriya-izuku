{
 "cells": [
  {
   "cell_type": "markdown",
   "source": "# Pengenalan Anaconda sebagai *Virtual Environment*\n\nSebuah lingkungan maya (*virtual environment*) adalah sebuah peranti lunak yang membantu kita\nuntuk menjaga **dependensi** yang diperlukan oleh berbagai proyek berbeda dengan membuat sebuah\n**lingkungan maya yang terisolasi**. Lingkungan maya yang terisolasi ini penting karena dalam\nsebuah proyek, umumnya kita tidak memerlukan semua pustaka atau modul yang tersedia dan hanya\nmembutuhkan beberapa modul saja.",
   "metadata": {
    "slideshow": {
     "slide_type": "slide"
    },
    "tags": [],
    "cell_id": "00000-a067d685-446e-4149-b785-3f6882985581",
    "deepnote_cell_type": "markdown"
   }
  },
  {
   "cell_type": "markdown",
   "source": "## Kenapa Kita Perlu *Virtual Environment*?\n\nSebagai *data scientist*, misalkan kita sedang mengerjakan 2 proyek:\n1. Proyek prediksi deret waktu (*time series*)\n2. Proyek analisis dan eksplorasi data untuk mendapatkan *insights*\n\nPada proyek pertama, kita mungkin memerlukan pustaka seperti *TensorFlow* atau *PyTorch*,\nsedangkan pada proyek kedua, kita mungkin hanya memerlukan pustaka dasar seperti *Matplotlib*,\n*Seaborn*, atau *Pandas*.",
   "metadata": {
    "slideshow": {
     "slide_type": "slide"
    },
    "tags": [],
    "cell_id": "00001-629219f9-145b-47dd-8af7-9095a917c960",
    "deepnote_cell_type": "markdown"
   }
  },
  {
   "cell_type": "markdown",
   "source": "Jika kita tidak menggunakan lingkungan maya, kita mungkin perlu\nmemasang semua pustaka yang dibutuhkan untuk kedua proyek tersebut, sehingga memori yang terpakai\nsangat besar. Akan tetapi, jika kita menggunakan lingkungan maya seperti Anaconda, *pipenv*, atau yang lainnya,\nkita bisa mengisolasi dependensi khusus untuk proyek pertama dan proyek kedua, sehingga\nmemori pada proyek kedua tidak memakan banyak memori.",
   "metadata": {
    "slideshow": {
     "slide_type": "subslide"
    },
    "tags": [],
    "cell_id": "00002-8b4e4b65-1e6e-4f5c-8b0e-a855c4f275dc",
    "deepnote_cell_type": "markdown"
   }
  },
  {
   "cell_type": "markdown",
   "source": "## Anaconda sebagai *Package Manager* dan *Environment Manager*\n\nAnaconda adalah sebuah alat pengelola paket peranti lunak, sekaligus pengelola lingkungan untuk\n*data science* menggunakan Python/R. Dengan memasang Anaconda, kita sudah mengunduh banyak paket\ndan modul Python yang tersedia lebih dari 7500 paket sumber terbuka. {cite}`anaconda`\n\nPengelola paket, atau istilah bahasa inggrisnya adalah *package manager*, adalah sebuah peranti\nlunak yang membantu kita untuk melakukan manajemen paket, seperti instalasi, penghapusan, dan\npembaruan paket. Sedangkan, pengelola lingkungan, atau istilah bahasa inggrisnya adalah\n*environment manager*, membantu kita untuk mengelola *virtual environment* mulai dari pembuatan\nlingkungan terisolasi, bekerja sama dengan *package manager* untuk mengelola paket/modul, dan\nmengelola dependensi pada setiap paket/modul.\n\nDengan ini, kita hanya tinggal menentukan paket atau modul apa yang kita butuhkan untuk suatu\nproyek. Kita juga bisa membuat berapapun banyaknya lingkungan maya sesuai dengan kapasitas memori\nkomputer.",
   "metadata": {
    "slideshow": {
     "slide_type": "slide"
    },
    "tags": [],
    "cell_id": "00003-06768196-3664-404f-a645-fbb9e475d320",
    "deepnote_cell_type": "markdown"
   }
  },
  {
   "cell_type": "markdown",
   "source": "## Manajemen *Virtual Envrionment* dengan Anaconda\n\nKita akan menggunakan terminal untuk berinteraksi dengan anaconda. Bagi pengguna Linux atau MacOS,\nsilakan gunakan terminal bawaan komputer yang sudah terintegrasi setelah memasang anaconda. Untuk\npengguna Windonws, silakan gunakan **Anaconda Prompt**.",
   "metadata": {
    "slideshow": {
     "slide_type": "slide"
    },
    "tags": [],
    "cell_id": "00004-b51d720a-aafb-4e64-9d4f-fa856687b012",
    "deepnote_cell_type": "markdown"
   }
  },
  {
   "cell_type": "markdown",
   "source": "### Memulai `conda`\n\n#### Windows\n\n* Dari menu Start, cari dan buka \"Anaconda Prompt\".\n  ```{figure} ../assets/images/anaconda-prompt-windows.png\n  :name: anaconda-prompt-windows\n  Diambil dari [anaconda](https://conda.io/projects/conda/en/latest/user-guide/getting-started.html)\n  ```\n* Akan muncul GUI mirip terminal, kita akan menjalankan perintah `conda` pada anaconda prompt\n\n#### MacOS\n\n* Buka *spotlight*, lalu buka \"Terminal\" (selain terminal, bisa juga menggunakan shell yang lain).\n\n#### Linux\n\n* Buka \"terminal\"",
   "metadata": {
    "slideshow": {
     "slide_type": "slide"
    },
    "tags": [],
    "cell_id": "00005-5670c15a-8daa-4dc3-93d7-9f8272dbf5f8",
    "deepnote_cell_type": "markdown"
   }
  },
  {
   "cell_type": "markdown",
   "source": "Setelah terminal muncul, verifikasi bahwa `conda` sudah terpasang dan berjalan pada komputer\ndengan perintah di bawah:\n\n```bash\nconda --version\n```\n\nKita bisa membaharui versi `conda` dengan mengetikkan perintah\n\n```bash\nconda update conda\n```\n\nConda akan membandingkan versi yang terpasang dengan versi terbaru yang tersedia.\nJika memang ada versi terbaru, maka ketik `y` dan tekan `Enter` pada pesan konfirmasi yang muncul\nseperti di bawah ini.\n\n```bash\nProceed ([y]/n)? y\n```",
   "metadata": {
    "slideshow": {
     "slide_type": "subslide"
    },
    "tags": [],
    "cell_id": "00006-a8516016-f9c1-4517-976f-ae035c9d063c",
    "deepnote_cell_type": "markdown"
   }
  },
  {
   "cell_type": "markdown",
   "source": "### Mengelola *Environment*\n\nPada saat pertama kali memulai, `conda` sudah menyediakan lingkungan *default* bernama `base` yang sudah terpasang beberapa paket dan modul\nyang disediakan oleh anaconda. Meski begitu, kita tidak ingin menggunakan `base` sebagai *one-for-all*  yang terpasang berbagai macam paket untuk berbagai proyek.",
   "metadata": {
    "slideshow": {
     "slide_type": "slide"
    },
    "tags": [],
    "cell_id": "00007-c6c1311b-0f00-4a8b-9ae3-d427fc1d14ae",
    "deepnote_cell_type": "markdown"
   }
  },
  {
   "cell_type": "markdown",
   "source": "Oleh karena itu, kita perlu membuat *virtual environment* baru dengan `conda`. Berikut adalah langkah-langkahnya:\n1. Untuk membuat *environment* baru:\n   ```bash\n   conda create --name bitlabs\n   ```\n2. Ketika `conda` menanyakan konfirmasi untuk melanjutkan, ketik `y`:\n\n   ```bash\n   proceed ([y]/n)? y\n   ```\n   \n   Ini akan membuat lingkungan baru bernama `bitlabs` dan belum ada paket yang dipasang di dalam\n   lingkungan ini.\n3. Kita juga bisa membuat sebuah *environment* dengan versi Python tertentu dengan menambahkan\n   sintaks `python=3.8`, misalkan.\n   ```bash\n   conda create --name bitlabs python=3.8\n   ```\n4. Jika kita sudah tau paket apa yang akan digunakan dan ingin langsung memasangnya, kita bisa\n   menuliskan paket-paket tersebut saat membuat *environment*.\n   ```bash\n   conda create -n bitlabs python=3.8 flask\n   ```\n   ```{note}\n   `-n` dan `--name` merupakan perintah yang ekuivalen untuk menentukan nama *environment*.\n   ```",
   "metadata": {
    "slideshow": {
     "slide_type": "subslide"
    },
    "tags": [],
    "cell_id": "00008-0eebd87f-028a-4286-bfad-6f42494536dd",
    "deepnote_cell_type": "markdown"
   }
  },
  {
   "cell_type": "markdown",
   "source": "Untuk perintah opsional dan konfigurasi lainnya, jalankan perintah\n\n```bash\nconda create --help\n```\n\nSebagai perbandingan, mari kita buat *environment* lain yang berbeda bernama `bitlabs-env`.\n\n```bash\nconda create -n bitlabs-env python=3.7\n```\n\nUntuk mengecek apakah *environment* yang sudah kita buat benar-benar ada:\n\n```bash\nconda env list\n```",
   "metadata": {
    "slideshow": {
     "slide_type": "subslide"
    },
    "tags": [],
    "cell_id": "00009-5f4e63e0-2666-405d-8f61-0556a12ed302",
    "deepnote_cell_type": "markdown"
   }
  },
  {
   "cell_type": "markdown",
   "source": "### Aktivasi *Environment*\n\n*Enviroment* yang sudah dibuat perlu diaktivasi terlebih dahulu agar kita benar-benar berada\npada lingkungan yang benar dengan paket-paket yang dibutuhkan. Untuk mengaktivasi *environment*,\nketik\n\n```bash\nconda activate env\n```\n\ndengan `env` adalah nama *environment* yang ingin kita aktifkan. Jika kita ingin mengaktifkan\n*environment* `bitlabs`, kita tinggal jalankan `conda activate bitlabs`.",
   "metadata": {
    "slideshow": {
     "slide_type": "slide"
    },
    "tags": [],
    "cell_id": "00010-d362ad31-b5cb-48ca-b807-bb2a1f9bd9b4",
    "deepnote_cell_type": "markdown"
   }
  },
  {
   "cell_type": "markdown",
   "source": "Setelah *environment* `bitlabs` aktif, kita bisa melihat paket-paket apa saja yang terpasang pada *environment* tersebut\ndengan perintah `conda list`. Untuk *environment* `bitlabs`, kita akan melihat bahwa `flask` termasuk dalam daftar yang ditampilkan.\n\nUntuk menonaktifkan *envrionment*, cukup dengan menggunakan perintah di bawah ini.\n\n```bash\nconda deactivate\n```\n\nSekarang, kita coba aktifkan *environment* `bitlabs-env` lalu menjalankan `conda list` untuk melihat paket yang terpasang\npada *environment* `bitlabs-env`. Jika kita sudah benar dalam membuat *environment* tadi, maka kita tidak akan melihat\n`flask` pada *environment* `bitlabs-env`. Sehingga, sekarang kita bisa memilih untuk menggunakan `bitlabs` jika kita membutuhkan\n`flask` dalam proyek kita, dan menggunakan `bitlabs-env` jika kita tidak membutuhkan `flask`.",
   "metadata": {
    "slideshow": {
     "slide_type": "subslide"
    },
    "tags": [],
    "cell_id": "00011-07c487e9-b5f1-4c36-8a20-24ae5baf86c6",
    "deepnote_cell_type": "markdown"
   }
  },
  {
   "cell_type": "markdown",
   "source": "### Ekspor Dependensi *Environment* menjadi File `environment.yml`\n\nUmumnya, kita perlu mengekspor semua dependensi paket dan versi yang digunakan ke dalam sebuah file sehingga\n*virtual environment* yang sudah dibuat bisa digunakan oleh orang lain, tim, atau bahkan kita sendiri di masa depan. Kita bisa\nmengekspor semua konfigurasi *environment* dengan perintah di bawah ini.\n\n```bash\nconda env export > environment.yml\n```\n\nJika kita ingin menamai file hasil eksport dengan nama yang berbeda, tinggal ganti `environment.yml` dengan nama lain. Jangan lupa\njuga untuk mengaktifkan *environment* yang ingin diekspor terlebih dahulu.\n",
   "metadata": {
    "slideshow": {
     "slide_type": "slide"
    },
    "tags": [],
    "cell_id": "00012-162b5a81-2865-4c0d-8533-139e293d9f57",
    "deepnote_cell_type": "markdown"
   }
  },
  {
   "cell_type": "markdown",
   "source": "<a style='text-decoration:none;line-height:16px;display:flex;color:#5B5B62;padding:10px;justify-content:end;' href='https://deepnote.com?utm_source=created-in-deepnote-cell&projectId=7dfad277-7c63-444a-9b3e-7c7afbe13f77' target=\"_blank\">\n<img alt='Created in deepnote.com' style='display:inline;max-height:16px;margin:0px;margin-right:7.5px;' src='data:image/svg+xml;base64,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' > </img>\nCreated in <span style='font-weight:600;margin-left:4px;'>Deepnote</span></a>",
   "metadata": {
    "tags": [],
    "created_in_deepnote_cell": true,
    "deepnote_cell_type": "markdown"
   }
  }
 ],
 "nbformat": 4,
 "nbformat_minor": 5,
 "metadata": {
  "kernelspec": {
   "display_name": "Python 3",
   "language": "python",
   "name": "python3"
  },
  "language_info": {
   "codemirror_mode": {
    "name": "ipython",
    "version": 3
   },
   "file_extension": ".py",
   "mimetype": "text/x-python",
   "name": "python",
   "nbconvert_exporter": "python",
   "pygments_lexer": "ipython3",
   "version": "3.9.4"
  },
  "deepnote_notebook_id": "8433a8e9-4eb8-4b77-ae32-f14d3089e32e",
  "deepnote": {},
  "deepnote_execution_queue": []
 }
}