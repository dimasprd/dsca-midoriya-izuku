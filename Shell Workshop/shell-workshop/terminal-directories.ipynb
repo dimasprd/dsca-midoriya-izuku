{
 "cells": [
  {
   "cell_type": "markdown",
   "source": "# Organisasi File dan Direktori pada Terminal\n\nPada bagian ini, kita akan mengenal beberapa perintah yang berkaitan dengan organisasi file dan direktori melalui terminal.\nPerintah yang akan kita pelajari adalah sebagai berikut:\n\n| Command | Description                                                  |\n| :------ | :----------------------------------------------------------- |\n| `touch` | Membuat sebuah file |\n| `mkdir` | Membuat sebuah direktori atau folder |\n| `rm`    | Menghapus sebuah file atau direktori |\n| `cp`    | Menyalin sebuah file atau direktori |\n| `mv`    | Memindahkan atau mengganti nama file atau direktori |",
   "metadata": {
    "slideshow": {
     "slide_type": "slide"
    },
    "tags": [],
    "cell_id": "00000-c1a187ee-9458-45c7-ba3f-2f31cdac1145",
    "deepnote_cell_type": "markdown"
   }
  },
  {
   "cell_type": "markdown",
   "source": "## Perintah `touch`\n\nDalam bentuknya yang paling sederhana saat digunakan tanpa opsi apa pun, jika nama file yang ditentukan sebagai argumen tidak ada, `touch` akan membuat file baru. Jika ternyata ada file dengan nama yang sama, maka `touch` akan memodifikasi dan mengganti waktu akses terakhir ke yang terbaru.\n\nSebagai contoh, jika kita ingin membuat file bernama `bitlabs.py`, kita bisa gunakan perintah di bawah ini.\n\n```bash\ntouch bitlabs.py\n```",
   "metadata": {
    "slideshow": {
     "slide_type": "slide"
    },
    "tags": [],
    "cell_id": "00001-bbade085-9164-45f9-9329-d2fa48df0953",
    "deepnote_cell_type": "markdown"
   }
  },
  {
   "cell_type": "markdown",
   "source": "Untuk membuat atau memodifikasi beberapa file sekaligus, kita bisa langsung tulis nama-nama filenya:\n\n```bash\ntouch bitlabs.py code.py\n```\n\nPerintah di atas akan membuat file `bitlabs.py` dan `code.py` pada direktori kerja saat ini.\n\nAkan tetapi, jika kita tidak ingin `touch` untuk mengganti file yang ternyata sudah ada, kita bisa menambahkan opsi `-c` atau `--no-create`. Sebagai contoh, karena kita sudah membuat file `code.py`, kita tidak ingin memodifikasi tanggal pembuatan dan aksesnya. Oleh karena itu, untuk berjaga-jaga, kita bisa ketikkan perintah berikut.\n\n```bash\ntouch -c code.py\n```",
   "metadata": {
    "slideshow": {
     "slide_type": "subslide"
    },
    "tags": [],
    "cell_id": "00002-76202566-22ab-42ff-8b1d-0584b639837b",
    "deepnote_cell_type": "markdown"
   }
  },
  {
   "cell_type": "markdown",
   "source": "## Perintah `mkdir`\n\nPenulisan sintaks `mkdir` adalah sebagai berikut:\n\n```bash\nmkdir [OPTIONS] [DIRECTORY]\n```\n\nPerintah `mkdir` mengambil satu atau lebih argumen **DIRECTORY** dengan nama sesuai yang kita masukkan. Sebagai contoh, mari kita buat direktori dengan nama `bitlabs`.\n\n```bash\nmkdir bitlabs\n```\n\nJika kita ingin membuat direktori atau folder di direktori yang lain, kita bisa menulis sesuai dengan lokasi lengkap direktori dan lokasi direktorinya. Misalkan kita ingin membuat direktori `projects` dalam folder `bitlabs` yang baru saja kita buat. Maka, kita bisa tuliskan sebagai berikut.\n\n```bash\nmkdir bitlabs/projects\n```",
   "metadata": {
    "slideshow": {
     "slide_type": "slide"
    },
    "tags": [],
    "cell_id": "00003-d2153f89-67c5-4b74-aee0-cb5cf9ec1d80",
    "deepnote_cell_type": "markdown"
   }
  },
  {
   "cell_type": "markdown",
   "source": "### Membuat Beberapa Direktori Sekaligus\n\nSama dengan `touch`, kita juga bisa membuat beberapa direktori sekaligus dengan langsung menuliskan nama-nama direktorinya seperti di bawah ini.\n\n```bash\nmkdir bit labs\n```\n\nPerintah ini juga membolehkan kita untuk membuat sebuah struktur direktori yang lebih kompleks dengan satu perintah sajic/\n\n```bash\n|-- Classical\n|   `-- Baroque\n|       `-- Early\n|-- Disco\n|-- Folk\n|-- Jazz\n|   `-- Blues\n`-- Rock\n    |-- Gothic\n\t\t    |-- Progressive\n\t\t\t\t    `-- Punk\n```\n\nKita bisa gunakan perintah `mkdir` seperti di bawah ini.\n\n```bash\nmkdir -p Music/{Jazz/Blues,Folk,Disco,Rock/{Gothic,Punk,Progressive},Classical/Baroque/Early}\n```",
   "metadata": {
    "slideshow": {
     "slide_type": "subslide"
    },
    "tags": [],
    "cell_id": "00004-b1958af3-83f2-4e3e-9837-230eecef6eb8",
    "deepnote_cell_type": "markdown"
   }
  },
  {
   "cell_type": "markdown",
   "source": "## Perintah `rm`\n\nSintaks yang digunakan untuk menggunakan perintah `rm` adalah sebagai berikut.\n\n```bash\nrm [OPTIONS]... FILE...\n```\n\nSecara default, saat dijalankan tanpa opsi apa pun, `rm` tidak menghapus direktori dan tidak meminta pengguna untuk melanjutkan penghapusan file yang diberikan.\nUntuk menghapus sebuah file dengan `rm`, kita harus tulis nama file yang ingin kita hapus sebagai argumen `FILE`. Misalkan kita ingin menghapus file `code.py` yang sudah dibuat sebelumnya. Penulisannya adalah sebagai berikut.\n\n```bash\nrm code.py\n```",
   "metadata": {
    "slideshow": {
     "slide_type": "slide"
    },
    "tags": [],
    "cell_id": "00005-2d811ada-91b8-4bff-a6d0-491ea4c5f97f",
    "deepnote_cell_type": "markdown"
   }
  },
  {
   "cell_type": "markdown",
   "source": "Salah satu opsi yang bisa digunakan dalam perintah `rm` adalah `-v` yang berarti kita mengaktifkan versi `verbose`, yaitu kita akan mendapatkan keluaran setelah menjalankan perintah `rm`. Sebagai contoh, coba buat file `code.py` lagi dan jalankan perintah di bawah ini.\n\n```bash\nrm -v code.py\n```\n\nKeluaran yang muncul adalah:\n\n```bash\nremoved 'code.py'\n```",
   "metadata": {
    "slideshow": {
     "slide_type": "subslide"
    },
    "tags": [],
    "cell_id": "00006-159ae3b9-6893-4566-957c-fa683781056f",
    "deepnote_cell_type": "markdown"
   }
  },
  {
   "cell_type": "markdown",
   "source": "### Menghapus Beberapa File Sekaligus\n\nSama dengan perintah yang lain, kita juga bisa menghapus beberapa file sekaligus dengan menyediakan nama-nama file pada target perintah `rm` yang dipisahkan dengan spasi. Berikut adalah contoh penggunannya.\n\n```bash\nrm code.py bitlabs.py\n```",
   "metadata": {
    "slideshow": {
     "slide_type": "slide"
    },
    "tags": [],
    "cell_id": "00007-1ad0841d-3fdb-4505-afdb-64b6d23a3789",
    "deepnote_cell_type": "markdown"
   }
  },
  {
   "cell_type": "markdown",
   "source": "### Menghapus Direktori\n\nUntuk menghapus sebuah direktori atau folder, ada 2 cara:\n* Menggunakan `rm`\n* Menggunakan `rmdir`\n\nKita bisa menggunakan `rm` untuk menghapus folder dengan menambahkan opsi `-d` sebelum target.\nMisalkan, kita ingin menghapus direktori `Blues` di dalam folder `Jazz`. Maka, kita bisa gunakan perintah\n\n```bash\nrm -d Jazz/Blues\n```",
   "metadata": {
    "slideshow": {
     "slide_type": "subslide"
    },
    "tags": [],
    "cell_id": "00008-d8ee2531-a756-406e-9326-938cbc10511a",
    "deepnote_cell_type": "markdown"
   }
  },
  {
   "cell_type": "markdown",
   "source": "Selain `rm`, kita juga bisa menghapus direktori dengan perintah `rmdir` yang memiliki fungsionalitas yang sama dengan `rm`.\nHanya saja, `rmdir` hanya akan menghapus direktori yang di dalammnya tidak ada file apapun alias kosong.\nJika ternyata direktori yang akan dihapus berisikan beberapa file, maka akan muncul eror seperti di bawah ini.\n\n```bash\nrmdir: bitlabs: Diretctory not empty\n```\n\nJika kita tidak peduli dan tetap ingin menghapus direktori tak kosong tersebut, kita bisa gunakan opsi perintah `-r` yang akan menghapus folder sekaligus semua file yang ada di dalamnya.\nSebagai contoh, kita bisa hapus folder `bitlabs` di atas dengan perintah di bawah ini.\n\n```bash\nrm -r bitlabs\n```",
   "metadata": {
    "slideshow": {
     "slide_type": "subslide"
    },
    "tags": [],
    "cell_id": "00009-9eb91535-ec56-4840-b9e6-7d3fc7d189f8",
    "deepnote_cell_type": "markdown"
   }
  },
  {
   "cell_type": "markdown",
   "source": "## Perintah `cp`\n\nSintaks perintah `cp` adalah sebagai berikut:\n\n```bash\ncp [OPTIONS] SOURCE... DESTINATION\n```\n\n`SOURCE` di atas bisa terdiri dari **satu atau lebih** file atau direktori yang ingin disalin, sedangkan `DESTINATION` hanyalah satu file atau direktori. Ada beberapa skenario pada penggunaan `cp`\n\n* Ketika `SOURCE` dan `DESTINATION` sama-sama file, maka perintah `cp` akan menyalin `SOURCE` ke `DESTINATION` sesuai dengan nama file yang diberikan atau berupa file baru jika ternyata belum ada file dengan nama tersebut.\n* Ketika kita menyediakan `SOURCE` sebagai beberapa file atau bahkan direktori yang ingin kita salin, maka `DESTINATION` harus berupa direktori tujuan tempat salinan file dan/atau direktori tersebut.\n* Ketika kedua argumen `SOURCE` dan `DESTINATION` adalah sama-sama direktori, maka direktori dari `SOURCE` akan disalin ke dalam argumen `DESTINATION`.",
   "metadata": {
    "slideshow": {
     "slide_type": "slide"
    },
    "tags": [],
    "cell_id": "00010-c59239cb-6922-46a4-b8fe-39a71256379b",
    "deepnote_cell_type": "markdown"
   }
  },
  {
   "cell_type": "markdown",
   "source": "<a style='text-decoration:none;line-height:16px;display:flex;color:#5B5B62;padding:10px;justify-content:end;' href='https://deepnote.com?utm_source=created-in-deepnote-cell&projectId=7dfad277-7c63-444a-9b3e-7c7afbe13f77' target=\"_blank\">\n<img alt='Created in deepnote.com' style='display:inline;max-height:16px;margin:0px;margin-right:7.5px;' src='data:image/svg+xml;base64,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' > </img>\nCreated in <span style='font-weight:600;margin-left:4px;'>Deepnote</span></a>",
   "metadata": {
    "tags": [],
    "created_in_deepnote_cell": true,
    "deepnote_cell_type": "markdown"
   }
  }
 ],
 "nbformat": 4,
 "nbformat_minor": 5,
 "metadata": {
  "kernelspec": {
   "display_name": "Python 3",
   "language": "python",
   "name": "python3"
  },
  "language_info": {
   "codemirror_mode": {
    "name": "ipython",
    "version": 3
   },
   "file_extension": ".py",
   "mimetype": "text/x-python",
   "name": "python",
   "nbconvert_exporter": "python",
   "pygments_lexer": "ipython3",
   "version": "3.9.4"
  },
  "deepnote_notebook_id": "4b802305-3d6c-4733-9abc-e598a5c3f371",
  "deepnote": {},
  "deepnote_execution_queue": []
 }
}