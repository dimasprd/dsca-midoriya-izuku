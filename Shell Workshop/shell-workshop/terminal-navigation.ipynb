{
 "cells": [
  {
   "cell_type": "markdown",
   "source": "# Navigasi melalui Terminal\n\nPada bagian ini, kita akan berinteraksi dengan terminal (Git Bash) yang sudah kita pasang sebelumnya.\nBeberapa terminal seperti Anaconda Prompt atau Windows Powershell mungkin akan sedikit berbeda. Oleh karena itu, kita akan menggunakan Git Bash sebagai antarmuka kita.",
   "metadata": {
    "slideshow": {
     "slide_type": "slide"
    },
    "tags": [],
    "cell_id": "00000-bd0d82e0-8b9e-49da-afb9-faa044ad1ac3",
    "deepnote_cell_type": "markdown"
   }
  },
  {
   "cell_type": "markdown",
   "source": "## Daftar Perintah yang Sering Digunakan\n\nBeberapa perintah yang sering digunakan untuk navigasi dalam terminal adalah sebagai berikut:\n\n| command | usage | example |\n| ------- | ----- | ------- |\n| `pwd` | display/print current working directory | `pwd` |\n| `ls` | list any files and directories in the target directory | `ls notebooks/` |\n| `cd` | change current directory to the target directory | `cd notebooks/` |",
   "metadata": {
    "slideshow": {
     "slide_type": "slide"
    },
    "tags": [],
    "cell_id": "00001-6ae48f2f-6942-4dea-85ff-944828e15318",
    "deepnote_cell_type": "markdown"
   }
  },
  {
   "cell_type": "markdown",
   "source": "## Perintah `pwd`\n\nSebagai contoh kasus, misalkan kita sedang membuka terminal dan ingin tahu apa atau di mana direktori kerja kita sekarang, dengan menggunakan perintah `pwd` seperti contoh sintaks di bawah ini,\n\n```bash\n$ pwd\n/Users/bitlabs/data-science-bootcamp/notebooks\n```\n\nkita jadi tahu ternyata kita sedang berada pada direktori `notebooks` yang juga berada dalam folder `bitlabs/data-science-bootcamp`.",
   "metadata": {
    "slideshow": {
     "slide_type": "slide"
    },
    "tags": [],
    "cell_id": "00002-d2e35a84-87b8-4ddb-ac02-451db44cc368",
    "deepnote_cell_type": "markdown"
   }
  },
  {
   "cell_type": "markdown",
   "source": "## Perintah `ls`\n\nPerintah `ls` akan menampilkan isi dari sebuah direktori yang kita inginkan. Jika kita kita tidak menuliskan target direktori yang kita mau, maka `ls` akan menampilkan isi dari direktori kerja kita sekarang. Sebagai contoh, misalkan kita masih dalam direktori `notebooks`. Jika kata jalankan perintah `ls` seperti di bawah ini,\n\n```bash\n$ ls\nawal/\t\t\t\t\t\t\tbasic-python.ipynb\t\t\t\tengineering/\n0-home.ipynb\t\t\tdata-structures.ipynb\n```\n\nKita jadi tahu ternyata dalam direktori kerja sekarang, ada 3 file dan 2 folder. Kita juga bisa secara spesifik memasukkan target direktori, misal `engineering`, untuk cari tahu daftar file dan folder di dalamnya.\n\n```bash\nls engineering\n```",
   "metadata": {
    "slideshow": {
     "slide_type": "slide"
    },
    "tags": [],
    "cell_id": "00003-8112e85f-7859-4a58-a10e-2efcbd5ab8f2",
    "deepnote_cell_type": "markdown"
   }
  },
  {
   "cell_type": "markdown",
   "source": "Perintah `ls` juga bisa digunakan untuk menampilkan daftar file dan fodler dari beberapa target direktori dengan sintaks berikut.\n\n```bash\nls engineering\n```\n<br>\n\n> **Tips**\n>\n> Harap perhatikan *path* folder untuk target kategori yang ingin dilihat. Andaikan folder `engineering` tidak ada di dalam `notebooks`, melainkan ada di dalam `data-science-bootcamp` alias sejajar dengan direktori kerja sekarang, maka kita bisa menuliskan\n>\n>```bash\n>ls ../engineering\n>```",
   "metadata": {
    "slideshow": {
     "slide_type": "subslide"
    },
    "tags": [],
    "cell_id": "00004-79548c97-5a5c-48c2-8a25-25a0bf3c5d38",
    "deepnote_cell_type": "markdown"
   }
  },
  {
   "cell_type": "markdown",
   "source": "## Perintah `cd`\n\nSeperti yang disebutkan dalam tabel di atas, `cd` yang merupakan singkatan dari *change directory*, digunakan untuk berpindah direktori dari direktori yang saat ini aktif, ke direktori yang dituju.\n\nMisalkan kita ingin pindah direktori ke folder `engineering`. Kita bisa tulis sintaks seperti di bawah ini.\n\n```bash\ncd engineering\n```\n\nKemudian, jika kita ingin pindah direktori ke *parent directory*, dalam hal ini adalah `data-science-bootcamp`, kita bisa gunakan *path* `..` yang bisa kita baca \"keluar satu folder\" atau \"naik satu folder\".\nJika kita ingin pindah direktori ke *parent directory* kedua, dalam hal ini adalah `bitlabs`, maka kita bisa gunakan `../..`.\n\n```bash\ncd ../../\n\npwd\nUsers/bitlabs\n```\n",
   "metadata": {
    "slideshow": {
     "slide_type": "slide"
    },
    "tags": [],
    "cell_id": "00005-3dfeefdc-3691-43cc-b6fe-1c6abe2f8ce0",
    "deepnote_cell_type": "markdown"
   }
  },
  {
   "cell_type": "markdown",
   "source": "<a style='text-decoration:none;line-height:16px;display:flex;color:#5B5B62;padding:10px;justify-content:end;' href='https://deepnote.com?utm_source=created-in-deepnote-cell&projectId=7dfad277-7c63-444a-9b3e-7c7afbe13f77' target=\"_blank\">\n<img alt='Created in deepnote.com' style='display:inline;max-height:16px;margin:0px;margin-right:7.5px;' src='data:image/svg+xml;base64,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' > </img>\nCreated in <span style='font-weight:600;margin-left:4px;'>Deepnote</span></a>",
   "metadata": {
    "tags": [],
    "created_in_deepnote_cell": true,
    "deepnote_cell_type": "markdown"
   }
  }
 ],
 "nbformat": 4,
 "nbformat_minor": 5,
 "metadata": {
  "kernelspec": {
   "display_name": "Python 3",
   "language": "python",
   "name": "python3"
  },
  "language_info": {
   "codemirror_mode": {
    "name": "ipython",
    "version": 3
   },
   "file_extension": ".py",
   "mimetype": "text/x-python",
   "name": "python",
   "nbconvert_exporter": "python",
   "pygments_lexer": "ipython3",
   "version": "3.9.4"
  },
  "deepnote_notebook_id": "0751a9b5-1171-4ce0-af36-6058cba4d83d",
  "deepnote": {},
  "deepnote_execution_queue": []
 }
}