{
 "cells": [
  {
   "cell_type": "code",
   "metadata": {
    "tags": [],
    "cell_id": "00000-391aac54-90b5-40af-a9db-2baa4c4417a5",
    "deepnote_to_be_reexecuted": false,
    "source_hash": "8781b114",
    "execution_start": 1634214084299,
    "execution_millis": 259325934,
    "deepnote_cell_type": "code"
   },
   "source": "print(\"hello\")",
   "execution_count": null,
   "outputs": [
    {
     "name": "stdout",
     "text": "hello\n",
     "output_type": "stream"
    }
   ]
  },
  {
   "cell_type": "markdown",
   "source": "Ini adalah teks biasa. Kita bisa tulis apapun di sini.\nIni masih dilanjutkan di baris yang sama.\n\nDari visualisasi di atas, ditemukan insights berupa:\n* User A ....\n* Antara user A dan B, ditemukan kemiripan ...\n\n**Ini adalah bold text**. *Italic text akan miring*.",
   "metadata": {
    "tags": [],
    "cell_id": "00001-09fc192b-2f0f-4c4d-a477-70ac38fe356b",
    "deepnote_cell_type": "markdown"
   }
  },
  {
   "cell_type": "code",
   "metadata": {
    "tags": [],
    "cell_id": "00000-0fd43176-2b37-4313-9234-dc94e8502fbf",
    "deepnote_to_be_reexecuted": false,
    "source_hash": "23d9934d",
    "execution_start": 1634214084304,
    "execution_millis": 9,
    "deepnote_cell_type": "code"
   },
   "source": "# ini adalah code cell",
   "execution_count": null,
   "outputs": []
  },
  {
   "cell_type": "markdown",
   "source": "print(\"hello\") \nprint(\"hai\")\n\n**bold text**\n\n*italic text*",
   "metadata": {
    "tags": [],
    "cell_id": "00002-3008d952-7aab-48a1-b9f2-95c9a01a6f91",
    "deepnote_to_be_reexecuted": false,
    "source_hash": "8781b114",
    "execution_start": 1633954762270,
    "execution_millis": 14,
    "deepnote_cell_type": "markdown"
   }
  },
  {
   "cell_type": "markdown",
   "source": "Ini adalah teks biasa.\nMasih satu baris.\n\n* **bold text**\n\n* *italic text*\n",
   "metadata": {
    "tags": [],
    "cell_id": "00004-94270903-4fdd-4a2b-b9d0-fb3efa0a40a0",
    "deepnote_to_be_reexecuted": false,
    "source_hash": "d45f2862",
    "execution_start": 1633954781075,
    "execution_millis": 11,
    "deepnote_cell_type": "markdown"
   }
  },
  {
   "cell_type": "markdown",
   "source": "ini adalah teks biasa:\n* Test\n* Kedua\n\n**ketiga** \n",
   "metadata": {
    "tags": [],
    "cell_id": "00003-c1f4d517-d4e0-4056-bd56-0013d653116b",
    "deepnote_to_be_reexecuted": false,
    "source_hash": "3c7673ce",
    "execution_start": 1633954775176,
    "execution_millis": 16,
    "deepnote_cell_type": "markdown"
   }
  },
  {
   "cell_type": "markdown",
   "source": "ini adalah teks biasa\n\n\n*ini adalah italic*\n\n\n**ini adalah bold**",
   "metadata": {
    "tags": [],
    "cell_id": "00006-198e58ee-1d8c-447f-ae12-3b52d11f0e3b",
    "deepnote_to_be_reexecuted": false,
    "source_hash": "8781b114",
    "execution_start": 1633954773553,
    "execution_millis": 166,
    "deepnote_cell_type": "markdown"
   }
  },
  {
   "cell_type": "markdown",
   "source": "print(\"ini dini\")\n\nYuk semangat yuk! \n\n**bold text**\n\n\n*italic text*",
   "metadata": {
    "tags": [],
    "cell_id": "00008-f3b4feb9-898f-4108-9241-549f97d7edf9",
    "deepnote_to_be_reexecuted": false,
    "source_hash": "fa852833",
    "execution_start": 1633954773025,
    "execution_millis": 10,
    "deepnote_cell_type": "markdown"
   }
  },
  {
   "cell_type": "markdown",
   "source": "kalo mau nulis bisa di sini\ntidak ada masalah\n",
   "metadata": {
    "tags": [],
    "cell_id": "00009-93accbd3-cccd-499d-bcb0-7b00c4a97356",
    "deepnote_to_be_reexecuted": true,
    "source_hash": "c5987a26",
    "execution_start": 1633954916988,
    "execution_millis": 6,
    "deepnote_cell_type": "markdown"
   }
  },
  {
   "cell_type": "markdown",
   "source": "<a style='text-decoration:none;line-height:16px;display:flex;color:#5B5B62;padding:10px;justify-content:end;' href='https://deepnote.com?utm_source=created-in-deepnote-cell&projectId=7dfad277-7c63-444a-9b3e-7c7afbe13f77' target=\"_blank\">\n<img alt='Created in deepnote.com' style='display:inline;max-height:16px;margin:0px;margin-right:7.5px;' src='data:image/svg+xml;base64,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' > </img>\nCreated in <span style='font-weight:600;margin-left:4px;'>Deepnote</span></a>",
   "metadata": {
    "tags": [],
    "created_in_deepnote_cell": true,
    "deepnote_cell_type": "markdown"
   }
  }
 ],
 "nbformat": 4,
 "nbformat_minor": 2,
 "metadata": {
  "orig_nbformat": 2,
  "deepnote": {
   "is_reactive": false
  },
  "deepnote_notebook_id": "869628b9-25f9-4774-855a-23c85520eb86",
  "deepnote_execution_queue": []
 }
}