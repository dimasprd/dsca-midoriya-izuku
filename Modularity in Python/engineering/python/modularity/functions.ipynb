{
 "cells": [
  {
   "cell_type": "markdown",
   "source": "# Fungsi\n\nFungsi adalah salah satu cara untuk **mengelompokkan dan mengorganisir** kode menjadi **bagian-bagian yang lebih mudah untuk di kelola**. Kode-kode yang memiliki alur dan tujuan yang sama dikelompokkan agar bisa digunakan kembali tanpa menulis ulang.\n\nKita bisa anggap sebuah fungsi sebagai **kumpulan kode yang bekerja untuk suatu tugas tertentu yang bisa menerima *input* apapun jenisnya dan berapapun jumlahnya, serta mengembalikan *output* apapun jenisnya dan berapapun jumlahnya**.",
   "metadata": {
    "slideshow": {
     "slide_type": "slide"
    },
    "tags": [],
    "cell_id": "00000-353c91fb-942d-4241-a526-e4b2ba4d72e3",
    "deepnote_cell_type": "markdown"
   }
  },
  {
   "cell_type": "markdown",
   "source": "## Mendefinisikan Fungsi dengan `def`\n\nUntuk mendefinisikan fungsi, kita mulai dengan kata kunci `def`, diikuti oleh **nama fungsi** (aturan penamaan sama dengan variabel), tanda kurung (`()`) yang berisikan nol atau lebih parameter masukan yang diperlukan fungsi tersebut, dan diakhiri dengan `:`.\n\n```python\ndef do_nothing():\n    pass\n```\n\n> Pernyataan `pass` pada Python digunakan sebagai penampung atau *placeholder* untuk kode nantinya. Ketika dieksekusi, `pass` tidak melakukan apa-apa, tapi kode tetap berjalan tanpa eror kekosongan kode, karena kode kosong (*empty code*) tidak diperbolehkan dalam sebuah perulangan, pendefinisian fungsi, pendefinisan kelas (*class*), atau pernyataan kondisional `if`.",
   "metadata": {
    "slideshow": {
     "slide_type": "slide"
    },
    "tags": [],
    "cell_id": "00001-d9c95170-d72c-42d6-a732-0b4aa973d317",
    "deepnote_cell_type": "markdown"
   }
  },
  {
   "cell_type": "code",
   "metadata": {
    "cell_id": "00002-2530728e-46df-483c-ac3c-eb8f88179411",
    "deepnote_to_be_reexecuted": false,
    "source_hash": "fe87447",
    "execution_start": 1633745480524,
    "execution_millis": 223395390,
    "deepnote_cell_type": "code"
   },
   "source": "def do_nothing():\n    pass",
   "execution_count": null,
   "outputs": []
  },
  {
   "cell_type": "markdown",
   "source": "### Pemanggilan Fungsi\n\nFungsi yang sudah didefinisikan dapat digunakan dengan cara memanggilnya dengan menuliskan nama fungsi, diikuti dengan tanda kurung, dan menyediakan parameter masukan sesuai dengan yang dibutuhkan oleh fungsi tersebut (jika diperlukan)",
   "metadata": {
    "slideshow": {
     "slide_type": "subslide"
    },
    "tags": [],
    "cell_id": "00003-e60a3273-76da-4070-9161-5008e2880a2d",
    "deepnote_cell_type": "markdown"
   }
  },
  {
   "cell_type": "code",
   "metadata": {
    "cell_id": "00004-e0274537-9c40-4a24-bb09-60d52b8eedac",
    "deepnote_to_be_reexecuted": false,
    "source_hash": "3bff5e09",
    "execution_start": 1633745480524,
    "execution_millis": 223395389,
    "deepnote_cell_type": "code"
   },
   "source": "do_nothing()",
   "execution_count": null,
   "outputs": []
  },
  {
   "cell_type": "markdown",
   "source": "Sekarang, kita coba buat fungsi baru yang masih tidak memerlukan parameter masukan, tapi akan menampilkan suatu string dengan fungsi `print`.",
   "metadata": {
    "slideshow": {
     "slide_type": "slide"
    },
    "tags": [],
    "cell_id": "00005-715f6ccd-9b7a-4b0b-9016-23d1cd3c6106",
    "deepnote_cell_type": "markdown"
   }
  },
  {
   "cell_type": "code",
   "metadata": {
    "cell_id": "00006-9c2f6c4f-d580-43cb-a340-ca59d8dc407c",
    "deepnote_to_be_reexecuted": false,
    "source_hash": "1788a865",
    "execution_start": 1633745480569,
    "execution_millis": 223395429,
    "deepnote_cell_type": "code"
   },
   "source": "def make_sound():\n    print(\"moo..\")",
   "execution_count": null,
   "outputs": []
  },
  {
   "cell_type": "code",
   "metadata": {
    "slideshow": {
     "slide_type": "subslide"
    },
    "tags": [],
    "cell_id": "00007-91823a34-ba8c-4976-b624-f0281907d10c",
    "deepnote_to_be_reexecuted": false,
    "source_hash": "50990b35",
    "execution_start": 1633745480570,
    "execution_millis": 223395399,
    "deepnote_cell_type": "code"
   },
   "source": "make_sound()",
   "execution_count": null,
   "outputs": [
    {
     "name": "stdout",
     "text": "moo..\n",
     "output_type": "stream"
    }
   ]
  },
  {
   "cell_type": "markdown",
   "source": "Fungsi `make_sound` yang sudah didefinisikan, jika dipanggil, akan menampilkan string `\"moo..\"` sesuai dengan blok kode di dalamnya.\n\n### Pernyataan `return` pada Fungsi\n\nSekarang, kita coba buat fungsi yang mengembalikan sebuah nilai `True` seperti di bawah ini.",
   "metadata": {
    "slideshow": {
     "slide_type": "slide"
    },
    "tags": [],
    "cell_id": "00008-ebc4339b-d387-4037-8e84-cc9432b9122c",
    "deepnote_cell_type": "markdown"
   }
  },
  {
   "cell_type": "code",
   "metadata": {
    "cell_id": "00009-574d8b2e-ba93-4690-a921-1e7a3d73c084",
    "deepnote_to_be_reexecuted": false,
    "source_hash": "51b50ed8",
    "execution_start": 1633745480571,
    "execution_millis": 223395442,
    "deepnote_cell_type": "code"
   },
   "source": "def agree():\n    return True",
   "execution_count": null,
   "outputs": []
  },
  {
   "cell_type": "code",
   "metadata": {
    "tags": [],
    "cell_id": "00010-14ed0419-a7a9-45ce-8f74-bc4b884647fb",
    "deepnote_to_be_reexecuted": false,
    "source_hash": "10d0f28f",
    "execution_start": 1633745480616,
    "execution_millis": 223395446,
    "deepnote_output_heights": [
     21.1875
    ],
    "deepnote_cell_type": "code"
   },
   "source": "agree()",
   "execution_count": null,
   "outputs": [
    {
     "output_type": "execute_result",
     "execution_count": 6,
     "data": {
      "text/plain": "True"
     },
     "metadata": {}
    }
   ]
  },
  {
   "cell_type": "markdown",
   "source": "Suatu fungsi yang memiliki pernyataan `return`, akan **mengembalikan sebuah nilai keluaran ke pernyataan yang memanggilnya**. Jika kita ingin mengembalikan lebih dari satu nilai dari suatu fungsi, maka kita bisa tulis nilai-nilai tersebut dan dipisahkan dengan `,`, seperti `return value1, value2`.\n\n> Suatu fungsi yang tidak memiliki pernyataan `return`, seperti pada fungsi `do_nothing` ataupun `make_sound`, maka nilai balikannya adalah `None`.",
   "metadata": {
    "slideshow": {
     "slide_type": "subslide"
    },
    "tags": [],
    "cell_id": "00011-fe37bec8-9835-46a4-a5b8-403e23657dfc",
    "deepnote_cell_type": "markdown"
   }
  },
  {
   "cell_type": "code",
   "metadata": {
    "cell_id": "00012-3cef0376-5d85-4b81-93bc-d492e84f7ac9",
    "deepnote_to_be_reexecuted": false,
    "source_hash": "e881d601",
    "execution_start": 1633745480616,
    "execution_millis": 223395487,
    "deepnote_cell_type": "code"
   },
   "source": "sound = make_sound()\nis_agree = agree()",
   "execution_count": null,
   "outputs": [
    {
     "name": "stdout",
     "text": "moo..\n",
     "output_type": "stream"
    }
   ]
  },
  {
   "cell_type": "markdown",
   "source": "Setelah kita jalankan cell di atas, kita mendapatkan tampilan `moo..` yang berasal dari fungsi `make_sound`. Sedangkan, variabel `is_agree` tidak menampilkan apa-apa. Ini sama halnya saat kita mendefinisikan variabel sebelumnya, kita hanya memberikan nilai pada variabel.",
   "metadata": {
    "cell_id": "00013-137ffcf6-7a64-4b70-9284-f75446952299",
    "deepnote_cell_type": "markdown"
   }
  },
  {
   "cell_type": "code",
   "metadata": {
    "cell_id": "00014-9c8d0aa2-0ea5-4727-83df-dc390ef87356",
    "deepnote_to_be_reexecuted": false,
    "source_hash": "acb5ce62",
    "execution_start": 1633745480659,
    "execution_millis": 223395466,
    "deepnote_cell_type": "code"
   },
   "source": "print(sound)",
   "execution_count": null,
   "outputs": [
    {
     "name": "stdout",
     "text": "None\n",
     "output_type": "stream"
    }
   ]
  },
  {
   "cell_type": "code",
   "metadata": {
    "cell_id": "00015-dc4373f5-4aa9-4af1-8cdc-f4000ad714ea",
    "deepnote_to_be_reexecuted": false,
    "source_hash": "6e7418c8",
    "execution_start": 1633745480701,
    "execution_millis": 223395465,
    "deepnote_cell_type": "code"
   },
   "source": "print(is_agree)",
   "execution_count": null,
   "outputs": [
    {
     "name": "stdout",
     "text": "True\n",
     "output_type": "stream"
    }
   ]
  },
  {
   "cell_type": "markdown",
   "source": "Karena fungsi `agree` mengembalikan nilai boolean, maka kita bisa gunakan fungsi tersebut sebagai kondisi dalam `if`.",
   "metadata": {
    "slideshow": {
     "slide_type": "subslide"
    },
    "tags": [],
    "cell_id": "00016-6af054bb-a555-4bd2-b4e4-32fc662b3a61",
    "deepnote_cell_type": "markdown"
   }
  },
  {
   "cell_type": "code",
   "metadata": {
    "cell_id": "00017-94537739-0ec9-4d61-8787-fd38b5cb3ca6",
    "deepnote_to_be_reexecuted": false,
    "source_hash": "4ae49e19",
    "execution_start": 1633745480772,
    "execution_millis": 223395499,
    "deepnote_cell_type": "code"
   },
   "source": "if agree():\n    print(\"Awesome!\")\nelse:\n    print(\"Very unexpected..\")",
   "execution_count": null,
   "outputs": [
    {
     "name": "stdout",
     "text": "Awesome!\n",
     "output_type": "stream"
    }
   ]
  },
  {
   "cell_type": "markdown",
   "source": "### Fungsi dengan Parameter Masukan\n\nMisalkan kita ingin membuat sebuah fungsi, yang bisa gunakan berkali-kali, untuk menghitung volume sebuah silinder. Ada beberapa hal yang harus kita ketahui terlebih dahulu:\n1. Nilai $\\Pi$\n2. Tinggi silinder\n3. Jari-jari silinder\n\nIngat bahwa persamaan volume silinder adalah\n\n$$\nV = \\Pi \\cdot r^2 \\cdot h\n$$",
   "metadata": {
    "slideshow": {
     "slide_type": "slide"
    },
    "tags": [],
    "cell_id": "00018-e272efb4-081f-4d33-8b56-09cb3357d0bb",
    "deepnote_cell_type": "markdown"
   }
  },
  {
   "cell_type": "code",
   "metadata": {
    "cell_id": "00019-4afe95ed-d23d-48d0-a468-c275e3503399",
    "deepnote_to_be_reexecuted": false,
    "source_hash": "a3f94979",
    "execution_start": 1633749304791,
    "execution_millis": 7,
    "deepnote_cell_type": "code"
   },
   "source": "def cylinder_volume(radius, height, pi=3.14):\n    return pi * height * radius**2, \"from r={}, h={}\".format(radius, height)",
   "execution_count": null,
   "outputs": []
  },
  {
   "cell_type": "code",
   "metadata": {
    "tags": [],
    "cell_id": "00020-31d33d12-b79e-4fc1-be00-a34d9e7ca2a0",
    "deepnote_to_be_reexecuted": false,
    "source_hash": "964f109b",
    "execution_start": 1633749085873,
    "execution_millis": 18,
    "deepnote_output_heights": [
     null,
     21.1875
    ],
    "deepnote_cell_type": "code"
   },
   "source": "volume = cylinder_volume(10, 3)\n# print(\"Cylinder volume:\", volume)\nprint(volume)\nvolume",
   "execution_count": null,
   "outputs": [
    {
     "name": "stdout",
     "text": "942.0\n",
     "output_type": "stream"
    },
    {
     "output_type": "execute_result",
     "execution_count": 64,
     "data": {
      "text/plain": "942.0"
     },
     "metadata": {}
    }
   ]
  },
  {
   "cell_type": "code",
   "metadata": {
    "tags": [],
    "cell_id": "00021-e1605f11-14fc-4f6b-9df2-7a394cd56da5",
    "deepnote_to_be_reexecuted": false,
    "source_hash": "5f94317b",
    "execution_start": 1633749378774,
    "execution_millis": 10,
    "deepnote_output_heights": [
     null,
     97.9375
    ],
    "deepnote_cell_type": "code"
   },
   "source": "radius = 7\nheight = 1/7\n\nvolume = cylinder_volume(radius, height)\ndouble_volume = volume * 2\nprint(volume, double_volume)\nvolume, double_volume",
   "execution_count": null,
   "outputs": [
    {
     "name": "stdout",
     "text": "(21.98, 'from r=7, h=0.14285714285714285') (21.98, 'from r=7, h=0.14285714285714285', 21.98, 'from r=7, h=0.14285714285714285')\n",
     "output_type": "stream"
    },
    {
     "output_type": "execute_result",
     "execution_count": 69,
     "data": {
      "text/plain": "((21.98, 'from r=7, h=0.14285714285714285'),\n (21.98,\n  'from r=7, h=0.14285714285714285',\n  21.98,\n  'from r=7, h=0.14285714285714285'))"
     },
     "metadata": {}
    }
   ]
  },
  {
   "cell_type": "code",
   "metadata": {
    "tags": [],
    "cell_id": "00021-e3b5dcb2-9f1b-44d2-93b7-c0dda865f624",
    "deepnote_to_be_reexecuted": false,
    "source_hash": "b1c5774c",
    "execution_start": 1633749250444,
    "execution_millis": 16,
    "deepnote_output_heights": [
     21.1875
    ],
    "deepnote_cell_type": "code"
   },
   "source": "radius = 7\nheight = 1/7\n\nvolume = cylinder_volume(radius, height)\ndouble_volume = volume * 2\n\nvolume, double_volume",
   "execution_count": null,
   "outputs": [
    {
     "output_type": "execute_result",
     "execution_count": 66,
     "data": {
      "text/plain": "(21.98, 43.96)"
     },
     "metadata": {}
    }
   ]
  },
  {
   "cell_type": "code",
   "metadata": {
    "tags": [],
    "cell_id": "00021-961f9b90-b680-4828-a7ee-ac03db5e0eea",
    "deepnote_to_be_reexecuted": false,
    "source_hash": "79961bfe",
    "execution_start": 1633748332269,
    "execution_millis": 6,
    "deepnote_cell_type": "code"
   },
   "source": "def area_rectangular(s=100):\n    print(s)\n    s = 1\n    print(s)\n    return s * s",
   "execution_count": null,
   "outputs": []
  },
  {
   "cell_type": "code",
   "metadata": {
    "tags": [],
    "cell_id": "00022-8b0f8d0c-dcd0-41ac-929b-cd75ae0385a0",
    "deepnote_to_be_reexecuted": false,
    "source_hash": "30e3aa91",
    "execution_start": 1633748333984,
    "execution_millis": 17,
    "deepnote_cell_type": "code"
   },
   "source": "s = 5\narea = area_rectangular(s)\n\nprint(\"s:\", s)\nprint(\"area:\", area)",
   "execution_count": null,
   "outputs": [
    {
     "name": "stdout",
     "text": "5\n1\ns: 5\narea: 1\n",
     "output_type": "stream"
    }
   ]
  },
  {
   "cell_type": "markdown",
   "source": "> **Kuis:** Buatlah sebuah fungsi `commentary` yang menerima masukan dalam parameter `color` dan mengembalikan string tertentu sesuai dengan nilai `color` pada tabel di bawah ini.\n>\n> | color | comment |\n>| --- | --- |\n>| red | It's a tomato |\n>| green | It's a green pepper |\n>| bees | I don't know what it is, but looks like a bee |\n>\n> Jika nilai `color` tidak tersedia dalam tabel di atas, kembalikan string dengan pola di bawah ini\n>\n>```python\n>\"I've never heard of the color\" + color + \"before\"\n>```",
   "metadata": {
    "slideshow": {
     "slide_type": "slide"
    },
    "tags": [],
    "cell_id": "00021-67a80e2b-cc21-432e-9e79-0576c6f05863",
    "deepnote_cell_type": "markdown"
   }
  },
  {
   "cell_type": "code",
   "metadata": {
    "cell_id": "00022-653aaa1f-b792-4104-bed3-cd0e043df789",
    "deepnote_to_be_reexecuted": false,
    "source_hash": "9b0db12a",
    "execution_start": 1633745480861,
    "execution_millis": 223395515,
    "deepnote_cell_type": "code"
   },
   "source": "def commentary(color):\n    if color == \"red\":\n        return \"it's a tomato\"\n    if color == \"green\":\n        return \"it's a green pepper\"\n    if color == \"bees\":\n        return \"i don't know what it is, but looks like a bee\"\n    return \"I've never heard of the color \" + color +\" before\"\n\nprint(commentary(\"purple\"))",
   "execution_count": null,
   "outputs": [
    {
     "name": "stdout",
     "text": "I've never heard of the color purple before\n",
     "output_type": "stream"
    }
   ]
  },
  {
   "cell_type": "markdown",
   "source": "## Argumen dan Parameter\n\nArgumen dan parameter beberapa kali disebut pada penjelasan di atas. Kedua istilah ini seringkali disebut untuk mengacu pada hal yang sama, meskipun argumen berbeda dengan parameter. Fungsi `cylinder_volume` sebelumnya memiliki **2 parameter**, `height` dan `radius`. Saat `cylinder_volume` dipanggil, kita menyediakkan **2 argumen**, `10` dan `3` untuk `radius` dan `height` secara berturut-turut.\n\n> *Saying it another way: they're called __arguments__ ouside of the function, but __parameters__ inside.*",
   "metadata": {
    "slideshow": {
     "slide_type": "slide"
    },
    "tags": [],
    "cell_id": "00023-3fefb49c-507c-45bf-b995-7f2d9a6b1c4d",
    "deepnote_cell_type": "markdown"
   }
  },
  {
   "cell_type": "code",
   "metadata": {
    "cell_id": "00024-73407f4f-f494-4bed-b7ef-9b12b6ab2fa8",
    "deepnote_to_be_reexecuted": false,
    "source_hash": "bb566719",
    "execution_start": 1633745480861,
    "execution_millis": 223395484,
    "deepnote_cell_type": "code"
   },
   "source": "def echo(anything):\n    return anything + \" \" + anything",
   "execution_count": null,
   "outputs": []
  },
  {
   "cell_type": "code",
   "metadata": {
    "cell_id": "00025-b3588678-efeb-495b-aa2d-fbbc5f80f6fe",
    "deepnote_to_be_reexecuted": false,
    "source_hash": "593a9421",
    "execution_start": 1633745480904,
    "execution_millis": 223395487,
    "deepnote_output_heights": [
     21.1875
    ],
    "deepnote_cell_type": "code"
   },
   "source": "echo(\"bitlabs\")",
   "execution_count": null,
   "outputs": [
    {
     "output_type": "execute_result",
     "execution_count": 15,
     "data": {
      "text/plain": "'bitlabs bitlabs'"
     },
     "metadata": {}
    }
   ]
  },
  {
   "cell_type": "markdown",
   "source": "Jika kita memasukkan sejumlah argumen yang kurang atau lebih dari jumlah parameter yang seharusnya fungsi tersebut butuhkan, maka kita akan mendapatkan eror `TypeError` yang memberi tahu kita bahwa ada kesalahan dalam memasukkan argumen. Perhatikan contoh kode di bawah ini.",
   "metadata": {
    "slideshow": {
     "slide_type": "subslide"
    },
    "tags": [],
    "cell_id": "00026-49be983e-da44-40f2-83bb-377fa40f3b9a",
    "deepnote_cell_type": "markdown"
   }
  },
  {
   "cell_type": "code",
   "metadata": {
    "cell_id": "00027-d811921b-4f24-4c58-aba8-7631031ae54c",
    "deepnote_to_be_reexecuted": false,
    "source_hash": "c3755369",
    "execution_start": 1633745480905,
    "execution_millis": 281,
    "deepnote_cell_type": "code"
   },
   "source": "cylinder_volume(10)",
   "execution_count": null,
   "outputs": [
    {
     "output_type": "error",
     "ename": "TypeError",
     "evalue": "cylinder_volume() missing 1 required positional argument: 'height'",
     "traceback": [
      "\u001b[0;31m---------------------------------------------------------------------------\u001b[0m",
      "\u001b[0;31mTypeError\u001b[0m                                 Traceback (most recent call last)",
      "\u001b[0;32m/tmp/ipykernel_76/1510587952.py\u001b[0m in \u001b[0;36m<module>\u001b[0;34m\u001b[0m\n\u001b[0;32m----> 1\u001b[0;31m \u001b[0mcylinder_volume\u001b[0m\u001b[0;34m(\u001b[0m\u001b[0;36m10\u001b[0m\u001b[0;34m)\u001b[0m\u001b[0;34m\u001b[0m\u001b[0;34m\u001b[0m\u001b[0m\n\u001b[0m",
      "\u001b[0;31mTypeError\u001b[0m: cylinder_volume() missing 1 required positional argument: 'height'"
     ]
    }
   ]
  },
  {
   "cell_type": "code",
   "metadata": {
    "cell_id": "00028-0a4710de-946c-4c0f-94b4-fabfea8d248b",
    "deepnote_to_be_reexecuted": true,
    "source_hash": "b9fbde8b",
    "execution_start": 1632678271729,
    "execution_millis": 24,
    "deepnote_cell_type": "code"
   },
   "source": "echo(100, 200)",
   "execution_count": null,
   "outputs": [
    {
     "output_type": "error",
     "ename": "TypeError",
     "evalue": "echo() takes 1 positional argument but 2 were given",
     "traceback": [
      "\u001b[0;31m---------------------------------------------------------------------------\u001b[0m",
      "\u001b[0;31mTypeError\u001b[0m                                 Traceback (most recent call last)",
      "\u001b[0;32m/tmp/ipykernel_126/2668369315.py\u001b[0m in \u001b[0;36m<module>\u001b[0;34m\u001b[0m\n\u001b[0;32m----> 1\u001b[0;31m \u001b[0mecho\u001b[0m\u001b[0;34m(\u001b[0m\u001b[0;36m100\u001b[0m\u001b[0;34m,\u001b[0m \u001b[0;36m200\u001b[0m\u001b[0;34m)\u001b[0m\u001b[0;34m\u001b[0m\u001b[0;34m\u001b[0m\u001b[0m\n\u001b[0m",
      "\u001b[0;31mTypeError\u001b[0m: echo() takes 1 positional argument but 2 were given"
     ]
    }
   ]
  },
  {
   "cell_type": "markdown",
   "source": "### Menyediakan Argumen berdasarkan Posisi\n\nNilai yang kita masukkan saat pemanggilan `cylinder_volume` akan disimpan ke masing-masing parameter sesuai dengan **posisinya**. Artinya, `cylinder_volume(10, 3)` akan menugaskan `radius=10` dan `height=3`, sesuai dengan posisi parameter saat pendefinisian fungsi `def cylinder_volume(radius, height)`. Jika kita balik argumennya dan memanggil dengan `cylinder_volume(3, 10)`, maka sekarang nilai `10` dan `3` akan disimpan pada parameter `height` dan `radius` secara berturut-turut.\n\n> Nilai atau ekspresi yang kita memasukkan argumen ke dalam sebuah fungsi apa adanya (hanya berupa nilai/ekspresi) disebut sebagai ***positional argument***. Kita bisa bilang bahwa `radius` dan `height` diberikan *positional arguments* saat kita memanggilnya dengan `cylinder_volume`.",
   "metadata": {
    "slideshow": {
     "slide_type": "slide"
    },
    "tags": [],
    "cell_id": "00029-bc7cc3bd-d2cd-484b-b84e-cbfb95568a8c",
    "deepnote_cell_type": "markdown"
   }
  },
  {
   "cell_type": "markdown",
   "source": "### Menyediakan Argumen berdasarkan Nama Parameter\n\nJika kita memasukkan nilai saat pemanggilan suatu fungsi dengan juga menyediakan nama parameternya secara eksplisit, maka urutan posisi argumen mana yang disimpan dalam parameter yang mana tidak lagi berlaku.\n\nFungsi di bawah ini akan mengembalikan sebuah boolean `True` jika dan hanya jika nilai `x` berada di dalam interval $[lower, upper]$ dan `False` jika sebaliknya.",
   "metadata": {
    "slideshow": {
     "slide_type": "slide"
    },
    "tags": [],
    "cell_id": "00030-f40778e8-4820-4113-a623-98f975f1b3fd",
    "deepnote_cell_type": "markdown"
   }
  },
  {
   "cell_type": "code",
   "metadata": {
    "cell_id": "00031-15cfc395-0b72-45e6-a512-4cfcd23ed8ed",
    "deepnote_to_be_reexecuted": true,
    "source_hash": "526761b0",
    "execution_start": 1632678283655,
    "deepnote_cell_type": "code"
   },
   "source": "def is_bounded(x, lower, upper):\n    return lower <= x <= upper",
   "execution_count": null,
   "outputs": []
  },
  {
   "cell_type": "code",
   "metadata": {
    "cell_id": "00032-198541d4-3943-4837-8021-ce19c41f514d",
    "deepnote_to_be_reexecuted": true,
    "source_hash": "7e83035d",
    "execution_start": 1632678283678,
    "deepnote_output_heights": [
     21.1875
    ],
    "deepnote_cell_type": "code"
   },
   "source": "is_bounded(2, 3, 4)",
   "execution_count": null,
   "outputs": [
    {
     "output_type": "execute_result",
     "execution_count": 19,
     "data": {
      "text/plain": "False"
     },
     "metadata": {}
    }
   ]
  },
  {
   "cell_type": "code",
   "metadata": {
    "cell_id": "00033-35e0dda3-a8fb-4d17-aa20-251b02fa063b",
    "deepnote_to_be_reexecuted": true,
    "source_hash": "56e87ee2",
    "execution_start": 1632678283679,
    "execution_millis": 4,
    "deepnote_output_heights": [
     21.1875
    ],
    "deepnote_cell_type": "code"
   },
   "source": "is_bounded(lower=2, x=3, upper=4)",
   "execution_count": null,
   "outputs": [
    {
     "output_type": "execute_result",
     "execution_count": 20,
     "data": {
      "text/plain": "True"
     },
     "metadata": {}
    }
   ]
  },
  {
   "cell_type": "markdown",
   "source": "Pemanggilan fungsi yang pertama, `is_bounded(2, 3, 4)`, menghasilkan nilai `False` karena `x=2`, `lower=3`, dan `upper=4`, sehingga `3 <= 2 <= 4` sama dengan `False`. Sedangkan, pada pemanggilan fungsi yang kedua,  argumen pertama `is_bounded` ditujukan untuk `lower` dengan menuliskan `lower=2`. Urutan parameter tidak berlaku di sini dan yang terpenting adalah semua parameter yang **dibutuhkan** fungsi ditentukan.",
   "metadata": {
    "slideshow": {
     "slide_type": "subslide"
    },
    "tags": [],
    "cell_id": "00034-f24a103a-8280-4631-9801-b8f942be5a4c",
    "deepnote_cell_type": "markdown"
   }
  },
  {
   "cell_type": "code",
   "metadata": {
    "cell_id": "00035-1d37503a-bf0c-47aa-adda-13d2f9c77c30",
    "deepnote_to_be_reexecuted": true,
    "source_hash": "9171ac8b",
    "execution_start": 1632678283679,
    "execution_millis": 47,
    "deepnote_cell_type": "code"
   },
   "source": "# pernyataan di bawah ini semuanya ekuivalen\nprint(is_bounded(3, 2, 4))\nprint(is_bounded(upper=4, lower=2, x=3))\nprint(is_bounded(upper=4, x=3, lower=2))",
   "execution_count": null,
   "outputs": [
    {
     "name": "stdout",
     "text": "True\nTrue\nTrue\n",
     "output_type": "stream"
    }
   ]
  },
  {
   "cell_type": "markdown",
   "source": "Pemberian argumen dengan cara seperti ini disebut dengan ***keyword argument***, yaitu pemberian argumen dengan *keyword* parameter yang dituju. *Keyword argument* adalah sebuah argumen yang didahului oleh pengindentifikasi (misal `name=`) dalam sebuah pemanggilan fungsi.",
   "metadata": {
    "cell_id": "00036-e10be3ab-632e-46f7-92c0-2d01094dae8e",
    "deepnote_cell_type": "markdown"
   }
  },
  {
   "cell_type": "markdown",
   "source": "> **Kuis:**\n>\n> Buatlah sebuah fungsi `readable_timedelta` yang menerima satu masukan `days`, dan mengembalikan sebuah string yang menyatakan berapa minggu dan berapa hari nilai `days` tersebut. Sebagai contoh, penggunaan fungsi di bawah ini\n>\n> ```python\n> readable_timedelta(10)\n> ```\n>\n> <br>akan mengembalikan\n>\n> ```python\n>\"1 week(s) and 3 day(s)\"\n>```",
   "metadata": {
    "slideshow": {
     "slide_type": "slide"
    },
    "tags": [],
    "cell_id": "00037-915cb66a-ebfc-44a4-8fab-dd4c50dd36ad",
    "deepnote_cell_type": "markdown"
   }
  },
  {
   "cell_type": "code",
   "metadata": {
    "cell_id": "00038-35490bd3-6559-41dc-af81-eb3d09cac2e8",
    "deepnote_to_be_reexecuted": true,
    "source_hash": "2c190ce5",
    "execution_start": 1633437884224,
    "execution_millis": 11,
    "deepnote_cell_type": "code"
   },
   "source": "def readable_timedelta(days):\n    number_of_weeks = days // 7\n    remainder_days = days % 7\n\n    # within 1 week\n    if days < 7:\n        return \"{} day(s)\".format(remainder_days)\n    \n    # if days % 7 == 0\n    if remainder_days == 0:\n        return \"{} week(s)\".format(number_of_weeks)\n\n    return \"{} week(s) and {} day(s)\".format(number_of_weeks, remainder_days)\n\nprint(readable_timedelta(365))",
   "execution_count": null,
   "outputs": [
    {
     "name": "stdout",
     "text": "52 week(s) and 1 day(s)\n",
     "output_type": "stream"
    }
   ]
  },
  {
   "cell_type": "markdown",
   "source": "Tidak semua argumen harus disediakan dengan *keyword argument*. Kita juga bisa menggabungkan *positional argument* dengan *keyword argment* seperti di bawah ini.\n\n> Jika kita sudah memberikan argumen dalam bentuk *keyword argument*, maka argumen-argumen setelahnya juga harus dalam *keyword argument*. Jika setelah *keyword argument* kita memberikan argumen sebagai *positional argument*, maka akan memunculkan eror `SyntaxError`.",
   "metadata": {
    "slideshow": {
     "slide_type": "slide"
    },
    "tags": [],
    "cell_id": "00039-2f2310a8-aaef-42c3-ae4d-674392a63f36",
    "deepnote_cell_type": "markdown"
   }
  },
  {
   "cell_type": "code",
   "metadata": {
    "cell_id": "00040-bb291a2b-00c1-4d1e-8115-b5893b30c57c",
    "deepnote_to_be_reexecuted": true,
    "source_hash": "698528bb",
    "execution_start": 1632678283688,
    "execution_millis": 39,
    "deepnote_output_heights": [
     21.1875
    ],
    "deepnote_cell_type": "code"
   },
   "source": "is_bounded(3, lower=2, upper=4)",
   "execution_count": null,
   "outputs": [
    {
     "output_type": "execute_result",
     "execution_count": 23,
     "data": {
      "text/plain": "True"
     },
     "metadata": {}
    }
   ]
  },
  {
   "cell_type": "code",
   "metadata": {
    "cell_id": "00041-3bdb7585-2b85-4a39-9b94-b31e2fce370f",
    "deepnote_to_be_reexecuted": true,
    "source_hash": "8a211f1e",
    "execution_start": 1632678283696,
    "execution_millis": 31,
    "deepnote_cell_type": "code"
   },
   "source": "is_bounded(3, upper=3, 4)",
   "execution_count": null,
   "outputs": [
    {
     "output_type": "error",
     "ename": "SyntaxError",
     "evalue": "positional argument follows keyword argument (2158825987.py, line 1)",
     "traceback": [
      "\u001b[0;36m  File \u001b[0;32m\"/tmp/ipykernel_126/2158825987.py\"\u001b[0;36m, line \u001b[0;32m1\u001b[0m\n\u001b[0;31m    is_bounded(3, upper=3, 4)\u001b[0m\n\u001b[0m                          ^\u001b[0m\n\u001b[0;31mSyntaxError\u001b[0m\u001b[0;31m:\u001b[0m positional argument follows keyword argument\n"
     ]
    }
   ]
  },
  {
   "cell_type": "markdown",
   "source": "Potongan kode di atas berarti kita menyediakan argumen `3` sebagai *positional argument* sehingga akan ditempatkan sesuai dengan posisi pertama parameter fungsi, yaitu `x`. Sedangkan, argumen `2` dan `3` sebagai *keyword argument* yang tidak dipengaruhi oleh posisi parameter.",
   "metadata": {
    "cell_id": "00042-5391cb40-b8ba-4f86-bb04-a0b00e1fd2ca",
    "deepnote_cell_type": "markdown"
   }
  },
  {
   "cell_type": "markdown",
   "source": "### Argumen dengan Nilai Default\n\nKita bisa menyediakan nilai default parameter saat pendefinisian fungsi. Nilai default ini akan dipakai jika fungsi dipanggil **tanpa menyediakan argumen** untuk parameter tersebut atau memang ingin **menggunakan nilai default**.",
   "metadata": {
    "slideshow": {
     "slide_type": "slide"
    },
    "tags": [],
    "cell_id": "00043-d9fbf618-7064-4c95-b6a7-411615ff44b1",
    "deepnote_cell_type": "markdown"
   }
  },
  {
   "cell_type": "code",
   "metadata": {
    "cell_id": "00044-2b443d72-ae00-45b4-b82e-668a8a7b3135",
    "deepnote_to_be_reexecuted": true,
    "source_hash": "363e41a7",
    "execution_start": 1632678299388,
    "execution_millis": 4,
    "deepnote_cell_type": "code"
   },
   "source": "def is_bounded(x, lower=0, upper=10):\n    return lower <= x <= upper",
   "execution_count": null,
   "outputs": []
  },
  {
   "cell_type": "code",
   "metadata": {
    "cell_id": "00045-70e8e27e-4188-41bc-98ea-d340d9fae4b4",
    "deepnote_to_be_reexecuted": true,
    "source_hash": "a70cc55",
    "execution_start": 1632678299398,
    "execution_millis": 21,
    "deepnote_output_heights": [
     21.1875
    ],
    "deepnote_cell_type": "code"
   },
   "source": "is_bounded(2)",
   "execution_count": null,
   "outputs": [
    {
     "output_type": "execute_result",
     "execution_count": 26,
     "data": {
      "text/plain": "True"
     },
     "metadata": {}
    }
   ]
  },
  {
   "cell_type": "code",
   "metadata": {
    "cell_id": "00046-90f23535-7e6f-4b1a-8d39-c9a5ff30be87",
    "deepnote_to_be_reexecuted": true,
    "source_hash": "607d77a",
    "execution_start": 1632678299402,
    "execution_millis": 17,
    "deepnote_output_heights": [
     21.1875
    ],
    "deepnote_cell_type": "code"
   },
   "source": "is_bounded(8)",
   "execution_count": null,
   "outputs": [
    {
     "output_type": "execute_result",
     "execution_count": 27,
     "data": {
      "text/plain": "True"
     },
     "metadata": {}
    }
   ]
  },
  {
   "cell_type": "markdown",
   "source": "Tentu saja, jika kita ingin menggunakan interval yang berbeda, kita bisa memberikan argumen sendiri yang akan mengganti argumen default fungsi.",
   "metadata": {
    "slideshow": {
     "slide_type": "subslide"
    },
    "tags": [],
    "cell_id": "00047-f824b5bb-fc09-407d-b0b0-8842bc35be22",
    "deepnote_cell_type": "markdown"
   }
  },
  {
   "cell_type": "code",
   "metadata": {
    "cell_id": "00048-82b7dbbe-ef3e-4f6b-93c0-6276468a8943",
    "deepnote_to_be_reexecuted": true,
    "source_hash": "62a145fa",
    "execution_start": 1632678299410,
    "execution_millis": 24,
    "deepnote_output_heights": [
     21.1875
    ],
    "deepnote_cell_type": "code"
   },
   "source": "is_bounded(2, upper=1)",
   "execution_count": null,
   "outputs": [
    {
     "output_type": "execute_result",
     "execution_count": 28,
     "data": {
      "text/plain": "False"
     },
     "metadata": {}
    }
   ]
  },
  {
   "cell_type": "code",
   "metadata": {
    "cell_id": "00049-f27f6103-0707-48d2-aa05-cd04318e1519",
    "deepnote_to_be_reexecuted": true,
    "source_hash": "53d85bfd",
    "execution_start": 1632678299416,
    "execution_millis": 18,
    "deepnote_output_heights": [
     21.1875
    ],
    "deepnote_cell_type": "code"
   },
   "source": "is_bounded(2, lower=5)",
   "execution_count": null,
   "outputs": [
    {
     "output_type": "execute_result",
     "execution_count": 29,
     "data": {
      "text/plain": "False"
     },
     "metadata": {}
    }
   ]
  },
  {
   "cell_type": "code",
   "metadata": {
    "cell_id": "00050-b02650fc-c257-4404-9f83-c16e05677c01",
    "deepnote_to_be_reexecuted": true,
    "source_hash": "d028f37",
    "execution_start": 1632678299424,
    "execution_millis": 10,
    "deepnote_output_heights": [
     21.1875
    ],
    "deepnote_cell_type": "code"
   },
   "source": "is_bounded(5, 0, 1)",
   "execution_count": null,
   "outputs": [
    {
     "output_type": "execute_result",
     "execution_count": 30,
     "data": {
      "text/plain": "False"
     },
     "metadata": {}
    }
   ]
  },
  {
   "cell_type": "markdown",
   "source": "Pendefinisian fungsi dengan argumen default pada parameter tidak boleh diikuti oleh *positional argument*, seperti di bawah ini. Definisi fungsi seperti itu akan memunculkan eror `SyntaxError`, sama dengan saat kita menyediakan *keyword argument* dan diikuti oleh *positional argument* sebelumya.",
   "metadata": {
    "slideshow": {
     "slide_type": "subslide"
    },
    "tags": [],
    "cell_id": "00051-8435e5e5-dbfc-483d-be3b-2992f605feec",
    "deepnote_cell_type": "markdown"
   }
  },
  {
   "cell_type": "code",
   "metadata": {
    "cell_id": "00052-ce998ab6-7e77-44bb-9ebe-582c3c181b18",
    "deepnote_to_be_reexecuted": true,
    "source_hash": "90316280",
    "execution_start": 1632678299430,
    "execution_millis": 10,
    "deepnote_cell_type": "code"
   },
   "source": "def is_bounded(x, lower=0, upper):\n    return lower <= x <= upper",
   "execution_count": null,
   "outputs": [
    {
     "output_type": "error",
     "ename": "SyntaxError",
     "evalue": "non-default argument follows default argument (2451436096.py, line 1)",
     "traceback": [
      "\u001b[0;36m  File \u001b[0;32m\"/tmp/ipykernel_126/2451436096.py\"\u001b[0;36m, line \u001b[0;32m1\u001b[0m\n\u001b[0;31m    def is_bounded(x, lower=0, upper):\u001b[0m\n\u001b[0m                  ^\u001b[0m\n\u001b[0;31mSyntaxError\u001b[0m\u001b[0;31m:\u001b[0m non-default argument follows default argument\n"
     ]
    }
   ]
  },
  {
   "cell_type": "markdown",
   "source": "### *Variable-length Positional Argument*\n\nPython membolehkan kita untuk menyediakan *positional argument* berapapun jumlahnya. Hal ini dapat dilakukan dengan mendefinisikan fungsi dengan parameter yang diawali oleh `*`.\n\n```python\ndef func(*args):\n    return args\n```\n\nDengan mengawali parameter dengan `*`, parameter `args` dalam fungsi di atas bisa menerima masukan argumen berapapun jumlahnya, mulai dari 0 sampai sebanyak apapun. Argumen-argumen yang dimasukkan dalam `func` dipisahkan dengan `,` layaknya kita memberi masukan untuk beberapa parameter.",
   "metadata": {
    "slideshow": {
     "slide_type": "slide"
    },
    "tags": [],
    "cell_id": "00053-b2e39f1e-7411-451b-a7af-4da55605cb1a",
    "deepnote_cell_type": "markdown"
   }
  },
  {
   "cell_type": "code",
   "metadata": {
    "slideshow": {
     "slide_type": "subslide"
    },
    "tags": [],
    "cell_id": "00054-24773e87-dcdf-4953-8107-96ad8241b5ce",
    "deepnote_to_be_reexecuted": true,
    "source_hash": "ef497d57",
    "execution_start": 1632678311675,
    "execution_millis": 1,
    "deepnote_cell_type": "code"
   },
   "source": "def func(*args):\n    return args",
   "execution_count": null,
   "outputs": []
  },
  {
   "cell_type": "code",
   "metadata": {
    "cell_id": "00055-8aec652f-4d5c-4573-973f-5cc8db41c295",
    "deepnote_to_be_reexecuted": true,
    "source_hash": "738485f1",
    "execution_start": 1632678311736,
    "deepnote_output_heights": [
     21.1875
    ],
    "deepnote_cell_type": "code"
   },
   "source": "func()",
   "execution_count": null,
   "outputs": [
    {
     "output_type": "execute_result",
     "execution_count": 33,
     "data": {
      "text/plain": "()"
     },
     "metadata": {}
    }
   ]
  },
  {
   "cell_type": "code",
   "metadata": {
    "cell_id": "00056-5d1a3446-bc2c-493e-beec-ac0f4a68af02",
    "deepnote_to_be_reexecuted": true,
    "source_hash": "3df8e5ac",
    "execution_start": 1632678311779,
    "deepnote_output_heights": [
     21.1875
    ],
    "deepnote_cell_type": "code"
   },
   "source": "func(1, 2)",
   "execution_count": null,
   "outputs": [
    {
     "output_type": "execute_result",
     "execution_count": 34,
     "data": {
      "text/plain": "(1, 2)"
     },
     "metadata": {}
    }
   ]
  },
  {
   "cell_type": "code",
   "metadata": {
    "cell_id": "00057-de604541-f020-4bee-9621-f28e7266815f",
    "deepnote_to_be_reexecuted": true,
    "source_hash": "7576e47e",
    "execution_start": 1632678311779,
    "deepnote_output_heights": [
     21.1875
    ],
    "deepnote_cell_type": "code"
   },
   "source": "func(1, 3, 5, 7, \"done!\")",
   "execution_count": null,
   "outputs": [
    {
     "output_type": "execute_result",
     "execution_count": 35,
     "data": {
      "text/plain": "(1, 3, 5, 7, 'done!')"
     },
     "metadata": {}
    }
   ]
  },
  {
   "cell_type": "code",
   "metadata": {
    "cell_id": "00058-068986ef-421f-4af6-97a5-6c0202b08dc0",
    "deepnote_to_be_reexecuted": true,
    "source_hash": "693d75d2",
    "execution_start": 1632678311814,
    "deepnote_output_heights": [
     21.1875
    ],
    "deepnote_cell_type": "code"
   },
   "source": "func([\"a\", \"list\"], (\"another\", \"tuple\"), True, False)",
   "execution_count": null,
   "outputs": [
    {
     "output_type": "execute_result",
     "execution_count": 36,
     "data": {
      "text/plain": "(['a', 'list'], ('another', 'tuple'), True, False)"
     },
     "metadata": {}
    }
   ]
  },
  {
   "cell_type": "markdown",
   "source": "> Penggunaan nama parameter `args` dalam *variable-length positional argument* adalah konvensi pada Python yang bertujuan untuk memberitahu pengembang bahwa argumen-argumen yang diberikan akan di bungkus bersamaan.\n\nFitur ini juga bisa dikombinasikan dengan *positional argument* dan juga *keyword argument*.",
   "metadata": {
    "slideshow": {
     "slide_type": "subslide"
    },
    "tags": [],
    "cell_id": "00059-a6a542ab-a508-46b9-bfc4-f1a366adfd14",
    "deepnote_cell_type": "markdown"
   }
  },
  {
   "cell_type": "code",
   "metadata": {
    "cell_id": "00060-02669bb2-0154-45ac-ad28-80ab68e8f4ab",
    "deepnote_to_be_reexecuted": true,
    "source_hash": "aee2556d",
    "execution_start": 1632678311815,
    "deepnote_cell_type": "code"
   },
   "source": "def do_mean(prefix, *data, suffix):\n    print(\"prefix:\", prefix)\n    print(\"suffix:\", suffix)\n\n    if len(data):\n        return sum(data) / len(data)\n    return \"no data provided\"",
   "execution_count": null,
   "outputs": []
  },
  {
   "cell_type": "code",
   "metadata": {
    "cell_id": "00061-84f1fcb1-05a2-4429-bc83-971cf058c044",
    "deepnote_to_be_reexecuted": true,
    "source_hash": "4b15ab21",
    "execution_start": 1632678311815,
    "execution_millis": 2,
    "deepnote_cell_type": "code"
   },
   "source": "do_mean(100, 1, 2, 3, 4, 5, 6, 7, 8, 9, suffix=50)",
   "execution_count": null,
   "outputs": []
  },
  {
   "cell_type": "markdown",
   "source": "Perhatikan bahwa arugmen untuk `suffix` harus diberikan sebagai *keyword argument*. Jika tidak, maka Python akan kebingungan menentukan apakah argumen tersebut termasuk ke dalam `data` atau sudah ke dalam `suffix`. Oleh karena itu, kita akan mendapat eror `TypeError` seperti di bawah ini.",
   "metadata": {
    "slideshow": {
     "slide_type": "subslide"
    },
    "tags": [],
    "cell_id": "00062-e6b0eae1-2e4e-402b-88b5-d6288a62a552",
    "deepnote_cell_type": "markdown"
   }
  },
  {
   "cell_type": "code",
   "metadata": {
    "cell_id": "00063-2f8082c3-9fdb-4c82-8977-20917557c81e",
    "deepnote_to_be_reexecuted": true,
    "source_hash": "e7348431",
    "execution_start": 1632678311832,
    "deepnote_cell_type": "code"
   },
   "source": "do_mean(1, 2, 3, 4)",
   "execution_count": null,
   "outputs": [
    {
     "output_type": "error",
     "ename": "TypeError",
     "evalue": "do_mean() missing 1 required keyword-only argument: 'suffix'",
     "traceback": [
      "\u001b[0;31m---------------------------------------------------------------------------\u001b[0m",
      "\u001b[0;31mTypeError\u001b[0m                                 Traceback (most recent call last)",
      "\u001b[0;32m/tmp/ipykernel_126/3776530050.py\u001b[0m in \u001b[0;36m<module>\u001b[0;34m\u001b[0m\n\u001b[0;32m----> 1\u001b[0;31m \u001b[0mdo_mean\u001b[0m\u001b[0;34m(\u001b[0m\u001b[0;36m1\u001b[0m\u001b[0;34m,\u001b[0m \u001b[0;36m2\u001b[0m\u001b[0;34m,\u001b[0m \u001b[0;36m3\u001b[0m\u001b[0;34m,\u001b[0m \u001b[0;36m4\u001b[0m\u001b[0;34m)\u001b[0m\u001b[0;34m\u001b[0m\u001b[0;34m\u001b[0m\u001b[0m\n\u001b[0m",
      "\u001b[0;31mTypeError\u001b[0m: do_mean() missing 1 required keyword-only argument: 'suffix'"
     ]
    }
   ]
  },
  {
   "cell_type": "markdown",
   "source": "Karena `data` bisa menerima 0 argumen, maka `do_mean(1, suffix=2)` akan mengembalikan `\"no data provided\"` seperti cell di bawah ini.",
   "metadata": {
    "cell_id": "00064-300c4d5c-dfea-4437-aecc-2268ff03a2bc",
    "deepnote_cell_type": "markdown"
   }
  },
  {
   "cell_type": "code",
   "metadata": {
    "cell_id": "00065-20280fe7-a5df-4d3d-92cf-a52347a3706b",
    "deepnote_to_be_reexecuted": true,
    "source_hash": "85953631",
    "execution_start": 1632678323494,
    "execution_millis": 0,
    "deepnote_output_heights": [
     null,
     21.1875
    ],
    "deepnote_cell_type": "code"
   },
   "source": "do_mean(1, suffix=2)",
   "execution_count": null,
   "outputs": [
    {
     "name": "stdout",
     "text": "prefix: 1\nsuffix: 2\n",
     "output_type": "stream"
    },
    {
     "output_type": "execute_result",
     "execution_count": 40,
     "data": {
      "text/plain": "'no data provided'"
     },
     "metadata": {}
    }
   ]
  },
  {
   "cell_type": "markdown",
   "source": "### *Variable-length Keyword Argument*\n\nSelain dengan *positional argument*, Python membolehkan kita untuk menyediakan *keyword argument* berapapun banyaknya dan apapun *keyword*-nya. Kita bisa melakukan ini dengan mengawali parameter dengan `**`.\n\n```python\ndef func(**kwargs):\n    return kwargs\n```\n\nBerbeda dengan sebelumnya, argume-argumen tersebut sekarang memiliki parameter yang melekat, sehingga semuanya akan dibungkus ke dalam sebuah `dict`.",
   "metadata": {
    "slideshow": {
     "slide_type": "slide"
    },
    "tags": [],
    "cell_id": "00066-2834dbff-945d-4e8f-90c1-c4ea6969f177",
    "deepnote_cell_type": "markdown"
   }
  },
  {
   "cell_type": "code",
   "metadata": {
    "cell_id": "00067-5fcdb178-401a-4636-9d9a-03faeceadc5f",
    "deepnote_to_be_reexecuted": true,
    "source_hash": "db16b31e",
    "execution_start": 1632678326995,
    "execution_millis": 2,
    "deepnote_cell_type": "code"
   },
   "source": "def func(**kwargs):\n    return kwargs",
   "execution_count": null,
   "outputs": []
  },
  {
   "cell_type": "code",
   "metadata": {
    "cell_id": "00068-d41d9ab8-742d-4273-b9cd-86c9d5b0f9e1",
    "deepnote_to_be_reexecuted": true,
    "source_hash": "678c37ca",
    "execution_start": 1632678327003,
    "execution_millis": 10,
    "deepnote_output_heights": [
     98
    ],
    "deepnote_cell_type": "code"
   },
   "source": "func(name=\"bitlabs\", rank=1, another=\"another\", whatever=\"whatever\", params=\"params\")",
   "execution_count": null,
   "outputs": [
    {
     "output_type": "execute_result",
     "execution_count": 42,
     "data": {
      "text/plain": "{'name': 'bitlabs',\n 'rank': 1,\n 'another': 'another',\n 'whatever': 'whatever',\n 'params': 'params'}"
     },
     "metadata": {}
    }
   ]
  },
  {
   "cell_type": "code",
   "metadata": {
    "cell_id": "00069-b201fcf3-caf6-42a0-9ab9-763d2b7bad2f",
    "deepnote_to_be_reexecuted": true,
    "source_hash": "738485f1",
    "execution_start": 1632678327010,
    "execution_millis": 20,
    "deepnote_output_heights": [
     21.1875
    ],
    "deepnote_cell_type": "code"
   },
   "source": "func()",
   "execution_count": null,
   "outputs": [
    {
     "output_type": "execute_result",
     "execution_count": 43,
     "data": {
      "text/plain": "{}"
     },
     "metadata": {}
    }
   ]
  },
  {
   "cell_type": "markdown",
   "source": "Kita juga mengombinasikan fitur ini dengan jenis argumen yang sudah kita pelajari selama ini. Mari kita modifikasi sekali lagi fungsi `func` untuk mengakomodir eksperimen kita.",
   "metadata": {
    "slideshow": {
     "slide_type": "subslide"
    },
    "tags": [],
    "cell_id": "00070-82de5f17-87f6-47b0-a8ae-f2d736a4bc3d",
    "deepnote_cell_type": "markdown"
   }
  },
  {
   "cell_type": "code",
   "metadata": {
    "cell_id": "00071-b2ce5582-84a6-43e7-8043-2d7fbaae66fd",
    "deepnote_to_be_reexecuted": true,
    "source_hash": "9e0341d8",
    "execution_start": 1632678327019,
    "execution_millis": 6,
    "deepnote_cell_type": "code"
   },
   "source": "def func(x, y, *args, **kwargs):\n    print(\"x:\", x)\n    print(\"y:\", y)\n    print(\"args:\", args)\n    print(\"kwargs\", kwargs)",
   "execution_count": null,
   "outputs": []
  },
  {
   "cell_type": "code",
   "metadata": {
    "cell_id": "00072-6ba2b646-43fb-4647-844e-013141e783be",
    "deepnote_to_be_reexecuted": true,
    "source_hash": "c2a7525d",
    "execution_start": 1632678327025,
    "execution_millis": 32,
    "deepnote_cell_type": "code"
   },
   "source": "func(1, 2, 3, 4, 5, name=\"bitlabs\", year=2021)",
   "execution_count": null,
   "outputs": [
    {
     "name": "stdout",
     "text": "x: 1\ny: 2\nargs: (3, 4, 5)\nkwargs {'name': 'bitlabs', 'year': 2021}\n",
     "output_type": "stream"
    }
   ]
  },
  {
   "cell_type": "code",
   "metadata": {
    "cell_id": "00073-99a0a221-c229-487d-a94d-a132777ce7bc",
    "deepnote_to_be_reexecuted": true,
    "source_hash": "3df8e5ac",
    "execution_start": 1632678327050,
    "deepnote_cell_type": "code"
   },
   "source": "func(1, 2)",
   "execution_count": null,
   "outputs": [
    {
     "name": "stdout",
     "text": "x: 1\ny: 2\nargs: ()\nkwargs {}\n",
     "output_type": "stream"
    }
   ]
  },
  {
   "cell_type": "markdown",
   "source": "> Python mengutamakan *readability* yang berarti kode yang ditulis haruslah mudah dibaca dan dipahami, baik bagi pengembang, pengguna, ataupun pembaca. Oleh karena itu, coba **baca, eksplor, dan terapkan** bagaimana kita membuat dokumentasi fungsi yang sudah kita buat melalui link berikut: [PEP-257 Docstring Convention](https://www.python.org/dev/peps/pep-0257/)",
   "metadata": {
    "cell_id": "00074-d7180b51-66f2-4f74-92a7-f2b487a9818a",
    "deepnote_cell_type": "markdown"
   }
  },
  {
   "cell_type": "markdown",
   "source": "## Cakupan Variabel\n\nCakupan variabel (*variable scope*) merujuk pada bagaimana suatu variabel dapat diakses oleh interpreter. Variabel-variabel atau parameter dalam sebuah fungsi **hanya bisa diakses dan berlaku di dalam fungsi** tersebut.\n\nAndaikan kita mendefinisikan variabel dengan nama yang sama diluar fungsi tersebut, maka fungsi tersebut tetap menggunakan variabel yang didefinisikan di dalamnya. Akan tetapi, jika kita mendefinisikan variabel di luar fungsi, lalu mengaksesnya di dalam fungsi, di mana tidak ada variabel dengan nama yang sama, maka fungsi tersebut akan menggunakan variabel dari luar fungsi.",
   "metadata": {
    "slideshow": {
     "slide_type": "slide"
    },
    "tags": [],
    "cell_id": "00075-7ed2c5f8-cc4e-432c-93d2-505af96cbd32",
    "deepnote_cell_type": "markdown"
   }
  },
  {
   "cell_type": "markdown",
   "source": "Untuk lebih jelasnya, kita gunakan fungsi `func` terakhir kita yang mengombinasikan *positional argument* dan *variable-length positional/keyword argument*",
   "metadata": {
    "slideshow": {
     "slide_type": "subslide"
    },
    "tags": [],
    "cell_id": "00076-720fbaba-364a-4e4d-981e-fedeb69bfe60",
    "deepnote_cell_type": "markdown"
   }
  },
  {
   "cell_type": "code",
   "metadata": {
    "cell_id": "00077-b94c8e2c-e69b-4047-b577-15fe73fb3db6",
    "deepnote_to_be_reexecuted": true,
    "source_hash": "582463b",
    "execution_start": 1632678327051,
    "execution_millis": 2,
    "deepnote_cell_type": "code"
   },
   "source": "x = 10\ny = 100\n\nfunc(5, 50)\n\nprint(\"x outside function:\", x)\nprint(\"y outside function:\", y)",
   "execution_count": null,
   "outputs": [
    {
     "name": "stdout",
     "text": "x: 5\ny: 50\nargs: ()\nkwargs {}\nx outside function: 10\ny outside function: 100\n",
     "output_type": "stream"
    }
   ]
  },
  {
   "cell_type": "markdown",
   "source": "> **Best Practice**\n>\n> It is best to define variables in the smallest scope they will be needed in. While functions can refer to variables defined in a larger scope, this is very rarely a good idea since you may not know what variables you have defined if your program has a lot of variables.",
   "metadata": {
    "slideshow": {
     "slide_type": "subslide"
    },
    "tags": [],
    "cell_id": "00078-e9cfd42c-a721-408d-9f60-bef68de73fca",
    "deepnote_cell_type": "markdown"
   }
  },
  {
   "cell_type": "markdown",
   "source": "## CodeLab Session",
   "metadata": {
    "tags": [],
    "cell_id": "00081-81c0ca29-da81-4630-9435-4a74f486aa28",
    "deepnote_cell_type": "markdown"
   }
  },
  {
   "cell_type": "code",
   "metadata": {
    "tags": [],
    "cell_id": "00081-6bda1641-5cf5-40cb-b763-a82f3c51c9e1",
    "deepnote_to_be_reexecuted": false,
    "source_hash": "67c81b92",
    "execution_start": 1633746228084,
    "execution_millis": 10,
    "deepnote_cell_type": "code"
   },
   "source": "def readable_days(days):\n    return \"{} day(s)\".format(days)\n\n\ndef readable_week(weeks):\n    return \"{} week(s)\".format(weeks)\n\n\ndef readable_timedelta(days, func_days=None, func_weeks=None):\n    number_of_weeks = days // 7\n    remainder_days = days % 7\n\n    if not func_days:\n        func_days = readable_days\n    \n    if not func_weeks:\n        func_weeks = readable_week\n\n    days = func_days(remainder_days)\n    weeks = func_weeks(number_of_weeks)\n\n    # within 1 week\n    # if days < 7:\n    #     readable_days\n    #     return \"{} day(s)\".format(readable)\n    \n    # if days % 7 == 0\n    # if remainder_days == 0:\n    #     return \"{} week(s)\".format(number_of_weeks)\n\n    return weeks + \" and \" + days",
   "execution_count": null,
   "outputs": []
  },
  {
   "cell_type": "code",
   "metadata": {
    "tags": [],
    "cell_id": "00083-a6f145ba-195f-4275-bb29-9ffd3b03fd78",
    "deepnote_to_be_reexecuted": false,
    "source_hash": "406bac21",
    "execution_start": 1633746233174,
    "execution_millis": 17,
    "deepnote_output_heights": [
     21.1875
    ],
    "deepnote_cell_type": "code"
   },
   "source": "readable_timedelta(51)",
   "execution_count": null,
   "outputs": [
    {
     "output_type": "execute_result",
     "execution_count": 30,
     "data": {
      "text/plain": "'7 week(s) and 2 day(s)'"
     },
     "metadata": {}
    }
   ]
  },
  {
   "cell_type": "code",
   "metadata": {
    "tags": [],
    "cell_id": "00084-6f2696f2-10c9-46f8-a75f-6c9f031970fe",
    "deepnote_to_be_reexecuted": false,
    "source_hash": "90298e56",
    "execution_start": 1633746273645,
    "execution_millis": 7,
    "deepnote_cell_type": "code"
   },
   "source": "def another_days(days):\n    return \"remainder days: {} day(s)\".format(days)",
   "execution_count": null,
   "outputs": []
  },
  {
   "cell_type": "code",
   "metadata": {
    "tags": [],
    "cell_id": "00085-90296559-2923-4648-b8c7-026773ad1276",
    "deepnote_to_be_reexecuted": false,
    "source_hash": "c3dd7eb1",
    "execution_start": 1633746301609,
    "execution_millis": 14,
    "deepnote_output_heights": [
     21.1875
    ],
    "deepnote_cell_type": "code"
   },
   "source": "readable_timedelta(51, func_days=another_days)",
   "execution_count": null,
   "outputs": [
    {
     "output_type": "execute_result",
     "execution_count": 33,
     "data": {
      "text/plain": "'7 week(s) and remainder days: 2 day(s)'"
     },
     "metadata": {}
    }
   ]
  },
  {
   "cell_type": "markdown",
   "source": "### Yield Statement",
   "metadata": {
    "tags": [],
    "cell_id": "00086-e279a6d1-8cf9-432c-9b16-ebeb146376aa",
    "deepnote_cell_type": "markdown"
   }
  },
  {
   "cell_type": "code",
   "metadata": {
    "tags": [],
    "cell_id": "00086-356c1b1a-58e5-416c-be99-c4b717b8baf9",
    "deepnote_to_be_reexecuted": false,
    "source_hash": "e8abe55e",
    "execution_start": 1633746399097,
    "execution_millis": 11,
    "deepnote_cell_type": "code"
   },
   "source": "for day in range(10):\n    print(readable_timedelta(day))",
   "execution_count": null,
   "outputs": [
    {
     "name": "stdout",
     "text": "0 week(s) and 0 day(s)\n0 week(s) and 1 day(s)\n0 week(s) and 2 day(s)\n0 week(s) and 3 day(s)\n0 week(s) and 4 day(s)\n0 week(s) and 5 day(s)\n0 week(s) and 6 day(s)\n1 week(s) and 0 day(s)\n1 week(s) and 1 day(s)\n1 week(s) and 2 day(s)\n",
     "output_type": "stream"
    }
   ]
  },
  {
   "cell_type": "code",
   "metadata": {
    "tags": [],
    "cell_id": "00088-0c781b73-5678-4efd-ba99-c822d1cff92a",
    "deepnote_to_be_reexecuted": false,
    "source_hash": "4eaaf60a",
    "execution_start": 1633746663484,
    "execution_millis": 5,
    "deepnote_cell_type": "code"
   },
   "source": "def readable_timedelta_for_return(n_days, func_days=None, func_weeks=None):\n    for days in range(n_days):\n        number_of_weeks = days // 7\n        remainder_days = days % 7\n\n        if not func_days:\n            func_days = readable_days\n        \n        if not func_weeks:\n            func_weeks = readable_week\n\n        days = func_days(remainder_days)\n        weeks = func_weeks(number_of_weeks)\n\n        yield weeks + \" and \" + days",
   "execution_count": null,
   "outputs": []
  },
  {
   "cell_type": "code",
   "metadata": {
    "tags": [],
    "cell_id": "00089-156f5f27-e759-4ddf-a3d7-88f27f75e2e0",
    "deepnote_to_be_reexecuted": false,
    "source_hash": "b9977294",
    "execution_start": 1633746824973,
    "execution_millis": 16,
    "deepnote_output_heights": [
     21.1875
    ],
    "deepnote_cell_type": "code"
   },
   "source": "readable_datetime = readable_timedelta_for_return(10)\nreadable_datetime",
   "execution_count": null,
   "outputs": [
    {
     "output_type": "execute_result",
     "execution_count": 47,
     "data": {
      "text/plain": "<generator object readable_timedelta_for_return at 0x7f1d86840950>"
     },
     "metadata": {}
    }
   ]
  },
  {
   "cell_type": "code",
   "metadata": {
    "tags": [],
    "cell_id": "00090-964fa9f9-6353-484b-bb2c-4efa0fe7a813",
    "deepnote_to_be_reexecuted": false,
    "source_hash": "4e614658",
    "execution_start": 1633746899116,
    "execution_millis": 13,
    "deepnote_output_heights": [
     21.1875
    ],
    "deepnote_cell_type": "code"
   },
   "source": "next(readable_datetime)",
   "execution_count": null,
   "outputs": [
    {
     "output_type": "execute_result",
     "execution_count": 49,
     "data": {
      "text/plain": "'0 week(s) and 0 day(s)'"
     },
     "metadata": {}
    }
   ]
  },
  {
   "cell_type": "code",
   "metadata": {
    "tags": [],
    "cell_id": "00091-95b4045d-c7ce-42ce-9591-52b199b66c3d",
    "deepnote_to_be_reexecuted": false,
    "source_hash": "4e614658",
    "execution_start": 1633746985116,
    "execution_millis": 8,
    "deepnote_output_heights": [
     21.1875
    ],
    "deepnote_cell_type": "code"
   },
   "source": "next(readable_datetime)",
   "execution_count": null,
   "outputs": [
    {
     "output_type": "execute_result",
     "execution_count": 50,
     "data": {
      "text/plain": "'0 week(s) and 1 day(s)'"
     },
     "metadata": {}
    }
   ]
  },
  {
   "cell_type": "code",
   "metadata": {
    "tags": [],
    "cell_id": "00090-b0efb997-3c62-4a96-b86b-d384bfd52a6a",
    "deepnote_to_be_reexecuted": false,
    "source_hash": "63f0887c",
    "execution_start": 1633747129371,
    "execution_millis": 6,
    "deepnote_cell_type": "code"
   },
   "source": "for days_weeks in readable_datetime:\n    print(days_weeks)",
   "execution_count": null,
   "outputs": [
    {
     "name": "stdout",
     "text": "0 week(s) and 2 day(s)\n0 week(s) and 3 day(s)\n0 week(s) and 4 day(s)\n0 week(s) and 5 day(s)\n0 week(s) and 6 day(s)\n1 week(s) and 0 day(s)\n1 week(s) and 1 day(s)\n1 week(s) and 2 day(s)\n",
     "output_type": "stream"
    }
   ]
  },
  {
   "cell_type": "code",
   "metadata": {
    "tags": [],
    "cell_id": "00093-db0d3717-a4d4-49b0-8a8f-4001cbe032a6",
    "deepnote_to_be_reexecuted": false,
    "source_hash": "4e614658",
    "execution_start": 1633747152724,
    "execution_millis": 17,
    "deepnote_cell_type": "code"
   },
   "source": "next(readable_datetime)",
   "execution_count": null,
   "outputs": [
    {
     "output_type": "error",
     "ename": "StopIteration",
     "evalue": "",
     "traceback": [
      "\u001b[0;31m---------------------------------------------------------------------------\u001b[0m",
      "\u001b[0;31mStopIteration\u001b[0m                             Traceback (most recent call last)",
      "\u001b[0;32m/tmp/ipykernel_76/784186538.py\u001b[0m in \u001b[0;36m<module>\u001b[0;34m\u001b[0m\n\u001b[0;32m----> 1\u001b[0;31m \u001b[0mnext\u001b[0m\u001b[0;34m(\u001b[0m\u001b[0mreadable_datetime\u001b[0m\u001b[0;34m)\u001b[0m\u001b[0;34m\u001b[0m\u001b[0;34m\u001b[0m\u001b[0m\n\u001b[0m",
      "\u001b[0;31mStopIteration\u001b[0m: "
     ]
    }
   ]
  },
  {
   "cell_type": "code",
   "metadata": {
    "tags": [],
    "cell_id": "00094-f6a83a65-6444-4f4b-ae10-d9b96caee2f2",
    "deepnote_cell_type": "code"
   },
   "source": "",
   "execution_count": null,
   "outputs": []
  },
  {
   "cell_type": "markdown",
   "source": "<a style='text-decoration:none;line-height:16px;display:flex;color:#5B5B62;padding:10px;justify-content:end;' href='https://deepnote.com?utm_source=created-in-deepnote-cell&projectId=b67dc6ce-f500-4e15-bdf1-ce5cc0824ca8' target=\"_blank\">\n<img alt='Created in deepnote.com' style='display:inline;max-height:16px;margin:0px;margin-right:7.5px;' src='data:image/svg+xml;base64,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' > </img>\nCreated in <span style='font-weight:600;margin-left:4px;'>Deepnote</span></a>",
   "metadata": {
    "tags": [],
    "created_in_deepnote_cell": true,
    "deepnote_cell_type": "markdown"
   }
  }
 ],
 "nbformat": 4,
 "nbformat_minor": 5,
 "metadata": {
  "kernelspec": {
   "display_name": "Python 3",
   "language": "python",
   "name": "python3"
  },
  "language_info": {
   "codemirror_mode": {
    "name": "ipython",
    "version": 3
   },
   "file_extension": ".py",
   "mimetype": "text/x-python",
   "name": "python",
   "nbconvert_exporter": "python",
   "pygments_lexer": "ipython3",
   "version": "3.9.4"
  },
  "deepnote_notebook_id": "53192795-f876-4ba5-9393-452d1c0f2bac",
  "deepnote": {},
  "deepnote_execution_queue": []
 }
}