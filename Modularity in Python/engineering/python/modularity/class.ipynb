{
 "cells": [
  {
   "cell_type": "markdown",
   "source": "# Objek dan Kelas dalam Python\n\nSemua yang ada di dalam Python adalah objek. Mulai dari angka (`int` sampai `complex`) sampai fungsi, semua adalah objek. Setiap ekspresi yang kita tulis, seperti penugasan pada variabel, dalam Python juga merupakan objek. Bahkan, kita sendiri juga bisa membuat objek secara manual dari awal, salah satunya menggunakan `class`.",
   "metadata": {
    "slideshow": {
     "slide_type": "slide"
    },
    "tags": [],
    "cell_id": "00000-14eae4a1-320c-4876-97ba-6f1495e840c3",
    "deepnote_cell_type": "markdown"
   }
  },
  {
   "cell_type": "markdown",
   "source": "## Apa Itu Objek?\n\nObjek adalah **sebuah abstraksi Python untuk data**. Semua data yang ada dalam sebuah program Python direpresentasikan oleh objek atau berelasi dengan objek. Bahkan, kode yang kita tulis juga merupakan objek.\n\nSebuah objek merepresentasikan suatu individu, dan bagaimana objek tersebut berinteraksi dengan objek lain didefinisikan dengan metode yang melekat di dalamnya. Kita bisa menganggap objek sebagai **kata benda** dan metode yang melekat di dalamnya sebagai **kata kerja**.",
   "metadata": {
    "slideshow": {
     "slide_type": "slide"
    },
    "tags": [],
    "cell_id": "00001-91ab5e70-0e84-4bd7-b856-ff410e867942",
    "deepnote_cell_type": "markdown"
   }
  },
  {
   "cell_type": "markdown",
   "source": "Sebagai contoh, misalkan kita definisikan variabel `num = 7`.\n\n`num` merupakan sebuah *instance* dari objek `7` yang menyimpan nilai `7`. Metode yang berlaku seperti penjumlahan, perkalian, dan lainnya. Jika kita definisikan variabel lain yang menyimpan objek `8`, ini adalah objek yang berbeda. Dibalik layar, Python menyediakan kelas integer bawaan yang menyimpan nilai `7` dan `8`.\n\nContoh yang lain adalah string `bitlabs` dan `bootcamp` juga merupakan objek dalam Python.  Metode yang berlaku untuk kedua string tersebut seperti `capitalize()` dan `join()`.\n\n>Setiap objek dalam Python memiliki sebuah **identitas**, **tipe data**, dan **nilai**. Untuk lebih jelasnya, bisa dibaca dokumentasi [data model dalam Python](https://docs.python.org/3/reference/datamodel.html)",
   "metadata": {
    "slideshow": {
     "slide_type": "subslide"
    },
    "tags": [],
    "cell_id": "00002-def29993-5606-4053-b22a-92018ce25a0c",
    "deepnote_cell_type": "markdown"
   }
  },
  {
   "cell_type": "markdown",
   "source": "## Kelas dalam Python\n\nSecara umum, kelas (*class*) adalah sebuah cetak biru sebuah program untuk membuat objek baru beserta tipe data, atribut, dan perilaku baru. Dengan kelas, kita bisa mendesain bagaimana objek baru bisa terbuat dan apa yang bisa dilakukan oleh objek tersebut.\n\nSintaks umum untuk membuat sebuah *class* adalah sebagai berikut.\n\n```python\nclass ClassName:\n    <statement-1>\n    .\n    .\n    <statement-N>\n```",
   "metadata": {
    "slideshow": {
     "slide_type": "slide"
    },
    "tags": [],
    "cell_id": "00003-8f63582f-fe9d-4cc8-b1ab-99760591ade2",
    "deepnote_cell_type": "markdown"
   }
  },
  {
   "cell_type": "code",
   "metadata": {
    "cell_id": "00004-2c29caaf-779a-4e8a-8d1f-2e3ac90c5ef0",
    "deepnote_to_be_reexecuted": false,
    "source_hash": "a72c4f08",
    "execution_start": 1632678443872,
    "execution_millis": 4,
    "deepnote_cell_type": "code"
   },
   "source": "class Cat:\n    pass",
   "execution_count": null,
   "outputs": []
  },
  {
   "cell_type": "markdown",
   "source": "Instansiasi objek dari kelas `Cat` bisa dilakukan dengan memanggil nama kelasnya sama seperti pemanggilan fungsi.",
   "metadata": {
    "slideshow": {
     "slide_type": "subslide"
    },
    "tags": [],
    "cell_id": "00005-ec6d70b8-8f4b-4d7e-b0ef-af8ed677844d",
    "deepnote_cell_type": "markdown"
   }
  },
  {
   "cell_type": "code",
   "metadata": {
    "cell_id": "00006-cb163a62-6992-420e-aec8-5e1de60d9ba7",
    "deepnote_to_be_reexecuted": false,
    "source_hash": "d8eb05d6",
    "execution_start": 1632678443879,
    "execution_millis": 4,
    "deepnote_cell_type": "code"
   },
   "source": "persian = Cat()\nscottish_fold = Cat()",
   "execution_count": null,
   "outputs": []
  },
  {
   "cell_type": "code",
   "metadata": {
    "cell_id": "00007-fb3b77bf-764a-4bee-b451-3c418c4c329e",
    "deepnote_to_be_reexecuted": false,
    "source_hash": "75f12366",
    "execution_start": 1632678443886,
    "execution_millis": 15,
    "deepnote_cell_type": "code"
   },
   "source": "print(persian, type(persian))\nprint(scottish_fold, type(scottish_fold))",
   "execution_count": null,
   "outputs": [
    {
     "name": "stdout",
     "text": "<__main__.Cat object at 0x7f9e46f21490> <class '__main__.Cat'>\n<__main__.Cat object at 0x7f9e46f21450> <class '__main__.Cat'>\n",
     "output_type": "stream"
    }
   ]
  },
  {
   "cell_type": "markdown",
   "source": "Kita sudah membuat 2 buah objek, `Persian` dan `ScottishFold`. Pada pernyatan `print` di atas, karena kita tidak menentukan bagaimana implementasi fungsi `print` kelas `Cat`, kita akan mendapatkan sesuatu seperti `<__main__.Cat object at 0x108ea3340>`.\n\nKedua objek tersebut masih tidak bisa melakukan apa-apa dan tidak memiliki informasi apapun karena kita tidak menyediakannya.",
   "metadata": {
    "slideshow": {
     "slide_type": "subslide"
    },
    "tags": [],
    "cell_id": "00008-8c8b469c-0868-456b-9637-1fc30a3272ce",
    "deepnote_cell_type": "markdown"
   }
  },
  {
   "cell_type": "markdown",
   "source": "### Atribut\n\nAtribut adalah **sebuah variabel yang berada dalam sebuah *class* atau objek**. Selama pendefinisian kelas atau setelah suatu objek dibuat dari kelas tersebut, kita bisa mendefinisikan atribut pada objek tersebut. Sebagai contoh, kita akan tambahkan atribut `kind` pada objek `persian` dan `scottish_fold` yang merepresentasikan jenis kucing.",
   "metadata": {
    "slideshow": {
     "slide_type": "slide"
    },
    "tags": [],
    "cell_id": "00009-142a076b-2503-4fbc-a7a6-af025063f156",
    "deepnote_cell_type": "markdown"
   }
  },
  {
   "cell_type": "code",
   "metadata": {
    "cell_id": "00010-ec5def41-c5d3-40f8-bda1-f81e4d3ffcdc",
    "deepnote_to_be_reexecuted": false,
    "source_hash": "c030cde3",
    "execution_start": 1632678443892,
    "execution_millis": 4,
    "deepnote_cell_type": "code"
   },
   "source": "persian.kind = \"persian\"\nscottish_fold.kind = \"scottish fold\"",
   "execution_count": null,
   "outputs": []
  },
  {
   "cell_type": "code",
   "metadata": {
    "cell_id": "00011-1068600d-69d7-4210-ac79-bf928bf47257",
    "deepnote_to_be_reexecuted": false,
    "source_hash": "e9dc7a28",
    "execution_start": 1632678443917,
    "execution_millis": 19,
    "deepnote_cell_type": "code"
   },
   "source": "print(\"kind of cat:\", persian.kind)\nprint(\"kinf of cat:\", scottish_fold.kind)",
   "execution_count": null,
   "outputs": [
    {
     "name": "stdout",
     "text": "kind of cat: persian\nkinf of cat: scottish fold\n",
     "output_type": "stream"
    }
   ]
  },
  {
   "cell_type": "markdown",
   "source": "Cara pendefinisian atribut tersebut tidak efektif dan tidak akan melekat pada objek yang akan dibuat setelahnya. Untuk itulah, sangat disarankan mendefinisikan atribut objek pada saat pendefinisian *class*.\n\nSelain atribut objek, *class* juga bisa diberikan atribut kelas yang akan melekat pada kelas, bagaimanapun dan apapun objek yang kita buat, nilai atribut kelas akan tetap sama untuk satu kelas. Misalkan, karena semua kucing normal memiliki 4 kaki, kita bisa tambahkan informasi ini sebagai atribut kelas `Cat`.",
   "metadata": {
    "slideshow": {
     "slide_type": "subslide"
    },
    "tags": [],
    "cell_id": "00012-f658fa6e-38a4-40bc-bddd-95bc0d01f275",
    "deepnote_cell_type": "markdown"
   }
  },
  {
   "cell_type": "code",
   "metadata": {
    "cell_id": "00013-cb078dcd-0cc0-4408-80f6-97ab9ccc11cc",
    "deepnote_to_be_reexecuted": false,
    "source_hash": "b33304e",
    "execution_start": 1632678443918,
    "execution_millis": 0,
    "deepnote_cell_type": "code"
   },
   "source": "class Cat:\n    num_feet = 4",
   "execution_count": null,
   "outputs": []
  },
  {
   "cell_type": "code",
   "metadata": {
    "slideshow": {
     "slide_type": "subslide"
    },
    "tags": [],
    "cell_id": "00014-d746aa02-5589-4c1b-a45a-dd3de491fda8",
    "deepnote_to_be_reexecuted": false,
    "source_hash": "74bb13ae",
    "execution_start": 1632678443919,
    "execution_millis": 17,
    "deepnote_cell_type": "code"
   },
   "source": "persian = Cat()\npersian.kind = \"persian\"\n\nscottish_fold = Cat()\nscottish_fold.kind = \"scottish fold\"\n\nprint(\"num of feet of persian cat:\", persian.num_feet)\nprint(\"num of feet of scottish fold cat:\", scottish_fold.num_feet)",
   "execution_count": null,
   "outputs": [
    {
     "name": "stdout",
     "text": "num of feet of persian cat: 4\nnum of feet of scottish fold cat: 4\n",
     "output_type": "stream"
    }
   ]
  },
  {
   "cell_type": "markdown",
   "source": "Pada kode di atas, nilai `num_feet` akan selalu sama untuk satu kelas meskipun objek yang dibuat berbeda. Untuk pendefinisian atribut objek pada saat definisi kelas, kita bisa menggunakan metode `__init__`. Tapi, sebelum kita membahasnya lebih jauh, kita perlu tahu secara umum apa yang dimaksud dengan metode dalam sebuah kelas.\n",
   "metadata": {
    "cell_id": "00015-2720a97b-65a8-4e5c-8d72-0fe53604c51c",
    "deepnote_cell_type": "markdown"
   }
  },
  {
   "cell_type": "markdown",
   "source": "### Metode\n\nPada dasarnya, metode adalah **sebuah fungsi yang melekat pada kelas atau objek**. Kita mengenal beberapa metode yang hanya dimiliki oleh tipe data tertentu, seperti `title()` yang hanya ada pada tipe data string, `append()` yang hanya ada pada tipe data list, dan lainnya. Karena kita sedang membuat sebuah objek baru, yang tentu saja akan melahirkan tipe data baru, kita juga bisa mendefinisikan metode tertentu **yang membantu tugas dan objektif dari kelas tersebut**.",
   "metadata": {
    "slideshow": {
     "slide_type": "slide"
    },
    "tags": [],
    "cell_id": "00016-68d74578-2743-467d-ae9f-197765091876",
    "deepnote_cell_type": "markdown"
   }
  },
  {
   "cell_type": "markdown",
   "source": "#### Metode Inisialisasi\n\nMetode pertama adalah metode inisialisasi yang digunakan untuk menginisialisasi atribut objek setiap kali objek baru dibuat. Metode ini, secara khusus, **harus didefinisikan dengan nama `__init__`** (perhatikan dua garis bawah `__` yang mengapit kata kunci `init`). Umumnya, bentuk sebuah definisi kelas dalam Python seperti di bawah ini.\n\n```python\nclass Cat:\n    def __init__(self):\n        pass\n```\n\nAda 2 kata kunci baru pada kode di atas: `__init__` dan `self`. *Keyword* `__init__` merupakan metode spesial bawaan Python untuk menginisialisasi objek baru dari kelas tersebut. Sedangkan, parameter `self` merujuk pada objek yang akan dibuat. Meskipun `self` bukanlah kata kunci bawaan Python dan kita bisa menggantinya dengan parameter lain, tapi ini adalah suatu konvensi dari komunitas Python untuk memudahkan perawatan kode di masa mendatang.",
   "metadata": {
    "slideshow": {
     "slide_type": "subslide"
    },
    "tags": [],
    "cell_id": "00017-bbde49ce-ac03-4da0-b05b-dc51ee24ac72",
    "deepnote_cell_type": "markdown"
   }
  },
  {
   "cell_type": "markdown",
   "source": "> **Tips**\n>\n> * Pada bagian ini, kita mungkin akan sering melihat kata kunci sejenis sebagai penamaan metode dalam kelas. Python punya sebutan sendiri untuk memudahkan penyebutan, yaitu *dunder method*.\n> * Parameter pertama dari setiap metode yang didefinisikan dalam kelas harus merujuk pada objek yang akan dibuat, yaitu `self`.\n> * Sangat disarankan untuk mengikuti konvensi dari komunitas seperti menggunakan `self` dan bukan yang lainnya, supaya tidak ada orang (termasuk kita sendiri) yang harus menebak-nebak apa yang dimaksud dengan `self`.",
   "metadata": {
    "slideshow": {
     "slide_type": "subslide"
    },
    "tags": [],
    "cell_id": "00018-d1d0ebb8-6ff4-452d-abe8-d4feba822428",
    "deepnote_cell_type": "markdown"
   }
  },
  {
   "cell_type": "markdown",
   "source": "Misalkan, kita ingin membuat sebuah objek yang merepresentasikan seekor kucing lengkap dengan informasi seperti karakter, dan perilaku seekor kucing.",
   "metadata": {
    "slideshow": {
     "slide_type": "subslide"
    },
    "tags": [],
    "cell_id": "00019-95f32ebe-2f6d-405b-b1ca-a7890be8da34",
    "deepnote_cell_type": "markdown"
   }
  },
  {
   "cell_type": "code",
   "metadata": {
    "cell_id": "00020-5362b7cc-207d-4bd6-9b5c-b891193b77af",
    "deepnote_to_be_reexecuted": false,
    "source_hash": "6bb19142",
    "execution_start": 1633747352300,
    "execution_millis": 1,
    "deepnote_cell_type": "code"
   },
   "source": "class Cat:\n    \"\"\"Cat class.\"\"\"\n    def __init__(self, name, kind=\"persian\"):\n        self.cat_breed = kind\n        self.name = name\n\n    def sound(self):\n        return \"meow..\"",
   "execution_count": null,
   "outputs": []
  },
  {
   "cell_type": "code",
   "metadata": {
    "slideshow": {
     "slide_type": "subslide"
    },
    "tags": [],
    "cell_id": "00021-b2e8b709-d362-49ea-a443-ed80a030f6a4",
    "deepnote_to_be_reexecuted": false,
    "source_hash": "1338258d",
    "execution_start": 1633747361793,
    "execution_millis": 18,
    "deepnote_cell_type": "code"
   },
   "source": "persian = Cat(\"molly\")\nbengal = Cat(\"ben\", kind=\"bengal\")\n\nprint(\"{} is a {} cat. She sounds like {}..\".format(persian.name, persian.cat_breed, persian.sound()))\nprint(\"{} is a {} cat. He sounds like {}..\".format(bengal.name, bengal.kind, bengal.sound()))",
   "execution_count": null,
   "outputs": [
    {
     "name": "stdout",
     "text": "molly is a persian cat. She sounds like meow....\n",
     "output_type": "stream"
    },
    {
     "output_type": "error",
     "ename": "AttributeError",
     "evalue": "'Cat' object has no attribute 'kind'",
     "traceback": [
      "\u001b[0;31m---------------------------------------------------------------------------\u001b[0m",
      "\u001b[0;31mAttributeError\u001b[0m                            Traceback (most recent call last)",
      "\u001b[0;32m/tmp/ipykernel_75/2748078380.py\u001b[0m in \u001b[0;36m<module>\u001b[0;34m\u001b[0m\n\u001b[1;32m      3\u001b[0m \u001b[0;34m\u001b[0m\u001b[0m\n\u001b[1;32m      4\u001b[0m \u001b[0mprint\u001b[0m\u001b[0;34m(\u001b[0m\u001b[0;34m\"{} is a {} cat. She sounds like {}..\"\u001b[0m\u001b[0;34m.\u001b[0m\u001b[0mformat\u001b[0m\u001b[0;34m(\u001b[0m\u001b[0mpersian\u001b[0m\u001b[0;34m.\u001b[0m\u001b[0mname\u001b[0m\u001b[0;34m,\u001b[0m \u001b[0mpersian\u001b[0m\u001b[0;34m.\u001b[0m\u001b[0mcat_breed\u001b[0m\u001b[0;34m,\u001b[0m \u001b[0mpersian\u001b[0m\u001b[0;34m.\u001b[0m\u001b[0msound\u001b[0m\u001b[0;34m(\u001b[0m\u001b[0;34m)\u001b[0m\u001b[0;34m)\u001b[0m\u001b[0;34m)\u001b[0m\u001b[0;34m\u001b[0m\u001b[0;34m\u001b[0m\u001b[0m\n\u001b[0;32m----> 5\u001b[0;31m \u001b[0mprint\u001b[0m\u001b[0;34m(\u001b[0m\u001b[0;34m\"{} is a {} cat. He sounds like {}..\"\u001b[0m\u001b[0;34m.\u001b[0m\u001b[0mformat\u001b[0m\u001b[0;34m(\u001b[0m\u001b[0mbengal\u001b[0m\u001b[0;34m.\u001b[0m\u001b[0mname\u001b[0m\u001b[0;34m,\u001b[0m \u001b[0mbengal\u001b[0m\u001b[0;34m.\u001b[0m\u001b[0mkind\u001b[0m\u001b[0;34m,\u001b[0m \u001b[0mbengal\u001b[0m\u001b[0;34m.\u001b[0m\u001b[0msound\u001b[0m\u001b[0;34m(\u001b[0m\u001b[0;34m)\u001b[0m\u001b[0;34m)\u001b[0m\u001b[0;34m)\u001b[0m\u001b[0;34m\u001b[0m\u001b[0;34m\u001b[0m\u001b[0m\n\u001b[0m",
      "\u001b[0;31mAttributeError\u001b[0m: 'Cat' object has no attribute 'kind'"
     ]
    }
   ]
  },
  {
   "cell_type": "markdown",
   "source": "Perhatikan bahwa kita bisa mengakses atribut objek dengan menggunakan notasi `object.attr`, di mana `object` adalah objek yang dibuat (`persian`/`bengal`), dipisahkan oleh `.`, lalu nama atribut yang ingin diakses (`kind` dan `name`). Kita bisa menambahkan berapapun banyaknya atribut objek pada suatu kelas, tinggal tambahkan saja sebagai parameter pada metode inisialisasi `__init__`.\n\nMetode `sound` pada kelas `Cat` juga memiliki parameter `self` sebagai parameter pertama. Bahkan, hanya satu parameter saja, `self`. Ini sama saja seperti fungsi biasa yang tidak memiliki parameter karena pemanggilan metode sebuah objek menghiraukan `self`.",
   "metadata": {
    "cell_id": "00022-b219bf36-34aa-481a-a138-526db9b47b92",
    "deepnote_cell_type": "markdown"
   }
  },
  {
   "cell_type": "markdown",
   "source": "Mari kita perbarui kelas `Cat` dengan metode yang lebih kompleks seperti di bawah ini dan eksplor beberapa metode dan atributnya.",
   "metadata": {
    "slideshow": {
     "slide_type": "slide"
    },
    "tags": [],
    "cell_id": "00023-f71fdfb2-b505-4d65-b8c5-33939addb52d",
    "deepnote_cell_type": "markdown"
   }
  },
  {
   "cell_type": "code",
   "metadata": {
    "cell_id": "00024-be7bd192-0f37-4cc4-9451-e971cc84fb09",
    "deepnote_to_be_reexecuted": false,
    "source_hash": "7376ed91",
    "execution_start": 1633846197836,
    "execution_millis": 4,
    "deepnote_cell_type": "code"
   },
   "source": "class Cat:\n    \"\"\"Define a cat.\"\"\"\n    # class attribute\n    num_foot = 4\n    can_walk = True\n    def __init__(self, name, food, kind=\"persian\", gender=\"male\"):\n        \"\"\"Initiate a cat.\n        \n        Args:\n            name: cat's name\n            food: cat's food\n            kind: cat breed. By default is persian.\n            gender: male/female. By default is male.\n        \"\"\"\n        self.name = name\n        self.food = food\n        self.cat_breed = kind\n        self.is_male = True if gender == \"male\" else False\n\n    def sound(self):\n        return \"meow..\"\n\n    def eat(self, food):\n        \"\"\"Eat a given food.\"\"\"\n        if food == self.food:\n            return \"Yeay! it's {}. Time to eat!\".format(food)\n        return \"Oh no, it's {}. Only {}, please.\".format(food, self.food)\n\n    def greet_person(self, person):\n        \"\"\"Greet a given person.\"\"\"\n        return \"Hi, {}! nice to meet you.\".format(person)\n\n    def greet_cat(self, another_cat):\n        \"\"\"Greet another cat.\"\"\"\n        looks = \"handsome\" if another_cat.is_male else \"beautiful\"\n        return \"Hi, {}! You look {}\".format(another_cat.name, looks)",
   "execution_count": null,
   "outputs": []
  },
  {
   "cell_type": "code",
   "metadata": {
    "tags": [],
    "cell_id": "00025-efbde61f-419b-41f9-a0e1-a33d56b37cbd",
    "deepnote_to_be_reexecuted": false,
    "source_hash": "f5f74ad1",
    "execution_start": 1633747478522,
    "execution_millis": 10,
    "deepnote_output_heights": [
     21.1875
    ],
    "deepnote_cell_type": "code"
   },
   "source": "Cat.num_foot, Cat.can_walk",
   "execution_count": null,
   "outputs": [
    {
     "output_type": "execute_result",
     "execution_count": 14,
     "data": {
      "text/plain": "(4, True)"
     },
     "metadata": {}
    }
   ]
  },
  {
   "cell_type": "code",
   "metadata": {
    "slideshow": {
     "slide_type": "subslide"
    },
    "tags": [],
    "cell_id": "00025-b09abbf9-033e-48a7-bd36-7e1798b835b7",
    "deepnote_to_be_reexecuted": false,
    "source_hash": "8eff37f8",
    "execution_start": 1633747486345,
    "execution_millis": 2,
    "deepnote_cell_type": "code"
   },
   "source": "molly = Cat(\"Molly\", food=\"fish\")\nben = Cat(\"Ben\", food=\"pizza\", kind=\"bengal\", gender=\"non-binary\")",
   "execution_count": null,
   "outputs": []
  },
  {
   "cell_type": "code",
   "metadata": {
    "tags": [],
    "cell_id": "00027-420d6297-d91c-418f-958a-020809c8ce53",
    "deepnote_to_be_reexecuted": false,
    "source_hash": "672f0edd",
    "execution_start": 1633747489598,
    "execution_millis": 11,
    "deepnote_output_heights": [
     21.1875
    ],
    "deepnote_cell_type": "code"
   },
   "source": "molly.num_foot, molly.can_walk",
   "execution_count": null,
   "outputs": [
    {
     "output_type": "execute_result",
     "execution_count": 16,
     "data": {
      "text/plain": "(4, True)"
     },
     "metadata": {}
    }
   ]
  },
  {
   "cell_type": "code",
   "metadata": {
    "cell_id": "00026-6015a596-dfc1-4041-8b0d-4cc76e2d3ec4",
    "deepnote_to_be_reexecuted": false,
    "source_hash": "ddb67299",
    "execution_start": 1632678443964,
    "execution_millis": 11,
    "deepnote_cell_type": "code"
   },
   "source": "     {print(\"name:\", molly.name)\nprint(\"breed:\", molly.kind)\nprint(\"gender:\", \"male\" if molly.is_male else \"female\")\nprint(\"favorite food:\", molly.food)\nprint(molly.greet_person(\"john\"))\nprint(molly.greet_cat(ben))",
   "execution_count": null,
   "outputs": [
    {
     "name": "stdout",
     "text": "name: Molly\nbreed: persian\ngender: male\nfavorite food: fish\nHi, john! nice to meet you.\nHi, Ben! You look beautiful\n",
     "output_type": "stream"
    }
   ]
  },
  {
   "cell_type": "code",
   "metadata": {
    "slideshow": {
     "slide_type": "subslide"
    },
    "tags": [],
    "cell_id": "00027-b8f7ae67-2b16-4bfc-9af4-55952d2ae114",
    "deepnote_to_be_reexecuted": false,
    "source_hash": "6a003ddf",
    "execution_start": 1632678443965,
    "execution_millis": 10,
    "deepnote_cell_type": "code"
   },
   "source": "print(\"name:\", ben.name)\nprint(\"breed:\", ben.kind)\nprint(\"gender:\", \"male\" if ben.is_male else \"female\")\nprint(\"favorite food:\", ben.food)\nprint(ben.greet_person(\"anna\"))\nprint(ben.greet_cat(molly))",
   "execution_count": null,
   "outputs": [
    {
     "name": "stdout",
     "text": "name: Ben\nbreed: bengal\ngender: female\nfavorite food: pizza\nHi, anna! nice to meet you.\nHi, Molly! You look handsome\n",
     "output_type": "stream"
    }
   ]
  },
  {
   "cell_type": "code",
   "metadata": {
    "cell_id": "00028-41138aa6-6cd6-4690-b461-a8177be1c792",
    "deepnote_to_be_reexecuted": false,
    "source_hash": "1f0b258d",
    "execution_start": 1632678443968,
    "execution_millis": 7,
    "deepnote_cell_type": "code"
   },
   "source": "print(molly.eat(\"pizza\"))",
   "execution_count": null,
   "outputs": [
    {
     "name": "stdout",
     "text": "Oh no, it's pizza. Only fish, please.\n",
     "output_type": "stream"
    }
   ]
  },
  {
   "cell_type": "code",
   "metadata": {
    "cell_id": "00029-c753826c-e87e-40ed-be7f-07f97e367602",
    "deepnote_to_be_reexecuted": false,
    "source_hash": "7cfb35ad",
    "execution_start": 1632678444014,
    "execution_millis": 5,
    "deepnote_cell_type": "code"
   },
   "source": "print(ben.eat(\"tacos\"))",
   "execution_count": null,
   "outputs": [
    {
     "name": "stdout",
     "text": "Oh no, it's tacos. Only pizza, please.\n",
     "output_type": "stream"
    }
   ]
  },
  {
   "cell_type": "markdown",
   "source": "> **Kuis:**\n>\n> Buatlah sebuah kelas `ProductList` yang merepresentasikan daftar produk suatu toko yang menyimpan daftar nama produk yang masih/akan dijual dan daftar nama produk yang sudah terjual. Sebagai sebuah daftar produk suatu toko, beberapa perilaku yang bisa dilakukan atau dikenai pekerjaan adalah sebagai berikut:\n> * Menambah produk baru ke dalam produk yang akan dijual\n> * Memindahkan produk yang terjual dari daftar produk dijual ke dalam daftar produk terjual.\n> * Menampilkan daftar produk yang sedang dijual\n> * Menampilkan daftar produk yang sudah terjual",
   "metadata": {
    "slideshow": {
     "slide_type": "slide"
    },
    "tags": [],
    "cell_id": "00030-9d329a42-ef70-4c58-b8f8-c8570a936c55",
    "deepnote_cell_type": "markdown"
   }
  },
  {
   "cell_type": "code",
   "metadata": {
    "tags": [],
    "cell_id": "00031-aba20248-7acb-48ef-a038-f6a1f59c3031",
    "deepnote_to_be_reexecuted": false,
    "source_hash": "a05dc750",
    "execution_start": 1633695773602,
    "execution_millis": 18,
    "deepnote_output_heights": [
     21.1875
    ],
    "deepnote_cell_type": "code"
   },
   "source": "isinstance(\"python\", list)",
   "execution_count": null,
   "outputs": [
    {
     "output_type": "execute_result",
     "execution_count": 29,
     "data": {
      "text/plain": "False"
     },
     "metadata": {}
    }
   ]
  },
  {
   "cell_type": "code",
   "metadata": {
    "tags": [],
    "cell_id": "00032-8e7621e3-9f57-44fc-a82a-6592cc34d51a",
    "deepnote_to_be_reexecuted": false,
    "source_hash": "f85440ac",
    "execution_start": 1633762723538,
    "execution_millis": 335,
    "deepnote_cell_type": "code"
   },
   "source": "products = [\"chiki\", \"popcorn\", \"pizza\"]\nprint(products)\n\nproduct_idx = products.index(\"choco\")\nproducts.pop(product_idx)\nprint(products)",
   "execution_count": null,
   "outputs": [
    {
     "name": "stdout",
     "text": "['chiki', 'popcorn', 'pizza']\n",
     "output_type": "stream"
    },
    {
     "output_type": "error",
     "ename": "ValueError",
     "evalue": "'choco' is not in list",
     "traceback": [
      "\u001b[0;31m---------------------------------------------------------------------------\u001b[0m",
      "\u001b[0;31mValueError\u001b[0m                                Traceback (most recent call last)",
      "\u001b[0;32m/tmp/ipykernel_71/1359721637.py\u001b[0m in \u001b[0;36m<module>\u001b[0;34m\u001b[0m\n\u001b[1;32m      2\u001b[0m \u001b[0mprint\u001b[0m\u001b[0;34m(\u001b[0m\u001b[0mproducts\u001b[0m\u001b[0;34m)\u001b[0m\u001b[0;34m\u001b[0m\u001b[0;34m\u001b[0m\u001b[0m\n\u001b[1;32m      3\u001b[0m \u001b[0;34m\u001b[0m\u001b[0m\n\u001b[0;32m----> 4\u001b[0;31m \u001b[0mproduct_idx\u001b[0m \u001b[0;34m=\u001b[0m \u001b[0mproducts\u001b[0m\u001b[0;34m.\u001b[0m\u001b[0mindex\u001b[0m\u001b[0;34m(\u001b[0m\u001b[0;34m\"choco\"\u001b[0m\u001b[0;34m)\u001b[0m\u001b[0;34m\u001b[0m\u001b[0;34m\u001b[0m\u001b[0m\n\u001b[0m\u001b[1;32m      5\u001b[0m \u001b[0mproducts\u001b[0m\u001b[0;34m.\u001b[0m\u001b[0mpop\u001b[0m\u001b[0;34m(\u001b[0m\u001b[0mproduct_idx\u001b[0m\u001b[0;34m)\u001b[0m\u001b[0;34m\u001b[0m\u001b[0;34m\u001b[0m\u001b[0m\n\u001b[1;32m      6\u001b[0m \u001b[0mprint\u001b[0m\u001b[0;34m(\u001b[0m\u001b[0mproducts\u001b[0m\u001b[0;34m)\u001b[0m\u001b[0;34m\u001b[0m\u001b[0;34m\u001b[0m\u001b[0m\n",
      "\u001b[0;31mValueError\u001b[0m: 'choco' is not in list"
     ]
    }
   ]
  },
  {
   "cell_type": "code",
   "metadata": {
    "cell_id": "00031-ce2247ba-ae62-4d76-87b9-333b58673929",
    "deepnote_to_be_reexecuted": false,
    "source_hash": "2bd96b0",
    "execution_start": 1634017984422,
    "execution_millis": 19,
    "deepnote_cell_type": "code"
   },
   "source": "# KETIK DI SINI\nclass ProductList: \n    \"\"\"Product status.\"\"\"\n    def __init__(self, product_list):\n        # check to make sure product_list is a list\n        # if not an instance of list, then show error\n        if not isinstance(product_list, list):\n            raise TypeError(\"Product list must be a list.\")\n        self.available_product = product_list\n        self.sold_product = []\n\n    def show_available_product(self):\n        string_product = [\"- {}\".format(product) for product in self.available_product]\n        string_product = \"\\n\".join(string_product)\n        print(\"Available products:\", string_product, sep=\"\\n\")\n\n    def show_sold_product(self):\n        string_product = [\"- {}\".format(product) for product in self.sold_product]\n        string_product = \"\\n\".join(string_product)\n        print(\"Sold products:\", string_product, sep=\"\\n\")\n\n    def sold(self, product_name):\n        if product_name not in self.available_product:\n            return \"{} is already not in our product listing\".format(product_name)\n        product_idx = self.available_product.index(product_name)\n        # remove sold product from available_product\n        self.available_product.pop(product_idx)\n        # add sold product to sold_product\n        self.sold_product.append(product_name)\n\n    def add_product(self, product_name):\n        self.available_product.append(product_name)",
   "execution_count": null,
   "outputs": []
  },
  {
   "cell_type": "code",
   "metadata": {
    "tags": [],
    "cell_id": "00032-f3d0c7eb-13a8-442b-8a96-692f59a6a2f6",
    "deepnote_to_be_reexecuted": false,
    "source_hash": "40f4144b",
    "execution_start": 1633747727470,
    "execution_millis": 13,
    "deepnote_cell_type": "code"
   },
   "source": "products = ProductList([\"chiki\", \"popcorn\", \"pizza\"])\nproducts.show_available_product()\n\n# add new products\nlist_new_products = [\"cheetos\", \"waffle\", \"fish n chips\"]\nfor product in list_new_products:\n    products.add_product(product)\n\nproducts.show_available_product()\nproducts.show_sold_product()\n\n# some products are sold already\nsold_products = [\"waffle\", \"cheetos\"]\nfor sold_product in sold_products:\n    products.sold(sold_product)\n\nproducts.show_available_product()\nproducts.show_sold_product()",
   "execution_count": null,
   "outputs": [
    {
     "name": "stdout",
     "text": "Available products:\n- chiki\n- popcorn\n- pizza\nAvailable products:\n- chiki\n- popcorn\n- pizza\n- cheetos\n- waffle\n- fish n chips\nSold products:\n\nAvailable products:\n- chiki\n- popcorn\n- pizza\n- fish n chips\nSold products:\n- waffle\n- cheetos\n",
     "output_type": "stream"
    }
   ]
  },
  {
   "cell_type": "code",
   "metadata": {
    "tags": [],
    "cell_id": "00033-f305d346-dfc2-470c-8053-061de72c097a",
    "deepnote_to_be_reexecuted": false,
    "source_hash": "399d1cfb",
    "execution_start": 1633696885267,
    "execution_millis": 73,
    "deepnote_cell_type": "code"
   },
   "source": "product_list.sold(\"pizza\")\nproduct_list.show_available_product()",
   "execution_count": null,
   "outputs": [
    {
     "name": "stdout",
     "text": "Available products:\n- chiki\n- popcorn\n",
     "output_type": "stream"
    }
   ]
  },
  {
   "cell_type": "code",
   "metadata": {
    "tags": [],
    "cell_id": "00033-eb310307-d132-4ec3-a6a7-6623444c2542",
    "deepnote_to_be_reexecuted": false,
    "source_hash": "36ccad7b",
    "execution_start": 1633696885433,
    "execution_millis": 40,
    "deepnote_cell_type": "code"
   },
   "source": "product_list.show_sold_product()",
   "execution_count": null,
   "outputs": [
    {
     "name": "stdout",
     "text": "Sold products:\n- pizza\n",
     "output_type": "stream"
    }
   ]
  },
  {
   "cell_type": "code",
   "metadata": {
    "tags": [],
    "cell_id": "00037-689ca344-dc29-4b10-88d7-ae1e0876039f",
    "deepnote_to_be_reexecuted": false,
    "source_hash": "4bcc25f6",
    "execution_start": 1633696889640,
    "execution_millis": 1162,
    "deepnote_output_heights": [
     21.1875
    ],
    "deepnote_cell_type": "code"
   },
   "source": "product_list.sold_product",
   "execution_count": null,
   "outputs": [
    {
     "output_type": "execute_result",
     "execution_count": 50,
     "data": {
      "text/plain": "['pizza']"
     },
     "metadata": {}
    }
   ]
  },
  {
   "cell_type": "markdown",
   "source": "<a style='text-decoration:none;line-height:16px;display:flex;color:#5B5B62;padding:10px;justify-content:end;' href='https://deepnote.com?utm_source=created-in-deepnote-cell&projectId=b67dc6ce-f500-4e15-bdf1-ce5cc0824ca8' target=\"_blank\">\n<img alt='Created in deepnote.com' style='display:inline;max-height:16px;margin:0px;margin-right:7.5px;' src='data:image/svg+xml;base64,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' > </img>\nCreated in <span style='font-weight:600;margin-left:4px;'>Deepnote</span></a>",
   "metadata": {
    "tags": [],
    "created_in_deepnote_cell": true,
    "deepnote_cell_type": "markdown"
   }
  }
 ],
 "nbformat": 4,
 "nbformat_minor": 5,
 "metadata": {
  "kernelspec": {
   "display_name": "Python 3",
   "language": "python",
   "name": "python3"
  },
  "language_info": {
   "codemirror_mode": {
    "name": "ipython",
    "version": 3
   },
   "file_extension": ".py",
   "mimetype": "text/x-python",
   "name": "python",
   "nbconvert_exporter": "python",
   "pygments_lexer": "ipython3",
   "version": "3.9.4"
  },
  "deepnote_notebook_id": "0842f10e-8a1d-4b58-a6e8-551d22dbb6d2",
  "deepnote": {},
  "deepnote_execution_queue": []
 }
}