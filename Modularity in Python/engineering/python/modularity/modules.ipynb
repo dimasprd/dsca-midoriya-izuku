{
 "cells": [
  {
   "cell_type": "markdown",
   "source": "# Modul dan Paket dalam Python\n\nPada bagian ini, kita akan mulai membuat sebuah program Python secara menyeluruh dengan menerapkan semua yang sudah kita pelajari sebelumnya. Kita akan menulis modul buatan kita sendiri dan menggunakan modul bawaan dari Python, atau yang disebut dengan **Python's Standard Library** dan modul-modul lainnya.",
   "metadata": {
    "slideshow": {
     "slide_type": "slide"
    },
    "tags": [],
    "cell_id": "00000-bf5d3068-8b62-4598-808c-c35d8ea616f0",
    "deepnote_cell_type": "markdown"
   }
  },
  {
   "cell_type": "markdown",
   "source": "## Apa Itu Modul (*Module*)?\n\nModul sebenarnya adalah **sebuah file Python dengan format `.py`**. Semua file Python (modul) dapat digunakan oleh file Python (modul) yang lain. Kita bisa memanggil dan menggunakan kode dari modul lain dengan menggunakan pernyataan `import`.",
   "metadata": {
    "slideshow": {
     "slide_type": "slide"
    },
    "tags": [],
    "cell_id": "00001-5fe792b4-3bf3-44b6-a309-fcf330d24180",
    "deepnote_cell_type": "markdown"
   }
  },
  {
   "cell_type": "markdown",
   "source": "## Mengimpor Modul\n\nCara sederhana penggunaan `import` adalah `import module`, dengan `module` adalah nama file Python yang ingin kita gunakan (tanpa ekstensi `.py`).\n\nMisalkan, kita ingin memilih makanan untuk makan siang dari sekian banyak layanan cepat saji. Daripada kita repot berpikir atau berdiskusi dengan yang lain, mari kita biarkan komputer untuk memilih. Kita buat sebuah modul program yang berisi fungsi yang mengembalikan pilihan makanan cepat saji secara acak.\n\n<div align=\"middle\">\n<img src=\"../../../assets/images/fastfood.py.png\" style=\"border-radius: 1%\" width=\"50%\">\n</div>",
   "metadata": {
    "slideshow": {
     "slide_type": "slide"
    },
    "tags": [],
    "cell_id": "00002-9c8688f0-7578-4dba-a759-ff531788945c",
    "deepnote_cell_type": "markdown"
   }
  },
  {
   "cell_type": "markdown",
   "source": "Kemudian, kita buat program utama kita dalam `lunch.py` yang akan mengimpor semua objek dalam `fastfood.py` ke dalam `lunch.py` untuk bisa diakses dan digunakan. Berikut kode program utama kita di `lunch.py`.\n\n<div align=\"middle\">\n<img src=\"../../../assets/images/lunch.py.png\" width=\"50%\" style=\"border-radius: 1%\">\n</div>\n\nJika kedua file tersebut berada dalam satu direktori yang sama, maka kita bisa menjalankan program utama `lunch.py` melalui notebook atau terminal.",
   "metadata": {
    "slideshow": {
     "slide_type": "subslide"
    },
    "tags": [],
    "cell_id": "00003-705bb6d3-afdf-4d10-9866-6a6fab666b2a",
    "deepnote_cell_type": "markdown"
   }
  },
  {
   "cell_type": "code",
   "metadata": {
    "slideshow": {
     "slide_type": "subslide"
    },
    "tags": [],
    "cell_id": "00004-1770cc2b-b1ef-45dc-93e3-c2295709c631",
    "deepnote_to_be_reexecuted": false,
    "source_hash": "7d89d996",
    "execution_start": 1633867790364,
    "execution_millis": 844,
    "deepnote_cell_type": "code"
   },
   "source": "!python lunch.py",
   "execution_count": null,
   "outputs": [
    {
     "name": "stdout",
     "text": "This is from fastfood.py\r\n['McDonalds', 'KFC', 'Burger King', 'Wendys', 'Pizza Hut', \"Toby's\", 'Lawless', 'CFC']\r\nLet's go to Lawless for lunch\r\n",
     "output_type": "stream"
    }
   ]
  },
  {
   "cell_type": "code",
   "metadata": {
    "cell_id": "00005-3eec4c64-eb68-4337-85ab-1f657f4a2424",
    "deepnote_to_be_reexecuted": false,
    "source_hash": "7d89d996",
    "execution_start": 1633748819862,
    "execution_millis": 326,
    "deepnote_cell_type": "code"
   },
   "source": "!python lunch.py",
   "execution_count": null,
   "outputs": [
    {
     "name": "stdout",
     "text": "Let's go to Wendys for lunch\r\n",
     "output_type": "stream"
    }
   ]
  },
  {
   "cell_type": "code",
   "metadata": {
    "cell_id": "00006-cef256b2-58c7-4127-99f0-eaa1cf0b6da6",
    "deepnote_to_be_reexecuted": false,
    "source_hash": "7d89d996",
    "execution_start": 1633748820849,
    "execution_millis": 311,
    "deepnote_cell_type": "code"
   },
   "source": "!python lunch.py",
   "execution_count": null,
   "outputs": [
    {
     "name": "stdout",
     "text": "Let's go to Burger King for lunch\r\n",
     "output_type": "stream"
    }
   ]
  },
  {
   "cell_type": "code",
   "metadata": {
    "tags": [],
    "cell_id": "00007-d7a3f11f-2065-46e3-93e2-b8e5cde5f981",
    "deepnote_to_be_reexecuted": false,
    "source_hash": "9ec8bfe9",
    "execution_start": 1633749485397,
    "execution_millis": 305,
    "deepnote_cell_type": "code"
   },
   "source": "!python fastfood.py",
   "execution_count": null,
   "outputs": [
    {
     "name": "stdout",
     "text": "This is from fastfood.py\r\n['McDonalds', 'KFC', 'Burger King', 'Wendys', 'Pizza Hut', \"Toby's\", 'Lawless', 'CFC']\r\n",
     "output_type": "stream"
    }
   ]
  },
  {
   "cell_type": "code",
   "metadata": {
    "tags": [],
    "cell_id": "00008-cf531338-64e8-41de-bc89-db6d94568355",
    "deepnote_to_be_reexecuted": false,
    "source_hash": "de13a65c",
    "execution_start": 1633748869704,
    "execution_millis": 17,
    "deepnote_cell_type": "code"
   },
   "source": "a = 10\nprint(a)",
   "execution_count": null,
   "outputs": [
    {
     "name": "stdout",
     "text": "10\n",
     "output_type": "stream"
    }
   ]
  },
  {
   "cell_type": "markdown",
   "source": "Dari dua file Python tersebut, kita melakukan impor modul di dua tempat berbeda:\n* Program utama `lunch.py` yang mengimpor modul `fastfood`.\n* Modul `fastfood` yang mengimpor modul bawaan Python atau *Python's Standard Library* bernama `random`.",
   "metadata": {
    "slideshow": {
     "slide_type": "subslide"
    },
    "tags": [],
    "cell_id": "00007-cbeffc7b-fa3d-4f5a-af7f-6ffe2517fc0f",
    "deepnote_cell_type": "markdown"
   }
  },
  {
   "cell_type": "markdown",
   "source": "Kita juga melakukan impor dengan dua cara berbeda:\n* Pertama, kita mengimpor seluruh objek yang ada dalam `fastfood` dengan pernyataan `import fastfood`. Dengan cara ini, kita bisa menggunakan fungsi `pick` yang ada di dalamnya dengan awalan `fastfood.` (seperti pada akses atribut dan metode objek sebelumnya) sebelum nama fungsinya. Ini berguna agar tidak terjadi konflik jikalau ada fungsi dengan nama yang sama, `pick` pada modul `lunch` atau pada modul lain.\n* Kedua, kita menggunakan pernyataan `from random import choice` pada modul `fastfood` yang menyebabkan hanya fungsi `choice` saja yang tersedia untuk digunakan. Ini sangat direkomendasikan jika memang kita hanya menggunakan salah satu atau beberapa fungsi/kelas/variabel saja dari suatu modul dan tidak ingin mengakses semua objek di dalamnya karena alasan efisiensi memori.",
   "metadata": {
    "slideshow": {
     "slide_type": "subslide"
    },
    "tags": [],
    "cell_id": "00008-9b0b4bbe-158b-496e-84b5-da8226aebf67",
    "deepnote_cell_type": "markdown"
   }
  },
  {
   "cell_type": "markdown",
   "source": "## Mengimpor Modul dengan Alias\n\nKita memiliki opsi untuk mengimpor sebuah modul atau bagian dari modul dengan menggunakan sebuah **alias**. Ini bisa dilakukan dengan menambahkan kata kunci `as` pada setiap objek yang diimpor.\n\nSebagai contoh, kita bisa memodifikasi program utama `lunch.py` untuk mengimpor `fastfood` menggunakan alias seperti di bawah ini.\n\n\n```python\nimport fastfood as ff\n\nplace = ff.pick()\nprint(\"Let's go to {} for lunch.\".format(place))\n```",
   "metadata": {
    "slideshow": {
     "slide_type": "slide"
    },
    "tags": [],
    "cell_id": "00009-d491e8ce-7cd1-4960-b0ee-5fb62f7cd7b3",
    "deepnote_cell_type": "markdown"
   }
  },
  {
   "cell_type": "markdown",
   "source": "## Impor Hanya Yang Dibutuhkan\n\nKita sudah menerapkan hal ini pada kasus kedua sebelumnya, di mana kita hanya mengimpor fungsi `choice` dari modul `random`. Sebagai contoh, karena kita hanya membutuhkan fungsi `pick` pada modul `fastfood` dan tidak membutuhkan `places`, kita bisa memodifikasi lagi program utama `lunch.py` menjadi berikut.\n\n```python\nfrom fastfood import pick\n\nplace = pick()\nprint(\"Let's go to {} for lunch.\".format(place))\n```\n\nAtau, kita gunakan alias seperti di bawah ini.\n\n```python\nfrom fastfood import pick as fastpick\n\nplace = fastpick()\nprint(\"Let's go to {} for lunch.\".format(place))\n```",
   "metadata": {
    "slideshow": {
     "slide_type": "slide"
    },
    "tags": [],
    "cell_id": "00010-2fe0b86c-8a09-4732-b154-d0dcf3dcc1f2",
    "deepnote_cell_type": "markdown"
   }
  },
  {
   "cell_type": "markdown",
   "source": "> **Kuis:**\n>\n> Impor pustaka standar Python `math` dan gunakan modul `math` untuk menghitung $e^3$.",
   "metadata": {
    "slideshow": {
     "slide_type": "slide"
    },
    "tags": [],
    "cell_id": "00011-cbbb7a2a-f35f-4129-a7bd-138a36625119",
    "deepnote_cell_type": "markdown"
   }
  },
  {
   "cell_type": "code",
   "metadata": {
    "cell_id": "00012-ff15ac7d-92cf-4d9a-b859-dc11134b5de3",
    "deepnote_to_be_reexecuted": false,
    "source_hash": "9801247",
    "execution_start": 1633609202635,
    "execution_millis": 4,
    "deepnote_cell_type": "code"
   },
   "source": "# KETIK DI SINI",
   "execution_count": null,
   "outputs": []
  },
  {
   "cell_type": "markdown",
   "source": "> **Riset**\n>\n> Lakukan riset dan eksplorasi tentang beberapa [pustaka standar Python](https://docs.python.org/3/library/) berikut dan coba beberapa modul di dalamnya:\n> 1. `datetime`\n> 2. `os`\n> 3. `time`\n> 4. `csv`\n> 5. `json`\n> 6. `random`",
   "metadata": {
    "slideshow": {
     "slide_type": "subslide"
    },
    "tags": [],
    "cell_id": "00013-5b50ab97-65db-4fa0-a39d-ec87e1318429",
    "deepnote_cell_type": "markdown"
   }
  },
  {
   "cell_type": "code",
   "metadata": {
    "cell_id": "00014-3e884876-1d19-42dd-93c5-8707ebba38d7",
    "deepnote_to_be_reexecuted": false,
    "source_hash": "aac5c706",
    "execution_start": 1633747855504,
    "execution_millis": 0,
    "deepnote_cell_type": "code"
   },
   "source": "# KETIK DI SINI\nimport choices\nimport datetime\nimport math\nimport random",
   "execution_count": null,
   "outputs": []
  },
  {
   "cell_type": "code",
   "metadata": {
    "tags": [],
    "cell_id": "00015-b7822fd7-602c-4c6a-889c-f1416f50c105",
    "deepnote_to_be_reexecuted": false,
    "source_hash": "2b9c481e",
    "execution_start": 1633610131848,
    "execution_millis": 5,
    "deepnote_cell_type": "code"
   },
   "source": "numbers = [random.randint(10, 50) for _ in range(50)]\nnumbers_sin = [math.sin(number) for number in numbers]\nprint(numbers_sin)",
   "execution_count": null,
   "outputs": [
    {
     "name": "stdout",
     "text": "[-0.428182669496151, -0.9537526527594719, 0.4201670368266409, 0.8366556385360561, -0.9999902065507035, -0.2879033166650653, -0.9917788534431158, -0.5365729180004349, -0.6636338842129675, -0.9880316240928618, 0.8509035245341184, -0.750987246771676, 0.27090578830786904, -0.5440211108893698, 0.6502878401571168, 0.017701925105413577, -0.9917788534431158, -0.9999902065507035, -0.9880316240928618, 0.8366556385360561, -0.9613974918795568, -0.5440211108893698, -0.5365729180004349, 0.14987720966295234, -0.9055783620066239, -0.404037645323065, -0.9999902065507035, -0.9613974918795568, 0.8366556385360561, 0.27090578830786904, 0.8366556385360561, 0.2963685787093853, -0.9917788534431158, -0.9613974918795568, 0.9129452507276277, -0.6636338842129675, -0.26237485370392877, -0.158622668804709, -0.9165215479156338, -0.8317747426285983, -0.6636338842129675, -0.008851309290403876, -0.5365729180004349, -0.8317747426285983, -0.9055783620066239, 0.14987720966295234, -0.750987246771676, -0.404037645323065, -0.6435381333569995, 0.5290826861200238]\n",
     "output_type": "stream"
    }
   ]
  },
  {
   "cell_type": "code",
   "metadata": {
    "cell_id": "00015-8b6d0fd5-647d-4e61-ae76-1c4622450375",
    "deepnote_to_be_reexecuted": false,
    "source_hash": "93f5c0c3",
    "execution_start": 1633609412639,
    "execution_millis": 8,
    "deepnote_output_heights": [
     21.1875
    ],
    "deepnote_cell_type": "code"
   },
   "source": "# KETIK DI SINI\ndatetime.datetime(year=2021, month=10, day=7)",
   "execution_count": null,
   "outputs": [
    {
     "output_type": "execute_result",
     "execution_count": 16,
     "data": {
      "text/plain": "datetime.datetime(2021, 10, 7, 0, 0)"
     },
     "metadata": {}
    }
   ]
  },
  {
   "cell_type": "code",
   "metadata": {
    "cell_id": "00016-d82a8e21-5455-4777-9a17-a1fdddd2ca08",
    "deepnote_to_be_reexecuted": false,
    "source_hash": "9801247",
    "execution_start": 1633609202660,
    "execution_millis": 3,
    "deepnote_cell_type": "code"
   },
   "source": "# KETIK DI SINI\ndatetime.datetime()",
   "execution_count": null,
   "outputs": []
  },
  {
   "cell_type": "markdown",
   "source": "## Paket (*Package*) dalam Python\n\nSecara singkat, paket (*package*) dalam Python berarti **kumpulan modul dalam sebuah folder** (kumpulan file berekstensi `.py` dalam sebuah folder). Dengan adanya *package*, kita bisa membuat beberapa modul yang dikelompokkan dalam sebuah direktori dengan tugas khusus. Sebuah *package* bisa saja terdiri dari beberapa *sub-package*, yang berarti direktori yang memiliki sub-direktori.\n\nSatu hal yang dibutuhkan agar Python mengenali bahwa sebuah direktori bukan direktori biasa, melainkan sebuah *package*, adalah modul `__init__.py` yang bisa berisi kode tambahan atau bahkan file kosong.",
   "metadata": {
    "slideshow": {
     "slide_type": "slide"
    },
    "tags": [],
    "cell_id": "00017-64bd99fb-e74d-405c-bf73-cd9a9bb895b7",
    "deepnote_cell_type": "markdown"
   }
  },
  {
   "cell_type": "markdown",
   "source": "Struktur direktori yang akan kita buat adalah seperti di bawah ini.\n\n```\n|--- questions.py\n|--- choices\n     |--- fastfood.py\n     |--- advice.py\n```",
   "metadata": {
    "slideshow": {
     "slide_type": "subslide"
    },
    "tags": [],
    "cell_id": "00018-14b535d3-cd7c-4433-baf4-b8c1850d73f3",
    "deepnote_cell_type": "markdown"
   }
  },
  {
   "cell_type": "markdown",
   "source": "<div align=\"middle\">\n<img src=\"../../../assets/images/questions.py.png\" width=\"50%\" style=\"border-radius: 1%\">\n</div>",
   "metadata": {
    "slideshow": {
     "slide_type": "subslide"
    },
    "tags": [],
    "cell_id": "00019-4b24810f-60e1-4de5-a55d-4801df3183d3",
    "deepnote_cell_type": "markdown"
   }
  },
  {
   "cell_type": "markdown",
   "source": "<div align=\"middle\">\n<img src=\"../../../assets/images/fastfood.py.png\" width=\"50%\" style=\"border-radius: 1%\">\n</div>",
   "metadata": {
    "slideshow": {
     "slide_type": "subslide"
    },
    "tags": [],
    "cell_id": "00020-e29046a7-9018-4cc8-a75b-43bacf97ed07",
    "deepnote_cell_type": "markdown"
   }
  },
  {
   "cell_type": "markdown",
   "source": "<div align=\"middle\">\n<img src=\"../../../assets/images/choices.advice.py.png\" width=\"50%\" style=\"border-radius: 1%\">\n</div>",
   "metadata": {
    "slideshow": {
     "slide_type": "subslide"
    },
    "tags": [],
    "cell_id": "00021-70525e88-60b4-451a-9768-619721af832d",
    "deepnote_cell_type": "markdown"
   }
  },
  {
   "cell_type": "markdown",
   "source": "Untuk menjalankan program utama `questions.py`, tempatkan `questions.py` sejajar dengan direktori `choices`.",
   "metadata": {
    "slideshow": {
     "slide_type": "subslide"
    },
    "tags": [],
    "cell_id": "00022-2e41b949-a175-44d7-a9af-9f0db91eedbc",
    "deepnote_cell_type": "markdown"
   }
  },
  {
   "cell_type": "code",
   "metadata": {
    "cell_id": "00023-88a78cd6-9c2a-4389-b557-89fc2b68f1fd",
    "deepnote_to_be_reexecuted": false,
    "source_hash": "922f46f2",
    "execution_start": 1633609202707,
    "execution_millis": 873,
    "deepnote_cell_type": "code"
   },
   "source": "!python questions.py",
   "execution_count": null,
   "outputs": []
  },
  {
   "cell_type": "code",
   "metadata": {
    "cell_id": "00024-eed3f71b-8ff9-4b77-8d27-e4f4aeda01cc",
    "deepnote_to_be_reexecuted": false,
    "source_hash": "922f46f2",
    "execution_start": 1633609203580,
    "execution_millis": 944,
    "deepnote_cell_type": "code"
   },
   "source": "!python questions.py",
   "execution_count": null,
   "outputs": [
    {
     "name": "stdout",
     "text": "Let's go to Toby's for lunch!\r\nShould we take out? Let me think first\r\n",
     "output_type": "stream"
    }
   ]
  },
  {
   "cell_type": "code",
   "metadata": {
    "cell_id": "00025-4fb82d58-8090-46f4-8cf3-91d6d5caebd9",
    "deepnote_to_be_reexecuted": false,
    "source_hash": "922f46f2",
    "execution_start": 1633764288699,
    "execution_millis": 281,
    "deepnote_cell_type": "code"
   },
   "source": "!python questions.py",
   "execution_count": null,
   "outputs": [
    {
     "name": "stdout",
     "text": "Let's go to Wendys for lunch!\r\nShould we take out? Yes!\r\n",
     "output_type": "stream"
    }
   ]
  },
  {
   "cell_type": "markdown",
   "source": "> **Kuis:**\n>\n> Buatlah sebuah *package* `password` yang memiliki sebuah fungsi `generate_password` yang **memilih 3 kata secara acak** dari sebuah daftar kata `word_list` yang memuat kata-kata dalam file `words.txt` dan menggabungkan ketiga karakter tersebut menjadi satu string. Jika *package* berfungsi dengan benar, maka bisa digunakan untuk membangkitkan kata sandi seperit di bawah ini.\n>\n>```python\n> pw = password.generate_password()\n>```\n>\n> <br>Silakan unduh file `words.txt` [di sini](https://storage.googleapis.com/bitlabs-dataset/words.txt).",
   "metadata": {
    "slideshow": {
     "slide_type": "slide"
    },
    "tags": [],
    "cell_id": "00026-8071af5b-8722-4aef-b021-a3d8aed92714",
    "deepnote_cell_type": "markdown"
   }
  },
  {
   "cell_type": "code",
   "metadata": {
    "tags": [],
    "cell_id": "00027-e25d82e0-e104-4c8b-98c5-fb3e393a44cf",
    "deepnote_to_be_reexecuted": false,
    "source_hash": "3080085b",
    "execution_start": 1633749848911,
    "execution_millis": 85,
    "deepnote_cell_type": "code"
   },
   "source": "with open(\"words.txt\", \"r\") as f:\n    word_list = f.read().split(\"\\n\")\nprint(word_list)",
   "execution_count": null,
   "outputs": [
    {
     "name": "stdout",
     "text": "['Alice', 'was', 'beginning', 'to', 'get', 'very', 'tired', 'of', 'sitting', 'by', 'her', 'sister', 'bank', 'having', 'nothing', 'Once', 'twice', 'she', 'had', 'peeped', 'into', 'the', 'book', 'her', 'sister', 'was', 'reading', 'but', 'it', 'had', 'no', 'pictures', 'or', 'conversations', 'in', 'it', 'and', 'what', 'is', 'the', 'use', 'of', 'a', 'book', 'thought', 'Alice', 'without', 'pictures', 'or', 'conversations', '']\n",
     "output_type": "stream"
    }
   ]
  },
  {
   "cell_type": "markdown",
   "source": "## CodeLab Session",
   "metadata": {
    "tags": [],
    "cell_id": "00029-6ee3311b-1279-4d73-b0b5-a0b818ef9a25",
    "deepnote_cell_type": "markdown"
   }
  },
  {
   "cell_type": "code",
   "metadata": {
    "tags": [],
    "cell_id": "00029-4d58a74a-45a3-4c45-b542-f494ad01921e",
    "deepnote_to_be_reexecuted": false,
    "source_hash": "1692d31b",
    "execution_start": 1634352150270,
    "execution_millis": 217,
    "deepnote_cell_type": "code"
   },
   "source": "now_manual = datetime.datetime(2021, 9, 9)\nnow_auto = datetime.datetime.now()\ndatetime_diff = now_auto - now_manual\n\nprint(now_manual)\nprint(now_auto)\nprint(datetime_diff)",
   "execution_count": null,
   "outputs": [
    {
     "output_type": "error",
     "ename": "NameError",
     "evalue": "name 'datetime' is not defined",
     "traceback": [
      "\u001b[0;31m---------------------------------------------------------------------------\u001b[0m",
      "\u001b[0;31mNameError\u001b[0m                                 Traceback (most recent call last)",
      "\u001b[0;32m<ipython-input-1-13165870a850>\u001b[0m in \u001b[0;36m<module>\u001b[0;34m\u001b[0m\n\u001b[0;32m----> 1\u001b[0;31m \u001b[0mnow_manual\u001b[0m \u001b[0;34m=\u001b[0m \u001b[0mdatetime\u001b[0m\u001b[0;34m.\u001b[0m\u001b[0mdatetime\u001b[0m\u001b[0;34m(\u001b[0m\u001b[0;36m2021\u001b[0m\u001b[0;34m,\u001b[0m \u001b[0;36m9\u001b[0m\u001b[0;34m,\u001b[0m \u001b[0;36m9\u001b[0m\u001b[0;34m)\u001b[0m\u001b[0;34m\u001b[0m\u001b[0;34m\u001b[0m\u001b[0m\n\u001b[0m\u001b[1;32m      2\u001b[0m \u001b[0mnow_auto\u001b[0m \u001b[0;34m=\u001b[0m \u001b[0mdatetime\u001b[0m\u001b[0;34m.\u001b[0m\u001b[0mdatetime\u001b[0m\u001b[0;34m.\u001b[0m\u001b[0mnow\u001b[0m\u001b[0;34m(\u001b[0m\u001b[0;34m)\u001b[0m\u001b[0;34m\u001b[0m\u001b[0;34m\u001b[0m\u001b[0m\n\u001b[1;32m      3\u001b[0m \u001b[0mdatetime_diff\u001b[0m \u001b[0;34m=\u001b[0m \u001b[0mnow_auto\u001b[0m \u001b[0;34m-\u001b[0m \u001b[0mnow_manual\u001b[0m\u001b[0;34m\u001b[0m\u001b[0;34m\u001b[0m\u001b[0m\n\u001b[1;32m      4\u001b[0m \u001b[0;34m\u001b[0m\u001b[0m\n\u001b[1;32m      5\u001b[0m \u001b[0mprint\u001b[0m\u001b[0;34m(\u001b[0m\u001b[0mnow_manual\u001b[0m\u001b[0;34m)\u001b[0m\u001b[0;34m\u001b[0m\u001b[0;34m\u001b[0m\u001b[0m\n",
      "\u001b[0;31mNameError\u001b[0m: name 'datetime' is not defined"
     ]
    }
   ]
  },
  {
   "cell_type": "code",
   "metadata": {
    "tags": [],
    "cell_id": "00031-74f5ba01-f105-4cf6-bf63-36effddd0f84",
    "deepnote_to_be_reexecuted": false,
    "source_hash": "e04f8592",
    "execution_start": 1633748127573,
    "execution_millis": 10,
    "deepnote_cell_type": "code"
   },
   "source": "print(now_manual.day, now_manual.month, now_manual.date())\nprint(now_auto.day, now_auto.month, now_auto.date())",
   "execution_count": null,
   "outputs": [
    {
     "name": "stdout",
     "text": "9 9 2021-09-09\n9 10 2021-10-09\n",
     "output_type": "stream"
    }
   ]
  },
  {
   "cell_type": "code",
   "metadata": {
    "tags": [],
    "cell_id": "00034-22bc1509-cda6-41ee-9bf4-dff43304790c",
    "deepnote_to_be_reexecuted": false,
    "source_hash": "7263bb51",
    "execution_start": 1633750013730,
    "execution_millis": 4,
    "deepnote_cell_type": "code"
   },
   "source": "word_set = list(set(word_list))",
   "execution_count": null,
   "outputs": []
  },
  {
   "cell_type": "code",
   "metadata": {
    "tags": [],
    "cell_id": "00034-b31885f6-64bf-4663-88b9-b482776470c9",
    "deepnote_to_be_reexecuted": false,
    "source_hash": "e0bd1d6",
    "execution_start": 1633750014963,
    "execution_millis": 19,
    "deepnote_cell_type": "code"
   },
   "source": "word_sample = random.sample(word_set, k=10)\nword_choices = random.choices(word_set, k=10)\n\nprint(\"sampling without replacement:\", word_sample)\nprint(\"sampling with replacement:\", word_choices)",
   "execution_count": null,
   "outputs": [
    {
     "name": "stdout",
     "text": "sampling without replacement: ['bank', 'what', 'book', 'get', 'nothing', 'a', 'peeped', 'is', 'or', 'it']\nsampling with replacement: ['and', 'the', 'or', 'of', 'sitting', 'bank', 'or', 'a', 'sitting', 'had']\n",
     "output_type": "stream"
    }
   ]
  },
  {
   "cell_type": "code",
   "metadata": {
    "tags": [],
    "cell_id": "00036-0286ce87-f2e0-4abe-b29a-381764c7facc",
    "deepnote_to_be_reexecuted": false,
    "source_hash": "5adf56fd",
    "execution_start": 1633750183127,
    "execution_millis": 31,
    "deepnote_cell_type": "code"
   },
   "source": "for sample in word_sample:\n    print(\"lowercase:\", sample.lower())\n    print(\"uppercase:\", sample.upper())\n    print(\"titlecase:\", sample.title())\nprint(\"more title:\", \"maCHinE lEARniNg\".title())",
   "execution_count": null,
   "outputs": [
    {
     "name": "stdout",
     "text": "lowercase: bank\nuppercase: BANK\ntitlecase: Bank\nlowercase: what\nuppercase: WHAT\ntitlecase: What\nlowercase: book\nuppercase: BOOK\ntitlecase: Book\nlowercase: get\nuppercase: GET\ntitlecase: Get\nlowercase: nothing\nuppercase: NOTHING\ntitlecase: Nothing\nlowercase: a\nuppercase: A\ntitlecase: A\nlowercase: peeped\nuppercase: PEEPED\ntitlecase: Peeped\nlowercase: is\nuppercase: IS\ntitlecase: Is\nlowercase: or\nuppercase: OR\ntitlecase: Or\nlowercase: it\nuppercase: IT\ntitlecase: It\nmore title: Machine Learning\n",
     "output_type": "stream"
    }
   ]
  },
  {
   "cell_type": "code",
   "metadata": {
    "tags": [],
    "cell_id": "00037-96d21489-33ec-47d0-b79f-20901913be67",
    "deepnote_to_be_reexecuted": false,
    "source_hash": "7e5cbbdf",
    "execution_start": 1633751044668,
    "execution_millis": 14,
    "deepnote_cell_type": "code"
   },
   "source": "import password",
   "execution_count": null,
   "outputs": []
  },
  {
   "cell_type": "code",
   "metadata": {
    "tags": [],
    "cell_id": "00039-7b9eac62-b60b-4a45-b06e-ecbd4d7aaa1b",
    "deepnote_to_be_reexecuted": false,
    "source_hash": "d70ba2c1",
    "execution_start": 1633751044844,
    "execution_millis": 14,
    "deepnote_cell_type": "code"
   },
   "source": "pw = password.generate_password(10)\nprint(pw)",
   "execution_count": null,
   "outputs": [
    {
     "name": "stdout",
     "text": "OnceitbeginningAlicenoconversationsandasittingtwice\n",
     "output_type": "stream"
    }
   ]
  },
  {
   "cell_type": "code",
   "metadata": {
    "tags": [],
    "cell_id": "00039-7e9e4009-396f-49a3-8ae6-6c64bcfc89db",
    "deepnote_to_be_reexecuted": false,
    "source_hash": "f486b76d",
    "execution_start": 1633751072273,
    "execution_millis": 3,
    "deepnote_cell_type": "code"
   },
   "source": "import string",
   "execution_count": null,
   "outputs": []
  },
  {
   "cell_type": "code",
   "metadata": {
    "tags": [],
    "cell_id": "00040-d49d96f1-056d-4fee-acde-4d264ef1d83e",
    "deepnote_to_be_reexecuted": false,
    "source_hash": "5c4b592d",
    "execution_start": 1633751125650,
    "execution_millis": 8,
    "deepnote_output_heights": [
     21.1875
    ],
    "deepnote_cell_type": "code"
   },
   "source": "import random\n\nrandom.sample(string.punctuation, 3)",
   "execution_count": null,
   "outputs": [
    {
     "output_type": "execute_result",
     "execution_count": 10,
     "data": {
      "text/plain": "['_', '#', '+']"
     },
     "metadata": {}
    }
   ]
  },
  {
   "cell_type": "code",
   "metadata": {
    "tags": [],
    "cell_id": "00041-eca45039-0cc1-494c-8658-68227b4dd39d",
    "deepnote_to_be_reexecuted": false,
    "source_hash": "b42f3dab",
    "execution_start": 1633751283018,
    "execution_millis": 15,
    "deepnote_cell_type": "code"
   },
   "source": "import password\n\npw = password.generate_password(10)\nprint(pw)",
   "execution_count": null,
   "outputs": [
    {
     "name": "stdout",
     "text": ">and\\in]by:a.pictures[nothing`peeped@no#was(the\n",
     "output_type": "stream"
    }
   ]
  },
  {
   "cell_type": "code",
   "metadata": {
    "tags": [],
    "cell_id": "00042-cd32ecfd-d4a1-405e-9618-c24eeaffca1c",
    "deepnote_to_be_reexecuted": false,
    "source_hash": "eed3ea39",
    "execution_start": 1633751834956,
    "execution_millis": 16,
    "deepnote_output_heights": [
     21.1875
    ],
    "deepnote_cell_type": "code"
   },
   "source": "filename = \"words.txt\"\nwith open(\"words.txt\", \"r\") as f:\n    word_list = f.read().split(\",\")\nword_list",
   "execution_count": null,
   "outputs": [
    {
     "output_type": "execute_result",
     "execution_count": 16,
     "data": {
      "text/plain": "['Alice', 'was', 'beginning', 'to', 'get']"
     },
     "metadata": {}
    }
   ]
  },
  {
   "cell_type": "markdown",
   "source": "<a style='text-decoration:none;line-height:16px;display:flex;color:#5B5B62;padding:10px;justify-content:end;' href='https://deepnote.com?utm_source=created-in-deepnote-cell&projectId=b67dc6ce-f500-4e15-bdf1-ce5cc0824ca8' target=\"_blank\">\n<img alt='Created in deepnote.com' style='display:inline;max-height:16px;margin:0px;margin-right:7.5px;' src='data:image/svg+xml;base64,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' > </img>\nCreated in <span style='font-weight:600;margin-left:4px;'>Deepnote</span></a>",
   "metadata": {
    "tags": [],
    "created_in_deepnote_cell": true,
    "deepnote_cell_type": "markdown"
   }
  }
 ],
 "nbformat": 4,
 "nbformat_minor": 5,
 "metadata": {
  "kernelspec": {
   "display_name": "Python 3",
   "language": "python",
   "name": "python3"
  },
  "language_info": {
   "codemirror_mode": {
    "name": "ipython",
    "version": 3
   },
   "file_extension": ".py",
   "mimetype": "text/x-python",
   "name": "python",
   "nbconvert_exporter": "python",
   "pygments_lexer": "ipython3",
   "version": "3.9.4"
  },
  "deepnote_notebook_id": "c5408b6f-8b26-4aa4-b514-2aa2b80f9a27",
  "deepnote": {},
  "deepnote_execution_queue": []
 }
}