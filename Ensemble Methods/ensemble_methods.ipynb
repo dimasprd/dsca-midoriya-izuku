{
 "cells": [
  {
   "cell_type": "markdown",
   "source": "# Ensemble Methods\n\n\nFirst install necessary libraries below:\n* `xgboost`\n* `lightgbm`",
   "metadata": {
    "tags": [],
    "cell_id": "00000-d400bc64-57a6-4865-8910-3d60e1b00aa3",
    "deepnote_cell_type": "markdown"
   }
  },
  {
   "cell_type": "code",
   "metadata": {
    "tags": [],
    "cell_id": "00001-162469ec-adf6-428e-b10d-1f9b1820d816",
    "deepnote_to_be_reexecuted": false,
    "source_hash": "c3fc164e",
    "execution_start": 1639571549148,
    "execution_millis": 1,
    "deepnote_cell_type": "code"
   },
   "source": "from lightgbm import LGBMRegressor, LGBMClassifier\nfrom matplotlib import pyplot\nfrom numpy import mean, std, arange\nfrom sklearn.datasets import make_classification, make_regression\nfrom sklearn.ensemble import AdaBoostClassifier, AdaBoostRegressor, GradientBoostingRegressor, VotingClassifier, RandomForestClassifier\nfrom sklearn.linear_model import LinearRegression, LogisticRegression\nfrom sklearn.neighbors import KNeighborsClassifier\nfrom sklearn.model_selection import cross_val_score, RepeatedStratifiedKFold, RepeatedKFold\nfrom sklearn.tree import DecisionTreeClassifier\nfrom xgboost import XGBClassifier, XGBRegressor\n",
   "execution_count": null,
   "outputs": []
  },
  {
   "cell_type": "code",
   "metadata": {
    "tags": [],
    "cell_id": "00002-f6a7b8df-ab84-4819-82b9-c8fa9dccc2c7",
    "deepnote_to_be_reexecuted": false,
    "source_hash": "b407dbc5",
    "execution_start": 1639571605759,
    "execution_millis": 1,
    "deepnote_cell_type": "code"
   },
   "source": "\t# get a voting ensemble of models\n\tdef get_hard_voting():\n\t\t# define the base models\n\t\tmodels = list()\n\t\tmodels.append(('knn1', KNeighborsClassifier(n_neighbors=1)))\n\t\tmodels.append(('knn3', KNeighborsClassifier(n_neighbors=3)))\n\t\tmodels.append(('knn5', KNeighborsClassifier(n_neighbors=5)))\n\t\tmodels.append(('knn7', KNeighborsClassifier(n_neighbors=7)))\n\t\tmodels.append(('knn9', KNeighborsClassifier(n_neighbors=9)))\n\t\t# define the voting ensemble\n\t\tensemble = VotingClassifier(estimators=models, voting='hard')\n\t\treturn ensemble",
   "execution_count": null,
   "outputs": []
  },
  {
   "cell_type": "code",
   "metadata": {
    "tags": [],
    "cell_id": "00003-4c63bce4-aff5-4098-9e5f-3f03138fcf56",
    "deepnote_to_be_reexecuted": false,
    "source_hash": "936320d3",
    "execution_start": 1639571632400,
    "execution_millis": 0,
    "deepnote_cell_type": "code"
   },
   "source": "# get a voting ensemble of models\ndef get_soft_voting():\n\t# define the base models\n\tmodels = list()\n\tmodels.append(('knn1', KNeighborsClassifier(n_neighbors=1)))\n\tmodels.append(('knn3', KNeighborsClassifier(n_neighbors=3)))\n\tmodels.append(('knn5', KNeighborsClassifier(n_neighbors=5)))\n\tmodels.append(('knn7', KNeighborsClassifier(n_neighbors=7)))\n\tmodels.append(('knn9', KNeighborsClassifier(n_neighbors=9)))\n\t# define the voting ensemble\n\tensemble = VotingClassifier(estimators=models, voting='soft')\n\treturn ensemble",
   "execution_count": null,
   "outputs": []
  },
  {
   "cell_type": "code",
   "metadata": {
    "tags": [],
    "cell_id": "00003-28d3ce05-1227-4605-bfa0-8d83c65b476d",
    "deepnote_to_be_reexecuted": false,
    "source_hash": "5ff0e9f1",
    "execution_start": 1639571661526,
    "execution_millis": 1,
    "deepnote_cell_type": "code"
   },
   "source": "# get a list of models to evaluate\ndef get_hard_models():\n\tmodels = dict()\n\tmodels['knn1'] = KNeighborsClassifier(n_neighbors=1)\n\tmodels['knn3'] = KNeighborsClassifier(n_neighbors=3)\n\tmodels['knn5'] = KNeighborsClassifier(n_neighbors=5)\n\tmodels['knn7'] = KNeighborsClassifier(n_neighbors=7)\n\tmodels['knn9'] = KNeighborsClassifier(n_neighbors=9)\n\tmodels['hard_voting'] = get_hard_voting()\n\treturn models",
   "execution_count": null,
   "outputs": []
  },
  {
   "cell_type": "code",
   "metadata": {
    "tags": [],
    "cell_id": "00005-f0494ab2-4c53-4785-b0fc-bf2e26d4dd47",
    "deepnote_to_be_reexecuted": false,
    "source_hash": "234faa56",
    "execution_start": 1639571665641,
    "execution_millis": 1,
    "deepnote_cell_type": "code"
   },
   "source": "# get a list of models to evaluate\ndef get_soft_models():\n\tmodels = dict()\n\tmodels['knn1'] = KNeighborsClassifier(n_neighbors=1)\n\tmodels['knn3'] = KNeighborsClassifier(n_neighbors=3)\n\tmodels['knn5'] = KNeighborsClassifier(n_neighbors=5)\n\tmodels['knn7'] = KNeighborsClassifier(n_neighbors=7)\n\tmodels['knn9'] = KNeighborsClassifier(n_neighbors=9)\n\tmodels['soft_voting'] = get_soft_voting()\n\treturn models",
   "execution_count": null,
   "outputs": []
  },
  {
   "cell_type": "code",
   "metadata": {
    "tags": [],
    "cell_id": "00004-79e472ab-6898-4195-99da-28d5a48ae213",
    "deepnote_to_be_reexecuted": false,
    "source_hash": "bcd625ba",
    "execution_start": 1639571734112,
    "execution_millis": 1,
    "deepnote_cell_type": "code"
   },
   "source": "# evaluate a give model using cross-validation\ndef evaluate_model(model, X, y):\n\tcv = RepeatedStratifiedKFold(n_splits=10, n_repeats=3, random_state=1)\n\tscores = cross_val_score(model, X, y, scoring='accuracy', cv=cv, n_jobs=-1, error_score='raise')\n\treturn scores",
   "execution_count": null,
   "outputs": []
  },
  {
   "cell_type": "code",
   "metadata": {
    "tags": [],
    "cell_id": "00005-8aaed0e5-3975-4e26-a6e4-7e3ab03fcaf3",
    "deepnote_to_be_reexecuted": false,
    "source_hash": "f3eaf249",
    "execution_start": 1639571749967,
    "execution_millis": 0,
    "deepnote_cell_type": "code"
   },
   "source": "X, y = make_classification(n_samples=1000, n_features=20, n_informative=15, n_redundant=5, random_state=2)",
   "execution_count": null,
   "outputs": []
  },
  {
   "cell_type": "code",
   "metadata": {
    "tags": [],
    "cell_id": "00006-c3f6ebf2-6a11-4afc-b352-958826f085bd",
    "deepnote_to_be_reexecuted": false,
    "source_hash": "2da47816",
    "execution_start": 1639571865215,
    "execution_millis": 1179,
    "deepnote_output_heights": [
     null,
     251
    ],
    "deepnote_cell_type": "code"
   },
   "source": "# get the models to evaluate\nmodels = get_soft_models()\n# evaluate the models and store results\nresults, names = list(), list()\nfor name, model in models.items():\n\tscores = evaluate_model(model, X, y)\n\tresults.append(scores)\n\tnames.append(name)\n\tprint('>%s %.3f (%.3f)' % (name, mean(scores), std(scores)))\n# plot model performance for comparison\npyplot.boxplot(results, labels=names, showmeans=True)\npyplot.show()",
   "execution_count": null,
   "outputs": [
    {
     "name": "stdout",
     "text": ">knn1 0.873 (0.030)\n>knn3 0.889 (0.038)\n>knn5 0.895 (0.031)\n>knn7 0.899 (0.035)\n>knn9 0.900 (0.033)\n>soft_voting 0.897 (0.029)\n",
     "output_type": "stream",
     "data": {}
    },
    {
     "data": {
      "text/plain": "<Figure size 432x288 with 1 Axes>",
      "image/png": "[encoded data removed]"
     },
     "metadata": {
      "needs_background": "light",
      "image/png": {
       "width": 378,
       "height": 249
      }
     },
     "output_type": "display_data"
    }
   ]
  },
  {
   "cell_type": "code",
   "metadata": {
    "tags": [],
    "cell_id": "00009-c8b7cd0e-cfb0-416b-a3f1-dff8d4d35d98",
    "deepnote_to_be_reexecuted": false,
    "source_hash": "71ec31e7",
    "execution_start": 1639571878776,
    "execution_millis": 1521,
    "deepnote_output_heights": [
     null,
     251
    ],
    "deepnote_cell_type": "code"
   },
   "source": "# get the models to evaluate\nmodels = get_hard_models()\n# evaluate the models and store results\nresults, names = list(), list()\nfor name, model in models.items():\n\tscores = evaluate_model(model, X, y)\n\tresults.append(scores)\n\tnames.append(name)\n\tprint('>%s %.3f (%.3f)' % (name, mean(scores), std(scores)))\n# plot model performance for comparison\npyplot.boxplot(results, labels=names, showmeans=True)\npyplot.show()",
   "execution_count": null,
   "outputs": [
    {
     "name": "stdout",
     "text": ">knn1 0.873 (0.030)\n>knn3 0.889 (0.038)\n>knn5 0.895 (0.031)\n>knn7 0.899 (0.035)\n>knn9 0.900 (0.033)\n>hard_voting 0.902 (0.034)\n",
     "output_type": "stream",
     "data": {}
    },
    {
     "data": {
      "text/plain": "<Figure size 432x288 with 1 Axes>",
      "image/png": "[encoded data removed]"
     },
     "metadata": {
      "needs_background": "light",
      "image/png": {
       "width": 380,
       "height": 249
      }
     },
     "output_type": "display_data"
    }
   ]
  },
  {
   "cell_type": "code",
   "metadata": {
    "tags": [],
    "cell_id": "00007-4e362779-f509-4160-a555-7515f44a3dc9",
    "deepnote_to_be_reexecuted": false,
    "source_hash": "a6a23804",
    "execution_start": 1639573308978,
    "execution_millis": 52238,
    "deepnote_output_heights": [
     null,
     250
    ],
    "deepnote_cell_type": "code"
   },
   "source": "# get the dataset\ndef get_dataset():\n\tX, y = make_classification(n_samples=1000, n_features=20, n_informative=15, n_redundant=5, random_state=3)\n\treturn X, y\n \n# get a list of models to evaluate\ndef get_models():\n\tmodels = dict()\n\t# explore ratios from 10% to 100% in 10% increments\n\tfor i in arange(0.1, 1.1, 0.1):\n\t\tkey = '%.1f' % i\n\t\t# set max_samples=None to use 100%\n\t\tif i == 1.0:\n\t\t\ti = None\n\t\tmodels[key] = RandomForestClassifier(max_samples=i)\n\treturn models\n \n# evaluate a given model using cross-validation\ndef evaluate_model(model, X, y):\n\t# define the evaluation procedure\n\tcv = RepeatedStratifiedKFold(n_splits=10, n_repeats=3, random_state=1)\n\t# evaluate the model and collect the results\n\tscores = cross_val_score(model, X, y, scoring='accuracy', cv=cv, n_jobs=-1)\n\treturn scores\n \n# define dataset\nX, y = get_dataset()\n# get the models to evaluate\nmodels = get_models()\n# evaluate the models and store results\nresults, names = list(), list()\nfor name, model in models.items():\n\t# evaluate the model\n\tscores = evaluate_model(model, X, y)\n\t# store the results\n\tresults.append(scores)\n\tnames.append(name)\n\t# summarize the performance along the way\n\tprint('>%s %.3f (%.3f)' % (name, mean(scores), std(scores)))\n# plot model performance for comparison\npyplot.boxplot(results, labels=names, showmeans=True)\npyplot.show()",
   "execution_count": null,
   "outputs": [
    {
     "name": "stdout",
     "text": ">0.1 0.859 (0.027)\n>0.2 0.873 (0.027)\n>0.3 0.881 (0.027)\n>0.4 0.891 (0.025)\n>0.5 0.889 (0.026)\n>0.6 0.897 (0.025)\n>0.7 0.899 (0.028)\n>0.8 0.901 (0.031)\n>0.9 0.904 (0.026)\n>1.0 0.906 (0.024)\n",
     "output_type": "stream",
     "data": {}
    },
    {
     "data": {
      "text/plain": "<Figure size 432x288 with 1 Axes>",
      "image/png": "[encoded data removed]"
     },
     "metadata": {
      "needs_background": "light",
      "image/png": {
       "width": 378,
       "height": 248
      }
     },
     "output_type": "display_data"
    }
   ]
  },
  {
   "cell_type": "code",
   "metadata": {
    "id": "dqissfmdEpsG",
    "colab": {
     "base_uri": "https://localhost:8080/"
    },
    "executionInfo": {
     "status": "ok",
     "timestamp": 1639446575225,
     "user_tz": -420,
     "elapsed": 2978,
     "user": {
      "displayName": "Mirza Fahmi",
      "photoUrl": "https://lh3.googleusercontent.com/a-/AOh14GidPk3kCP-3ijYjR74xVdQsKTsalA-fJ_F3NgpnMw=s64",
      "userId": "15453880888796853366"
     }
    },
    "outputId": "ea736d7f-e185-45b0-92bf-dfe9f36cce10",
    "cell_id": "00004-5caab367-29f6-4c87-befc-56a9972656b9",
    "deepnote_to_be_reexecuted": false,
    "source_hash": "98ef179d",
    "execution_start": 1639575647088,
    "execution_millis": 7380,
    "deepnote_cell_type": "code"
   },
   "source": "# evaluate adaboost ensemble for regression\nfrom numpy import mean\nfrom numpy import std\nfrom sklearn.datasets import make_regression\nfrom sklearn.model_selection import cross_val_score\nfrom sklearn.model_selection import RepeatedKFold\nfrom sklearn.ensemble import AdaBoostRegressor\n\n# define dataset\nX, y = make_regression(n_samples=1000, n_features=20, n_informative=15, noise=0.1, random_state=6)\n\n# define the model\nmodel = AdaBoostRegressor()\n\n# evaluate the model\ncv = RepeatedKFold(n_splits=10, n_repeats=3, random_state=1)\nn_scores = cross_val_score(model, X, y, scoring='neg_mean_absolute_error', cv=cv, n_jobs=-1, error_score='raise')\n\n# report performance\nprint('MAE: %.3f (%.3f)' % (mean(n_scores), std(n_scores)))",
   "execution_count": null,
   "outputs": [
    {
     "name": "stdout",
     "text": "MAE: -72.815 (4.658)\n",
     "output_type": "stream",
     "data": {}
    }
   ]
  },
  {
   "cell_type": "code",
   "metadata": {
    "id": "jWzNTPpEl0nD",
    "colab": {
     "base_uri": "https://localhost:8080/"
    },
    "executionInfo": {
     "status": "ok",
     "timestamp": 1639446594671,
     "user_tz": -420,
     "elapsed": 585,
     "user": {
      "displayName": "Mirza Fahmi",
      "photoUrl": "https://lh3.googleusercontent.com/a-/AOh14GidPk3kCP-3ijYjR74xVdQsKTsalA-fJ_F3NgpnMw=s64",
      "userId": "15453880888796853366"
     }
    },
    "outputId": "4051af26-d2f9-4214-c389-05ad1bc08c40",
    "cell_id": "00005-1e65e5a6-050b-48f5-825e-1e86c6ce4920",
    "deepnote_to_be_reexecuted": false,
    "source_hash": "fe254344",
    "execution_start": 1639575662609,
    "execution_millis": 367,
    "deepnote_cell_type": "code"
   },
   "source": "# adaboost ensemble for making predictions for regression\n# from sklearn.datasets import make_regression\n# from sklearn.ensemble import AdaBoostRegressor\n\n# define dataset\nX, y = make_regression(n_samples=1000, n_features=20, n_informative=15, noise=0.1, random_state=6)\n\n# define the model\nmodel = AdaBoostRegressor()\n\n# fit the model on the whole dataset\nmodel.fit(X, y)\n\n# make a single prediction\nrow = [[1.20871625,0.88440466,-0.9030013,-0.22687731,-0.82940077,-1.14410988,1.26554256,-0.2842871,1.43929072,0.74250241,0.34035501,0.45363034,0.1778756,-1.75252881,-1.33337384,-1.50337215,-0.45099008,0.46160133,0.58385557,-1.79936198]]\nyhat = model.predict(row)\nprint('Prediction: %d' % yhat[0])",
   "execution_count": null,
   "outputs": [
    {
     "name": "stdout",
     "text": "Prediction: -57\n",
     "output_type": "stream",
     "data": {}
    }
   ]
  },
  {
   "cell_type": "code",
   "metadata": {
    "id": "4gdQtcmC8hBP",
    "colab": {
     "base_uri": "https://localhost:8080/"
    },
    "executionInfo": {
     "status": "ok",
     "timestamp": 1639446549314,
     "user_tz": -420,
     "elapsed": 3122,
     "user": {
      "displayName": "Mirza Fahmi",
      "photoUrl": "https://lh3.googleusercontent.com/a-/AOh14GidPk3kCP-3ijYjR74xVdQsKTsalA-fJ_F3NgpnMw=s64",
      "userId": "15453880888796853366"
     }
    },
    "outputId": "1097f516-9908-41ce-8070-0758c8484e05",
    "cell_id": "00003-e3358be9-3648-4251-aa78-4684542a0bfd",
    "deepnote_to_be_reexecuted": false,
    "source_hash": "3803bb89",
    "execution_start": 1639575696106,
    "execution_millis": 3891,
    "deepnote_cell_type": "code"
   },
   "source": "# evaluate adaboost algorithm for classification\nfrom numpy import mean\nfrom numpy import std\nfrom sklearn.datasets import make_classification\nfrom sklearn.model_selection import cross_val_score\nfrom sklearn.model_selection import RepeatedStratifiedKFold\nfrom sklearn.ensemble import AdaBoostClassifier\n\n# define dataset\nX, y = make_classification(n_samples=1000, n_features=20, n_informative=15, n_redundant=5, random_state=6)\n\n# define the model\nmodel = AdaBoostClassifier()\n\n# evaluate the model\ncv = RepeatedStratifiedKFold(n_splits=10, n_repeats=3, random_state=1)\nn_scores = cross_val_score(model, X, y, scoring='accuracy', cv=cv, n_jobs=-1, error_score='raise')\n\n# report performance\nprint('Accuracy: %.3f (%.3f)' % (mean(n_scores), std(n_scores)))",
   "execution_count": null,
   "outputs": [
    {
     "name": "stdout",
     "text": "Accuracy: 0.806 (0.041)\n",
     "output_type": "stream",
     "data": {}
    }
   ]
  },
  {
   "cell_type": "code",
   "metadata": {
    "id": "ierY-gqbnC_C",
    "colab": {
     "base_uri": "https://localhost:8080/"
    },
    "executionInfo": {
     "status": "ok",
     "timestamp": 1639446649298,
     "user_tz": -420,
     "elapsed": 5350,
     "user": {
      "displayName": "Mirza Fahmi",
      "photoUrl": "https://lh3.googleusercontent.com/a-/AOh14GidPk3kCP-3ijYjR74xVdQsKTsalA-fJ_F3NgpnMw=s64",
      "userId": "15453880888796853366"
     }
    },
    "outputId": "ffa5e257-767d-410e-ea20-cdc9b705cebf",
    "cell_id": "00006-435252e6-c63e-441f-a095-27a7786a49c7",
    "deepnote_to_be_reexecuted": false,
    "source_hash": "588bb990",
    "execution_start": 1639575799764,
    "execution_millis": 10474,
    "deepnote_cell_type": "code"
   },
   "source": "# evaluate gradient boosting ensemble for regression\nfrom numpy import mean\nfrom numpy import std\nfrom sklearn.datasets import make_regression\nfrom sklearn.model_selection import cross_val_score\nfrom sklearn.model_selection import RepeatedKFold\nfrom sklearn.ensemble import GradientBoostingRegressor, GradientBoostingClassifier\n\n# define dataset\nX, y = make_regression(n_samples=1000, n_features=20, n_informative=15, noise=0.1, random_state=7)\n\n# define the model\nmodel = GradientBoostingRegressor()\n\n# define the evaluation procedure\ncv = RepeatedKFold(n_splits=10, n_repeats=3, random_state=1)\n\n# evaluate the model\nn_scores = cross_val_score(model, X, y, scoring='neg_mean_absolute_error', cv=cv, n_jobs=-1)\n\n# report performance\nprint('MAE: %.3f (%.3f)' % (mean(n_scores), std(n_scores)))",
   "execution_count": null,
   "outputs": [
    {
     "name": "stdout",
     "text": "MAE: -62.512 (3.236)\n",
     "output_type": "stream",
     "data": {}
    }
   ]
  },
  {
   "cell_type": "code",
   "metadata": {
    "tags": [],
    "cell_id": "00015-3816b7d4-745a-45e1-92b2-6d941c57f8de",
    "deepnote_to_be_reexecuted": false,
    "source_hash": "86a4c525",
    "execution_start": 1639575826428,
    "execution_millis": 10791,
    "deepnote_cell_type": "code"
   },
   "source": "# define dataset\nX, y = make_classification(n_samples=1000, n_features=20, n_informative=15, n_redundant=5, random_state=6)\n\n# define the model\nmodel = GradientBoostingClassifier()\n\n# evaluate the model\ncv = RepeatedStratifiedKFold(n_splits=10, n_repeats=3, random_state=1)\nn_scores = cross_val_score(model, X, y, scoring='accuracy', cv=cv, n_jobs=-1, error_score='raise')\n\n# report performance\nprint('Accuracy: %.3f (%.3f)' % (mean(n_scores), std(n_scores)))",
   "execution_count": null,
   "outputs": [
    {
     "name": "stdout",
     "text": "Accuracy: 0.887 (0.033)\n",
     "output_type": "stream",
     "data": {}
    }
   ]
  },
  {
   "cell_type": "code",
   "metadata": {
    "id": "MrvffcAQlJGt",
    "outputId": "1ecfdca6-25af-4760-f7e1-b16ff7e9b7fa",
    "colab": {
     "base_uri": "https://localhost:8080/"
    },
    "executionInfo": {
     "status": "ok",
     "timestamp": 1639446682444,
     "user_tz": -420,
     "elapsed": 3722,
     "user": {
      "displayName": "Mirza Fahmi",
      "photoUrl": "https://lh3.googleusercontent.com/a-/AOh14GidPk3kCP-3ijYjR74xVdQsKTsalA-fJ_F3NgpnMw=s64",
      "userId": "15453880888796853366"
     }
    },
    "cell_id": "00007-e688ef34-bf45-4761-b81f-d18ad9dd7e11",
    "deepnote_to_be_reexecuted": false,
    "source_hash": "2999575",
    "execution_start": 1639576049746,
    "execution_millis": 11710,
    "deepnote_cell_type": "code"
   },
   "source": "# evaluate lightgbm ensemble for regression\nfrom numpy import mean\nfrom numpy import std\nfrom sklearn.datasets import make_regression\nfrom sklearn.model_selection import cross_val_score\nfrom sklearn.model_selection import RepeatedKFold\nfrom lightgbm import LGBMRegressor\n\n# define dataset\nX, y = make_regression(n_samples=10000, n_features=20, n_informative=15, noise=0.1, random_state=7)\n\n# define the model\nmodel = LGBMRegressor()\n\n# evaluate the model\ncv = RepeatedKFold(n_splits=10, n_repeats=3, random_state=1)\nn_scores = cross_val_score(model, X, y, scoring='neg_mean_absolute_error', cv=cv, n_jobs=-1, error_score='raise')\n\n# report performance\nprint('MAE: %.3f (%.3f)' % (mean(n_scores), std(n_scores)))",
   "execution_count": null,
   "outputs": [
    {
     "name": "stdout",
     "text": "MAE: -50.862 (1.435)\n",
     "output_type": "stream",
     "data": {}
    }
   ]
  },
  {
   "cell_type": "code",
   "metadata": {
    "id": "BpX2QCrGExr1",
    "colab": {
     "base_uri": "https://localhost:8080/"
    },
    "executionInfo": {
     "status": "ok",
     "timestamp": 1639446702000,
     "user_tz": -420,
     "elapsed": 396,
     "user": {
      "displayName": "Mirza Fahmi",
      "photoUrl": "https://lh3.googleusercontent.com/a-/AOh14GidPk3kCP-3ijYjR74xVdQsKTsalA-fJ_F3NgpnMw=s64",
      "userId": "15453880888796853366"
     }
    },
    "outputId": "eef8ff75-b3ab-4796-c93b-4bfe372afae6",
    "cell_id": "00008-037b37db-9e26-4305-9603-3f583b5f7507",
    "deepnote_to_be_reexecuted": false,
    "source_hash": "f6faf6df",
    "execution_start": 1639576078080,
    "execution_millis": 891,
    "deepnote_cell_type": "code"
   },
   "source": "# gradient lightgbm for making predictions for regression\n# from sklearn.datasets import make_regression\n# from lightgbm import LGBMRegressor\n\n# define dataset\nX, y = make_regression(n_samples=10000, n_features=20, n_informative=15, noise=0.1, random_state=7)\n\n# define the model\nmodel = LGBMRegressor()\n\n# fit the model on the whole dataset\nmodel.fit(X, y)\n\n# make a single prediction\nrow = [0.20543991,-0.97049844,-0.81403429,-0.23842689,-0.60704084,-0.48541492,0.53113006,2.01834338,-0.90745243,-1.85859731,-1.02334791,-0.6877744,0.60984819,-0.70630121,-1.29161497,1.32385441,1.42150747,1.26567231,2.56569098,-0.11154792]\nyhat = model.predict([row])\nprint('Prediction: %d' % yhat[0])",
   "execution_count": null,
   "outputs": [
    {
     "name": "stdout",
     "text": "Prediction: 8\n",
     "output_type": "stream",
     "data": {}
    }
   ]
  },
  {
   "cell_type": "code",
   "metadata": {
    "id": "Va4M41fBI9yR",
    "outputId": "89717162-432e-42bd-9a51-db1cff67f879",
    "executionInfo": {
     "status": "ok",
     "timestamp": 1639446730632,
     "user_tz": -420,
     "elapsed": 3038,
     "user": {
      "displayName": "Mirza Fahmi",
      "photoUrl": "https://lh3.googleusercontent.com/a-/AOh14GidPk3kCP-3ijYjR74xVdQsKTsalA-fJ_F3NgpnMw=s64",
      "userId": "15453880888796853366"
     }
    },
    "colab": {
     "base_uri": "https://localhost:8080/"
    },
    "cell_id": "00009-44f6042f-3e27-417d-99cf-39bc0d725a58",
    "deepnote_to_be_reexecuted": false,
    "source_hash": "cecbc1a1",
    "execution_start": 1639576113546,
    "execution_millis": 9942,
    "deepnote_cell_type": "code"
   },
   "source": "# evaluate lightgbm algorithm for classification\nfrom numpy import mean\nfrom numpy import std\nfrom sklearn.datasets import make_classification\nfrom sklearn.model_selection import cross_val_score\nfrom sklearn.model_selection import RepeatedStratifiedKFold\nfrom lightgbm import LGBMClassifier\n\n# define dataset\nX, y = make_classification(n_samples=10000, n_features=20, n_informative=15, n_redundant=5, random_state=7)\n\n# define the model\nmodel = LGBMClassifier()\n\n# evaluate the model\ncv = RepeatedStratifiedKFold(n_splits=10, n_repeats=3, random_state=1)\nn_scores = cross_val_score(model, X, y, scoring='accuracy', cv=cv, n_jobs=-1)\n\n# report performance\nprint('Accuracy: %.3f (%.3f)' % (mean(n_scores), std(n_scores)))",
   "execution_count": null,
   "outputs": [
    {
     "name": "stdout",
     "text": "Accuracy: 0.979 (0.004)\n",
     "output_type": "stream",
     "data": {}
    }
   ]
  },
  {
   "cell_type": "code",
   "metadata": {
    "id": "WBNJp3POJBTN",
    "colab": {
     "base_uri": "https://localhost:8080/"
    },
    "executionInfo": {
     "status": "ok",
     "timestamp": 1639446796608,
     "user_tz": -420,
     "elapsed": 520,
     "user": {
      "displayName": "Mirza Fahmi",
      "photoUrl": "https://lh3.googleusercontent.com/a-/AOh14GidPk3kCP-3ijYjR74xVdQsKTsalA-fJ_F3NgpnMw=s64",
      "userId": "15453880888796853366"
     }
    },
    "outputId": "020bdeae-b6a6-4199-9d6d-532acf3980c2",
    "cell_id": "00010-06b21dab-fb5d-496d-b944-efad29bfdb04",
    "deepnote_to_be_reexecuted": false,
    "source_hash": "bc52c669",
    "execution_start": 1639576195737,
    "execution_millis": 354,
    "deepnote_cell_type": "code"
   },
   "source": "# make predictions using lightgbm for classification\nfrom sklearn.datasets import make_classification\nfrom lightgbm import LGBMClassifier\n\n# define dataset\nX, y = make_classification(n_samples=1000, n_features=20, n_informative=15, n_redundant=5, random_state=7)\n\n# define the model\nmodel = LGBMClassifier()\n\n# fit the model on the whole dataset\nmodel.fit(X, y)\n\n# make a single prediction\nrow = [0.2929949,-4.21223056,-1.288332,-2.17849815,-0.64527665,2.58097719,0.28422388,-7.1827928,-1.91211104,2.73729512,0.81395695,3.96973717,-2.66939799,3.34692332,4.19791821,0.99990998,-0.30201875,-4.43170633,-2.82646737,0.44916808]\nyhat = model.predict([row])\nprint('Predicted Class: %d' % yhat[0])",
   "execution_count": null,
   "outputs": [
    {
     "name": "stdout",
     "text": "Predicted Class: 1\n",
     "output_type": "stream",
     "data": {}
    }
   ]
  },
  {
   "cell_type": "code",
   "metadata": {
    "id": "aDO3WNDUseER",
    "colab": {
     "base_uri": "https://localhost:8080/"
    },
    "executionInfo": {
     "status": "ok",
     "timestamp": 1639446859383,
     "user_tz": -420,
     "elapsed": 2211,
     "user": {
      "displayName": "Mirza Fahmi",
      "photoUrl": "https://lh3.googleusercontent.com/a-/AOh14GidPk3kCP-3ijYjR74xVdQsKTsalA-fJ_F3NgpnMw=s64",
      "userId": "15453880888796853366"
     }
    },
    "outputId": "55bcb480-8e41-4a69-fb3b-9263688f83ab",
    "cell_id": "00012-694be9f0-11f3-4437-b80e-a2ba6aa9596f",
    "deepnote_to_be_reexecuted": false,
    "source_hash": "68fd567a",
    "execution_start": 1639576321338,
    "execution_millis": 539962,
    "deepnote_cell_type": "code"
   },
   "source": "# evaluate xgboost ensemble for regression\nfrom numpy import mean\nfrom numpy import std\nfrom sklearn.datasets import make_regression\nfrom sklearn.model_selection import cross_val_score\nfrom sklearn.model_selection import RepeatedKFold\nfrom xgboost import XGBRegressor\n\n# define dataset\nX, y = make_regression(n_samples=1000, n_features=20, n_informative=15, noise=0.1, random_state=7)\n\n# define the model\nmodel = XGBRegressor()\n\n# evaluate the model\ncv = RepeatedKFold(n_splits=10, n_repeats=3, random_state=1)\nn_scores = cross_val_score(model, X, y, scoring='neg_mean_absolute_error', cv=cv, n_jobs=-1, error_score='raise')\n\n# report performance\nprint('MAE: %.3f (%.3f)' % (mean(n_scores), std(n_scores)))",
   "execution_count": null,
   "outputs": [
    {
     "output_type": "error",
     "ename": "KeyboardInterrupt",
     "evalue": "",
     "traceback": [
      "\u001b[0;31m---------------------------------------------------------------------------\u001b[0m",
      "\u001b[0;31mKeyboardInterrupt\u001b[0m                         Traceback (most recent call last)",
      "\u001b[0;32m<ipython-input-16-430720801bdc>\u001b[0m in \u001b[0;36m<module>\u001b[0;34m\u001b[0m\n\u001b[1;32m     15\u001b[0m \u001b[0;31m# evaluate the model\u001b[0m\u001b[0;34m\u001b[0m\u001b[0;34m\u001b[0m\u001b[0m\n\u001b[1;32m     16\u001b[0m \u001b[0mcv\u001b[0m \u001b[0;34m=\u001b[0m \u001b[0mRepeatedKFold\u001b[0m\u001b[0;34m(\u001b[0m\u001b[0mn_splits\u001b[0m\u001b[0;34m=\u001b[0m\u001b[0;36m10\u001b[0m\u001b[0;34m,\u001b[0m \u001b[0mn_repeats\u001b[0m\u001b[0;34m=\u001b[0m\u001b[0;36m3\u001b[0m\u001b[0;34m,\u001b[0m \u001b[0mrandom_state\u001b[0m\u001b[0;34m=\u001b[0m\u001b[0;36m1\u001b[0m\u001b[0;34m)\u001b[0m\u001b[0;34m\u001b[0m\u001b[0;34m\u001b[0m\u001b[0m\n\u001b[0;32m---> 17\u001b[0;31m \u001b[0mn_scores\u001b[0m \u001b[0;34m=\u001b[0m \u001b[0mcross_val_score\u001b[0m\u001b[0;34m(\u001b[0m\u001b[0mmodel\u001b[0m\u001b[0;34m,\u001b[0m \u001b[0mX\u001b[0m\u001b[0;34m,\u001b[0m \u001b[0my\u001b[0m\u001b[0;34m,\u001b[0m \u001b[0mscoring\u001b[0m\u001b[0;34m=\u001b[0m\u001b[0;34m'neg_mean_absolute_error'\u001b[0m\u001b[0;34m,\u001b[0m \u001b[0mcv\u001b[0m\u001b[0;34m=\u001b[0m\u001b[0mcv\u001b[0m\u001b[0;34m,\u001b[0m \u001b[0mn_jobs\u001b[0m\u001b[0;34m=\u001b[0m\u001b[0;34m-\u001b[0m\u001b[0;36m1\u001b[0m\u001b[0;34m,\u001b[0m \u001b[0merror_score\u001b[0m\u001b[0;34m=\u001b[0m\u001b[0;34m'raise'\u001b[0m\u001b[0;34m)\u001b[0m\u001b[0;34m\u001b[0m\u001b[0;34m\u001b[0m\u001b[0m\n\u001b[0m\u001b[1;32m     18\u001b[0m \u001b[0;34m\u001b[0m\u001b[0m\n\u001b[1;32m     19\u001b[0m \u001b[0;31m# report performance\u001b[0m\u001b[0;34m\u001b[0m\u001b[0;34m\u001b[0m\u001b[0m\n",
      "\u001b[0;32m/shared-libs/python3.9/py/lib/python3.9/site-packages/sklearn/model_selection/_validation.py\u001b[0m in \u001b[0;36mcross_val_score\u001b[0;34m(estimator, X, y, groups, scoring, cv, n_jobs, verbose, fit_params, pre_dispatch, error_score)\u001b[0m\n\u001b[1;32m    508\u001b[0m     \u001b[0mscorer\u001b[0m \u001b[0;34m=\u001b[0m \u001b[0mcheck_scoring\u001b[0m\u001b[0;34m(\u001b[0m\u001b[0mestimator\u001b[0m\u001b[0;34m,\u001b[0m \u001b[0mscoring\u001b[0m\u001b[0;34m=\u001b[0m\u001b[0mscoring\u001b[0m\u001b[0;34m)\u001b[0m\u001b[0;34m\u001b[0m\u001b[0;34m\u001b[0m\u001b[0m\n\u001b[1;32m    509\u001b[0m \u001b[0;34m\u001b[0m\u001b[0m\n\u001b[0;32m--> 510\u001b[0;31m     cv_results = cross_validate(\n\u001b[0m\u001b[1;32m    511\u001b[0m         \u001b[0mestimator\u001b[0m\u001b[0;34m=\u001b[0m\u001b[0mestimator\u001b[0m\u001b[0;34m,\u001b[0m\u001b[0;34m\u001b[0m\u001b[0;34m\u001b[0m\u001b[0m\n\u001b[1;32m    512\u001b[0m         \u001b[0mX\u001b[0m\u001b[0;34m=\u001b[0m\u001b[0mX\u001b[0m\u001b[0;34m,\u001b[0m\u001b[0;34m\u001b[0m\u001b[0;34m\u001b[0m\u001b[0m\n",
      "\u001b[0;32m/shared-libs/python3.9/py/lib/python3.9/site-packages/sklearn/model_selection/_validation.py\u001b[0m in \u001b[0;36mcross_validate\u001b[0;34m(estimator, X, y, groups, scoring, cv, n_jobs, verbose, fit_params, pre_dispatch, return_train_score, return_estimator, error_score)\u001b[0m\n\u001b[1;32m    265\u001b[0m     \u001b[0;31m# independent, and that it is pickle-able.\u001b[0m\u001b[0;34m\u001b[0m\u001b[0;34m\u001b[0m\u001b[0m\n\u001b[1;32m    266\u001b[0m     \u001b[0mparallel\u001b[0m \u001b[0;34m=\u001b[0m \u001b[0mParallel\u001b[0m\u001b[0;34m(\u001b[0m\u001b[0mn_jobs\u001b[0m\u001b[0;34m=\u001b[0m\u001b[0mn_jobs\u001b[0m\u001b[0;34m,\u001b[0m \u001b[0mverbose\u001b[0m\u001b[0;34m=\u001b[0m\u001b[0mverbose\u001b[0m\u001b[0;34m,\u001b[0m \u001b[0mpre_dispatch\u001b[0m\u001b[0;34m=\u001b[0m\u001b[0mpre_dispatch\u001b[0m\u001b[0;34m)\u001b[0m\u001b[0;34m\u001b[0m\u001b[0;34m\u001b[0m\u001b[0m\n\u001b[0;32m--> 267\u001b[0;31m     results = parallel(\n\u001b[0m\u001b[1;32m    268\u001b[0m         delayed(_fit_and_score)(\n\u001b[1;32m    269\u001b[0m             \u001b[0mclone\u001b[0m\u001b[0;34m(\u001b[0m\u001b[0mestimator\u001b[0m\u001b[0;34m)\u001b[0m\u001b[0;34m,\u001b[0m\u001b[0;34m\u001b[0m\u001b[0;34m\u001b[0m\u001b[0m\n",
      "\u001b[0;32m/shared-libs/python3.9/py/lib/python3.9/site-packages/joblib/parallel.py\u001b[0m in \u001b[0;36m__call__\u001b[0;34m(self, iterable)\u001b[0m\n\u001b[1;32m   1054\u001b[0m \u001b[0;34m\u001b[0m\u001b[0m\n\u001b[1;32m   1055\u001b[0m             \u001b[0;32mwith\u001b[0m \u001b[0mself\u001b[0m\u001b[0;34m.\u001b[0m\u001b[0m_backend\u001b[0m\u001b[0;34m.\u001b[0m\u001b[0mretrieval_context\u001b[0m\u001b[0;34m(\u001b[0m\u001b[0;34m)\u001b[0m\u001b[0;34m:\u001b[0m\u001b[0;34m\u001b[0m\u001b[0;34m\u001b[0m\u001b[0m\n\u001b[0;32m-> 1056\u001b[0;31m                 \u001b[0mself\u001b[0m\u001b[0;34m.\u001b[0m\u001b[0mretrieve\u001b[0m\u001b[0;34m(\u001b[0m\u001b[0;34m)\u001b[0m\u001b[0;34m\u001b[0m\u001b[0;34m\u001b[0m\u001b[0m\n\u001b[0m\u001b[1;32m   1057\u001b[0m             \u001b[0;31m# Make sure that we get a last message telling us we are done\u001b[0m\u001b[0;34m\u001b[0m\u001b[0;34m\u001b[0m\u001b[0m\n\u001b[1;32m   1058\u001b[0m             \u001b[0melapsed_time\u001b[0m \u001b[0;34m=\u001b[0m \u001b[0mtime\u001b[0m\u001b[0;34m.\u001b[0m\u001b[0mtime\u001b[0m\u001b[0;34m(\u001b[0m\u001b[0;34m)\u001b[0m \u001b[0;34m-\u001b[0m \u001b[0mself\u001b[0m\u001b[0;34m.\u001b[0m\u001b[0m_start_time\u001b[0m\u001b[0;34m\u001b[0m\u001b[0;34m\u001b[0m\u001b[0m\n",
      "\u001b[0;32m/shared-libs/python3.9/py/lib/python3.9/site-packages/joblib/parallel.py\u001b[0m in \u001b[0;36mretrieve\u001b[0;34m(self)\u001b[0m\n\u001b[1;32m    933\u001b[0m             \u001b[0;32mtry\u001b[0m\u001b[0;34m:\u001b[0m\u001b[0;34m\u001b[0m\u001b[0;34m\u001b[0m\u001b[0m\n\u001b[1;32m    934\u001b[0m                 \u001b[0;32mif\u001b[0m \u001b[0mgetattr\u001b[0m\u001b[0;34m(\u001b[0m\u001b[0mself\u001b[0m\u001b[0;34m.\u001b[0m\u001b[0m_backend\u001b[0m\u001b[0;34m,\u001b[0m \u001b[0;34m'supports_timeout'\u001b[0m\u001b[0;34m,\u001b[0m \u001b[0;32mFalse\u001b[0m\u001b[0;34m)\u001b[0m\u001b[0;34m:\u001b[0m\u001b[0;34m\u001b[0m\u001b[0;34m\u001b[0m\u001b[0m\n\u001b[0;32m--> 935\u001b[0;31m                     \u001b[0mself\u001b[0m\u001b[0;34m.\u001b[0m\u001b[0m_output\u001b[0m\u001b[0;34m.\u001b[0m\u001b[0mextend\u001b[0m\u001b[0;34m(\u001b[0m\u001b[0mjob\u001b[0m\u001b[0;34m.\u001b[0m\u001b[0mget\u001b[0m\u001b[0;34m(\u001b[0m\u001b[0mtimeout\u001b[0m\u001b[0;34m=\u001b[0m\u001b[0mself\u001b[0m\u001b[0;34m.\u001b[0m\u001b[0mtimeout\u001b[0m\u001b[0;34m)\u001b[0m\u001b[0;34m)\u001b[0m\u001b[0;34m\u001b[0m\u001b[0;34m\u001b[0m\u001b[0m\n\u001b[0m\u001b[1;32m    936\u001b[0m                 \u001b[0;32melse\u001b[0m\u001b[0;34m:\u001b[0m\u001b[0;34m\u001b[0m\u001b[0;34m\u001b[0m\u001b[0m\n\u001b[1;32m    937\u001b[0m                     \u001b[0mself\u001b[0m\u001b[0;34m.\u001b[0m\u001b[0m_output\u001b[0m\u001b[0;34m.\u001b[0m\u001b[0mextend\u001b[0m\u001b[0;34m(\u001b[0m\u001b[0mjob\u001b[0m\u001b[0;34m.\u001b[0m\u001b[0mget\u001b[0m\u001b[0;34m(\u001b[0m\u001b[0;34m)\u001b[0m\u001b[0;34m)\u001b[0m\u001b[0;34m\u001b[0m\u001b[0;34m\u001b[0m\u001b[0m\n",
      "\u001b[0;32m/shared-libs/python3.9/py/lib/python3.9/site-packages/joblib/_parallel_backends.py\u001b[0m in \u001b[0;36mwrap_future_result\u001b[0;34m(future, timeout)\u001b[0m\n\u001b[1;32m    540\u001b[0m         AsyncResults.get from multiprocessing.\"\"\"\n\u001b[1;32m    541\u001b[0m         \u001b[0;32mtry\u001b[0m\u001b[0;34m:\u001b[0m\u001b[0;34m\u001b[0m\u001b[0;34m\u001b[0m\u001b[0m\n\u001b[0;32m--> 542\u001b[0;31m             \u001b[0;32mreturn\u001b[0m \u001b[0mfuture\u001b[0m\u001b[0;34m.\u001b[0m\u001b[0mresult\u001b[0m\u001b[0;34m(\u001b[0m\u001b[0mtimeout\u001b[0m\u001b[0;34m=\u001b[0m\u001b[0mtimeout\u001b[0m\u001b[0;34m)\u001b[0m\u001b[0;34m\u001b[0m\u001b[0;34m\u001b[0m\u001b[0m\n\u001b[0m\u001b[1;32m    543\u001b[0m         \u001b[0;32mexcept\u001b[0m \u001b[0mCfTimeoutError\u001b[0m \u001b[0;32mas\u001b[0m \u001b[0me\u001b[0m\u001b[0;34m:\u001b[0m\u001b[0;34m\u001b[0m\u001b[0;34m\u001b[0m\u001b[0m\n\u001b[1;32m    544\u001b[0m             \u001b[0;32mraise\u001b[0m \u001b[0mTimeoutError\u001b[0m \u001b[0;32mfrom\u001b[0m \u001b[0me\u001b[0m\u001b[0;34m\u001b[0m\u001b[0;34m\u001b[0m\u001b[0m\n",
      "\u001b[0;32m/usr/local/lib/python3.9/concurrent/futures/_base.py\u001b[0m in \u001b[0;36mresult\u001b[0;34m(self, timeout)\u001b[0m\n\u001b[1;32m    438\u001b[0m                     \u001b[0;32mreturn\u001b[0m \u001b[0mself\u001b[0m\u001b[0;34m.\u001b[0m\u001b[0m__get_result\u001b[0m\u001b[0;34m(\u001b[0m\u001b[0;34m)\u001b[0m\u001b[0;34m\u001b[0m\u001b[0;34m\u001b[0m\u001b[0m\n\u001b[1;32m    439\u001b[0m \u001b[0;34m\u001b[0m\u001b[0m\n\u001b[0;32m--> 440\u001b[0;31m                 \u001b[0mself\u001b[0m\u001b[0;34m.\u001b[0m\u001b[0m_condition\u001b[0m\u001b[0;34m.\u001b[0m\u001b[0mwait\u001b[0m\u001b[0;34m(\u001b[0m\u001b[0mtimeout\u001b[0m\u001b[0;34m)\u001b[0m\u001b[0;34m\u001b[0m\u001b[0;34m\u001b[0m\u001b[0m\n\u001b[0m\u001b[1;32m    441\u001b[0m \u001b[0;34m\u001b[0m\u001b[0m\n\u001b[1;32m    442\u001b[0m                 \u001b[0;32mif\u001b[0m \u001b[0mself\u001b[0m\u001b[0;34m.\u001b[0m\u001b[0m_state\u001b[0m \u001b[0;32min\u001b[0m \u001b[0;34m[\u001b[0m\u001b[0mCANCELLED\u001b[0m\u001b[0;34m,\u001b[0m \u001b[0mCANCELLED_AND_NOTIFIED\u001b[0m\u001b[0;34m]\u001b[0m\u001b[0;34m:\u001b[0m\u001b[0;34m\u001b[0m\u001b[0;34m\u001b[0m\u001b[0m\n",
      "\u001b[0;32m/usr/local/lib/python3.9/threading.py\u001b[0m in \u001b[0;36mwait\u001b[0;34m(self, timeout)\u001b[0m\n\u001b[1;32m    310\u001b[0m         \u001b[0;32mtry\u001b[0m\u001b[0;34m:\u001b[0m    \u001b[0;31m# restore state no matter what (e.g., KeyboardInterrupt)\u001b[0m\u001b[0;34m\u001b[0m\u001b[0;34m\u001b[0m\u001b[0m\n\u001b[1;32m    311\u001b[0m             \u001b[0;32mif\u001b[0m \u001b[0mtimeout\u001b[0m \u001b[0;32mis\u001b[0m \u001b[0;32mNone\u001b[0m\u001b[0;34m:\u001b[0m\u001b[0;34m\u001b[0m\u001b[0;34m\u001b[0m\u001b[0m\n\u001b[0;32m--> 312\u001b[0;31m                 \u001b[0mwaiter\u001b[0m\u001b[0;34m.\u001b[0m\u001b[0macquire\u001b[0m\u001b[0;34m(\u001b[0m\u001b[0;34m)\u001b[0m\u001b[0;34m\u001b[0m\u001b[0;34m\u001b[0m\u001b[0m\n\u001b[0m\u001b[1;32m    313\u001b[0m                 \u001b[0mgotit\u001b[0m \u001b[0;34m=\u001b[0m \u001b[0;32mTrue\u001b[0m\u001b[0;34m\u001b[0m\u001b[0;34m\u001b[0m\u001b[0m\n\u001b[1;32m    314\u001b[0m             \u001b[0;32melse\u001b[0m\u001b[0;34m:\u001b[0m\u001b[0;34m\u001b[0m\u001b[0;34m\u001b[0m\u001b[0m\n",
      "\u001b[0;31mKeyboardInterrupt\u001b[0m: "
     ],
     "data": {}
    }
   ]
  },
  {
   "cell_type": "code",
   "metadata": {
    "id": "EU0l9WhNSKmz",
    "outputId": "1936e027-d3fa-4b3f-e699-023314ee6f7e",
    "executionInfo": {
     "status": "ok",
     "timestamp": 1639446841186,
     "user_tz": -420,
     "elapsed": 1778,
     "user": {
      "displayName": "Mirza Fahmi",
      "photoUrl": "https://lh3.googleusercontent.com/a-/AOh14GidPk3kCP-3ijYjR74xVdQsKTsalA-fJ_F3NgpnMw=s64",
      "userId": "15453880888796853366"
     }
    },
    "colab": {
     "base_uri": "https://localhost:8080/"
    },
    "cell_id": "00011-cd7bd482-98a9-4332-83f2-86ddb7409b07",
    "deepnote_to_be_reexecuted": false,
    "source_hash": "6dec1b0d",
    "execution_start": 1639537633978,
    "execution_millis": 348935,
    "deepnote_cell_type": "code"
   },
   "source": "# evaluate xgboost algorithm for classification\nfrom numpy import mean\nfrom numpy import std\nfrom sklearn.datasets import make_classification\nfrom sklearn.model_selection import cross_val_score\nfrom sklearn.model_selection import RepeatedStratifiedKFold\nfrom xgboost import XGBClassifier\n\n# define dataset\nX, y = make_classification(n_samples=1000, n_features=20, n_informative=15, n_redundant=5, random_state=7)\n\n# define the model\nmodel = XGBClassifier()\n\n# evaluate the model\ncv = RepeatedStratifiedKFold(n_splits=10, n_repeats=3, random_state=1)\nn_scores = cross_val_score(model, X, y, scoring='accuracy', cv=cv, n_jobs=-1)\n\n# report performance\nprint('Accuracy: %.3f (%.3f)' % (mean(n_scores), std(n_scores)))",
   "execution_count": null,
   "outputs": [
    {
     "name": "stdout",
     "text": "Accuracy: 0.925 (0.028)\n",
     "output_type": "stream",
     "data": {}
    }
   ]
  },
  {
   "cell_type": "code",
   "metadata": {
    "id": "QVhkQnRc73cF",
    "outputId": "4ea84b13-dfae-4fdc-9094-919ef18417ff",
    "executionInfo": {
     "status": "ok",
     "timestamp": 1639444738913,
     "user_tz": -420,
     "elapsed": 434,
     "user": {
      "displayName": "Mirza Fahmi",
      "photoUrl": "https://lh3.googleusercontent.com/a-/AOh14GidPk3kCP-3ijYjR74xVdQsKTsalA-fJ_F3NgpnMw=s64",
      "userId": "15453880888796853366"
     }
    },
    "colab": {
     "base_uri": "https://localhost:8080/",
     "height": 439
    },
    "cell_id": "00002-4517103f-ec71-4fd5-8e98-ab8b7a71bf38",
    "deepnote_output_heights": [
     null,
     250
    ],
    "deepnote_to_be_reexecuted": false,
    "source_hash": "63497522",
    "execution_start": 1639576895095,
    "execution_millis": 1965,
    "deepnote_cell_type": "code"
   },
   "source": "# linear regression feature importance\nfrom sklearn.datasets import make_regression\nfrom sklearn.linear_model import LinearRegression\nfrom matplotlib import pyplot\n\n# define dataset\nX, y = make_regression(n_samples=1000, n_features=10, n_informative=5, random_state=1)\n\n# define the model\nmodel = LinearRegression()\n\n# fit the model\nmodel.fit(X, y)\n\n# get importance\nimportance = model.coef_\n\n# summarize feature importance\nfor i,v in enumerate(importance):\n\tprint('Feature: %0d, Score: %.5f' % (i,v))\n\n# plot feature importance\npyplot.bar([x for x in range(len(importance))], importance)\npyplot.show()",
   "execution_count": null,
   "outputs": [
    {
     "name": "stdout",
     "text": "Feature: 0, Score: -0.00000\nFeature: 1, Score: 12.44483\nFeature: 2, Score: 0.00000\nFeature: 3, Score: -0.00000\nFeature: 4, Score: 93.32225\nFeature: 5, Score: 86.50811\nFeature: 6, Score: 26.74607\nFeature: 7, Score: 3.28535\nFeature: 8, Score: 0.00000\nFeature: 9, Score: 0.00000\n",
     "output_type": "stream",
     "data": {}
    },
    {
     "data": {
      "text/plain": "<Figure size 432x288 with 1 Axes>",
      "image/png": "[encoded data removed]"
     },
     "metadata": {
      "needs_background": "light",
      "image/png": {
       "width": 368,
       "height": 248
      }
     },
     "output_type": "display_data"
    }
   ]
  },
  {
   "cell_type": "code",
   "metadata": {
    "id": "ZVHkqOwSaRYt",
    "colab": {
     "base_uri": "https://localhost:8080/",
     "height": 439
    },
    "executionInfo": {
     "status": "ok",
     "timestamp": 1639444709708,
     "user_tz": -420,
     "elapsed": 1238,
     "user": {
      "displayName": "Mirza Fahmi",
      "photoUrl": "https://lh3.googleusercontent.com/a-/AOh14GidPk3kCP-3ijYjR74xVdQsKTsalA-fJ_F3NgpnMw=s64",
      "userId": "15453880888796853366"
     }
    },
    "outputId": "4c113d5b-4715-4fb2-bbfa-c6430f26f677",
    "cell_id": "00001-e8b020f8-7e02-4db6-8163-33ad209e0a02",
    "deepnote_output_heights": [
     null,
     250
    ],
    "deepnote_to_be_reexecuted": false,
    "source_hash": "b55b2bf1",
    "execution_start": 1639577174858,
    "execution_millis": 190,
    "deepnote_cell_type": "code"
   },
   "source": "# decision tree for feature importance on a classification problem\nfrom sklearn.datasets import make_classification\nfrom sklearn.tree import DecisionTreeClassifier\nfrom matplotlib import pyplot\n\n# define dataset\nX, y = make_classification(n_samples=1000, n_features=10, n_informative=5, n_redundant=5, random_state=1)\n\n# define the model\nmodel = DecisionTreeClassifier()\n\n# fit the model\nmodel.fit(X, y)\n\n# get importance\nimportance = model.feature_importances_\n\n# summarize feature importance\nfor i,v in enumerate(importance):\n\tprint('Feature: %0d, Score: %.5f' % (i,v))\n\n# plot feature importance\npyplot.bar([x for x in range(len(importance))], importance)\npyplot.show()",
   "execution_count": null,
   "outputs": [
    {
     "name": "stdout",
     "text": "Feature: 0, Score: 0.01790\nFeature: 1, Score: 0.01284\nFeature: 2, Score: 0.18531\nFeature: 3, Score: 0.30200\nFeature: 4, Score: 0.09027\nFeature: 5, Score: 0.00600\nFeature: 6, Score: 0.16629\nFeature: 7, Score: 0.03329\nFeature: 8, Score: 0.13140\nFeature: 9, Score: 0.05471\n",
     "output_type": "stream",
     "data": {}
    },
    {
     "data": {
      "text/plain": "<Figure size 432x288 with 1 Axes>",
      "image/png": "[encoded data removed]"
     },
     "metadata": {
      "needs_background": "light",
      "image/png": {
       "width": 378,
       "height": 248
      }
     },
     "output_type": "display_data"
    }
   ]
  },
  {
   "cell_type": "code",
   "metadata": {
    "id": "PLsuaKjYaMzO",
    "outputId": "e3b3ac66-9d88-4e6e-a590-d1e966041763",
    "executionInfo": {
     "status": "ok",
     "timestamp": 1639444043817,
     "user_tz": -420,
     "elapsed": 1110,
     "user": {
      "displayName": "Mirza Fahmi",
      "photoUrl": "https://lh3.googleusercontent.com/a-/AOh14GidPk3kCP-3ijYjR74xVdQsKTsalA-fJ_F3NgpnMw=s64",
      "userId": "15453880888796853366"
     }
    },
    "colab": {
     "base_uri": "https://localhost:8080/",
     "height": 439
    },
    "cell_id": "00000-f61c3754-5d32-460d-8c81-f04e46c6a012",
    "deepnote_output_heights": [
     null,
     250
    ],
    "deepnote_to_be_reexecuted": false,
    "source_hash": "b17ccd1e",
    "execution_start": 1639577201082,
    "execution_millis": 11017,
    "deepnote_cell_type": "code"
   },
   "source": "# xgboost for feature importance on a classification problem\nfrom sklearn.datasets import make_classification\nfrom xgboost import XGBClassifier\nfrom matplotlib import pyplot\n\n# define dataset\nX, y = make_classification(n_samples=1000, \n                           n_features=10, \n                           n_informative=5, \n                           n_redundant=5, \n                           random_state=1)\n\n# define the model\nmodel = XGBClassifier()\n\n# fit the model\nmodel.fit(X, y)\n\n# get importance\nimportance = model.feature_importances_\n\n# summarize feature importance\nfor i,v in enumerate(importance):\n\tprint('Feature: %0d, Score: %.5f' % (i,v))\n\n# plot feature importance\npyplot.bar([x for x in range(len(importance))], importance)\npyplot.show()",
   "execution_count": null,
   "outputs": [
    {
     "name": "stderr",
     "text": "/root/venv/lib/python3.9/site-packages/xgboost/sklearn.py:1224: UserWarning: The use of label encoder in XGBClassifier is deprecated and will be removed in a future release. To remove this warning, do the following: 1) Pass option use_label_encoder=False when constructing XGBClassifier object; and 2) Encode your labels (y) as integers starting with 0, i.e. 0, 1, 2, ..., [num_class - 1].\n  warnings.warn(label_encoder_deprecation_msg, UserWarning)\n[14:06:41] WARNING: ../src/learner.cc:1115: Starting in XGBoost 1.3.0, the default evaluation metric used with the objective 'binary:logistic' was changed from 'error' to 'logloss'. Explicitly set eval_metric if you'd like to restore the old behavior.\nFeature: 0, Score: 0.03723\nFeature: 1, Score: 0.07725\nFeature: 2, Score: 0.12537\nFeature: 3, Score: 0.29666\nFeature: 4, Score: 0.10099\nFeature: 5, Score: 0.05706\nFeature: 6, Score: 0.13027\nFeature: 7, Score: 0.03537\nFeature: 8, Score: 0.11694\nFeature: 9, Score: 0.02285\n",
     "output_type": "stream",
     "data": {}
    },
    {
     "data": {
      "text/plain": "<Figure size 432x288 with 1 Axes>",
      "image/png": "[encoded data removed]"
     },
     "metadata": {
      "needs_background": "light",
      "image/png": {
       "width": 378,
       "height": 248
      }
     },
     "output_type": "display_data"
    }
   ]
  },
  {
   "cell_type": "code",
   "metadata": {
    "tags": [],
    "cell_id": "00025-eda8c3de-7634-4681-94f6-f7db4632c6a7",
    "deepnote_cell_type": "code"
   },
   "source": "",
   "execution_count": null,
   "outputs": []
  },
  {
   "cell_type": "markdown",
   "source": "<a style='text-decoration:none;line-height:16px;display:flex;color:#5B5B62;padding:10px;justify-content:end;' href='https://deepnote.com?utm_source=created-in-deepnote-cell&projectId=2baaccf3-eaaf-4dc5-a71d-9a39711e7c9d' target=\"_blank\">\n<img alt='Created in deepnote.com' style='display:inline;max-height:16px;margin:0px;margin-right:7.5px;' src='data:image/svg+xml;base64,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' > </img>\nCreated in <span style='font-weight:600;margin-left:4px;'>Deepnote</span></a>",
   "metadata": {
    "tags": [],
    "created_in_deepnote_cell": true,
    "deepnote_cell_type": "markdown"
   }
  }
 ],
 "nbformat": 4,
 "nbformat_minor": 0,
 "metadata": {
  "colab": {
   "name": "Ensemble_Methods.ipynb",
   "provenance": [],
   "machine_shape": "hm",
   "authorship_tag": "ABX9TyOZeGyXOFvlrkz8Wj4b0Ii0"
  },
  "kernelspec": {
   "name": "python3",
   "display_name": "Python 3"
  },
  "deepnote_notebook_id": "c7fa08be-3ddf-42e8-8332-7f84ba1318fe",
  "deepnote": {},
  "deepnote_execution_queue": []
 }
}