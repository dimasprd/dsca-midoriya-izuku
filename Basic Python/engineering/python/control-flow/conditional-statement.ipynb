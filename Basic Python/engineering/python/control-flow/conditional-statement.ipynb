{
 "cells": [
  {
   "cell_type": "markdown",
   "source": "# Pernyataan Kondisional\n\nSampai saat ini, saat kita menjalankan sebuah cell kode, interpreter akan mengeksekusi dari baris pertama sampai dengan baris terakhir pada cell tersebut. Lalu, bagaimana jika kita ingin menambahkan fungisonalitas untuk **mengeksekusi baris tertentu jika suatu kondisi terpenuhi**? Tentu saja, kita bisa melakukannya dengan membuat sebuah **pernyataan kondisional** (conditional statements).",
   "metadata": {
    "slideshow": {
     "slide_type": "slide"
    },
    "tags": [],
    "cell_id": "00000-8944160e-6cd8-4b62-8b7f-0c4b551dd528",
    "deepnote_cell_type": "markdown"
   }
  },
  {
   "cell_type": "markdown",
   "source": "## Pernyataan Kondisioal dengan `if` (dan `else`)\n\n> **Contoh Kasus**\nSebagai contoh kasus, misalkan kita ingin memutuskan apa yang harus kita beli di sebuah toko buku. Setelah dicari tahu, ternyata kita punya pilihan:\n> 1. Komik seharga Rp 20.000,-\n> 2. Pulang dari toko buku karena uang tidak cukup\n>\n> Jika kita punya uang sebesar Rp 10.000,- dan ingin membeli satu produk apa saja yang paling mahal yang bisa dibeli, tentu saja kita **tidak bisa** membeli komik yang kita mau dan akhirnya pulang. Jika kita ternyata punya Rp 99.000, maka kita bisa membeli komik yang kita mau.\n\nDari contoh kasus di atas, kita bisa membuat kode yang membantu kita untuk memilih dengan pernyataan `if`. Dengan `if`, kita harus menyediakan sebuah **kondisi** yang akan dicek terlebih dahulu oleh Python. Jika **kondisi benar**, maka semua blok kode di dalamnya, akan dieksekusi. Jika tidak, maka lanjutkan ke luar blok kode tersebut.\n\n```python\nif money >= 20000:\n    print(\"buy comic\")\n```",
   "metadata": {
    "slideshow": {
     "slide_type": "slide"
    },
    "tags": [],
    "cell_id": "00001-9f35ea3f-ec36-4883-b799-5f8ea20382d1",
    "deepnote_cell_type": "markdown"
   }
  },
  {
   "cell_type": "markdown",
   "source": "Penulisan pernyataan `if` dimulai dengan kata kunci `if`, dilanjutkan dengan pernyataan **kondisi** yang harus menghasilkan nilai `bool` (`True` atau `False`). Blok kode akan dieksekusi jika dan hanya jika nilai boolean dari kondisi tersebut adalah `True`. Sehingga, pernyataan `print(\"buy comic\")` akan dieksekusi jika dan hanya terdapat variabel `money` dengan nilai `>= 20000`.",
   "metadata": {
    "slideshow": {
     "slide_type": "subslide"
    },
    "tags": [],
    "cell_id": "00002-e3297859-2121-4d19-999f-601852e270f9",
    "deepnote_cell_type": "markdown"
   }
  },
  {
   "cell_type": "code",
   "metadata": {
    "cell_id": "00003-e46efc7b-c2de-4486-bbac-5a2f59e5c2c8",
    "deepnote_to_be_reexecuted": false,
    "source_hash": "68e2523",
    "execution_start": 1633091115386,
    "execution_millis": 2,
    "deepnote_cell_type": "code"
   },
   "source": "money = 50000\n\nif money >= 20000:\n    # akan dieksekusi\n    print(\"let's buy a comic\")",
   "execution_count": null,
   "outputs": [
    {
     "name": "stdout",
     "text": "let's buy a comic\n",
     "output_type": "stream"
    }
   ]
  },
  {
   "cell_type": "code",
   "metadata": {
    "cell_id": "00004-8627959a-abfd-4fb3-9c6d-2550e0463544",
    "deepnote_to_be_reexecuted": false,
    "source_hash": "c67864dd",
    "execution_start": 1633091115398,
    "execution_millis": 2,
    "deepnote_cell_type": "code"
   },
   "source": "money = 10000\n\nif money >= 20000:\n    # tidak akan dieksekusi\n    print(\"let's buy a comic\")",
   "execution_count": null,
   "outputs": []
  },
  {
   "cell_type": "code",
   "metadata": {
    "tags": [],
    "cell_id": "00005-cb21b815-1511-47c5-b370-c6d494da6f97",
    "deepnote_to_be_reexecuted": false,
    "source_hash": "1d14d7ea",
    "execution_start": 1634906101457,
    "execution_millis": 77,
    "deepnote_cell_type": "code"
   },
   "source": "sample = \"not empty\"\n\nif sample:\n    print(\"executed\")\nprint(\"Done\")",
   "execution_count": null,
   "outputs": [
    {
     "name": "stdout",
     "text": "executed\nDone\n",
     "output_type": "stream"
    }
   ]
  },
  {
   "cell_type": "code",
   "metadata": {
    "tags": [],
    "cell_id": "00006-bc45d6aa-ea26-4ee5-a3fe-53ccb933c0c1",
    "deepnote_to_be_reexecuted": false,
    "source_hash": "b4410801",
    "execution_start": 1634906128263,
    "execution_millis": 1,
    "deepnote_cell_type": "code"
   },
   "source": "sample = \"\"\n\nif sample:\n    print(\"executed\")\nprint(\"Done\")",
   "execution_count": null,
   "outputs": [
    {
     "name": "stdout",
     "text": "Done\n",
     "output_type": "stream"
    }
   ]
  },
  {
   "cell_type": "markdown",
   "source": "Pada cell kode pertama, blok kode `if` akan dieksekusi karena `money >= 20000` menghasilkan nilai `True`. Sedangkan, cell kode kedua tidak karena kondisinya tidak terpenuhi.",
   "metadata": {
    "cell_id": "00005-4ea8b0b4-3109-4b76-aa04-268b96f06369",
    "deepnote_cell_type": "markdown"
   }
  },
  {
   "cell_type": "markdown",
   "source": "Selain `if`, ada juga kata kunci `else` yang **tidak** perlu disediakan kondisi dan blok kode di dalamnya akan dieksekusi ketika blok `if` \"di atasnya\" tidak terpenuhi. Sebagai contoh, perhatikan cell kode di bawah ini.\n\n> Penulisan `else` juga diakhiri dengan tanda `:` dan tanpa ada kondisi.\n> ```python\nif True:\n    # some statements\nelse:\n    # other statements\n```",
   "metadata": {
    "slideshow": {
     "slide_type": "subslide"
    },
    "tags": [],
    "cell_id": "00006-d6d21ac2-59d3-4b79-8a32-9f790e00d293",
    "deepnote_cell_type": "markdown"
   }
  },
  {
   "cell_type": "code",
   "metadata": {
    "slideshow": {
     "slide_type": "subslide"
    },
    "tags": [],
    "cell_id": "00007-aaaa51ad-0308-4ba6-86f6-cad77131b94e",
    "deepnote_to_be_reexecuted": false,
    "source_hash": "f97f9be8",
    "execution_start": 1633091115407,
    "execution_millis": 35,
    "deepnote_cell_type": "code"
   },
   "source": "money = 10000\n\nif money >= 20000:\n    # tidak akan dieksekusi\n    print(\"let's buy a comic\")\nelse:\n    print(\"let's go home and collect more money!\")",
   "execution_count": null,
   "outputs": [
    {
     "name": "stdout",
     "text": "let's go home and collect more money!\n",
     "output_type": "stream"
    }
   ]
  },
  {
   "cell_type": "code",
   "metadata": {
    "tags": [],
    "cell_id": "00010-45a92f16-54a0-43f3-870a-1aaf853bf280",
    "deepnote_to_be_reexecuted": false,
    "source_hash": "feb80254",
    "execution_start": 1634906369046,
    "execution_millis": 1,
    "deepnote_output_heights": [
     21.1875
    ],
    "deepnote_cell_type": "code"
   },
   "source": "money >= 20000",
   "execution_count": null,
   "outputs": [
    {
     "output_type": "execute_result",
     "execution_count": 4,
     "data": {
      "text/plain": "True"
     },
     "metadata": {}
    }
   ]
  },
  {
   "cell_type": "code",
   "metadata": {
    "tags": [],
    "cell_id": "00010-db634082-f41b-4b3c-94a0-3e8d175b4557",
    "deepnote_to_be_reexecuted": false,
    "source_hash": "3ceef41a",
    "execution_start": 1634906215426,
    "execution_millis": 2,
    "deepnote_cell_type": "code"
   },
   "source": "money = 1000000\n\nif money >= 20000:\n    # tidak akan dieksekusi\n    print(\"let's buy a comic\")\nelse:\n    print(\"let's go home and collect more money!\")",
   "execution_count": null,
   "outputs": [
    {
     "name": "stdout",
     "text": "let's buy a comic\n",
     "output_type": "stream"
    }
   ]
  },
  {
   "cell_type": "markdown",
   "source": "> Ekspresi `money >= 20000` bisa juga ditugaskan ke dalam sebuah variabel, misal `is_enough_money`, yang juga otomatis bernilai boolean.",
   "metadata": {
    "cell_id": "00008-794c21a6-2b03-460c-bc50-cd1c3a1c8439",
    "deepnote_cell_type": "markdown"
   }
  },
  {
   "cell_type": "markdown",
   "source": "## Kondisonal Berlipat dengan `elif`\n\n> Sebagai contoh kasus, misalkan kita ingin memutuskan apa yang harus kita beli di sebuah toko buku. Setelah dicari tahu, ternyata kita punya pilihan:\n> 1. Komik seharga Rp 20.000,-\n> 2. Novel seharga Rp 75.000,-\n> 3. Majalah seharga Rp 100.000,-\n>\n> Jika kita punya uang sebesar Rp 50.000,- dan ingin membeli satu produk apa saja yang paling mahal yang bisa dibeli, tentu saja kita **tidak bisa** membeli novel ataupun majalah. Jika kita ternyata punya Rp 99.000, maka kita bisa membeli novel yang kita mau.\n\nJika dihadapkan dengan beberapa kondisi dengan beberapa keputusan seperti contoh kasus di atas, salah satu yang bisa kita lakukan adalah seperti pada cell di bawah ini.",
   "metadata": {
    "slideshow": {
     "slide_type": "slide"
    },
    "tags": [],
    "cell_id": "00009-7822ab8b-84be-4944-bfb8-7e5bfe06d3ff",
    "deepnote_cell_type": "markdown"
   }
  },
  {
   "cell_type": "code",
   "metadata": {
    "slideshow": {
     "slide_type": "subslide"
    },
    "tags": [],
    "cell_id": "00010-25a89134-4f38-493a-b789-53e983899437",
    "deepnote_to_be_reexecuted": false,
    "source_hash": "5307eb6",
    "execution_start": 1633091115413,
    "execution_millis": 32,
    "deepnote_cell_type": "code"
   },
   "source": "money = 5000\n\nif (money >= 20000) and (money < 75000):\n    print(\"let's buy a comic\")\nelse:\n    if (money >= 75000) and (money < 100000):\n        print(\"let's buy a brand new novel\")\n    else:\n        if money >= 100000:\n            print(\"Yup! let's buy the expensive magazine\")\n        else:\n            print(\"let's go home and collect more money\")",
   "execution_count": null,
   "outputs": [
    {
     "name": "stdout",
     "text": "let's go home and collect more money\n",
     "output_type": "stream"
    }
   ]
  },
  {
   "cell_type": "markdown",
   "source": "**Sangat merepotkan bukan?**\n\nKhusus untuk kasus tersebut di atas, kita bisa gunakan pernyataan `elif`. Umumnya, penulisan pernyataan `if`, `elif` dan `else` adalah sebagai berikut.\n\n```python\nif a_condition:\n    # some statements\nelif another_condition:\n    # another statements\nelif and_another_condition:\n    # just wait\n...\nelif the_last_condition:\n    # let's end this\nelse:\n    # the end\n```\n\nPada prinsipnya, kita bisa menambahkan berapapun banyaknya pernyataan `if`, `elif`, dan `else`, tergantung kondisi dan kasus yang akan kita kerjakan.",
   "metadata": {
    "slideshow": {
     "slide_type": "subslide"
    },
    "tags": [],
    "cell_id": "00011-858be1e0-f9d9-4dc2-8fb7-e1b14b37cf17",
    "deepnote_cell_type": "markdown"
   }
  },
  {
   "cell_type": "code",
   "metadata": {
    "slideshow": {
     "slide_type": "subslide"
    },
    "tags": [],
    "cell_id": "00012-ce515c57-8622-4a3f-b1cf-f16b8f6e8755",
    "deepnote_to_be_reexecuted": false,
    "source_hash": "33156dae",
    "execution_start": 1634906554127,
    "execution_millis": 8,
    "deepnote_cell_type": "code"
   },
   "source": "money = 80000\n\nif (money >= 20000) and (money < 75000):\n    print(\"let's buy a comic\")\nelif (money >= 75000) and (money < 100000):\n    print(\"money =\", money)\n    print(\"let's buy a brand new novel\")\nelif money >= 100000:\n    print(\"Yup! let's buy the expensive magazine\")\nelse:\n    print(\"let's go home and collect more money\")",
   "execution_count": null,
   "outputs": [
    {
     "name": "stdout",
     "text": "money = 80000\nlet's buy a brand new novel\n",
     "output_type": "stream"
    }
   ]
  },
  {
   "cell_type": "markdown",
   "source": "**Kuis:**\n1. Dengan menggunakan pernyataan kondisional, coba implementasikan beberapa kemungkinan untuk memenangkan doorprize seperti pada tabel di bawah.\n    | points | prize |\n    | ----- | ------|\n    | 1 - 50 | wooden rabbit |\n    | 51 - 150 | no prize |\n    | 151 - 180 | wafer-thin mint |\n    | 181 - 200 | penguin |\n\n2. Misalkan kita ingin mengecek apakah suatu `list` memiliki elemen atau tidak. Jika tidak ada, maka tampilkan `\"Sayang sekali, tidak ada elemen di sini\"`. Jika ada, tampilkan `\"Untung ada elemennya!\"`.",
   "metadata": {
    "slideshow": {
     "slide_type": "slide"
    },
    "tags": [],
    "cell_id": "00013-d79f7287-52a8-493c-bef1-1aeecb7ff2b4",
    "deepnote_cell_type": "markdown"
   }
  },
  {
   "cell_type": "code",
   "metadata": {
    "tags": [],
    "cell_id": "00018-37fd81d6-6614-40e8-964c-15b86915a802",
    "deepnote_to_be_reexecuted": false,
    "source_hash": "f9b2fe88",
    "execution_start": 1634907414869,
    "execution_millis": 5,
    "deepnote_cell_type": "code"
   },
   "source": "point = -10\n\nif (point >= 1) and (point <= 50):\n    print(\"wooden rabbit\")\nelif (point >= 51) and (point <= 150):\n    print(\"no prize\")\nelif (point >= 151) and (point <= 180):\n    print(\"wafer-thin mint\")\nelif (point >= 181) and (point <= 200):\n    print(\"penguin\")\n# else: \n#     print(\"\")",
   "execution_count": null,
   "outputs": []
  },
  {
   "cell_type": "code",
   "metadata": {
    "tags": [],
    "cell_id": "00014-9fa8de26-b2ab-4a46-b0c8-e21126475bbc",
    "deepnote_to_be_reexecuted": false,
    "source_hash": "c3523ec0",
    "execution_start": 1633091354226,
    "execution_millis": 14,
    "deepnote_cell_type": "code"
   },
   "source": "name_1 = \"Machine Learning\"\nname_2 = \"Python\"\nlearn = \"learn {} and {}\".format(name_2, name_1)\nprint(learn)",
   "execution_count": null,
   "outputs": [
    {
     "name": "stdout",
     "text": "learn Python and Machine Learning\n",
     "output_type": "stream"
    }
   ]
  },
  {
   "cell_type": "code",
   "metadata": {
    "cell_id": "00014-e6830ec3-cc7b-4c65-a53f-cf986f7a5f95",
    "deepnote_to_be_reexecuted": false,
    "source_hash": "2c04680a",
    "execution_start": 1633091532488,
    "execution_millis": 121,
    "deepnote_cell_type": "code"
   },
   "source": "# KETIK DI SINI (1)\n\n# KETIK DI SINI (2)\nnumbers = [0, 1, 2, 3, 9]\nnumber = 10\n\nprint(\"Numbers:\", numbers)\n\n# operator `in`\nprint(\"Checking membership of {}...\".format(number))\nif number in numbers:\n    print(\"Untung ada elemennya! di indeks:\", numbers.index(number))\nelse:\n    print(\n        \"Sayang sekali, {} tidak ditemukan. Tambahkan {} ke dalam list tersebut!\".format(\n            number, number\n        )\n    )\n    numbers.append(number)\n\nprint(\"New numbers:\", numbers)",
   "execution_count": null,
   "outputs": [
    {
     "name": "stdout",
     "text": "Numbers: [0, 1, 2, 3, 9]\nChecking membership of 10...\nSayang sekali, 10 tidak ditemukan. Tambahkan 10 ke dalam list tersebut!\nNew numbers: [0, 1, 2, 3, 9, 10]\n",
     "output_type": "stream"
    }
   ]
  },
  {
   "cell_type": "code",
   "metadata": {
    "tags": [],
    "cell_id": "00016-8910e25e-06dd-4e4a-8abf-3c47d9d8c8c4",
    "deepnote_to_be_reexecuted": false,
    "source_hash": "ddc80b15",
    "execution_start": 1633093110989,
    "execution_millis": 7,
    "deepnote_cell_type": "code"
   },
   "source": "ids = \"DSCA0012120\"\nbatch_prefix = \"01\"\nif batch_prefix in ids:\n    print(\"Found {} in {}. {} is valid!\".format(batch_prefix, ids, ids))\nelse:\n    print(\"Not found {}. {} is not valid!\".format(batch_prefix, ids))",
   "execution_count": null,
   "outputs": [
    {
     "name": "stdout",
     "text": "Found 01 in DSCA0012120. DSCA0012120 is valid!\n",
     "output_type": "stream"
    }
   ]
  },
  {
   "cell_type": "code",
   "metadata": {
    "tags": [],
    "cell_id": "00015-25655932-9106-4f3a-aa2e-fcaf25746916",
    "deepnote_to_be_reexecuted": false,
    "source_hash": "42da3a81",
    "execution_start": 1633091115462,
    "execution_millis": 0,
    "deepnote_cell_type": "code"
   },
   "source": "# list of list\nlist_of_list = [[], [], tuple(), dict()]\nprint(list_of_list)\nprint(list_of_list[0])\n\nprint(len(list_of_list))",
   "execution_count": null,
   "outputs": [
    {
     "name": "stdout",
     "text": "[[], [], (), {}]\n[]\n4\n",
     "output_type": "stream"
    }
   ]
  },
  {
   "cell_type": "code",
   "metadata": {
    "tags": [],
    "cell_id": "00016-7f1a241e-bc8f-4f00-88ae-5bb8b8d9bb1e",
    "deepnote_to_be_reexecuted": false,
    "source_hash": "81e424aa",
    "execution_start": 1633091115463,
    "execution_millis": 9,
    "deepnote_cell_type": "code"
   },
   "source": "print(\"numbers:\", numbers)",
   "execution_count": null,
   "outputs": [
    {
     "name": "stdout",
     "text": "numbers: [0, 1, 2, 3, 9]\n",
     "output_type": "stream"
    }
   ]
  },
  {
   "cell_type": "markdown",
   "source": "<a style='text-decoration:none;line-height:16px;display:flex;color:#5B5B62;padding:10px;justify-content:end;' href='https://deepnote.com?utm_source=created-in-deepnote-cell&projectId=b94dbdc3-5beb-4253-8ac8-903563c1644d' target=\"_blank\">\n<img alt='Created in deepnote.com' style='display:inline;max-height:16px;margin:0px;margin-right:7.5px;' src='data:image/svg+xml;base64,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' > </img>\nCreated in <span style='font-weight:600;margin-left:4px;'>Deepnote</span></a>",
   "metadata": {
    "tags": [],
    "created_in_deepnote_cell": true,
    "deepnote_cell_type": "markdown"
   }
  }
 ],
 "nbformat": 4,
 "nbformat_minor": 5,
 "metadata": {
  "jupytext": {
   "formats": "ipynb,md:myst"
  },
  "kernelspec": {
   "display_name": "Python 3 (ipykernel)",
   "language": "python",
   "name": "python3"
  },
  "language_info": {
   "codemirror_mode": {
    "name": "ipython",
    "version": 3
   },
   "file_extension": ".py",
   "mimetype": "text/x-python",
   "name": "python",
   "nbconvert_exporter": "python",
   "pygments_lexer": "ipython3",
   "version": "3.9.5"
  },
  "deepnote_notebook_id": "e2a017d9-9596-4cec-aff1-03c007c09f97",
  "deepnote": {},
  "deepnote_execution_queue": []
 }
}