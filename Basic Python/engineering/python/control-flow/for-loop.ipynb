{
 "cells": [
  {
   "cell_type": "markdown",
   "source": "# Perulangan dengan For\n\nBerbeda dengan `while`, `for` merupakan jenis perulangan berbatas atau *finite loop* yang **akan berhenti tanpa perlu diberi kondisi**. Oleh karena itu, kita tidak perlu mendefinisikan kondisi yang membuat perulangan tersebut berhenti dan hanya memerlukan objek *iterable*.\n\n> *Iterable* adalah suatu objek yang dapat mengembalikan salah satu elemennya dalam satu waktu. Beberapa tipe data yang termasuk dalam *iterable* adalah tipe barisan (`list`, `tuple`, dan `range`), string, dan pemetaan seperti `dict`.",
   "metadata": {
    "slideshow": {
     "slide_type": "slide"
    },
    "tags": [],
    "cell_id": "00000-f8cca207-634c-41e9-a745-8995ae850c23",
    "deepnote_cell_type": "markdown"
   }
  },
  {
   "cell_type": "markdown",
   "source": "## Komponen Pernyataan `for`\n\nBerbeda dengan `while`, pernyataan `for` memiliki beberapa komponen sebagai berikut:\n\n1. Pernyataan dimulai dengan kata kunci `for` yang menyatakan bahwa pernyataan ini adalah sebuah perulangan dengan `for`.\n2. Setelah `for`, dilanjutkan dengan sintaks `item in iterable`. Kata kunci `in` yang merupakan operator keanggotaan dan diapit oleh `item` dan `iterable`. Secara berturut-turut, `item` adalah **variabel iterasi** yang mewakili setiap elemen dalam `iterable` dan `iterable` adalah objek `iterable` tempat kita melakukan perulangan.\n3. Diakhiri dengan titik dua `:`.\n4. Diikuti oleh blok kode `for` seperti pada blok kode yang lain.",
   "metadata": {
    "slideshow": {
     "slide_type": "slide"
    },
    "tags": [],
    "cell_id": "00001-ba792aff-df34-45b1-a83d-1176551a6701",
    "deepnote_cell_type": "markdown"
   }
  },
  {
   "cell_type": "markdown",
   "source": "## Penggunaan `for`\n\nDengan tujuan yang sama denan `while`, penggunaan `for` bisa ditulis seperti potongan kode di bawah.\n\n```python\nfor item in names:\n    print(item)\n```\n\nDi sini, `item` akan menjadi variabel dengan nilai setiap elemen dalam `names`. Supaya lebih gampang dipahami dan representatif, kita pakai variabel `name` dibandingkan dengan `item`.",
   "metadata": {
    "slideshow": {
     "slide_type": "slide"
    },
    "tags": [],
    "cell_id": "00002-b969936e-a9f9-4995-a03a-15adbc15d49a",
    "deepnote_cell_type": "markdown"
   }
  },
  {
   "cell_type": "code",
   "metadata": {
    "cell_id": "00003-22b35f3f-7e19-423c-b2c3-a0604e4a8564",
    "deepnote_to_be_reexecuted": false,
    "source_hash": "2821c016",
    "execution_start": 1633436083496,
    "execution_millis": 30594,
    "deepnote_cell_type": "code"
   },
   "source": "names = [\"brown\", \"james\", \"jackson\", \"lee\", \"johnson\", \"michael\", \"stephany\"]",
   "execution_count": null,
   "outputs": []
  },
  {
   "cell_type": "code",
   "metadata": {
    "slideshow": {
     "slide_type": "fragment"
    },
    "tags": [],
    "cell_id": "00004-d89d2e0e-cc19-4575-926d-25f9f9bca549",
    "deepnote_to_be_reexecuted": false,
    "source_hash": "fb748623",
    "execution_start": 1633436083551,
    "execution_millis": 30672,
    "deepnote_cell_type": "code"
   },
   "source": "for name in names:\n    print(name)",
   "execution_count": null,
   "outputs": [
    {
     "name": "stdout",
     "text": "brown\njames\njackson\nlee\njohnson\nmichael\nstephany\n",
     "output_type": "stream"
    }
   ]
  },
  {
   "cell_type": "markdown",
   "source": "Sekarang, kita coba bandingkan dengan potongan kode `while` sebelumnya.\n\n```python\nidx = 0\nwhile idx < len(names):\n    print(names[idx])\n    idx += 1\n```",
   "metadata": {
    "slideshow": {
     "slide_type": "subslide"
    },
    "tags": [],
    "cell_id": "00005-d63d10ad-7524-4d20-8775-a65e4400098e",
    "deepnote_cell_type": "markdown"
   }
  },
  {
   "cell_type": "markdown",
   "source": "### Perulangan `for` dengan `break` dan `continue`\n\n> **Contoh Kasus:**\n>\n> Misalkan kita ingin mengisi sebuah kargo dengan beberapa barang. Biasanya, ada **kapasitas maksimum** yang dimiliki oleh kargo, sehingga hanya beberapa barang saja yang bisa muat. Bagaimana implementasi masalah tersebut dengan menggunakan `for` dan mungkin menggunakan `break` dan/atau `continue`, jika didefinisikan `manifesto` di bawah ini?\n>\n> ```python\nmanifesto = [(\"bananas\", 15), (\"mattresses\", 24), (\"dog kernels\", 42), (\"computer\", 120), (\"cheeses\", 5)]\n```",
   "metadata": {
    "slideshow": {
     "slide_type": "slide"
    },
    "tags": [],
    "cell_id": "00006-22e2260d-5180-417b-a342-dfa8514e7084",
    "deepnote_cell_type": "markdown"
   }
  },
  {
   "cell_type": "code",
   "metadata": {
    "cell_id": "00007-8c35f2b9-d91b-4ad2-ae24-65a8b87c0784",
    "deepnote_to_be_reexecuted": false,
    "source_hash": "8a7197a4",
    "execution_start": 1633436083552,
    "execution_millis": 7,
    "deepnote_cell_type": "code"
   },
   "source": "manifesto = [\n    (\"bananas\", 20),\n    (\"mattresses\", 25),\n    (\"dog kennels\", 40),\n    (\"computer\", 95),\n    (\"cheeses\", 5),\n    (\"drugs\", 5)\n]\ncargo = []\ntotal_weight = 0\nmax_capacity = 100",
   "execution_count": null,
   "outputs": []
  },
  {
   "cell_type": "code",
   "metadata": {
    "cell_id": "00008-a50c3f71-4cb5-4e33-8d56-93e6853b0a57",
    "deepnote_to_be_reexecuted": false,
    "source_hash": "91b4f12f",
    "execution_start": 1633436083553,
    "execution_millis": 30623,
    "deepnote_cell_type": "code"
   },
   "source": "location = (2, 3)\nloc_a, loc_b = location\nprint(loc_a)\nprint(loc_b)",
   "execution_count": null,
   "outputs": [
    {
     "name": "stdout",
     "text": "2\n3\n",
     "output_type": "stream"
    }
   ]
  },
  {
   "cell_type": "code",
   "metadata": {
    "cell_id": "00009-3ad8cda7-b9d0-434d-a9cf-b2d7409107ad",
    "deepnote_to_be_reexecuted": false,
    "source_hash": "fde28a66",
    "execution_start": 1633436083608,
    "execution_millis": 113,
    "deepnote_cell_type": "code"
   },
   "source": "for item, weight in manifesto:\n    print(\"item:\", item)\n    print(\"weight:\", weight)\n    print()",
   "execution_count": null,
   "outputs": [
    {
     "name": "stdout",
     "text": "item: bananas\nweight: 20\n\nitem: mattresses\nweight: 25\n\nitem: dog kennels\nweight: 40\n\nitem: computer\nweight: 95\n\nitem: cheeses\nweight: 5\n\nitem: drugs\nweight: 5\n\n",
     "output_type": "stream"
    }
   ]
  },
  {
   "cell_type": "code",
   "metadata": {
    "slideshow": {
     "slide_type": "subslide"
    },
    "tags": [],
    "cell_id": "00010-6cc44e56-d9ea-4db3-8cfa-98198fcde4e4",
    "deepnote_to_be_reexecuted": false,
    "source_hash": "1662d712",
    "execution_start": 1633436083609,
    "execution_millis": 112,
    "deepnote_cell_type": "code"
   },
   "source": "for cargo_name, cargo_weight in manifesto:\n    print(\"current weight:\", total_weight)\n    if total_weight >= max_capacity:\n        print(\"Stop loading. Total weight:\", total_weight)\n        break\n\n    if cargo_weight + total_weight > 100:\n        print(\":: Skipping {} (weight: {})\".format(cargo_name, cargo_weight))\n        continue\n\n    print(\"- Adding {} to cargo (weight: {})\".format(cargo_name, cargo_weight))\n    cargo.append(cargo_name)\n    total_weight += cargo_weight\n    \n\nprint(\"\\nFinal weight:\", total_weight)\nprint(\"Items in cargo:\", cargo)",
   "execution_count": null,
   "outputs": [
    {
     "name": "stdout",
     "text": "current weight: 0\n- Adding bananas to cargo (weight: 20)\ncurrent weight: 20\n- Adding mattresses to cargo (weight: 25)\ncurrent weight: 45\n- Adding dog kennels to cargo (weight: 40)\ncurrent weight: 85\n:: Skipping computer (weight: 95)\ncurrent weight: 85\n- Adding cheeses to cargo (weight: 5)\ncurrent weight: 90\n- Adding drugs to cargo (weight: 5)\n\nFinal weight: 95\nItems in cargo: ['bananas', 'mattresses', 'dog kennels', 'cheeses', 'drugs']\n",
     "output_type": "stream"
    }
   ]
  },
  {
   "cell_type": "markdown",
   "source": "### Penggunaan `range` dalam `for`\n\nFungsi bawaah `range` digunakan untuk menghasilkan sebuah objek sejenis barisan berurut yang dimulai dari `start` sampai `stop-1` dengan selisih antar elemen sebesar `step`. Nilai-nilai ini ditentukan ketika kita memanggil fungsi `range` dengan sintaks berikut:\n\n```python\nrange(start, stop[, step])\n```",
   "metadata": {
    "slideshow": {
     "slide_type": "slide"
    },
    "tags": [],
    "cell_id": "00011-4441979e-0a52-4ca9-83b4-1e78de308375",
    "deepnote_cell_type": "markdown"
   }
  },
  {
   "cell_type": "code",
   "metadata": {
    "slideshow": {
     "slide_type": "subslide"
    },
    "tags": [],
    "cell_id": "00012-fddda2d7-e18a-43d7-b5c7-ca9506868aa1",
    "deepnote_to_be_reexecuted": false,
    "source_hash": "e6f776c",
    "execution_start": 1633436083616,
    "execution_millis": 30525,
    "deepnote_cell_type": "code"
   },
   "source": "five_to_nine = range(5, 10)\nto_ten = range(10)\nto_ten_with_two = range(0, 10, 2)\n\nprint(five_to_nine, type(five_to_nine))\nprint(to_ten, type(to_ten))\nprint(to_ten_with_two, type(to_ten_with_two))",
   "execution_count": null,
   "outputs": [
    {
     "name": "stdout",
     "text": "range(5, 10) <class 'range'>\nrange(0, 10) <class 'range'>\nrange(0, 10, 2) <class 'range'>\n",
     "output_type": "stream"
    }
   ]
  },
  {
   "cell_type": "markdown",
   "source": "Fungsi `range` akan menghasilkan tipe data `range`. Jika kita ingin melihat isi dari tipe data `range`, kita harus mengubahnya ke dalam jenis barisan yang lain, seperti `list` atau `tuple`.",
   "metadata": {
    "slideshow": {
     "slide_type": "subslide"
    },
    "tags": [],
    "cell_id": "00013-36f10bea-6ff4-4479-84af-06b5b19be45c",
    "deepnote_cell_type": "markdown"
   }
  },
  {
   "cell_type": "code",
   "metadata": {
    "cell_id": "00014-1223eae6-581e-4f20-9107-3c298167fc46",
    "deepnote_to_be_reexecuted": false,
    "source_hash": "19d0721b",
    "execution_start": 1633436083642,
    "execution_millis": 22,
    "deepnote_cell_type": "code"
   },
   "source": "print(list(five_to_nine), tuple(five_to_nine))\nprint(list(to_ten), tuple(to_ten))\nprint(list(to_ten_with_two), tuple(to_ten_with_two))",
   "execution_count": null,
   "outputs": []
  },
  {
   "cell_type": "code",
   "metadata": {
    "cell_id": "00015-ae5f48b5-a25a-4161-bcea-1c1647aa27ef",
    "deepnote_to_be_reexecuted": false,
    "source_hash": "c15cc3f0",
    "execution_start": 1633436083657,
    "execution_millis": 30517,
    "deepnote_cell_type": "code"
   },
   "source": "long_list_numbers = list(range(1000))\nprint(long_list_numbers, type(long_list_numbers))",
   "execution_count": null,
   "outputs": [
    {
     "name": "stdout",
     "text": "[0, 1, 2, 3, 4, 5, 6, 7, 8, 9, 10, 11, 12, 13, 14, 15, 16, 17, 18, 19, 20, 21, 22, 23, 24, 25, 26, 27, 28, 29, 30, 31, 32, 33, 34, 35, 36, 37, 38, 39, 40, 41, 42, 43, 44, 45, 46, 47, 48, 49, 50, 51, 52, 53, 54, 55, 56, 57, 58, 59, 60, 61, 62, 63, 64, 65, 66, 67, 68, 69, 70, 71, 72, 73, 74, 75, 76, 77, 78, 79, 80, 81, 82, 83, 84, 85, 86, 87, 88, 89, 90, 91, 92, 93, 94, 95, 96, 97, 98, 99, 100, 101, 102, 103, 104, 105, 106, 107, 108, 109, 110, 111, 112, 113, 114, 115, 116, 117, 118, 119, 120, 121, 122, 123, 124, 125, 126, 127, 128, 129, 130, 131, 132, 133, 134, 135, 136, 137, 138, 139, 140, 141, 142, 143, 144, 145, 146, 147, 148, 149, 150, 151, 152, 153, 154, 155, 156, 157, 158, 159, 160, 161, 162, 163, 164, 165, 166, 167, 168, 169, 170, 171, 172, 173, 174, 175, 176, 177, 178, 179, 180, 181, 182, 183, 184, 185, 186, 187, 188, 189, 190, 191, 192, 193, 194, 195, 196, 197, 198, 199, 200, 201, 202, 203, 204, 205, 206, 207, 208, 209, 210, 211, 212, 213, 214, 215, 216, 217, 218, 219, 220, 221, 222, 223, 224, 225, 226, 227, 228, 229, 230, 231, 232, 233, 234, 235, 236, 237, 238, 239, 240, 241, 242, 243, 244, 245, 246, 247, 248, 249, 250, 251, 252, 253, 254, 255, 256, 257, 258, 259, 260, 261, 262, 263, 264, 265, 266, 267, 268, 269, 270, 271, 272, 273, 274, 275, 276, 277, 278, 279, 280, 281, 282, 283, 284, 285, 286, 287, 288, 289, 290, 291, 292, 293, 294, 295, 296, 297, 298, 299, 300, 301, 302, 303, 304, 305, 306, 307, 308, 309, 310, 311, 312, 313, 314, 315, 316, 317, 318, 319, 320, 321, 322, 323, 324, 325, 326, 327, 328, 329, 330, 331, 332, 333, 334, 335, 336, 337, 338, 339, 340, 341, 342, 343, 344, 345, 346, 347, 348, 349, 350, 351, 352, 353, 354, 355, 356, 357, 358, 359, 360, 361, 362, 363, 364, 365, 366, 367, 368, 369, 370, 371, 372, 373, 374, 375, 376, 377, 378, 379, 380, 381, 382, 383, 384, 385, 386, 387, 388, 389, 390, 391, 392, 393, 394, 395, 396, 397, 398, 399, 400, 401, 402, 403, 404, 405, 406, 407, 408, 409, 410, 411, 412, 413, 414, 415, 416, 417, 418, 419, 420, 421, 422, 423, 424, 425, 426, 427, 428, 429, 430, 431, 432, 433, 434, 435, 436, 437, 438, 439, 440, 441, 442, 443, 444, 445, 446, 447, 448, 449, 450, 451, 452, 453, 454, 455, 456, 457, 458, 459, 460, 461, 462, 463, 464, 465, 466, 467, 468, 469, 470, 471, 472, 473, 474, 475, 476, 477, 478, 479, 480, 481, 482, 483, 484, 485, 486, 487, 488, 489, 490, 491, 492, 493, 494, 495, 496, 497, 498, 499, 500, 501, 502, 503, 504, 505, 506, 507, 508, 509, 510, 511, 512, 513, 514, 515, 516, 517, 518, 519, 520, 521, 522, 523, 524, 525, 526, 527, 528, 529, 530, 531, 532, 533, 534, 535, 536, 537, 538, 539, 540, 541, 542, 543, 544, 545, 546, 547, 548, 549, 550, 551, 552, 553, 554, 555, 556, 557, 558, 559, 560, 561, 562, 563, 564, 565, 566, 567, 568, 569, 570, 571, 572, 573, 574, 575, 576, 577, 578, 579, 580, 581, 582, 583, 584, 585, 586, 587, 588, 589, 590, 591, 592, 593, 594, 595, 596, 597, 598, 599, 600, 601, 602, 603, 604, 605, 606, 607, 608, 609, 610, 611, 612, 613, 614, 615, 616, 617, 618, 619, 620, 621, 622, 623, 624, 625, 626, 627, 628, 629, 630, 631, 632, 633, 634, 635, 636, 637, 638, 639, 640, 641, 642, 643, 644, 645, 646, 647, 648, 649, 650, 651, 652, 653, 654, 655, 656, 657, 658, 659, 660, 661, 662, 663, 664, 665, 666, 667, 668, 669, 670, 671, 672, 673, 674, 675, 676, 677, 678, 679, 680, 681, 682, 683, 684, 685, 686, 687, 688, 689, 690, 691, 692, 693, 694, 695, 696, 697, 698, 699, 700, 701, 702, 703, 704, 705, 706, 707, 708, 709, 710, 711, 712, 713, 714, 715, 716, 717, 718, 719, 720, 721, 722, 723, 724, 725, 726, 727, 728, 729, 730, 731, 732, 733, 734, 735, 736, 737, 738, 739, 740, 741, 742, 743, 744, 745, 746, 747, 748, 749, 750, 751, 752, 753, 754, 755, 756, 757, 758, 759, 760, 761, 762, 763, 764, 765, 766, 767, 768, 769, 770, 771, 772, 773, 774, 775, 776, 777, 778, 779, 780, 781, 782, 783, 784, 785, 786, 787, 788, 789, 790, 791, 792, 793, 794, 795, 796, 797, 798, 799, 800, 801, 802, 803, 804, 805, 806, 807, 808, 809, 810, 811, 812, 813, 814, 815, 816, 817, 818, 819, 820, 821, 822, 823, 824, 825, 826, 827, 828, 829, 830, 831, 832, 833, 834, 835, 836, 837, 838, 839, 840, 841, 842, 843, 844, 845, 846, 847, 848, 849, 850, 851, 852, 853, 854, 855, 856, 857, 858, 859, 860, 861, 862, 863, 864, 865, 866, 867, 868, 869, 870, 871, 872, 873, 874, 875, 876, 877, 878, 879, 880, 881, 882, 883, 884, 885, 886, 887, 888, 889, 890, 891, 892, 893, 894, 895, 896, 897, 898, 899, 900, 901, 902, 903, 904, 905, 906, 907, 908, 909, 910, 911, 912, 913, 914, 915, 916, 917, 918, 919, 920, 921, 922, 923, 924, 925, 926, 927, 928, 929, 930, 931, 932, 933, 934, 935, 936, 937, 938, 939, 940, 941, 942, 943, 944, 945, 946, 947, 948, 949, 950, 951, 952, 953, 954, 955, 956, 957, 958, 959, 960, 961, 962, 963, 964, 965, 966, 967, 968, 969, 970, 971, 972, 973, 974, 975, 976, 977, 978, 979, 980, 981, 982, 983, 984, 985, 986, 987, 988, 989, 990, 991, 992, 993, 994, 995, 996, 997, 998, 999] <class 'list'>\n",
     "output_type": "stream"
    }
   ]
  },
  {
   "cell_type": "markdown",
   "source": "Karena `range` juga termasuk dalam objek *iterable*, maka kita bisa melakukan perulangan menggunakan `range` seperti berikut",
   "metadata": {
    "slideshow": {
     "slide_type": "subslide"
    },
    "tags": [],
    "cell_id": "00016-f3ff049d-67b2-4b33-ae88-7a226395c238",
    "deepnote_cell_type": "markdown"
   }
  },
  {
   "cell_type": "code",
   "metadata": {
    "cell_id": "00017-b530a5e8-6e76-4f65-ac39-e4f3ebe8ad08",
    "deepnote_to_be_reexecuted": false,
    "source_hash": "c3f721af",
    "execution_start": 1633436083679,
    "execution_millis": 42,
    "deepnote_cell_type": "code"
   },
   "source": "for x in five_to_nine:\n    print(x)\nprint()\n\nfor x in to_ten:\n    print(x)\nprint()\n\nfor x in to_ten_with_two:\n    print(x)",
   "execution_count": null,
   "outputs": [
    {
     "name": "stdout",
     "text": "5\n6\n7\n8\n9\n\n0\n1\n2\n3\n4\n5\n6\n7\n8\n9\n\n0\n2\n4\n6\n8\n",
     "output_type": "stream"
    }
   ]
  },
  {
   "cell_type": "markdown",
   "source": "Karena dengan `range` kita punyai bilangan integer, kita bisa menggunakannya untuk melakukan *indexing* pada tipe barisan seperti `list`, yang secara sintaks lebih mirip dengan penggunaan `while`. Perhatikan perulangan `for` di bawah ini pada `names`.",
   "metadata": {
    "slideshow": {
     "slide_type": "subslide"
    },
    "tags": [],
    "cell_id": "00018-fd6de4ef-d07b-4812-af0e-41850d228442",
    "deepnote_cell_type": "markdown"
   }
  },
  {
   "cell_type": "code",
   "metadata": {
    "cell_id": "00019-e177091f-d380-4406-b5cc-af49cfe43841",
    "deepnote_to_be_reexecuted": false,
    "source_hash": "9a08cdbf",
    "execution_start": 1633436083738,
    "execution_millis": 6,
    "deepnote_output_heights": [
     21.1875
    ],
    "deepnote_cell_type": "code"
   },
   "source": "len(names), range(7), range(len(names))",
   "execution_count": null,
   "outputs": [
    {
     "output_type": "execute_result",
     "execution_count": 11,
     "data": {
      "text/plain": "(7, range(0, 7), range(0, 7))"
     },
     "metadata": {}
    }
   ]
  },
  {
   "cell_type": "code",
   "metadata": {
    "cell_id": "00020-95bd03d4-3079-4f2f-8444-68315d59990c",
    "deepnote_to_be_reexecuted": false,
    "source_hash": "cfc676f2",
    "execution_start": 1633436083739,
    "execution_millis": 30566,
    "deepnote_cell_type": "code"
   },
   "source": "for i in range(len(names)):\n    print(names[i])",
   "execution_count": null,
   "outputs": [
    {
     "name": "stdout",
     "text": "brown\njames\njackson\nlee\njohnson\nmichael\nstephany\n",
     "output_type": "stream"
    }
   ]
  },
  {
   "cell_type": "code",
   "metadata": {
    "cell_id": "00021-0b8ad39a-f91c-49a8-a978-2dbd4a96eb37",
    "deepnote_to_be_reexecuted": false,
    "source_hash": "fb748623",
    "execution_start": 1633436083739,
    "execution_millis": 14,
    "deepnote_cell_type": "code"
   },
   "source": "for name in names:\n    print(name)",
   "execution_count": null,
   "outputs": [
    {
     "name": "stdout",
     "text": "brown\njames\njackson\nlee\njohnson\nmichael\nstephany\n",
     "output_type": "stream"
    }
   ]
  },
  {
   "cell_type": "markdown",
   "source": "## Perulangan pada Dictionary\n\nDictionary mempunyai metode bawaan `items()` yang mengembalikan sebuah `list` atas pasangan-pasangan `key` dan `value` sebagai `tuple`. Sehingga, dengan perulangan `for`, kita bisa mengakses `key` dan `value` seperti pada contoh kasus pertama di atas.\n\n> **Kuis:**\n> Misalkan kita punyai variabel `dict_manifesto` yang merupakan `manifesto` dalam bentuk dictionary dengan `key` adalah nama barang dan `value` adalah beratnya.\n> 1. Definisikan `dict_manifesto` sebagai representasi dictionary dari `manifesto`.\n> 2. Menggunakan `items()`, tampilkan pasangan `key` dan `value` dalam pola `key: value` menggunakan fungsi `print`.",
   "metadata": {
    "slideshow": {
     "slide_type": "slide"
    },
    "tags": [],
    "cell_id": "00022-c5301e0b-9784-40a0-aacf-fce34ea550ff",
    "deepnote_cell_type": "markdown"
   }
  },
  {
   "cell_type": "code",
   "metadata": {
    "cell_id": "00023-714417e2-02a4-4433-b0e5-ae7af2810144",
    "deepnote_to_be_reexecuted": false,
    "source_hash": "d76b1970",
    "execution_start": 1633436083776,
    "execution_millis": 4,
    "deepnote_cell_type": "code"
   },
   "source": "# KETIK DI SINI\ndict_manifesto = dict(manifesto)\nprint(dict_manifesto)\n\nfor key, value in dict_manifesto.items():\n    print(\"{}: {}\".format(key, value))",
   "execution_count": null,
   "outputs": [
    {
     "name": "stdout",
     "text": "{'bananas': 20, 'mattresses': 25, 'dog kennels': 40, 'computer': 95, 'cheeses': 5, 'drugs': 5}\nbananas: 20\nmattresses: 25\ndog kennels: 40\ncomputer: 95\ncheeses: 5\ndrugs: 5\n",
     "output_type": "stream"
    }
   ]
  },
  {
   "cell_type": "markdown",
   "source": "> **Kuis:**\n> \n> Dengan masih menggunakan `dict_manifesto`, definisikan dulu `purchased_product` sebagai pemetaan antara nama produk dengan jumlah yang dibeli. Dari `purchased_product` di terasebut, kita ingin mengirimkan produk-produk di dalamnya ke para pembeli. Jika sekarang batas maksimal muatan dalam kargo adalah 1000, produk apa saja dalam `purchased_product` yang bisa dikirim, dengan berat masing-masing produk sesuai pada `dict_manifesto`?\n>\n> ```python\n>purchased_product = {\"computer\": 3, \"cheeses\": 10, \"dog kennels\": 5, \"bananas\": 20}\n>```",
   "metadata": {
    "slideshow": {
     "slide_type": "subslide"
    },
    "tags": [],
    "cell_id": "00024-7f54a604-9037-43ea-a29c-f5cc416c794e",
    "deepnote_cell_type": "markdown"
   }
  },
  {
   "cell_type": "code",
   "metadata": {
    "tags": [],
    "cell_id": "00025-b54ced27-03c4-4109-acb9-8f681ce85a43",
    "deepnote_to_be_reexecuted": false,
    "source_hash": "701f1717",
    "execution_start": 1633436578655,
    "execution_millis": 110,
    "deepnote_cell_type": "code"
   },
   "source": "languages = [\"python\", \"C++\", \"javascript\", \"R\"]\nnew_languages = [\"scala\", \"julia\", \"java\"]\n\n# append\n# languages.append(new_languages)\n\n# extend\nlanguages.extend([\"computer\"])\n\nprint(languages, len(languages))",
   "execution_count": null,
   "outputs": [
    {
     "name": "stdout",
     "text": "['python', 'C++', 'javascript', 'R', 'computer'] 5\n",
     "output_type": "stream"
    }
   ]
  },
  {
   "cell_type": "code",
   "metadata": {
    "tags": [],
    "cell_id": "00026-4232f0eb-e262-4bae-a364-1ebcb424cc94",
    "deepnote_to_be_reexecuted": false,
    "source_hash": "c82f93f3",
    "execution_start": 1633436667717,
    "execution_millis": 18,
    "deepnote_output_heights": [
     117.1875
    ],
    "deepnote_cell_type": "code"
   },
   "source": "dict_manifesto",
   "execution_count": null,
   "outputs": [
    {
     "output_type": "execute_result",
     "execution_count": 30,
     "data": {
      "text/plain": "{'bananas': 20,\n 'mattresses': 25,\n 'dog kennels': 40,\n 'computer': 95,\n 'cheeses': 5,\n 'drugs': 5}"
     },
     "metadata": {}
    }
   ]
  },
  {
   "cell_type": "code",
   "metadata": {
    "cell_id": "00025-441d6d2b-6847-4f8d-b544-291a2f763590",
    "deepnote_to_be_reexecuted": false,
    "source_hash": "bfdeaf1e",
    "execution_start": 1633436916185,
    "execution_millis": 37,
    "deepnote_cell_type": "code"
   },
   "source": "# KETIK DI SINI\npurchased_product = {\"computer\": 3, \"cheeses\": 10, \"dog kennels\": 5, \"bananas\": 20}\nprint(\"purchased products:\", purchased_product)\nprint(\"products and corresponding weights:\", dict_manifesto)\n\ncargo = []\ntotal_weight = 0\nmax_capacity = 1000\nfor product, quantity in purchased_product.items():\n    print(\"current weight:\", total_weight)\n    if total_weight >= max_capacity:\n        print(\"Stop loading. Total weight:\", total_weight)\n        break\n\n    # cargo_weight = purchased_product.get(cargo_name) * cargo_weight\n    cargo_weight = quantity * dict_manifesto.get(product)\n    if cargo_weight + total_weight > max_capacity:\n        print(\":: Skipping {} (weight: {})\".format(product, cargo_weight))\n        continue\n\n    print(\"- Adding {} to cargo (weight: {})\".format(product, cargo_weight))\n    cargo.extend(purchased_product.get(product, 1) * [product])\n    total_weight += cargo_weight\n    \n\nprint(\"\\nFinal weight:\", total_weight)\nprint(\"Items in cargo:\", cargo)",
   "execution_count": null,
   "outputs": [
    {
     "name": "stdout",
     "text": "purchased products: {'computer': 3, 'cheeses': 10, 'dog kennels': 5, 'bananas': 20}\nproducts and corresponding weights: {'bananas': 20, 'mattresses': 25, 'dog kennels': 40, 'computer': 95, 'cheeses': 5, 'drugs': 5}\ncurrent weight: 0\n- Adding computer to cargo (weight: 285)\ncurrent weight: 285\n- Adding cheeses to cargo (weight: 50)\ncurrent weight: 335\n- Adding dog kennels to cargo (weight: 200)\ncurrent weight: 535\n- Adding bananas to cargo (weight: 400)\n\nFinal weight: 935\nItems in cargo: ['computer', 'computer', 'computer', 'cheeses', 'cheeses', 'cheeses', 'cheeses', 'cheeses', 'cheeses', 'cheeses', 'cheeses', 'cheeses', 'cheeses', 'dog kennels', 'dog kennels', 'dog kennels', 'dog kennels', 'dog kennels', 'bananas', 'bananas', 'bananas', 'bananas', 'bananas', 'bananas', 'bananas', 'bananas', 'bananas', 'bananas', 'bananas', 'bananas', 'bananas', 'bananas', 'bananas', 'bananas', 'bananas', 'bananas', 'bananas', 'bananas']\n",
     "output_type": "stream"
    }
   ]
  },
  {
   "cell_type": "markdown",
   "source": "## *List*, *Set*, dan *Dictionary Comprehension*\n\nSetelah kita belajar perulangan `for`, ada cara yang lebih efektif dan cepat untuk mendefinisikan `list`, `set`, maupun `dict`.\n\n> **Contoh Kasus**\n>\n> Misal didefinisikan `list` dari nama-nama baru dalam `new_names` berikut.\n>\n>\n> ```python\n> new_names = [\"joko\", \"abdul\", \"toni\", \"marcus\", \"james\"]\n> ```\n>\n> Tugas kita ada 2:\n> 1. Dari `manifesto`, coba buat sebuah `list` yang diberi nama `list_product`. yang berisikan produk-produk dalam `manifesto`.\n> 2. Membuat variabel `unique_names` yang berisikan nama-nama dalam `names` yang baru dan tidak boleh ada duplikat",
   "metadata": {
    "slideshow": {
     "slide_type": "slide"
    },
    "tags": [],
    "cell_id": "00026-f0255b66-5f81-427f-a75b-2db1d4583388",
    "deepnote_cell_type": "markdown"
   }
  },
  {
   "cell_type": "code",
   "metadata": {
    "cell_id": "00027-1d426ace-70ec-4306-ac59-290c1f3f678f",
    "deepnote_to_be_reexecuted": false,
    "source_hash": "abe81872",
    "execution_start": 1633436083827,
    "execution_millis": 30563,
    "deepnote_cell_type": "code"
   },
   "source": "for product, _ in manifesto:\n    print(product, _)",
   "execution_count": null,
   "outputs": [
    {
     "name": "stdout",
     "text": "bananas 20\nmattresses 25\ndog kennels 40\ncomputer 95\ncheeses 5\ndrugs 5\n",
     "output_type": "stream"
    }
   ]
  },
  {
   "cell_type": "code",
   "metadata": {
    "slideshow": {
     "slide_type": "subslide"
    },
    "tags": [],
    "cell_id": "00028-aa510987-e10f-496b-9571-7aa3e4cfd4a8",
    "deepnote_to_be_reexecuted": false,
    "source_hash": "d1410c69",
    "execution_start": 1633436083828,
    "execution_millis": 30552,
    "deepnote_cell_type": "code"
   },
   "source": "list_product = []\nfor product, _ in manifesto:\n    list_product.append(product)\n\nprint(list_product)",
   "execution_count": null,
   "outputs": [
    {
     "name": "stdout",
     "text": "['bananas', 'mattresses', 'dog kennels', 'computer', 'cheeses', 'drugs']\n",
     "output_type": "stream"
    }
   ]
  },
  {
   "cell_type": "markdown",
   "source": "> Penggunaan `_` dalam pernyataan `for` di atas dikarenakan kita hanya memerlukan elemen pertama dari setiap elemen `tuple` dalam `manifesto`, sehingga untuk menghemat memori, kita bisa pakai `_`. Ini sama saja dengan mengatakan \"hiraukan elemen kedua dari setiap elemen `tuple`\".",
   "metadata": {
    "cell_id": "00029-d8feca9e-7537-4404-b304-8dedb37738b3",
    "deepnote_cell_type": "markdown"
   }
  },
  {
   "cell_type": "markdown",
   "source": "Kita butuh setidaknya 3 baris untuk membuat `list_product`. Dengan menggunakan *list comprehension*, kita hanya membutuhkan 1 baris. Bentuk *list comprehension* adalah sebagai berikut.\n\n```python\n[expression for item in iterable]\n```",
   "metadata": {
    "slideshow": {
     "slide_type": "subslide"
    },
    "tags": [],
    "cell_id": "00030-685a277e-1cb1-4d09-8378-47aad6733ae2",
    "deepnote_cell_type": "markdown"
   }
  },
  {
   "cell_type": "code",
   "metadata": {
    "cell_id": "00031-f3411068-56a9-48bf-88bb-6cf3f87b7051",
    "deepnote_to_be_reexecuted": false,
    "source_hash": "aa856d68",
    "execution_start": 1633436083830,
    "execution_millis": 0,
    "deepnote_cell_type": "code"
   },
   "source": "list_product_comprehension = [product for product, _ in manifesto]\nprint(list_product_comprehension)\nprint(list_product == list_product_comprehension)",
   "execution_count": null,
   "outputs": [
    {
     "name": "stdout",
     "text": "['bananas', 'mattresses', 'dog kennels', 'computer', 'cheeses', 'drugs']\nTrue\n",
     "output_type": "stream"
    }
   ]
  },
  {
   "cell_type": "code",
   "metadata": {
    "cell_id": "00032-e4056b12-6036-48ad-9b36-eb3f54757696",
    "deepnote_to_be_reexecuted": false,
    "source_hash": "f10722af",
    "execution_start": 1633436083877,
    "execution_millis": 30528,
    "deepnote_cell_type": "code"
   },
   "source": "numbers = [1, 2, 3, 4, 5]\ndoubled_numbers = [number*2 for number in numbers]\n\nprint(doubled_numbers)",
   "execution_count": null,
   "outputs": [
    {
     "name": "stdout",
     "text": "[2, 4, 6, 8, 10]\n",
     "output_type": "stream"
    }
   ]
  },
  {
   "cell_type": "markdown",
   "source": "> Jika memungkinkan, dalam mendefinisikan sebuah barisan, lakukanlah *list comprehension* dibanding perulangan `for` biasa. Hal ini karena *list comprehension* lebih efektif dan cepat dari segi memori dan *runtime*.",
   "metadata": {
    "slideshow": {
     "slide_type": "fragment"
    },
    "tags": [],
    "cell_id": "00033-5de08120-21cf-4a5b-9a71-f7c428fb05e2",
    "deepnote_cell_type": "markdown"
   }
  },
  {
   "cell_type": "markdown",
   "source": "Implementasi *set comprehension* juga serupa dengan *list comprehension*, yang membedakan hanyalah `set` menggunakan `{}`. Sehingga, bentuk *set comprehension* adalah `{expression for item in iterable}`.\n\n> Untuk kasus nomor 2, silakan dicoba sendiri. Silakan definisikan `unique_names` sebagai `set`.\n>\n> 2. Membuat variabel `unique_names` yang berisikan nama-nama dalam `names` yang baru dan tidak boleh ada duplikat",
   "metadata": {
    "slideshow": {
     "slide_type": "subslide"
    },
    "tags": [],
    "cell_id": "00034-66ff32b4-2bec-41b3-840f-d8cf04f9ada1",
    "deepnote_cell_type": "markdown"
   }
  },
  {
   "cell_type": "code",
   "metadata": {
    "cell_id": "00035-b4c4268d-4df1-4bc8-b2c8-80b9dc6781a1",
    "deepnote_to_be_reexecuted": false,
    "source_hash": "9801247",
    "execution_start": 1633436083878,
    "execution_millis": 30527,
    "deepnote_cell_type": "code"
   },
   "source": "# KETIK DI SINI",
   "execution_count": null,
   "outputs": []
  },
  {
   "cell_type": "markdown",
   "source": "Untuk *dictionary comprehension* juga memiliki implementasi yang serupa dengan *set comprehension* dalam hal kurung kurawal `{}`. Akan tetapi, yang membedakan adalah adanya `key` dan `value` yang harus ditulis dalam `expression`. Sehingga, implementasi *dictionary comprehension* adalah sebagai berikut.\n\n```python\n{key: value for item in iterable}\n```",
   "metadata": {
    "slideshow": {
     "slide_type": "slide"
    },
    "tags": [],
    "cell_id": "00036-89d7e1fa-f282-40d6-89fe-0cb455a13177",
    "deepnote_cell_type": "markdown"
   }
  },
  {
   "cell_type": "markdown",
   "source": "> **Kuis:**\n>\n> Misalkan diketahui harga produk pada setiap barang pada `manifesto` adalah seperti pada tabel berikut.\n> \n> | product | price |\n>| --- | --- |\n>| bananas | 5.000 |\n>| mattresses | 100.000 |\n>| dog kennels | 250.000 |\n>| computer | 1.000.000 |\n>| cheeses | 10.000 |\n>| drugs | 50.000 |\n>",
   "metadata": {
    "slideshow": {
     "slide_type": "slide"
    },
    "tags": [],
    "cell_id": "00037-e0626069-793e-4305-ac2a-c14f3e85a80d",
    "deepnote_cell_type": "markdown"
   }
  },
  {
   "cell_type": "markdown",
   "source": "> Buatlah variabel bertipe `dict`, `product_to_price`, yang memetakan produk dengan harganya!\n>\n> Kemudian, dari histori transaksi pada tabel di bawah ini, buatlah variabel `users_spending` yang memetakan setiap nama pada `names` dan total pengeluaran masing-masing orang.\n>\n> | name | purchase history |\n>| --- | --- |\n>| brown | {\"bananas\": 10, \"drugs\": 5} |\n>| james | {\"drugs\": 2} |\n>| jackson | {\"computer\": 1, \"matresses\": 2} |\n>| lee | {\"cheeses\": 5, \"bananas\": 5} |\n>| johnson | {\"computer\": 2} |\n>| michael | {\"drugs\": 1, \"bananas\": 1, \"mattresses\": 2} |\n>| stephany | {\"drugs\": 10} |\n>| joko | {\"computer\": 2, \"mattresses\": 3} |\n>| abdul | {\"mattresses\": 5, \"drugs\": 1, \"computer\": 1, \"dog kennels\": 2} |\n>| toni | {\"dog kennels\": 2, \"drugs\": 2} |\n>| marcus | {\"cheeses\": 10} |",
   "metadata": {
    "slideshow": {
     "slide_type": "subslide"
    },
    "tags": [],
    "cell_id": "00038-ff494b50-33cf-49c5-9ff8-c42ba9da313c",
    "deepnote_cell_type": "markdown"
   }
  },
  {
   "cell_type": "code",
   "metadata": {
    "cell_id": "00039-740c1dc2-797a-49e6-a625-61a61b49e3f6",
    "deepnote_to_be_reexecuted": false,
    "source_hash": "53e49649",
    "execution_start": 1633436083878,
    "execution_millis": 30533,
    "deepnote_cell_type": "code"
   },
   "source": "# KETIK DI SINI\nproduct_to_price = {\n    \"bananas\": 5000,\n    \"mattresses\": 100000,\n    \"dog kennels\": 250000,\n    \"computer\": 1000000,\n    \"cheeses\": 10000,\n    \"drugs\": 50000\n}\nprint(product_to_price)\n\npurchase_history = {\n    \"james\": {\"drugs\": 2},\n    \"brown\": {\"bananas\": 10, \"drugs\": 5},\n    \"toni\": {\"dog kennels\": 2, \"drugs\": 2}\n}\nprint(purchase_history)\n\nusers_spending = {\n    user: sum([quantity*product_to_price.get(product_name, 0) for product_name, quantity in dict_products.items()])\n    for user, dict_products in purchase_history.items()\n}\nprint(users_spending)",
   "execution_count": null,
   "outputs": [
    {
     "name": "stdout",
     "text": "{'bananas': 5000, 'mattresses': 100000, 'dog kennels': 250000, 'computer': 1000000, 'cheeses': 10000, 'drugs': 50000}\n{'james': {'drugs': 2}, 'brown': {'bananas': 10, 'drugs': 5}, 'toni': {'dog kennels': 2, 'drugs': 2}}\n{'james': 100000, 'brown': 300000, 'toni': 600000}\n",
     "output_type": "stream"
    }
   ]
  },
  {
   "cell_type": "code",
   "metadata": {
    "cell_id": "00040-3a65b89f-624d-46e1-a724-67b69ec065b7",
    "deepnote_to_be_reexecuted": false,
    "source_hash": "c4687bd5",
    "execution_start": 1633436083884,
    "execution_millis": 30565,
    "deepnote_cell_type": "code"
   },
   "source": "dict_spending = {}\nfor user, dict_products in purchase_history.items():\n    total_spending = 0\n    for product_name, quantity in dict_products.items():\n        total_spending += quantity * product_to_price.get(product_name, 0)\n    dict_spending[user] = total_spending\nprint(dict_spending)",
   "execution_count": null,
   "outputs": [
    {
     "name": "stdout",
     "text": "{'james': 100000, 'brown': 300000, 'toni': 600000}\n",
     "output_type": "stream"
    }
   ]
  },
  {
   "cell_type": "markdown",
   "source": "<a style='text-decoration:none;line-height:16px;display:flex;color:#5B5B62;padding:10px;justify-content:end;' href='https://deepnote.com?utm_source=created-in-deepnote-cell&projectId=b94dbdc3-5beb-4253-8ac8-903563c1644d' target=\"_blank\">\n<img alt='Created in deepnote.com' style='display:inline;max-height:16px;margin:0px;margin-right:7.5px;' src='data:image/svg+xml;base64,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' > </img>\nCreated in <span style='font-weight:600;margin-left:4px;'>Deepnote</span></a>",
   "metadata": {
    "tags": [],
    "created_in_deepnote_cell": true,
    "deepnote_cell_type": "markdown"
   }
  }
 ],
 "nbformat": 4,
 "nbformat_minor": 5,
 "metadata": {
  "kernelspec": {
   "display_name": "Python 3 (ipykernel)",
   "language": "python",
   "name": "python3"
  },
  "language_info": {
   "codemirror_mode": {
    "name": "ipython",
    "version": 3
   },
   "file_extension": ".py",
   "mimetype": "text/x-python",
   "name": "python",
   "nbconvert_exporter": "python",
   "pygments_lexer": "ipython3",
   "version": "3.9.5"
  },
  "deepnote_notebook_id": "efe3ef57-e4f5-436b-a916-5e91c1b03345",
  "deepnote": {},
  "deepnote_execution_queue": []
 }
}