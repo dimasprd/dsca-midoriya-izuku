{
 "cells": [
  {
   "cell_type": "markdown",
   "source": "# Perulangan dengan While\n\nPada pernyataan kondisional, kode program masih dieksekusi dari atas ke bawah per baris. Perbedannya hanya ada pada apakah suatu blok kode dieksekusi atau tidak berdasarkan kondisi yang diberikan. Tapi, kita terkadang perlu juga untuk mengeksekusi sesuatu lebih dari satu kali dan berulang. Python membolehkan kita untuk melakukan hal tersebut dengan `while`.",
   "metadata": {
    "slideshow": {
     "slide_type": "slide"
    },
    "tags": [],
    "cell_id": "00000-6888c51f-1724-4787-9005-f95d300c7366",
    "deepnote_cell_type": "markdown"
   }
  },
  {
   "cell_type": "markdown",
   "source": "## Perulangan\n\nMisalkan diberikan sebuah daftar nama dalam bentuk `list` di bawah ini. Jika kita ingin menampilkan setiap nama yang ada pada `names`, cara paling sederhana adalah dengan mengakses indeks satu per satu.",
   "metadata": {
    "slideshow": {
     "slide_type": "slide"
    },
    "tags": [],
    "cell_id": "00001-f8965c17-82fd-41bf-8ac4-19d5d940d131",
    "deepnote_cell_type": "markdown"
   }
  },
  {
   "cell_type": "code",
   "metadata": {
    "cell_id": "00002-bf1440b2-a121-4aa7-b131-15b042603487",
    "deepnote_to_be_reexecuted": false,
    "source_hash": "f0a45bb3",
    "execution_start": 1633350736146,
    "execution_millis": 0,
    "deepnote_cell_type": "code"
   },
   "source": "names = [\"brown\", \"james\", \"jackson\", \"lee\"]",
   "execution_count": null,
   "outputs": []
  },
  {
   "cell_type": "code",
   "metadata": {
    "cell_id": "00003-40dd91e3-f96e-4293-943e-142956507652",
    "deepnote_to_be_reexecuted": false,
    "source_hash": "cac1d1e1",
    "execution_start": 1633350736194,
    "execution_millis": 673000831,
    "deepnote_cell_type": "code"
   },
   "source": "print(names[0])\nprint(names[1])\nprint(names[2])\nprint(names[3])",
   "execution_count": null,
   "outputs": [
    {
     "name": "stdout",
     "text": "brown\njames\njackson\nlee\n",
     "output_type": "stream"
    }
   ]
  },
  {
   "cell_type": "markdown",
   "source": "Ini buang-buang waktu dan merepotkan jika ternyata ada lebih dari 100 nama di dalamnya.\n\nDalam setiap bahasa pemrograman, kita bisa melakukan perulangan secara otomatis tanpa harus mendaftarkan semua elemen, begitu juga Python. Konsep ini dikenal dengan **Don't Repeat Yourself (DRY)**.\n\n> **Apa Itu DRY?**\n>\n> DRY is a principle of software development aimed at reducing repetition of software patterns,[1] replacing it with abstractions or using data normalization to avoid redundancy. {cite}`dry-wikipedia`",
   "metadata": {
    "slideshow": {
     "slide_type": "subslide"
    },
    "tags": [],
    "cell_id": "00004-cc06c459-dc8a-448b-b2c1-e6b0f16366e1",
    "deepnote_cell_type": "markdown"
   }
  },
  {
   "cell_type": "markdown",
   "source": "## Penggunaan `while`\n\nUntuk menggunakan `while` kita perlu membuat **kondisi** yang selama kondisi itu benar (bernilai `True`), blok kode dalam `while` akan terus dieksekusi. Sintaks `while` juga mirip dengan `if`, yaitu\n\n```python\nwhile condition:\n    # run statement here\n```",
   "metadata": {
    "slideshow": {
     "slide_type": "slide"
    },
    "tags": [],
    "cell_id": "00005-9b486dd5-9271-4250-b7dd-b3ee0842cc36",
    "deepnote_cell_type": "markdown"
   }
  },
  {
   "cell_type": "markdown",
   "source": "Kita akan menggunakan jumlah elemen dalam `names` sebagai batas perulangan. Langkah-langkah perulangannya adalah sebagai berikut:\n\n1. Definisikan jumlah elemen (opsional, bisa langsung dalam kondisi).\n2. Mulai dari indeks pertama atau `0`.\n3. Cek kondisi, selama indeks \"saat ini\" masih **kurang dari** jumlah elemen, lakukan langkah 4-6. Jika indeks \"saat ini\" **sama dengan** jumlah elemen, lakukan langkah 7.\n4. Tampilkan indeks \"saat ini\".\n5. Tambah indeks untuk jadi indeks berikutnya.\n6. Kembali ke langkah 3.\n7. Jika langkah 3 terpenuhi, akhiri perulangan.\n\nDari langkah-langkah yang sudah ditulis di atas, sintaks yang perlu ditulis adalah:",
   "metadata": {
    "slideshow": {
     "slide_type": "subslide"
    },
    "tags": [],
    "cell_id": "00006-33db2f18-80dd-4db7-b45e-8e5902c192f7",
    "deepnote_cell_type": "markdown"
   }
  },
  {
   "cell_type": "code",
   "metadata": {
    "cell_id": "00007-5bc2c057-640a-406c-bb71-49f8ed66bb5f",
    "deepnote_to_be_reexecuted": false,
    "source_hash": "b6763aae",
    "execution_start": 1633350736195,
    "execution_millis": 1,
    "deepnote_cell_type": "code"
   },
   "source": "num_names = len(names)\nidx = 0\n\nwhile idx < num_names:\n    print(names[idx])\n    idx += 1",
   "execution_count": null,
   "outputs": [
    {
     "name": "stdout",
     "text": "brown\njames\njackson\nlee\n",
     "output_type": "stream"
    }
   ]
  },
  {
   "cell_type": "markdown",
   "source": "> **Kuis:**\n>\n> Lakukan perulangan untuk `names` dengan menggunakan indeks negatif!",
   "metadata": {
    "slideshow": {
     "slide_type": "subslide"
    },
    "tags": [],
    "cell_id": "00008-849e217a-b006-4399-a07b-37e57ca24444",
    "deepnote_cell_type": "markdown"
   }
  },
  {
   "cell_type": "code",
   "metadata": {
    "cell_id": "00009-daae4ced-d8ee-4aa4-b0ef-5f821951c283",
    "deepnote_to_be_reexecuted": false,
    "source_hash": "9801247",
    "execution_start": 1633350736238,
    "execution_millis": 1,
    "deepnote_cell_type": "code"
   },
   "source": "# KETIK DI SINI",
   "execution_count": null,
   "outputs": []
  },
  {
   "cell_type": "markdown",
   "source": "### Keluar dari `while` dengan `break`\n\nJika kita ingin melakukan perulangan sampai sesuatu terjadi, tapi kita tidak tahu kapan, kita bisa menggunakan pernyataan `break`.",
   "metadata": {
    "slideshow": {
     "slide_type": "slide"
    },
    "tags": [],
    "cell_id": "00010-7e926d5d-8a2a-4bca-bcc0-2ba60e7b2e2c",
    "deepnote_cell_type": "markdown"
   }
  },
  {
   "cell_type": "code",
   "metadata": {
    "cell_id": "00011-9fe6012d-93ca-45b4-9c96-d5aeb9a9157b",
    "deepnote_to_be_reexecuted": false,
    "source_hash": "80b3a94f",
    "execution_start": 1633350736239,
    "execution_millis": 5,
    "deepnote_cell_type": "code"
   },
   "source": "idx = 0\n\nwhile idx < len(names):\n    if len(names[idx]) < 5:\n        break\n    print(names[idx])\n    idx += 1",
   "execution_count": null,
   "outputs": [
    {
     "name": "stdout",
     "text": "brown\njames\njackson\n",
     "output_type": "stream"
    }
   ]
  },
  {
   "cell_type": "markdown",
   "source": "### Pernyataan `continue` dalam Perulangan\n\nDengan prinsip yang masih sama dengan `break`, misalkan kita ingin melanjutkan menampilkan nama dalam `names` tanpa menampilkan nama dengan jumlah karakter kurang dari 5. Kita bisa ganti `break` di atas dengan `continue` seperti di bawah ini.",
   "metadata": {
    "slideshow": {
     "slide_type": "slide"
    },
    "tags": [],
    "cell_id": "00012-ab737868-89e8-46fc-9bae-67d7fdac05d6",
    "deepnote_cell_type": "markdown"
   }
  },
  {
   "cell_type": "code",
   "metadata": {
    "cell_id": "00013-c23b5fdf-a822-427c-b4e5-c05174084bb7",
    "deepnote_to_be_reexecuted": false,
    "source_hash": "cfa82793",
    "execution_start": 1633350736273,
    "execution_millis": 673000893,
    "deepnote_cell_type": "code"
   },
   "source": "names.append(\"johnson\")",
   "execution_count": null,
   "outputs": []
  },
  {
   "cell_type": "code",
   "metadata": {
    "cell_id": "00014-75982876-b615-490f-b74e-c1eefa80ff5a",
    "deepnote_to_be_reexecuted": false,
    "source_hash": "5427bdaa",
    "execution_start": 1633350736302,
    "execution_millis": 673000921,
    "deepnote_cell_type": "code"
   },
   "source": "idx = 0\n\nwhile idx < len(names):\n    if len(names[idx]) < 5:\n        idx += 1\n        continue\n    print(names[idx])\n    idx += 1",
   "execution_count": null,
   "outputs": [
    {
     "name": "stdout",
     "text": "brown\njames\njackson\njohnson\n",
     "output_type": "stream"
    }
   ]
  },
  {
   "cell_type": "markdown",
   "source": "Pada dasarnya, perulangan dengan `while` tergolong ke dalam *infinite loop* karena kode akan selalu dieksekusi selama kondisi terpenuhi. Oleh karena itu, perulangan `while` memerlukan kondisi untuk berhenti dan logika kode supaya kondisi bisa jadi **tidak terpenuhi (`False`)** sedemikian sehingga perulangan bisa berhenti.",
   "metadata": {
    "slideshow": {
     "slide_type": "subslide"
    },
    "tags": [],
    "cell_id": "00015-a70d85da-68b9-4856-a77c-6f1cbfd55c3f",
    "deepnote_cell_type": "markdown"
   }
  },
  {
   "cell_type": "markdown",
   "source": "> **Kuis:**\n>\n> Buat perulangan dengan `while` untuk membuat sebuah string *news* yang panjangnya **150 karakter** dari kumpulan judul berita dalam `headlines` yang setiap judul dipisahkan oleh **spasi**. Jika diperlukan, potong judul berita terakhir sedemikian hingga panjang keseluruhan `news` tepat **150 karakter**.\n>\n> ```python\nheadlines = [\"Pemprov DKI Perpanjang PPKM Mikro hingga 14 Juni\",\n             \"Manchester City Dekati Sergio Ramos\",\n             \"8 Juta Dosis Vaksin Sinovac Tiba di Tanah Air\",\n             \"10 Potret Kece Tatjana Saphira Berkacamata, Stylish Banget!\",]\n```",
   "metadata": {
    "slideshow": {
     "slide_type": "slide"
    },
    "tags": [],
    "cell_id": "00016-72cc32dd-73f2-4ab3-a260-aa0386ce8251",
    "deepnote_cell_type": "markdown"
   }
  },
  {
   "cell_type": "code",
   "metadata": {
    "cell_id": "00017-3e96e770-b265-4702-aa40-6506f554862e",
    "deepnote_to_be_reexecuted": false,
    "source_hash": "9df15e70",
    "execution_start": 1633350736361,
    "execution_millis": 673000923,
    "deepnote_cell_type": "code"
   },
   "source": "headlines = [\"Pemprov DKI Perpanjang PPKM Mikro hingga 14 Juni\",\n             \"Manchester City Dekati Sergio Ramos\",\n             \"8 Juta Dosis Vaksin Sinovac Tiba di Tanah Air\",\n             \"10 Potret Kece Tatjana Saphira Berkacamata, Stylish Banget!\",]\n\n# KETIK DI SINI\n",
   "execution_count": null,
   "outputs": []
  },
  {
   "cell_type": "markdown",
   "source": "<a style='text-decoration:none;line-height:16px;display:flex;color:#5B5B62;padding:10px;justify-content:end;' href='https://deepnote.com?utm_source=created-in-deepnote-cell&projectId=b94dbdc3-5beb-4253-8ac8-903563c1644d' target=\"_blank\">\n<img alt='Created in deepnote.com' style='display:inline;max-height:16px;margin:0px;margin-right:7.5px;' src='data:image/svg+xml;base64,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' > </img>\nCreated in <span style='font-weight:600;margin-left:4px;'>Deepnote</span></a>",
   "metadata": {
    "tags": [],
    "created_in_deepnote_cell": true,
    "deepnote_cell_type": "markdown"
   }
  }
 ],
 "nbformat": 4,
 "nbformat_minor": 5,
 "metadata": {
  "kernelspec": {
   "display_name": "Python 3",
   "language": "python",
   "name": "python3"
  },
  "language_info": {
   "codemirror_mode": {
    "name": "ipython",
    "version": 3
   },
   "file_extension": ".py",
   "mimetype": "text/x-python",
   "name": "python",
   "nbconvert_exporter": "python",
   "pygments_lexer": "ipython3",
   "version": "3.9.4"
  },
  "deepnote_notebook_id": "b0cc2eb4-1448-45da-8e60-e626c6c8c422",
  "deepnote": {},
  "deepnote_execution_queue": []
 }
}