{
 "cells": [
  {
   "cell_type": "markdown",
   "source": "# List\n\nList adalah salah satu struktur data Python di mana kita bisa menggabungkan atau menyimpan barisan objek Python yang lain, sesuai dengan arti harafiahnya. List digunakan jika kita ingin membuat sebuah barisan data dalam urutan tertentu dan bisa berubah (diganti, ditambah, atau dikurangi) sewaktu-waktu.\n\n> Tipe data **barisan** (*sequence*) dalam Python dibedakan menjadi 2 jenis:\n> 1. Barisan yang bisa diubah (**mutable**)\n> 2. Barisan yang tidak bisa diubah (**immutable**)\n>\n> `list` termasuk ke dalam jenis tipe data barisan yang bisa diubah (*mutable*)\n",
   "metadata": {
    "slideshow": {
     "slide_type": "slide"
    },
    "tags": [],
    "cell_id": "00000-3584ae96-5094-4140-aa5d-bcf172e8dea1",
    "deepnote_cell_type": "markdown"
   }
  },
  {
   "cell_type": "markdown",
   "source": "## Mendefinsikan List dengan `[]`\n\nKita bisa mendefinisikan list dengan menggunakan kurung siku (`[]`) dan data-data yang ada di dalamnya dipisahkan dengan koma (`,`), misalkan `[item_1, item_2, item_3, ..., item_n]`.\n\n```python\nempty_list = []\nfirst_quarter_months = [\"January\", \"February\", \"March\"]\nlast_5_years = [2016, 2017, 2018, 2019, 2020]\nlist_mix = [100, 3.14, \"bitlabs\", True, -9, 7+2j, -1.]\n```",
   "metadata": {
    "slideshow": {
     "slide_type": "slide"
    },
    "tags": [],
    "cell_id": "00001-8b5e3960-1bb3-4bf4-9a04-8408c3d3a2cb",
    "deepnote_cell_type": "markdown"
   }
  },
  {
   "cell_type": "code",
   "metadata": {
    "cell_id": "00002-65da0991-918b-403c-a1ab-d5b4d7ba5e08",
    "deepnote_to_be_reexecuted": false,
    "source_hash": "4308a1d2",
    "execution_start": 1633006455488,
    "execution_millis": 15,
    "deepnote_cell_type": "code"
   },
   "source": "print([], type([]))\nprint([1, 1, 2, 3], type([1, 1, 2, 3]))",
   "execution_count": null,
   "outputs": [
    {
     "name": "stdout",
     "text": "[] <class 'list'>\n[1, 1, 2, 3] <class 'list'>\n",
     "output_type": "stream"
    }
   ]
  },
  {
   "cell_type": "markdown",
   "source": "Karena list merupakan barisan data, sangat masuk akal jika penasaran berapa jumlah elemen yang ada di dalamnya. Python menyediakan fungsi bawaan `len` yang bisa digunakan untuk mengembalikan jumlah elemen dari suatu `list`. Dokumentasi dari fungsi `list` bisa dilihat [di sini](https://docs.python.org/3/library/functions.html#len).",
   "metadata": {
    "slideshow": {
     "slide_type": "subslide"
    },
    "tags": [],
    "cell_id": "00003-9512c50d-aaf1-4258-bf7a-2127bad710b1",
    "deepnote_cell_type": "markdown"
   }
  },
  {
   "cell_type": "code",
   "metadata": {
    "cell_id": "00004-774ef488-a57d-4644-b0fe-0d64ae0c77b1",
    "deepnote_to_be_reexecuted": false,
    "source_hash": "31fca18d",
    "execution_start": 1633006455506,
    "execution_millis": 19,
    "deepnote_cell_type": "code"
   },
   "source": "empty_list = []\nlast_5_years = [2016, 2017, 2018, 2019, 2020]\n\nprint(\"length of empty_list var:\", len(empty_list))\nprint(\"length of last_5_years var:\", len(last_5_years))",
   "execution_count": null,
   "outputs": [
    {
     "name": "stdout",
     "text": "length of empty_list var: 0\nlength of last_5_years var: 5\n",
     "output_type": "stream"
    }
   ]
  },
  {
   "cell_type": "markdown",
   "source": "## Fungsi Bawaan `list()`\n\nSelain dengan mendaftarkan manual barisan data menjadi `list` dengan `[]`, kita juga bisa menggunakan fungsi bawaan `list()` yang bisa mengonversi tipe data barisan yang lain menjadi sebuah `list`. Sebagai contoh, kita mengubah string `\"bitlabs\"` menjadi sebuah barisan karakter yang menyusunnya dengan `list(\"bitlabs\")`, yang menghasilkan list `[\"b\", \"i\", \"t\", \"l\", \"a\", \"b\", \"s\"]`.",
   "metadata": {
    "slideshow": {
     "slide_type": "slide"
    },
    "tags": [],
    "cell_id": "00005-84e2ee09-2da4-4009-af4c-b1fc103988fb",
    "deepnote_cell_type": "markdown"
   }
  },
  {
   "cell_type": "code",
   "metadata": {
    "cell_id": "00006-e4672f17-e1d2-4806-adbf-b691792c241f",
    "deepnote_to_be_reexecuted": false,
    "source_hash": "f6fc661c",
    "execution_start": 1633006455520,
    "execution_millis": 10,
    "deepnote_cell_type": "code"
   },
   "source": "print(list())\nprint(list(\"bitlabs\"))",
   "execution_count": null,
   "outputs": [
    {
     "name": "stdout",
     "text": "[]\n['b', 'i', 't', 'l', 'a', 'b', 's']\n",
     "output_type": "stream"
    }
   ]
  },
  {
   "cell_type": "markdown",
   "source": "Beberapa fungsi atau metode bawaan Python lainnya yang bisa digunakan pada tipe data list seperti:\n* `max` - mengembalikan elemen terbesar dalam barisan\n* `min` - mengembalikan elemen terkecil dalam barisan\n* `sorted` - mengembalikan duplikat barisan yang terurut dari yang paling kecil ke paling besar, atau sebaliknya\n* `append` - menambahkan elemen baru setelah elemen terakhir dari barisan tersebut\n* `join` - sebuah metode pada string yang argumen masukan sebuah list dan mengembalikan gabungan elemen-elemen di dalamnya dalam bentuk string yang dipisah oleh string tersebut.\n\n> Perbedaan fungsi dan metode:\n> * Sebuah fungsi bisa digunakan untuk beberapa tipe data, misal `print`, `max`, dan lainnya.\n> * Sebuah metode **hanya** bisa digunakan untuk tipe data tertentu. Misalkan, metode `split` hanya bisa digunakan untuk tipe data string dan metode `append` yang hanya bisa digunakan untuk tipe data list.\n>\n> Detail fungsi bawaan yang disediakan oleh Python dapat diakses dan kemudian dibaca di [dokumentasi](https://docs.python.org/3.8/library/functions.html). Khusus untuk metode dalam list, silakan baca [dokumentasi khusus list](https://docs.python.org/3.8/library/stdtypes.html#lists).",
   "metadata": {
    "slideshow": {
     "slide_type": "subslide"
    },
    "tags": [],
    "cell_id": "00007-7a00a7db-df28-4c89-8e89-b47868802a76",
    "deepnote_cell_type": "markdown"
   }
  },
  {
   "cell_type": "markdown",
   "source": "<div class=\"alert alert-block alert-info\">\n<b>Kuis:</b>\n<ol>\n    <li>Buatlah sebuah list <code>less_than_ten</code> yang berisi bilangan 0 sampai 9: <code>[0, 1, 2, 3, ..., 9]</code></li>\n    <li>Urutkan list <code>less_than_ten</code> dimulai dari yang paling besar hingga paling kecil.</li>\n    <li>Buat sebuah string dari elemen-elemen <code>less_than_ten</code> yang dipisahkan oleh kata <code>\"bit\"</code>.</li>\n</ol>\n</div>",
   "metadata": {
    "slideshow": {
     "slide_type": "subslide"
    },
    "tags": [],
    "cell_id": "00008-e2fdbd8f-4de5-4e4a-9359-811b0f7d83b0",
    "deepnote_cell_type": "markdown"
   }
  },
  {
   "cell_type": "code",
   "metadata": {
    "cell_id": "00009-9110aea6-faec-43e5-833f-811343320ee8",
    "deepnote_to_be_reexecuted": false,
    "source_hash": "343a8fcb",
    "execution_start": 1633006455538,
    "execution_millis": 86,
    "deepnote_cell_type": "code"
   },
   "source": "# KETIK DI SINI\n# sorted() <- karena function, cara pakainya harus kurung siku (). Sama kayak kalo pake `print()`\n# sorted(less_than_ten, reverse=True)\n\n# cara pakai function -> panggil nama fungsinya. sorted(), print(), max()\n# bit.join()\n\nless_than_ten = [\"9\", \"10\", \"11\", \"19\", \"-2\", \"8\", \"4\", \"7\", \"0\", \"1\", \"3\"]\nsorted_less_than_ten = sorted(less_than_ten, reverse=True)    # assign sorted less_than_ten to new variable -> sorted_less_than_ten\n\nbit = \"bit\"\ntext_less_than_ten = bit.join(sorted_less_than_ten)    # assign new text to variable `text_less_than_ten`\nprint(text_less_than_ten)",
   "execution_count": null,
   "outputs": [
    {
     "name": "stdout",
     "text": "9bit8bit7bit4bit3bit19bit11bit10bit1bit0bit-2\n",
     "output_type": "stream"
    }
   ]
  },
  {
   "cell_type": "markdown",
   "source": "## *Indexing* dan *Slicing*\n\nMisalkan dipunyai list \n\n```python\nnames = [\"John\", \"Andrew\", \"Sebastian\", \"Josh\"]\n```\n\nTerdapat 4 elemen pada list `names`. Penomoran indeks dalam list dimulai dari `0`, `1`, `2`, dan seterusnya sampai elemen terakhir berindeks `n-1`, dengan `n` adalah jumlah elemen.\n\nSelain *indexing* yang dimulai dari `0`, penomoran indeks dalam list juga bisa menggunakan integer negatif. Penomoran indeks negatif ini dimulai dari elemen paling belakang ke elemen paling depan/awal dengan indeks `-1`, `-2`, sampai dengan `-n`.",
   "metadata": {
    "slideshow": {
     "slide_type": "slide"
    },
    "tags": [],
    "cell_id": "00010-4548ab4b-6265-4fda-890f-8b446fb91dfa",
    "deepnote_cell_type": "markdown"
   }
  },
  {
   "cell_type": "code",
   "metadata": {
    "tags": [],
    "cell_id": "00011-ad3a7ca1-1618-4afd-98ce-275e21e5016f",
    "deepnote_to_be_reexecuted": false,
    "source_hash": "51a75767",
    "execution_start": 1633006455575,
    "execution_millis": 49,
    "deepnote_cell_type": "code"
   },
   "source": "names = [\"John\", \"Andrew\", \"Sebastian\", \"Josh\"]\n\nprint(\"names[0]:\", names[0])\nprint(\"names[1]:\", names[1])\nprint(\"names[2]:\", names[2])\n\nprint(\"names[-3]:\", names[-3])\nprint(\"names[-2]:\", names[-2])\nprint(\"names[-1]:\", names[-1])",
   "execution_count": null,
   "outputs": [
    {
     "name": "stdout",
     "text": "names[0]: John\nnames[1]: Andrew\nnames[2]: Sebastian\nnames[-3]: Andrew\nnames[-2]: Sebastian\nnames[-1]: Josh\n",
     "output_type": "stream"
    }
   ]
  },
  {
   "cell_type": "markdown",
   "source": "Kita juga bisa mengakses dua atau lebih elemen dari sebuah list dengan menggunakan teknik *slicing*. Hasil dari *slicing* juga merupakan list. *Slicing* bekerja dengan notasi `list[start:stop:step]` yang berarti \"ambil elemen dari indeks nomor `start` sampai indeks nomor `stop-1` sebesar `step`, di mana nilai default `step` adalah `1`\".\n\n<div class=\"alert alert-block alert-info\">\n    <b>Kuis</b> Dari list <code>random_dates</code> di bawah ini, coba tampilkan tanggal-tanggal dengan tahun genap dan juga gasal.\n</div>",
   "metadata": {
    "slideshow": {
     "slide_type": "subslide"
    },
    "tags": [],
    "cell_id": "00012-50d9c0b3-8a59-4078-8802-62d55739292f",
    "deepnote_cell_type": "markdown"
   }
  },
  {
   "cell_type": "code",
   "metadata": {
    "cell_id": "00013-444d088e-fb40-49aa-a258-a811439672d3",
    "deepnote_to_be_reexecuted": false,
    "source_hash": "ab3387bf",
    "execution_start": 1633006738342,
    "execution_millis": 7,
    "deepnote_cell_type": "code"
   },
   "source": "random_dates = ['June 21, 2001', 'December 4, 2002', 'August 23, 2003',\n                'March 29, 2004', 'August 1, 2005', 'July 22, 2006',\n                'July 11, 2007', 'November 13, 2008', 'March 20, 2009',\n                'March 9, 2010']\n\n# KETIK DI SINI - tanggal dengan tahun genap\neven_dates = random_dates[1::2]\nprint(even_dates)\n# print(\"Tahun Genap:\", random_dates[1])\n# print(\"Tahun Genap:\", random_dates[3])\n# print(\"Tahun Genap:\", random_dates[5])\n# print(\"Tahun Genap:\", random_dates[7])\n# print(\"Tahun Genap:\", random_dates[9])\n\n# KETIK DI SINI - tanggal dengan tahun gasal\nodd_dates = random_dates[0::2]\nprint(odd_dates)\n# print(\"Tahun Ganjil:\", random_dates[0])\n# print(\"Tahun Ganjil:\", random_dates[2])\n# print(\"Tahun Ganjil:\", random_dates[4])\n# print(\"Tahun Ganjil:\", random_dates[6])\n# print(\"Tahun Ganjil:\", random_dates[8])",
   "execution_count": null,
   "outputs": [
    {
     "name": "stdout",
     "text": "['December 4, 2002', 'March 29, 2004', 'July 22, 2006', 'November 13, 2008', 'March 9, 2010']\n['June 21, 2001', 'August 23, 2003', 'August 1, 2005', 'July 11, 2007', 'March 20, 2009']\n",
     "output_type": "stream"
    }
   ]
  },
  {
   "cell_type": "markdown",
   "source": "<a style='text-decoration:none;line-height:16px;display:flex;color:#5B5B62;padding:10px;justify-content:end;' href='https://deepnote.com?utm_source=created-in-deepnote-cell&projectId=b94dbdc3-5beb-4253-8ac8-903563c1644d' target=\"_blank\">\n<img alt='Created in deepnote.com' style='display:inline;max-height:16px;margin:0px;margin-right:7.5px;' src='data:image/svg+xml;base64,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' > </img>\nCreated in <span style='font-weight:600;margin-left:4px;'>Deepnote</span></a>",
   "metadata": {
    "tags": [],
    "created_in_deepnote_cell": true,
    "deepnote_cell_type": "markdown"
   }
  }
 ],
 "nbformat": 4,
 "nbformat_minor": 5,
 "metadata": {
  "kernelspec": {
   "display_name": "Python 3",
   "language": "python",
   "name": "python3"
  },
  "language_info": {
   "codemirror_mode": {
    "name": "ipython",
    "version": 3
   },
   "file_extension": ".py",
   "mimetype": "text/x-python",
   "name": "python",
   "nbconvert_exporter": "python",
   "pygments_lexer": "ipython3",
   "version": "3.8.6"
  },
  "deepnote_notebook_id": "630ab923-81a9-47a6-8ee6-d8190343185b",
  "deepnote": {},
  "deepnote_execution_queue": []
 }
}