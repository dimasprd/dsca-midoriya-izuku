{
 "cells": [
  {
   "cell_type": "markdown",
   "source": "# Tuple\n\nTuple adalah salah satu tipe data barisan dalam Python yang memiliki sifat *immutable* atau tidak bisa diubah. Ini berarti elemen-elemen yang ada di dalam sebuah tuple, tidak bisa kita ubah, baik ditambah, dikurangi, diganti, atau diubah urutannya.\n\nKita bisa mendefinisikan sebuah tuple dengan beberapa cara:\n* Menggunakan tanda kurung untuk tuple kosong: `()`\n* Menggunakan (membubuhi) tanda koma (`,`) untuk tuple dengan 1 elemen, misal: `a,` atau `(a,)`\n* Mendaftar elemen-elemen yang dipisahkan dengan tanda koma, misal: `a, b, c` atau `(a, b, c, d)`\n* Menggunakan fungsi bawaan `tuple()`",
   "metadata": {
    "slideshow": {
     "slide_type": "slide"
    },
    "tags": [],
    "cell_id": "00000-3a7ecdb5-8d38-4fdd-9cd0-a93a46b951ac",
    "deepnote_cell_type": "markdown"
   }
  },
  {
   "cell_type": "markdown",
   "source": "## Mendefinisikan Tuple dengan `,` dan `()`\n\nKita bisa membuat tuple kosong hanya dengan membuat tanda kurung `()` tanpa ada elemen di dalamnya.\n\n```python\nempty_tuple = ()\n```\n\nBerbeda dengan list, kita bisa membungkus beberapa elemen dengan tanda kurung untuk mendefinisikan tuple dengan `,` yang memisahkan setiap elemennya.\n\n```python\nceo = (\"mark\", \"elon\")\n```\n\nPenggunaan tanda kurung sebenarnya opsional jika kita membuat tuple yang memiliki satu atau beberapa elemen di dalamnya.\n\n```python\n# ini adalah tuple yang sama dengan `ceo`\nsame_ceo = \"mark\", \"elon\"\n\n# ini juga tuple dengan satu elemen\nbootcamp = \"bitlabs\",\n```",
   "metadata": {
    "slideshow": {
     "slide_type": "slide"
    },
    "tags": [],
    "cell_id": "00001-ef0b66be-8038-4856-b04a-ee7c76e7fd3f",
    "deepnote_cell_type": "markdown"
   }
  },
  {
   "cell_type": "code",
   "metadata": {
    "slideshow": {
     "slide_type": "subslide"
    },
    "tags": [],
    "cell_id": "00002-9d724cbb-d3ab-4108-9529-3036208cc9a8",
    "deepnote_to_be_reexecuted": false,
    "source_hash": "ea648e7f",
    "execution_start": 1632922877931,
    "execution_millis": 245411932,
    "deepnote_cell_type": "code"
   },
   "source": "empty_tuple = ()\nprint(empty_tuple, type(empty_tuple))\n\nceo = (\"mark\", \"elon\")\nprint(ceo, type(ceo))\n\nsame_ceo = \"mark\", \"elon\"\nprint(same_ceo, type(same_ceo))\n\nbootcamp = \"\",\nprint(bootcamp, type(bootcamp))\n\nstr_bootcamp = \"bitlabs\"\nprint(str_bootcamp, type(str_bootcamp))\nprint(str_bootcamp == bootcamp)",
   "execution_count": null,
   "outputs": [
    {
     "name": "stdout",
     "text": "() <class 'tuple'>\n('mark', 'elon') <class 'tuple'>\n('mark', 'elon') <class 'tuple'>\n('',) <class 'tuple'>\nbitlabs <class 'str'>\nFalse\n",
     "output_type": "stream"
    }
   ]
  },
  {
   "cell_type": "markdown",
   "source": "Tuple yang termasuk dalam kategori *sequence* dalam Python, juga memiliki sistem indeks dan irisan yang sama dengan list. Tidak ada yang berbeda dalam hal ini.\n\n```python\n# akses ceo pertama\nprint(ceo[0])\n\n# akses ceo terakhir dengan indeks negatif\nprint(ceo[-1])\n```",
   "metadata": {
    "slideshow": {
     "slide_type": "subslide"
    },
    "tags": [],
    "cell_id": "00003-4e0a4665-595f-4428-9276-f6b861c58847",
    "deepnote_cell_type": "markdown"
   }
  },
  {
   "cell_type": "markdown",
   "source": "Misalkan, kita ingin membongkar elemen `same_ceo` ke dalam variabel `first_ceo` dan `second_ceo`. Kita bisa melakukan *indexing* dan memasukkan nilainya ke dalam variabel tersebut satu persatu seperti di bawah ini.\n\n```python\nfirst_ceo = ceo[0]\nsecond_ceo = ceo[1]\n```\n\nAtau, cara lain yang lebih *pythonic*\n\n```python\nfirst_ceo, second_ceo = ceo\n```",
   "metadata": {
    "slideshow": {
     "slide_type": "subslide"
    },
    "tags": [],
    "cell_id": "00004-9e0cfebc-3898-4fe4-a5e2-81ecba55c30f",
    "deepnote_cell_type": "markdown"
   }
  },
  {
   "cell_type": "markdown",
   "source": "<div class=\"alert alert-block alert-info\">\n    <b>Kuis:</b> Dengan <em>unpacking</em>, definisikan variabel <code>longitude</code> dan <code>latitude</code> dari variabel <code>location</code> pada cell bawah ini\n</div>",
   "metadata": {
    "slideshow": {
     "slide_type": "subslide"
    },
    "tags": [],
    "cell_id": "00005-d2d60493-0ac5-49bf-b40e-6d95bcb99c81",
    "deepnote_cell_type": "markdown"
   }
  },
  {
   "cell_type": "code",
   "metadata": {
    "cell_id": "00006-19bcb18f-da44-4dcb-a164-17078a88869d",
    "deepnote_to_be_reexecuted": false,
    "source_hash": "f4e56ff5",
    "execution_start": 1632922878026,
    "execution_millis": 245411950,
    "deepnote_cell_type": "code"
   },
   "source": "location = -6.91589099562453, 107.62285836361218\nprint(location)\n\n# KETIK DI SINI\n\n\n",
   "execution_count": null,
   "outputs": [
    {
     "name": "stdout",
     "text": "(-6.91589099562453, 107.62285836361218)\n",
     "output_type": "stream"
    }
   ]
  },
  {
   "cell_type": "markdown",
   "source": "## Mendefinisikan Tuple dengan `tuple()`\n\nSebagai contoh, kita lakukan hal yang sama seperti pada [list](./list.ipynb) sebelumnya pada string `\"bitlabs\"`. Selain itu, masih ingat dengan variabel `first_quarter_months`? Kita bisa mengubah list tersebut menjadi tuple dengan fungsi `tuple`.",
   "metadata": {
    "slideshow": {
     "slide_type": "slide"
    },
    "tags": [],
    "cell_id": "00007-aa91f48f-c5f2-4d1b-8ccc-0f75b3c9ac9b",
    "deepnote_cell_type": "markdown"
   }
  },
  {
   "cell_type": "code",
   "metadata": {
    "cell_id": "00008-fa016013-ffeb-4327-a596-f7127c0ae4cf",
    "deepnote_to_be_reexecuted": false,
    "source_hash": "37508ed7",
    "execution_start": 1632922878026,
    "execution_millis": 245411986,
    "deepnote_cell_type": "code"
   },
   "source": "first_quarter_months = [\"January\", \"February\", \"March\"]\n\nprint(first_quarter_months, type(first_quarter_months))\nprint(tuple(first_quarter_months), type(tuple(first_quarter_months)))\nprint(tuple())\nprint(tuple(\"bitlabs\"))",
   "execution_count": null,
   "outputs": [
    {
     "name": "stdout",
     "text": "['January', 'February', 'March'] <class 'list'>\n('January', 'February', 'March') <class 'tuple'>\n()\n('b', 'i', 't', 'l', 'a', 'b', 's')\n",
     "output_type": "stream"
    }
   ]
  },
  {
   "cell_type": "markdown",
   "source": "<div class=\"alert alert-block alert-info\">\n<p><b>Kuis:</b></p>\n<p>Misal didefinisikan variabel di bawah ini.</p>\n<pre>\ntuple_x = list(), str(), int(), float()\ntuple_y = (list(), str(), int(), float())\n</pre>\n\n\n<p>Kira-kira apa yang ditampilkan dari kode di bawah?</p>\n<pre>\nprint(tuple_x == tuple_y)\nprint(tuple_y[0])\n</pre>\n</div>",
   "metadata": {
    "slideshow": {
     "slide_type": "subslide"
    },
    "tags": [],
    "cell_id": "00009-42e25862-c107-4ce4-b10e-59bd084ac7c6",
    "deepnote_cell_type": "markdown"
   }
  },
  {
   "cell_type": "code",
   "metadata": {
    "cell_id": "00010-eef16879-ebe9-4c98-9bec-79205c56372a",
    "deepnote_to_be_reexecuted": false,
    "source_hash": "89755c63",
    "execution_start": 1633008900617,
    "execution_millis": 11,
    "deepnote_cell_type": "code"
   },
   "source": "# KETIK DI SINI\ntuple_x = list(), str(), int(), float()\ntuple_y = (list(), str(), int(), float())\nprint(tuple_x == tuple_y)\nprint(tuple_y[2])",
   "execution_count": null,
   "outputs": [
    {
     "name": "stdout",
     "text": "True\n0\n",
     "output_type": "stream"
    }
   ]
  },
  {
   "cell_type": "code",
   "metadata": {
    "tags": [],
    "cell_id": "00011-3551a62f-bc73-4dc4-a9b5-00dc6658dff8",
    "deepnote_cell_type": "code"
   },
   "source": "",
   "execution_count": null,
   "outputs": []
  },
  {
   "cell_type": "markdown",
   "source": "<a style='text-decoration:none;line-height:16px;display:flex;color:#5B5B62;padding:10px;justify-content:end;' href='https://deepnote.com?utm_source=created-in-deepnote-cell&projectId=b94dbdc3-5beb-4253-8ac8-903563c1644d' target=\"_blank\">\n<img alt='Created in deepnote.com' style='display:inline;max-height:16px;margin:0px;margin-right:7.5px;' src='data:image/svg+xml;base64,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' > </img>\nCreated in <span style='font-weight:600;margin-left:4px;'>Deepnote</span></a>",
   "metadata": {
    "tags": [],
    "created_in_deepnote_cell": true,
    "deepnote_cell_type": "markdown"
   }
  }
 ],
 "nbformat": 4,
 "nbformat_minor": 5,
 "metadata": {
  "kernelspec": {
   "display_name": "Python 3",
   "language": "python",
   "name": "python3"
  },
  "language_info": {
   "codemirror_mode": {
    "name": "ipython",
    "version": 3
   },
   "file_extension": ".py",
   "mimetype": "text/x-python",
   "name": "python",
   "nbconvert_exporter": "python",
   "pygments_lexer": "ipython3",
   "version": "3.8.6"
  },
  "deepnote_notebook_id": "0bcbdbf8-89e0-4650-9425-798113f0008d",
  "deepnote": {},
  "deepnote_execution_queue": []
 }
}