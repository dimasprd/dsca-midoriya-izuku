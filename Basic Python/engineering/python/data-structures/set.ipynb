{
 "cells": [
  {
   "cell_type": "markdown",
   "source": "# Set\n\nSet adalah sebuah struktur data dalam Python yang **tidak terurut** (*unordered*), *immutable*, dan setiap elemennya unik. Oleh karena setiap elemen dalam `set` adalah unik, maka tidak ada duplikat di dalamny, meskipun kita \"dengan sengaja\" mendefinisikan `set` dengan nilai duplikat.",
   "metadata": {
    "slideshow": {
     "slide_type": "slide"
    },
    "tags": [],
    "cell_id": "00000-7f2c0456-2b56-4611-b1e0-fdb049011d22",
    "deepnote_cell_type": "markdown"
   }
  },
  {
   "cell_type": "markdown",
   "source": "## Mendefinisikan Set dengan `{}`\n\nCara pertama untuk mendefinisikan `set` adalah dengan mendaftarkan objek-objek yang memiliki nilai *hash* di dalam `{}` dan setiap elemennya dipisahkan dengan `,`.",
   "metadata": {
    "slideshow": {
     "slide_type": "slide"
    },
    "tags": [],
    "cell_id": "00001-c33964da-72e8-4b96-9ef3-5bd42a9cac13",
    "deepnote_cell_type": "markdown"
   }
  },
  {
   "cell_type": "code",
   "metadata": {
    "cell_id": "00002-ffbec5f4-f550-4d9a-861c-a4e09af657f8",
    "deepnote_to_be_reexecuted": false,
    "source_hash": "22fb5143",
    "execution_start": 1633003844413,
    "execution_millis": 8,
    "deepnote_cell_type": "code"
   },
   "source": "set_is_unique = {1, 2, 3, 4, 4, 5, 1}  # akan menghasilkan {1, 2, 3, 4, 5}\nstring_in_set = {\"Bob\", \"Michael\", \"Kevin\", \"Stuart\", \"Bob\", \"Stuart\"}\n\nprint(set_is_unique, type(set_is_unique))\nprint(string_in_set, type(string_in_set))",
   "execution_count": null,
   "outputs": [
    {
     "name": "stdout",
     "text": "{1, 2, 3, 4, 5} <class 'set'>\n{'Stuart', 'Michael', 'Bob', 'Kevin'} <class 'set'>\n",
     "output_type": "stream"
    }
   ]
  },
  {
   "cell_type": "markdown",
   "source": "Tipe data `set` merepresentasikan arti sebenarnya, yaitu **himpunan**. Di matematika, kita mengenal ciri-ciri himpunan dan juga operasi yang melibatkan himpunan, seperti irisan, gabungan, dan lainnya.\n\n<div align=\"middle\">\n<img src=\"../../../assets/images/set-illustration.png\" width=\"50%\">\n</div>\n\nUntuk mendukung operasi tersebut, Python sudah menyediakan beberapa fungsi dan metode bawaan. Silakan baca dokumentasi Python [ini](https://docs.python.org/3.8/library/stdtypes.html#set-types-set-frozenset). Mari kita coba implementasikan beberapa pada kuis berikut.",
   "metadata": {
    "slideshow": {
     "slide_type": "subslide"
    },
    "tags": [],
    "cell_id": "00003-f7f40f53-4af7-4cbc-ac87-eaa18b49d0f2",
    "deepnote_cell_type": "markdown"
   }
  },
  {
   "cell_type": "markdown",
   "source": "> **Kuis:**\nMenggunakan fungsi dan metode bawaan untuk `set`, jawab/implementasikan soal di bawah ini:\n> 1. Definisikan 2 set menurut gambar di atas, dengan nama variabel `female_names` (kiri) dan `male_names` (kanan).\n2. Tampilkan 2 variabel tersebut dan jumlah masing-masing elemen.\n3. Buat variabel `all_names` yang berisikan semua nama gabungan dari `female_names` dan `male_names`.\n4. Buat variabel `female_male_names` yang memuat nama yang bisa termasuk dalam dua himpunan tersebut.\n5. Buat variabel `only_females` dan `only_males` yang memuat nama-nama dalam `female_names` yang tidak ada dalam `male_names` dan sebaliknya, secara beruturut-turut.",
   "metadata": {
    "slideshow": {
     "slide_type": "subslide"
    },
    "tags": [],
    "cell_id": "00004-fb195370-3ffc-4b6f-a295-5000d99c34f6",
    "deepnote_cell_type": "markdown"
   }
  },
  {
   "cell_type": "code",
   "metadata": {
    "cell_id": "00005-69b80cca-ec6c-4919-90c7-578c4cc656a1",
    "deepnote_to_be_reexecuted": false,
    "source_hash": "f78f3826",
    "execution_start": 1633437278187,
    "execution_millis": 5,
    "deepnote_cell_type": "code"
   },
   "source": "# KETIK DI SINI\nmale_names = {\"Eric\", \"Tom\", \"Adam\", \"Lee\"}\nfemale_names = {\"Sue\", \"Mary\", \"Kate\", \"Lee\"}\n\nonly_males = male_names.difference(female_names)\nonly_females = female_names.difference(male_names)\n\nprint(\"Females name only:\", only_females)",
   "execution_count": null,
   "outputs": [
    {
     "name": "stdout",
     "text": "Females name only: {'Sue', 'Kate', 'Mary'}\n",
     "output_type": "stream"
    }
   ]
  },
  {
   "cell_type": "code",
   "metadata": {
    "tags": [],
    "cell_id": "00006-04105c5a-c9c9-4f37-88b6-00b16bd5f381",
    "deepnote_to_be_reexecuted": false,
    "source_hash": "1d3b584f",
    "execution_start": 1633437335705,
    "execution_millis": 19,
    "deepnote_cell_type": "code"
   },
   "source": "female_names.union(male_names)",
   "execution_count": null,
   "outputs": [
    {
     "output_type": "execute_result",
     "execution_count": 4,
     "data": {
      "text/plain": "{'Adam', 'Eric', 'Kate', 'Lee', 'Mary', 'Sue', 'Tom'}"
     },
     "metadata": {}
    }
   ]
  },
  {
   "cell_type": "code",
   "metadata": {
    "tags": [],
    "cell_id": "00006-656056dd-8674-493a-ad06-535621593803",
    "deepnote_to_be_reexecuted": false,
    "source_hash": "ea967566",
    "execution_start": 1633008360809,
    "execution_millis": 10,
    "deepnote_cell_type": "code"
   },
   "source": "males = male_names\ncopy_males = male_names.copy()\n\nprint(males)\n#print(copy_males)\n\n#males.add(\"Abi\")\n#copy_males.add(\"Hasan\")\n\n#print(male_names)\n#print(males)\n#print(copy_males)",
   "execution_count": null,
   "outputs": [
    {
     "name": "stdout",
     "text": "{'Tom', 'Abi', 'Adam', 'Lee', 'Eric'}\n",
     "output_type": "stream"
    }
   ]
  },
  {
   "cell_type": "code",
   "metadata": {
    "tags": [],
    "cell_id": "00007-eb183776-4d91-4be1-bc6c-050ab6e1abc4",
    "deepnote_to_be_reexecuted": false,
    "source_hash": "ac08b1de",
    "execution_start": 1633004468166,
    "execution_millis": 12,
    "deepnote_cell_type": "code"
   },
   "source": "str(False), bool(str(False))",
   "execution_count": null,
   "outputs": [
    {
     "output_type": "execute_result",
     "execution_count": 8,
     "data": {
      "text/plain": "('False', True)"
     },
     "metadata": {}
    }
   ]
  },
  {
   "cell_type": "code",
   "metadata": {
    "tags": [],
    "cell_id": "00008-b1b77d4a-d3fb-4dfa-b4b2-432b4cb3b975",
    "deepnote_to_be_reexecuted": false,
    "source_hash": "dcb2e9d",
    "execution_start": 1633004617074,
    "execution_millis": 7,
    "deepnote_cell_type": "code"
   },
   "source": "empty_list = []\nprint(empty_list, type(empty_list), type, int, float, print, bool)",
   "execution_count": null,
   "outputs": [
    {
     "name": "stdout",
     "text": "[] <class 'list'> <class 'type'> <class 'int'> <class 'float'> <built-in function print> <class 'bool'>\n",
     "output_type": "stream"
    }
   ]
  },
  {
   "cell_type": "markdown",
   "source": "## Mendefinisikan Set dengan Fungsi `set()`\n\nSama dengan `tuple` dan `list`, untuk mendefinisikan set, Python menyediakan fungsi bawaan `set()` yang bisa digunakan untuk mendefinisikan set kosong (*empty set*) dan mengonversi objek dengan tipe data lain menjadi set.\n\nMari kita coba implementasi kode di bawah ini.\n\n```python\nempty_set = set()\npurchased_history = [\"batman\", \"robin\", \"iron man\", \"robin\", \"captain america\",\n                     \"iron man\", \"iron man\", \"superman\", \"batman\", \"superman\"]\nunique_purchased = set(purchased_history)\n```",
   "metadata": {
    "slideshow": {
     "slide_type": "slide"
    },
    "tags": [],
    "cell_id": "00006-53ebb5bf-cb87-411b-8cd4-ea13cc37ddd8",
    "deepnote_cell_type": "markdown"
   }
  },
  {
   "cell_type": "markdown",
   "source": "<a style='text-decoration:none;line-height:16px;display:flex;color:#5B5B62;padding:10px;justify-content:end;' href='https://deepnote.com?utm_source=created-in-deepnote-cell&projectId=b94dbdc3-5beb-4253-8ac8-903563c1644d' target=\"_blank\">\n<img alt='Created in deepnote.com' style='display:inline;max-height:16px;margin:0px;margin-right:7.5px;' src='data:image/svg+xml;base64,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' > </img>\nCreated in <span style='font-weight:600;margin-left:4px;'>Deepnote</span></a>",
   "metadata": {
    "tags": [],
    "created_in_deepnote_cell": true,
    "deepnote_cell_type": "markdown"
   }
  }
 ],
 "nbformat": 4,
 "nbformat_minor": 5,
 "metadata": {
  "kernelspec": {
   "display_name": "Python 3",
   "language": "python",
   "name": "python3"
  },
  "language_info": {
   "codemirror_mode": {
    "name": "ipython",
    "version": 3
   },
   "file_extension": ".py",
   "mimetype": "text/x-python",
   "name": "python",
   "nbconvert_exporter": "python",
   "pygments_lexer": "ipython3",
   "version": "3.8.6"
  },
  "deepnote_notebook_id": "af678782-7e1c-4a2f-96fe-c47725ff63f4",
  "deepnote": {},
  "deepnote_execution_queue": []
 }
}