{
 "cells": [
  {
   "cell_type": "markdown",
   "source": "# Dictionary\n\n*Dictionary* adalah objek pemetaan (*mapping*) yang memetakan **objek-objek yang memiliki nilai *hash* (*hashable*)** ke **sebarang objek**. Semua objek pemetaan memiliki karakteristik *mutable*, yaitu bisa diubah. Artinya, kita bisa mengubah elemen-elemen di dalam dictionary.\n\nElemen dalam dictionary terdiri dari 2 jenis: **key** dan **value**.\n* **key**, adalah tipe data yang *hashable*, yang berarti antara angka, string, atau tuple, yang berfungsi sebagai indeks.\n* **value**, adalah objek sebarang tipe data yang melekat pada satu *key* tertentu.",
   "metadata": {
    "slideshow": {
     "slide_type": "slide"
    },
    "tags": [],
    "cell_id": "00000-7d4bf4e3-7774-4ed5-9ba1-814bcc200852",
    "deepnote_cell_type": "markdown"
   }
  },
  {
   "cell_type": "markdown",
   "source": "## List vs Dictionary\n\nUntuk list, kita bisa mengakses suatu elemen dengan menggunakan indeks yang dimulai dari `0` sampai dengan `n-1` atau negatif indeks yang dimulai dari `-n` sampai `-1`. Pada dictionary, kita menggunakan *key* untuk mengakses suatu *value*.\n\nSebagai contoh, misalkan kita ingin mencatat data tinggi badan beberapa orang sebagai berikut: `166`, `169`, `172`. Dengan menggunakan dictionary, kita bisa masangkan nama orang dan tinggi badan orang tersebut dengan pemetaan berikut:\n* `john` → `166`\n* `stuart` → `169`\n* `kevin` → `171`\n\nKita bisa memasukkan nama sebagai *key* dan menggunakannya sebagai indeks semacam `height[\"john\"]` untuk mengakses tinggi badan `john`.",
   "metadata": {
    "slideshow": {
     "slide_type": "slide"
    },
    "tags": [],
    "cell_id": "00001-02aad3c3-fde1-4381-989e-37bf3cd847bb",
    "deepnote_cell_type": "markdown"
   }
  },
  {
   "cell_type": "markdown",
   "source": "## Mendefinisikan Dictionary dengan `{}`\n\nUntuk kasus yang sama pada data tinggi badan di atas, maka kita bisa mendefinisikannya sebagai dictionary seperti di bawah ini.\n\n```python\nheight = {\"john\": 166, \"stuart\": 169, \"kevin\": 171}\n```",
   "metadata": {
    "slideshow": {
     "slide_type": "slide"
    },
    "tags": [],
    "cell_id": "00002-688f54db-de07-4bbd-9c7d-8c14f8ad1343",
    "deepnote_cell_type": "markdown"
   }
  },
  {
   "cell_type": "code",
   "metadata": {
    "cell_id": "00003-255d3e6c-1614-4300-bef5-b94be813bf3b",
    "deepnote_to_be_reexecuted": false,
    "source_hash": "dce3d078",
    "execution_start": 1632979076252,
    "execution_millis": 145157572,
    "deepnote_cell_type": "code"
   },
   "source": "height = {\"john\": 166, \"stuart\": 169, \"kevin\": 171}\n\nprint(height, type(height))",
   "execution_count": null,
   "outputs": [
    {
     "name": "stdout",
     "text": "{'john': 166, 'stuart': 169, 'kevin': 171} <class 'dict'>\n",
     "output_type": "stream"
    }
   ]
  },
  {
   "cell_type": "markdown",
   "source": "Jika kita ingin cari tahu berapa tinggi badan Stuart, dengan notasi *indexing* yang sama dengan list (`var[indeks]`), kita bisa langsung tulis saja\n\n```python\nprint(height[\"stuart\"])\n```",
   "metadata": {
    "cell_id": "00004-5d22405f-0514-43b4-a773-b64c0b7d63a4",
    "deepnote_cell_type": "markdown"
   }
  },
  {
   "cell_type": "code",
   "metadata": {
    "cell_id": "00005-b9799550-1f6f-49b2-a167-dcf514cda569",
    "deepnote_to_be_reexecuted": false,
    "source_hash": "bbabfdcd",
    "execution_start": 1632979076317,
    "execution_millis": 145157602,
    "deepnote_cell_type": "code"
   },
   "source": "print(height[\"john\"])\nprint(height[\"stuart\"])\nprint(height[\"kevin\"])",
   "execution_count": null,
   "outputs": [
    {
     "name": "stdout",
     "text": "166\n169\n171\n",
     "output_type": "stream"
    }
   ]
  },
  {
   "cell_type": "markdown",
   "source": "> Bagaimana jika kita mendefinisikan dictionary dengan duplikat *key*?\n\nSaat kita mendefinisikan dictionary dengan memasukkan *key* yang sama lebih dari satu kali, maka pasangan terakhir yang akan disimpan.",
   "metadata": {
    "slideshow": {
     "slide_type": "subslide"
    },
    "tags": [],
    "cell_id": "00006-a32db755-be16-4217-950a-4d48591184cb",
    "deepnote_cell_type": "markdown"
   }
  },
  {
   "cell_type": "code",
   "metadata": {
    "cell_id": "00007-cfd49c6f-fa0d-4c82-9601-f05d49db177d",
    "deepnote_to_be_reexecuted": false,
    "source_hash": "1b628882",
    "execution_start": 1634053153261,
    "execution_millis": 1,
    "deepnote_cell_type": "code"
   },
   "source": "height = {\"john\": 166, \"stuart\": 169, \"kevin\": 171, \"john\": 190, \"Kevin\": 170}\n\nprint(height)",
   "execution_count": null,
   "outputs": [
    {
     "name": "stdout",
     "text": "{'john': 190, 'stuart': 169, 'kevin': 171, 'Kevin': 170}\n",
     "output_type": "stream"
    }
   ]
  },
  {
   "cell_type": "markdown",
   "source": "Karena dictionary merupakan *mutable* object, kita bisa mengubah elemen pada dictionary.\n\n```python\nheight[\"Kevin\"] = 167\n```",
   "metadata": {
    "slideshow": {
     "slide_type": "subslide"
    },
    "tags": [],
    "cell_id": "00008-2e6e3473-96df-401c-a551-f710c62cb4d5",
    "deepnote_cell_type": "markdown"
   }
  },
  {
   "cell_type": "code",
   "metadata": {
    "cell_id": "00009-97179301-87d1-45d6-ba11-d0c52e1c0420",
    "deepnote_to_be_reexecuted": false,
    "source_hash": "e2128ef4",
    "execution_start": 1632979076402,
    "execution_millis": 145157642,
    "deepnote_cell_type": "code"
   },
   "source": "# ubah value kevin dan Kevin\nheight[\"kevin\"] = 180\nheight[\"Kevin\"] = 167\n\nprint(height)",
   "execution_count": null,
   "outputs": [
    {
     "name": "stdout",
     "text": "{'john': 190, 'stuart': 169, 'kevin': 180, 'Kevin': 167}\n",
     "output_type": "stream"
    }
   ]
  },
  {
   "cell_type": "markdown",
   "source": "## Mendefinisikan Dictionary dengan `dict()`\n\nPython menyediakan fungsi bawaan `dict()` untuk mendefinisikan dictionary baru dengan cara:\n* `dict()` untuk dictionary kosong\n* `dict(john=166, stuart=169, kevin=171)` untuk mendefinisikan dictionary yang sama pada kasus sebelumnya\n* `dict()` untuk menginisiasi dictionary kosong, kemudian mengisi pasangan *key-value* satu per satu, baris per baris\n\n```python\n# dictionary kosong\nempty_dict = dict()\n\n# cara 1\nfunctional_dict = dict(john=166, stuart=169, kevin=171)\n\n# cara 2\nsequential_dict = dict()\nsequential_dict[\"john\"] = 166\nsequential_dict[\"stuart\"] = 169\nsequential_dict[\"kevin\"] = 171\n```",
   "metadata": {
    "slideshow": {
     "slide_type": "slide"
    },
    "tags": [],
    "cell_id": "00010-b4e4e95a-14e8-4e0d-8c21-c09cc57f5962",
    "deepnote_cell_type": "markdown"
   }
  },
  {
   "cell_type": "markdown",
   "source": "> **Kuis:** Buatlah dictionary dengan nama `population` yang berisikan data berikut ini.\n>\n> | keys | value |\n> | ---- | ----- |\n> | Jakarta | 20.8 |\n> | Surabaya | 18.2 |\n> | Bandung | 15.1 |\n> | Semarang | 12.3 |",
   "metadata": {
    "slideshow": {
     "slide_type": "subslide"
    },
    "tags": [],
    "cell_id": "00011-6c2f4012-d155-4dc6-9473-714bad43e632",
    "deepnote_cell_type": "markdown"
   }
  },
  {
   "cell_type": "code",
   "metadata": {
    "cell_id": "00012-905e527c-9819-413a-9364-9f46aff44c5d",
    "deepnote_to_be_reexecuted": false,
    "source_hash": "9801247",
    "execution_start": 1632979076403,
    "execution_millis": 145157638,
    "deepnote_cell_type": "code"
   },
   "source": "# KETIK DI SINI",
   "execution_count": null,
   "outputs": []
  },
  {
   "cell_type": "markdown",
   "source": "## Fungsi dan Metode Bawaan Dictionary\n\n> Kita hanya mencoba fungsi dan metode bawaan dictionary yang paling sering dipakai karena jumlahnya yang banyak. Untuk detail fungsi dan metode apa saja serta apa kegunaannya, silakan dilihat di halaman [dokumentasi](https://docs.python.org/3.8/library/stdtypes.html#mapping-types-dict).\n\nBeberapa fungsi dan metode bawaan yang sering dipakai disajikan pada tabel di bawah ini.\n\n| name | function/method | usage | example |\n| --- | --- | --- | --- |\n| keys | *method* | return a sequence of dictionary's keys | `height.keys()` |\n| values | *method* | return a sequence of dictionary's values | `height.values()` |\n| items | *method* | return a sequence of tuple of key and value pair for first and second index, respectively | `height.items()` |\n| get | *method* | return a value of the *key* passed into `get` if exist. If not, choose to provide a default value or not | `height.get(\"kevin\")` |\n| len | *function* | return the length or number of element in dictionary | `len(height)` |\n| update | *method* | update the corresponding dictionary with new key-value pair, if the key is already exist, update the value instead | `height.update({\"kevin\": 190\"})` |",
   "metadata": {
    "slideshow": {
     "slide_type": "slide"
    },
    "tags": [],
    "cell_id": "00013-d76b9f33-b483-49ab-9dbb-fc2e22a8490a",
    "deepnote_cell_type": "markdown"
   }
  },
  {
   "cell_type": "code",
   "metadata": {
    "slideshow": {
     "slide_type": "subslide"
    },
    "tags": [],
    "cell_id": "00014-23a2564c-737d-41b9-b598-e4a5f34fa7bb",
    "deepnote_to_be_reexecuted": false,
    "source_hash": "a0f3c467",
    "execution_start": 1634053159232,
    "execution_millis": 11,
    "deepnote_cell_type": "code"
   },
   "source": "print(height.keys())",
   "execution_count": null,
   "outputs": [
    {
     "name": "stdout",
     "text": "dict_keys(['john', 'stuart', 'kevin', 'Kevin'])\n",
     "output_type": "stream"
    }
   ]
  },
  {
   "cell_type": "code",
   "metadata": {
    "cell_id": "00015-031d3f42-a83e-4cfd-aef1-f6a9ebeedf74",
    "deepnote_to_be_reexecuted": false,
    "source_hash": "4a14d8aa",
    "execution_start": 1632979076430,
    "execution_millis": 145157668,
    "deepnote_cell_type": "code"
   },
   "source": "print(height.values())",
   "execution_count": null,
   "outputs": [
    {
     "name": "stdout",
     "text": "dict_values([190, 169, 180, 167])\n",
     "output_type": "stream"
    }
   ]
  },
  {
   "cell_type": "code",
   "metadata": {
    "cell_id": "00016-5949e44b-8de5-4c0f-bc33-60a2315fd900",
    "deepnote_to_be_reexecuted": false,
    "source_hash": "6cdde777",
    "execution_start": 1632979076431,
    "execution_millis": 145157626,
    "deepnote_cell_type": "code"
   },
   "source": "print(height.items())",
   "execution_count": null,
   "outputs": [
    {
     "name": "stdout",
     "text": "dict_items([('john', 190), ('stuart', 169), ('kevin', 180), ('Kevin', 167)])\n",
     "output_type": "stream"
    }
   ]
  },
  {
   "cell_type": "code",
   "metadata": {
    "cell_id": "00017-cf17b4a4-37b9-4221-b885-7d9290f2dbb2",
    "deepnote_to_be_reexecuted": false,
    "source_hash": "5ff793e1",
    "execution_start": 1632979076431,
    "execution_millis": 145157636,
    "deepnote_cell_type": "code"
   },
   "source": "print(height.get(\"Kevin\"))\nprint(height.get(\"michael\"))\nprint(height.get(\"michael\", \"Oops. Key not found!\"))",
   "execution_count": null,
   "outputs": [
    {
     "name": "stdout",
     "text": "167\nNone\nOops. Key not found!\n",
     "output_type": "stream"
    }
   ]
  },
  {
   "cell_type": "code",
   "metadata": {
    "cell_id": "00018-f4215089-ff03-4aa3-ab33-bbb67dbdc48e",
    "deepnote_to_be_reexecuted": false,
    "source_hash": "4650222c",
    "execution_start": 1632979076432,
    "execution_millis": 145157598,
    "deepnote_cell_type": "code"
   },
   "source": "height.update({\"michael\": 177, \"kevin\": 190})\nprint(height)",
   "execution_count": null,
   "outputs": [
    {
     "name": "stdout",
     "text": "{'john': 190, 'stuart': 169, 'kevin': 190, 'Kevin': 167, 'michael': 177}\n",
     "output_type": "stream"
    }
   ]
  },
  {
   "cell_type": "markdown",
   "source": "<a style='text-decoration:none;line-height:16px;display:flex;color:#5B5B62;padding:10px;justify-content:end;' href='https://deepnote.com?utm_source=created-in-deepnote-cell&projectId=b94dbdc3-5beb-4253-8ac8-903563c1644d' target=\"_blank\">\n<img alt='Created in deepnote.com' style='display:inline;max-height:16px;margin:0px;margin-right:7.5px;' src='data:image/svg+xml;base64,PD94bWwgdmVyc2lvbj0iMS4wIiBlbmNvZGluZz0iVVRGLTgiPz4KPHN2ZyB3aWR0aD0iODBweCIgaGVpZ2h0PSI4MHB4IiB2aWV3Qm94PSIwIDAgODAgODAiIHZlcnNpb249IjEuMSIgeG1sbnM9Imh0dHA6Ly93d3cudzMub3JnLzIwMDAvc3ZnIiB4bWxuczp4bGluaz0iaHR0cDovL3d3dy53My5vcmcvMTk5OS94bGluayI+CiAgICA8IS0tIEdlbmVyYXRvcjogU2tldGNoIDU0LjEgKDc2NDkwKSAtIGh0dHBzOi8vc2tldGNoYXBwLmNvbSAtLT4KICAgIDx0aXRsZT5Hcm91cCAzPC90aXRsZT4KICAgIDxkZXNjPkNyZWF0ZWQgd2l0aCBTa2V0Y2guPC9kZXNjPgogICAgPGcgaWQ9IkxhbmRpbmciIHN0cm9rZT0ibm9uZSIgc3Ryb2tlLXdpZHRoPSIxIiBmaWxsPSJub25lIiBmaWxsLXJ1bGU9ImV2ZW5vZGQiPgogICAgICAgIDxnIGlkPSJBcnRib2FyZCIgdHJhbnNmb3JtPSJ0cmFuc2xhdGUoLTEyMzUuMDAwMDAwLCAtNzkuMDAwMDAwKSI+CiAgICAgICAgICAgIDxnIGlkPSJHcm91cC0zIiB0cmFuc2Zvcm09InRyYW5zbGF0ZSgxMjM1LjAwMDAwMCwgNzkuMDAwMDAwKSI+CiAgICAgICAgICAgICAgICA8cG9seWdvbiBpZD0iUGF0aC0yMCIgZmlsbD0iIzAyNjVCNCIgcG9pbnRzPSIyLjM3NjIzNzYyIDgwIDM4LjA0NzY2NjcgODAgNTcuODIxNzgyMiA3My44MDU3NTkyIDU3LjgyMTc4MjIgMzIuNzU5MjczOSAzOS4xNDAyMjc4IDMxLjY4MzE2ODMiPjwvcG9seWdvbj4KICAgICAgICAgICAgICAgIDxwYXRoIGQ9Ik0zNS4wMDc3MTgsODAgQzQyLjkwNjIwMDcsNzYuNDU0OTM1OCA0Ny41NjQ5MTY3LDcxLjU0MjI2NzEgNDguOTgzODY2LDY1LjI2MTk5MzkgQzUxLjExMjI4OTksNTUuODQxNTg0MiA0MS42NzcxNzk1LDQ5LjIxMjIyODQgMjUuNjIzOTg0Niw0OS4yMTIyMjg0IEMyNS40ODQ5Mjg5LDQ5LjEyNjg0NDggMjkuODI2MTI5Niw0My4yODM4MjQ4IDM4LjY0NzU4NjksMzEuNjgzMTY4MyBMNzIuODcxMjg3MSwzMi41NTQ0MjUgTDY1LjI4MDk3Myw2Ny42NzYzNDIxIEw1MS4xMTIyODk5LDc3LjM3NjE0NCBMMzUuMDA3NzE4LDgwIFoiIGlkPSJQYXRoLTIyIiBmaWxsPSIjMDAyODY4Ij48L3BhdGg+CiAgICAgICAgICAgICAgICA8cGF0aCBkPSJNMCwzNy43MzA0NDA1IEwyNy4xMTQ1MzcsMC4yNTcxMTE0MzYgQzYyLjM3MTUxMjMsLTEuOTkwNzE3MDEgODAsMTAuNTAwMzkyNyA4MCwzNy43MzA0NDA1IEM4MCw2NC45NjA0ODgyIDY0Ljc3NjUwMzgsNzkuMDUwMzQxNCAzNC4zMjk1MTEzLDgwIEM0Ny4wNTUzNDg5LDc3LjU2NzA4MDggNTMuNDE4MjY3Nyw3MC4zMTM2MTAzIDUzLjQxODI2NzcsNTguMjM5NTg4NSBDNTMuNDE4MjY3Nyw0MC4xMjg1NTU3IDM2LjMwMzk1NDQsMzcuNzMwNDQwNSAyNS4yMjc0MTcsMzcuNzMwNDQwNSBDMTcuODQzMDU4NiwzNy43MzA0NDA1IDkuNDMzOTE5NjYsMzcuNzMwNDQwNSAwLDM3LjczMDQ0MDUgWiIgaWQ9IlBhdGgtMTkiIGZpbGw9IiMzNzkzRUYiPjwvcGF0aD4KICAgICAgICAgICAgPC9nPgogICAgICAgIDwvZz4KICAgIDwvZz4KPC9zdmc+' > </img>\nCreated in <span style='font-weight:600;margin-left:4px;'>Deepnote</span></a>",
   "metadata": {
    "tags": [],
    "created_in_deepnote_cell": true,
    "deepnote_cell_type": "markdown"
   }
  }
 ],
 "nbformat": 4,
 "nbformat_minor": 5,
 "metadata": {
  "kernelspec": {
   "display_name": "Python 3",
   "language": "python",
   "name": "python3"
  },
  "language_info": {
   "codemirror_mode": {
    "name": "ipython",
    "version": 3
   },
   "file_extension": ".py",
   "mimetype": "text/x-python",
   "name": "python",
   "nbconvert_exporter": "python",
   "pygments_lexer": "ipython3",
   "version": "3.9.4"
  },
  "deepnote_notebook_id": "f897af8a-67d3-4ef8-8749-93cc08cbc440",
  "deepnote": {},
  "deepnote_execution_queue": []
 }
}