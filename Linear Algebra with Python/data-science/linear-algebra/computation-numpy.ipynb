{
 "cells": [
  {
   "cell_type": "markdown",
   "source": "# Operasi dan Komputasi Array dengan NumPy\n\nSetelah kita memahami apa dan bagaimana array dalam NumPy bisa membantu kita merepresentasikan sekumpulan nilai atau data, saatnya untuk menerapkan beberapa operasi dan manipulasi array dengan array.",
   "metadata": {
    "slideshow": {
     "slide_type": "slide"
    },
    "tags": [],
    "cell_id": "00000-57e11e2b-83e4-4878-bbe6-6adf909e9ce9",
    "deepnote_cell_type": "markdown"
   }
  },
  {
   "cell_type": "code",
   "metadata": {
    "cell_id": "00001-03535441-4103-4958-8999-7ce895b376ca",
    "deepnote_to_be_reexecuted": false,
    "source_hash": "c2602aa8",
    "execution_start": 1635334247415,
    "execution_millis": 8,
    "output_cleared": true,
    "deepnote_cell_type": "code"
   },
   "source": "import numpy as np",
   "execution_count": null,
   "outputs": []
  },
  {
   "cell_type": "markdown",
   "source": "## Manipulasi Array\n\nManipulasi array adalah babagimana sebuah array dapat diubah bentuk dan representasinya ke dalam bentuk dan representasi lain. Misalkan kita definisikan array 1D dan 2D seperti pada potongan kode di bawah.\n\n```python\narray2d = np.array([[1, 2, 4], [2, 4, 8], [3, 6, 18], [4, 16, 32]])\narray3d = np.array([[[.1, .4], [.2, .5], [.3, .6]], [[.7, 1.], [.8, 1.1], [.9, 1.2]]])\n```",
   "metadata": {
    "slideshow": {
     "slide_type": "slide"
    },
    "tags": [],
    "cell_id": "00002-eb46ba98-6080-4cea-868f-fa7e4dfce6a5",
    "deepnote_cell_type": "markdown"
   }
  },
  {
   "cell_type": "markdown",
   "source": "NumPy menyediakan fungsi dan metode bawaan untuk melakukan beberapa manipulasi array yang meliputi:\n* Mengubah dimensi atau ukuran array\n* Meratakan array multidimensi menjadi 1D yang panjang\n* Melakukan tranpose\n* Menggabungkan beberapa array menjadi satu\n* dan lainya",
   "metadata": {
    "slideshow": {
     "slide_type": "subslide"
    },
    "tags": [],
    "cell_id": "00003-efbde91b-4e99-4e97-adfb-addde95a072a",
    "deepnote_cell_type": "markdown"
   }
  },
  {
   "cell_type": "code",
   "metadata": {
    "cell_id": "00004-37ac0442-0be6-4553-98da-af46d94072e6",
    "deepnote_to_be_reexecuted": false,
    "source_hash": "ac2b0c6e",
    "execution_start": 1635509944600,
    "output_cleared": false,
    "execution_millis": 175697145,
    "deepnote_cell_type": "code"
   },
   "source": "array2d = np.array([[1, 2, 4], [2, 4, 8], [3, 6, 18], [4, 16, 32]])\narray3d = np.array([[[.1, .4], [.2, .5], [.3, .6]], [[.7, 1.], [.8, 1.1], [.9, 1.2]]])\n\nprint(array2d)\nprint(array3d)",
   "execution_count": null,
   "outputs": [
    {
     "name": "stdout",
     "text": "[[ 1  2  4]\n [ 2  4  8]\n [ 3  6 18]\n [ 4 16 32]]\n[[[0.1 0.4]\n  [0.2 0.5]\n  [0.3 0.6]]\n\n [[0.7 1. ]\n  [0.8 1.1]\n  [0.9 1.2]]]\n",
     "output_type": "stream"
    }
   ]
  },
  {
   "cell_type": "markdown",
   "source": "### Mengubah Dimensi Array\n\nMengubah dimensi suatu array dapat dilakukan dengan 2 cara:\n* menggunakan fungsi\n* menggunakan metode array\n\nHampir semua fungsi yang digunakan untuk mengubah dimensi memiliki padanan metode, sehingga akan lebih singkat dalam mengetik. Beberapa fungsi dengan tujuan ini seperti `numpy.reshape`, `numpy.tranpose`, `numpy.squeeze`, dan `numpy.expand_dims`.",
   "metadata": {
    "slideshow": {
     "slide_type": "slide"
    },
    "tags": [],
    "cell_id": "00005-1a6ab821-9074-4d4e-a63c-93a364644080",
    "deepnote_cell_type": "markdown"
   }
  },
  {
   "cell_type": "markdown",
   "source": "`numpy.reshape` akan mengubah dimensi array masukan `a` mejadi dimensi baru `newshape` yang kita beri. Perlu diperhatikan bahwa dimensi baru yang diminta haruslah kompatibel dengan ukuran aslinya, alias jumlah elemen yang ada di dalam suatu array harus selalu sama. Sebagai contoh, mari kita coba kode di bawah ini yang mengubah ukuran `array2d` dan `array3d`.",
   "metadata": {
    "slideshow": {
     "slide_type": "subslide"
    },
    "tags": [],
    "cell_id": "00006-b82d0fdf-7f4c-4fa0-b232-e6b28c64d672",
    "deepnote_cell_type": "markdown"
   }
  },
  {
   "cell_type": "code",
   "metadata": {
    "slideshow": {
     "slide_type": "fragment"
    },
    "tags": [],
    "cell_id": "00007-bf684215-55fc-44fb-a0ce-b914303dc1e1",
    "deepnote_to_be_reexecuted": false,
    "source_hash": "1977153f",
    "execution_start": 1635334247519,
    "output_cleared": true,
    "deepnote_cell_type": "code"
   },
   "source": "print(\"old shape:\", array2d.shape)\nprint(array2d)\narray2d_new = np.reshape(array2d, (2, 6))\nprint(\"new shape:\", array2d_new.shape)\nprint(array2d_new)",
   "execution_count": null,
   "outputs": []
  },
  {
   "cell_type": "code",
   "metadata": {
    "slideshow": {
     "slide_type": "fragment"
    },
    "tags": [],
    "cell_id": "00008-86fc6287-2ee3-4d39-a1cf-6fda699dd613",
    "deepnote_to_be_reexecuted": false,
    "source_hash": "a129d50c",
    "execution_start": 1635334247520,
    "output_cleared": true,
    "deepnote_cell_type": "code"
   },
   "source": "print(\"old shape:\", array3d.shape)\nprint(array3d)\narray3d_new = np.reshape(array3d, (4, 3))\nprint(\"new shape:\", array3d_new.shape)\nprint(array3d_new)",
   "execution_count": null,
   "outputs": []
  },
  {
   "cell_type": "markdown",
   "source": "Jika kita memaksa untuk mengubah dimensi array ke dimensi yang baru yang jumlah elemennya lebih kecil ataupu besar, maka kita akan mendapatkan `ValueError`. Misalkan kita ingin mengubah `array2d` menjadi array berdimensi `(5, 3)`. Maka kita akan mendapatkan `ValueError`.\n\nSelain dengan fungsi `numpy.reshape`, NumPy juga menyediakan metode `ndarray.reshape` yang ekuivalen dengan `numpy.reshape`.",
   "metadata": {
    "slideshow": {
     "slide_type": "subslide"
    },
    "tags": [],
    "cell_id": "00009-fe7624c8-3820-4882-9744-e8d1c73bece8",
    "deepnote_cell_type": "markdown"
   }
  },
  {
   "cell_type": "code",
   "metadata": {
    "slideshow": {
     "slide_type": "fragment"
    },
    "tags": [],
    "cell_id": "00010-7273d077-866b-4e76-9894-23bcff4118cf",
    "deepnote_to_be_reexecuted": false,
    "source_hash": "4e5c5226",
    "execution_start": 1635334247564,
    "execution_millis": 1,
    "output_cleared": true,
    "deepnote_cell_type": "code"
   },
   "source": "array3d.reshape((4, 3))",
   "execution_count": null,
   "outputs": []
  },
  {
   "cell_type": "markdown",
   "source": "`numpy.transpose`, sesuai namanya, akan melakukan operasi *transpose*, yaitu mengubah dimensi array dari yang awalnya berukuran `(n, m)` menjadi `(m, n)`. Untuk array multidimensi, jika tidak diberikan urutan dimensi yang baru, maka urutan dimensi akan dibalik. Misalkan dari yang awalnya berukuran `(n, m, l, k)` menjadi `(k, l, m, n)`. Akan tetapi, jika argumen untuk parameter `axes` kita berikan, maka dimensi awal akan disusun ulang (permutasi) berdasarkan urutan indeks pada `axes`.",
   "metadata": {
    "slideshow": {
     "slide_type": "subslide"
    },
    "tags": [],
    "cell_id": "00011-3182c018-5c3d-4ccd-94da-d63767a7e6c0",
    "deepnote_cell_type": "markdown"
   }
  },
  {
   "cell_type": "code",
   "metadata": {
    "slideshow": {
     "slide_type": "fragment"
    },
    "tags": [],
    "cell_id": "00012-96b0ee3c-425d-4629-b573-969926ffa837",
    "deepnote_to_be_reexecuted": false,
    "source_hash": "10f1674e",
    "execution_start": 1635512041743,
    "output_cleared": false,
    "execution_millis": 1576,
    "deepnote_cell_type": "code"
   },
   "source": "np.transpose(array2d)",
   "execution_count": null,
   "outputs": [
    {
     "output_type": "error",
     "ename": "NameError",
     "evalue": "name 'np' is not defined",
     "traceback": [
      "\u001b[0;31m---------------------------------------------------------------------------\u001b[0m",
      "\u001b[0;31mNameError\u001b[0m                                 Traceback (most recent call last)",
      "\u001b[0;32m<ipython-input-1-82e2833d1c0f>\u001b[0m in \u001b[0;36m<module>\u001b[0;34m\u001b[0m\n\u001b[0;32m----> 1\u001b[0;31m \u001b[0mnp\u001b[0m\u001b[0;34m.\u001b[0m\u001b[0mtranspose\u001b[0m\u001b[0;34m(\u001b[0m\u001b[0marray2d\u001b[0m\u001b[0;34m)\u001b[0m\u001b[0;34m\u001b[0m\u001b[0;34m\u001b[0m\u001b[0m\n\u001b[0m",
      "\u001b[0;31mNameError\u001b[0m: name 'np' is not defined"
     ]
    }
   ]
  },
  {
   "cell_type": "code",
   "metadata": {
    "cell_id": "00013-bd29911c-9b21-42e8-9fee-bed58a1f1300",
    "deepnote_to_be_reexecuted": false,
    "source_hash": "e0a0c088",
    "execution_start": 1635334247606,
    "output_cleared": true,
    "deepnote_cell_type": "code"
   },
   "source": "np.transpose(array2d, axes=(1, 0))",
   "execution_count": null,
   "outputs": []
  },
  {
   "cell_type": "code",
   "metadata": {
    "slideshow": {
     "slide_type": "fragment"
    },
    "tags": [],
    "cell_id": "00014-c05f6868-02eb-437a-a2c9-dce3e3008258",
    "deepnote_to_be_reexecuted": false,
    "source_hash": "126a6957",
    "execution_start": 1635334247663,
    "output_cleared": true,
    "deepnote_cell_type": "code"
   },
   "source": "np.transpose(array3d)",
   "execution_count": null,
   "outputs": []
  },
  {
   "cell_type": "code",
   "metadata": {
    "cell_id": "00015-db32084d-3ee3-4c39-b81b-ffe126484d26",
    "deepnote_to_be_reexecuted": false,
    "source_hash": "af289911",
    "execution_start": 1635334247664,
    "execution_millis": 3,
    "output_cleared": true,
    "deepnote_cell_type": "code"
   },
   "source": "np.transpose(array3d, axes=(0, 2, 1))",
   "execution_count": null,
   "outputs": []
  },
  {
   "cell_type": "markdown",
   "source": "Selain dengan fungsi `numpy.tranpose`, kita juga bisa melakukan hal yang sama dengan metode `ndarray.transpose` atau `ndarray.T`. Khusus untuk `ndarray.T`, array yang dihasilkan hanyalah menukar dimensi pertama dengan dimensi terakhir array.",
   "metadata": {
    "slideshow": {
     "slide_type": "subslide"
    },
    "tags": [],
    "cell_id": "00016-bad5dd18-109b-4d13-bcc2-f864ecd7609e",
    "deepnote_cell_type": "markdown"
   }
  },
  {
   "cell_type": "code",
   "metadata": {
    "slideshow": {
     "slide_type": "fragment"
    },
    "tags": [],
    "cell_id": "00017-e6e30c78-dfdd-4815-b685-a28928fefc02",
    "deepnote_to_be_reexecuted": false,
    "source_hash": "c956c46f",
    "execution_start": 1635334247707,
    "output_cleared": true,
    "deepnote_cell_type": "code"
   },
   "source": "array2d.transpose()",
   "execution_count": null,
   "outputs": []
  },
  {
   "cell_type": "code",
   "metadata": {
    "cell_id": "00018-62cc3a1c-7864-417d-8650-8653346e37da",
    "deepnote_to_be_reexecuted": false,
    "source_hash": "1076c78c",
    "execution_start": 1635334247711,
    "output_cleared": true,
    "deepnote_cell_type": "code"
   },
   "source": "array3d.transpose()",
   "execution_count": null,
   "outputs": []
  },
  {
   "cell_type": "code",
   "metadata": {
    "slideshow": {
     "slide_type": "fragment"
    },
    "tags": [],
    "cell_id": "00019-5f7422fd-9757-4dd7-93d4-a84a1f02ed79",
    "deepnote_to_be_reexecuted": false,
    "source_hash": "3e230506",
    "execution_start": 1635334247799,
    "output_cleared": true,
    "deepnote_cell_type": "code"
   },
   "source": "array3d.T",
   "execution_count": null,
   "outputs": []
  },
  {
   "cell_type": "code",
   "metadata": {
    "slideshow": {
     "slide_type": "fragment"
    },
    "tags": [],
    "cell_id": "00020-e7cb8e28-514b-491c-bdd2-c72647e31006",
    "deepnote_to_be_reexecuted": false,
    "source_hash": "fdf78269",
    "execution_start": 1635334247800,
    "output_cleared": true,
    "deepnote_cell_type": "code"
   },
   "source": "array3d.transpose(1, 2, 0)",
   "execution_count": null,
   "outputs": []
  },
  {
   "cell_type": "code",
   "metadata": {
    "cell_id": "00021-4784a404-10d4-49da-812d-d82587e0e8bf",
    "deepnote_to_be_reexecuted": false,
    "source_hash": "fdf78269",
    "execution_start": 1635334247802,
    "output_cleared": true,
    "deepnote_cell_type": "code"
   },
   "source": "array3d.transpose(1, 2, 0)",
   "execution_count": null,
   "outputs": []
  },
  {
   "cell_type": "markdown",
   "source": "`numpy.squeeze` akan mengubah dimensi dengan menghapus dimensi dengan panjang **1**. Sebagai contoh, misalkan suatu array memiliki dimensi `(1, 3, 1)`, `numpy.squeeze` akan menghilangkan dimensi pertama (`0`) dan ketiga (`2`) yang jumlah elemennya 1, sehingga array tersebut akan berdimensi `(3,)`.\n\nSelain itu, kita juga bisa memilih dimensi (*axis*) mana yang akan kita hilangkan. *Axis* yang kita pilih harus memenuhi syarat jumlah elemennya harus 1. Jika tidak, kita akan mendapat `ValueError`.",
   "metadata": {
    "slideshow": {
     "slide_type": "subslide"
    },
    "tags": [],
    "cell_id": "00022-2aa7f78d-83c3-41ad-9fd3-dd9cc3c52ad0",
    "deepnote_cell_type": "markdown"
   }
  },
  {
   "cell_type": "code",
   "metadata": {
    "slideshow": {
     "slide_type": "subslide"
    },
    "tags": [],
    "cell_id": "00023-b36fa3f4-9998-4e30-af55-7fb0937871b8",
    "deepnote_to_be_reexecuted": false,
    "source_hash": "99b705c0",
    "execution_start": 1635334247844,
    "execution_millis": 5,
    "output_cleared": true,
    "deepnote_cell_type": "code"
   },
   "source": "rng = np.random.default_rng(11)\n\narray_131 = rng.integers(10, size=(1, 3, 1))\narray_212 = np.array([[[1, 2]], [[1, 2]]])\narray_11 = np.array([[10]])\nprint(array_131, array_131.shape)\nprint(array_11, array_11.shape)\nprint(array_212, array_212.shape",
   "execution_count": null,
   "outputs": []
  },
  {
   "cell_type": "code",
   "metadata": {
    "slideshow": {
     "slide_type": "subslide"
    },
    "tags": [],
    "cell_id": "00024-e536e44e-8696-4521-8060-f258a69a1643",
    "deepnote_to_be_reexecuted": false,
    "source_hash": "a424914b",
    "execution_start": 1635334247844,
    "execution_millis": 5,
    "output_cleared": true,
    "deepnote_cell_type": "code"
   },
   "source": "array_3 = np.squeeze(array_131)\nprint(array_3, array_3.shape)\n\narray_13 = np.squeeze(array_131, axis=-1)\nprint(array_13, array_13.shape)",
   "execution_count": null,
   "outputs": []
  },
  {
   "cell_type": "code",
   "metadata": {
    "slideshow": {
     "slide_type": "fragment"
    },
    "tags": [],
    "cell_id": "00025-3a3c2c8a-d2cb-486c-b8ec-5d64c6141cbd",
    "deepnote_to_be_reexecuted": false,
    "source_hash": "32645739",
    "execution_start": 1635334247845,
    "execution_millis": 44,
    "output_cleared": true,
    "deepnote_cell_type": "code"
   },
   "source": "array_22 = np.squeeze(array_212)\nprint(array_22, array_22.shape)",
   "execution_count": null,
   "outputs": []
  },
  {
   "cell_type": "code",
   "metadata": {
    "slideshow": {
     "slide_type": "fragment"
    },
    "tags": [],
    "cell_id": "00026-103eec7b-5d7d-4ca4-83e5-f35f8675188f",
    "deepnote_to_be_reexecuted": false,
    "source_hash": "4659f917",
    "execution_start": 1635334247888,
    "execution_millis": 1,
    "output_cleared": true,
    "deepnote_cell_type": "code"
   },
   "source": "array_0 = np.squeeze(array_11)\nprint(array_0, array_0.shape)\nprint(array_0.item())\nprint(array_0[()])",
   "execution_count": null,
   "outputs": []
  },
  {
   "cell_type": "markdown",
   "source": "Kebalikan dari `numpy.squeeze`, `numpy.expand_dims` mengubah dimensi suatu array dengan menambah dimensi baru pada *axis* atau dimensi yang kita sediakan pada fungsi `expand_dims`. Dimensi baru yang ditambahkan adalah dimensi minimal yang dibutuhkan untuk menambah jumlah dimensi, yaitu `1`. Sehingga, jika kita menerapkan `expand_dims` untuk array berdimensi `nxm` dengan memasukkan argumen `axis=1`, akan berubah dimensinya menjadi `nx1xm`.",
   "metadata": {
    "slideshow": {
     "slide_type": "subslide"
    },
    "tags": [],
    "cell_id": "00027-02892095-33ef-4c62-a766-d544e4b106e4",
    "deepnote_cell_type": "markdown"
   }
  },
  {
   "cell_type": "code",
   "metadata": {
    "cell_id": "00028-4ac056f5-be47-4363-bdd4-bca5f284bdd2",
    "deepnote_to_be_reexecuted": false,
    "source_hash": "89e68675",
    "execution_start": 1635334247901,
    "execution_millis": 7,
    "output_cleared": true,
    "deepnote_cell_type": "code"
   },
   "source": "print(array2d, array2d.shape)\nprint(array3d, array3d.shape)",
   "execution_count": null,
   "outputs": []
  },
  {
   "cell_type": "code",
   "metadata": {
    "cell_id": "00029-455c8083-2a09-4024-a8a9-e5c2b71cda16",
    "deepnote_to_be_reexecuted": false,
    "source_hash": "181f4d87",
    "execution_start": 1635334247979,
    "execution_millis": 1,
    "output_cleared": true,
    "deepnote_cell_type": "code"
   },
   "source": "np.expand_dims(array2d, axis=1)    # (4, 1, 3)",
   "execution_count": null,
   "outputs": []
  },
  {
   "cell_type": "code",
   "metadata": {
    "cell_id": "00030-af7c8195-22cf-41a6-8ebd-4c5f5c6cb443",
    "deepnote_to_be_reexecuted": false,
    "source_hash": "a3391a0c",
    "execution_start": 1635334248023,
    "output_cleared": true,
    "deepnote_cell_type": "code"
   },
   "source": "np.expand_dims(array2d, axis=(1, -1))    # (4, 1, 3, 1)",
   "execution_count": null,
   "outputs": []
  },
  {
   "cell_type": "markdown",
   "source": "Selain menggunakan `numpy.expand_dims`, alternatif lain untuk \"memperluas\" dimensi array adalah dengan menggunakan *indexing* khusus. *Indexing* yang dimaksud adalah *indexing* yang menggunakan objek `None` dan `np.newaxis`. Ketika kita menambahkan objek tersebut pada ***axis* yang kosong** saat *indexing*, maka *axis* tersebut akan menjadi dimensi baru dengan jumlah elemen sama dengan 1.\n\n> [`numpy.newaxis`](https://numpy.org/doc/stable/reference/constants.html#numpy.newaxis) bisa dibilang sebuah alias dari `None`.",
   "metadata": {
    "slideshow": {
     "slide_type": "subslide"
    },
    "tags": [],
    "cell_id": "00031-3b07a48c-cf3f-40de-96dc-6f4974305622",
    "deepnote_cell_type": "markdown"
   }
  },
  {
   "cell_type": "code",
   "metadata": {
    "cell_id": "00032-b4682ef0-f4e9-4fea-9fab-1894ae2cf579",
    "deepnote_to_be_reexecuted": false,
    "source_hash": "ff5e6555",
    "execution_start": 1635334248024,
    "output_cleared": true,
    "deepnote_cell_type": "code"
   },
   "source": "array2d[None, :]    # (1, 4, 3)",
   "execution_count": null,
   "outputs": []
  },
  {
   "cell_type": "code",
   "metadata": {
    "cell_id": "00033-1dc714fb-1dd5-4281-a744-d2e3f7e8cddc",
    "deepnote_to_be_reexecuted": false,
    "source_hash": "376e2bf6",
    "execution_start": 1635334248067,
    "output_cleared": true,
    "deepnote_cell_type": "code"
   },
   "source": "array2d[np.newaxis, :]    # (1, 4, 3)",
   "execution_count": null,
   "outputs": []
  },
  {
   "cell_type": "code",
   "metadata": {
    "cell_id": "00034-b2ac1e04-781b-451a-995d-7de7900969ea",
    "deepnote_to_be_reexecuted": false,
    "source_hash": "8b1f907",
    "execution_start": 1635334248078,
    "output_cleared": true,
    "deepnote_cell_type": "code"
   },
   "source": "array2d[:, None, :, None]    # (4, 1, 3, 1)",
   "execution_count": null,
   "outputs": []
  },
  {
   "cell_type": "markdown",
   "source": "> **Tugas Eksplorasi**\n>\n> Cobalah beberapa fungsi untuk mengubah dimensi array yang lainnya di bawah ini, seperti:\n> * `ndarray.flat`\n> * `ndarray.flatten`\n> * `numpy.ravel`",
   "metadata": {
    "slideshow": {
     "slide_type": "slide"
    },
    "tags": [],
    "cell_id": "00035-248248ed-3cc8-4be4-bb7a-ee50db925b16",
    "deepnote_cell_type": "markdown"
   }
  },
  {
   "cell_type": "markdown",
   "source": "### Penggabungan Array\n\nSering kali kita memiliki beberapa array yang merepresentasikan beberapa data yang berbeda dan perlu digabungkan untuk pemrosesan selanjutnya. NumPy menyediakan utilitas untuk melakukan hal tersebut seperti `numpy.concatenate`.",
   "metadata": {
    "slideshow": {
     "slide_type": "slide"
    },
    "tags": [],
    "cell_id": "00036-9a6a8118-79d7-480a-bcf1-7220b4fa41d9",
    "deepnote_cell_type": "markdown"
   }
  },
  {
   "cell_type": "markdown",
   "source": "`numpy.concatenate` akan menggabungkan sekumpulan array sepanjang **axis** yang kita sediakan. Jika kita ingin menggabungkan sekumpulan array pada dimensi pertamanya, maka kita tidak perlu menyediakan *axis* karena nilai default *axis* adalah 0.",
   "metadata": {
    "slideshow": {
     "slide_type": "subslide"
    },
    "tags": [],
    "cell_id": "00037-6a41ba6b-7c96-4425-b07a-26524eca6438",
    "deepnote_cell_type": "markdown"
   }
  },
  {
   "cell_type": "code",
   "metadata": {
    "cell_id": "00038-c176cf36-c36e-4f75-b9a1-0c160233a638",
    "deepnote_to_be_reexecuted": false,
    "source_hash": "871c6b83",
    "execution_start": 1635334248105,
    "output_cleared": true,
    "deepnote_cell_type": "code"
   },
   "source": "x = rng.integers(10, size=(2, 5))\ny = rng.integers(10, 20, size=(3, 5))\nz = rng.integers(20, 30, size=(3, 3))\n\nprint(x, x.shape)\nprint(y, y.shape)\nprint(z, z.shape)",
   "execution_count": null,
   "outputs": []
  },
  {
   "cell_type": "code",
   "metadata": {
    "cell_id": "00039-4d5af529-c1be-449b-8ffd-5188d4c48ade",
    "deepnote_to_be_reexecuted": false,
    "source_hash": "9886caa1",
    "execution_start": 1635334248179,
    "output_cleared": true,
    "deepnote_cell_type": "code"
   },
   "source": "np.concatenate([x, y])    # (5, 5)",
   "execution_count": null,
   "outputs": []
  },
  {
   "cell_type": "markdown",
   "source": "Array yang akan digabungkan harus memiliki **dimensi yang sama, kecuali pada dimensi yang sesuai dengan *axis* yang dipilih**. Jika tidak, maka kita akan mendapatkan eror yang serupa seperti di bawah ini\n\n```python\nValueError: all the input array dimensions for the concatenation axis must match exactly, but along dimension ..., the array at index ... has size ... and the array at index ... has size ...\n```",
   "metadata": {
    "slideshow": {
     "slide_type": "subslide"
    },
    "tags": [],
    "cell_id": "00040-4c9443d3-7b0c-4f96-afe3-d69955376f9e",
    "deepnote_cell_type": "markdown"
   }
  },
  {
   "cell_type": "code",
   "metadata": {
    "cell_id": "00041-a0b2af15-653f-48d3-a529-2d742ab01ed7",
    "deepnote_to_be_reexecuted": false,
    "source_hash": "1253be9a",
    "execution_start": 1635334248223,
    "output_cleared": true,
    "deepnote_cell_type": "code"
   },
   "source": "np.concatenate([y, z, y], axis=-1)    # (3, 13)",
   "execution_count": null,
   "outputs": []
  },
  {
   "cell_type": "code",
   "metadata": {
    "cell_id": "00042-daca9dd8-447e-47dd-9652-1b1c7f40dfee",
    "deepnote_to_be_reexecuted": false,
    "source_hash": "8344ae29",
    "execution_start": 1635334248225,
    "output_cleared": true,
    "deepnote_cell_type": "code"
   },
   "source": "np.concatenate([np.resize(x, (5, 3)), z])",
   "execution_count": null,
   "outputs": []
  },
  {
   "cell_type": "markdown",
   "source": "> **Tugas Eksplorasi**\n>\n> Eksplor dan coba beberapa fungsi lain seperti `numpy.append`, `numpy.hstack`, dan `numpy.vstack`. Lalu, jawab dan lakukan pertanyaan berikut:\n> 1. Apa perbedaan ketiganya?\n> 2. Apa perbedaan antara `numpy.hstack` dan `numpy.vstack` dengan `numpy.concatenate`?\n> 3. Demokan ketiga fungsi tersebut menggunakan array `x`, `y`, dan `z`!",
   "metadata": {
    "slideshow": {
     "slide_type": "slide"
    },
    "tags": [],
    "cell_id": "00043-6abb56b8-e7df-4f5e-8191-24ffddb5ea45",
    "deepnote_cell_type": "markdown"
   }
  },
  {
   "cell_type": "markdown",
   "source": "## Operasi Aritmatika dengan NumPy\n\nSalah satu kelebihan array dibanding list adalah implementasi operasi aritmatika yang melibatkan skalar, vektor, matirks, dan bahkan array n-dimensi yang efektif. Bahkan, beberapa fungsi dalam NumPy yang berurusan dengan operasi aljabar menggunakan versi bahasa pemrograman C sehingga operasi bisa lebih cepat.",
   "metadata": {
    "slideshow": {
     "slide_type": "slide"
    },
    "tags": [],
    "cell_id": "00044-cfd3a70e-fb1e-4b70-bfb1-800857da1fbf",
    "deepnote_cell_type": "markdown"
   }
  },
  {
   "cell_type": "markdown",
   "source": "### *Broadcasting*\n\n*Broadcasting* merupakan salah satu teknik yang dilakukan oleh NumPy untuk memperlakukan array yang berbeda ukuran saat operasi aritmatika. Secara umum, array yang berdimensi lebih \"kecil\" akan \"disebarkan\" (*broadcast*) mengikuti array yang berdimensi lebih \"besar\" sedemikian hingga kedua array memiliki ukuran yang sama dan kompatibel untuk dilakukan operasi.\n\n<div align=\"middle\">\n<img src=\"../../assets/gif/broadcast.gif\">\n</div>",
   "metadata": {
    "slideshow": {
     "slide_type": "slide"
    },
    "tags": [],
    "cell_id": "00045-ce0a6e37-61ae-4d96-bbd7-b4f1fd730dab",
    "deepnote_cell_type": "markdown"
   }
  },
  {
   "cell_type": "markdown",
   "source": "### Penjumlahan\n\nSecara umum, operasi penjumlahan array dapat dilakukan menggunakan operator `+`, baik itu skalar, vektor, ataupun array n-dimensi.",
   "metadata": {
    "slideshow": {
     "slide_type": "slide"
    },
    "tags": [],
    "cell_id": "00046-4f131328-8460-4b21-8a42-7e5737b6c86b",
    "deepnote_cell_type": "markdown"
   }
  },
  {
   "cell_type": "markdown",
   "source": "#### Penjumlahan Vektor dengan Skalar\n\nPenjumlahan vektor dengan skalar memanfaatkan *broadcasting* yang membuat operan skalar disebar untuk setiap elemen pada vektor seperti yang ditunjukkan pada ilustrasi di atas. Vektor yang dimaksud di sini adalah array dengan ukuran `(n,)`, `(1, n)`, atau `(n, 1)`.",
   "metadata": {
    "slideshow": {
     "slide_type": "subslide"
    },
    "tags": [],
    "cell_id": "00047-b7964aa8-0484-428b-8c8e-602eabd9775f",
    "deepnote_cell_type": "markdown"
   }
  },
  {
   "cell_type": "code",
   "metadata": {
    "cell_id": "00048-11140adc-0178-4c27-9a99-9cc79b27047a",
    "deepnote_to_be_reexecuted": false,
    "source_hash": "c948a40e",
    "execution_start": 1635334248267,
    "output_cleared": true,
    "deepnote_cell_type": "code"
   },
   "source": "a = 2\nb = 1.5\nc = 10\n\nx = np.array([5, 10, 15])\ny = x[None, :]\nz = x[:, None]\n\nprint(x.shape)\nprint(y.shape)\nprint(z.shape)",
   "execution_count": null,
   "outputs": []
  },
  {
   "cell_type": "code",
   "metadata": {
    "cell_id": "00049-092073eb-98ad-47ce-a4c2-f6766aabca15",
    "deepnote_to_be_reexecuted": false,
    "source_hash": "45b01d01",
    "execution_start": 1635334248280,
    "output_cleared": true,
    "deepnote_cell_type": "code"
   },
   "source": "print(x + a)\nprint(y + b)\nprint(z + c)",
   "execution_count": null,
   "outputs": []
  },
  {
   "cell_type": "markdown",
   "source": "#### Penjumlahan Vektor - Matriks dan Antar Matriks\n\nPenjumlahan vektor dengan vektor juga menggunakan operator `+` dan memanfaatkan fitur *broadcasting* NumPy.",
   "metadata": {
    "slideshow": {
     "slide_type": "subslide"
    },
    "tags": [],
    "cell_id": "00050-65cb37ce-ccba-4e80-b231-4476b423d142",
    "deepnote_cell_type": "markdown"
   }
  },
  {
   "cell_type": "code",
   "metadata": {
    "cell_id": "00051-10edacec-93c3-4a16-949c-d8ef81124cfc",
    "deepnote_to_be_reexecuted": false,
    "source_hash": "41a515ee",
    "execution_start": 1635334248316,
    "output_cleared": true,
    "deepnote_cell_type": "code"
   },
   "source": "x + x",
   "execution_count": null,
   "outputs": []
  },
  {
   "cell_type": "code",
   "metadata": {
    "cell_id": "00052-4a833ed9-c885-45bb-81b2-c514e5b5b296",
    "deepnote_to_be_reexecuted": false,
    "source_hash": "c46c8ef9",
    "execution_start": 1635334248387,
    "output_cleared": true,
    "deepnote_cell_type": "code"
   },
   "source": "x + y",
   "execution_count": null,
   "outputs": []
  },
  {
   "cell_type": "code",
   "metadata": {
    "cell_id": "00053-b04a3609-9b2c-4493-8b90-6ef151863295",
    "deepnote_to_be_reexecuted": false,
    "source_hash": "16cb722b",
    "execution_start": 1635334248431,
    "output_cleared": true,
    "deepnote_cell_type": "code"
   },
   "source": "x + z",
   "execution_count": null,
   "outputs": []
  },
  {
   "cell_type": "code",
   "metadata": {
    "cell_id": "00054-277d9025-3ed6-4a50-aae4-3389f4ee9124",
    "deepnote_to_be_reexecuted": false,
    "source_hash": "2da8b69",
    "execution_start": 1635334248433,
    "output_cleared": true,
    "deepnote_cell_type": "code"
   },
   "source": "y + z",
   "execution_count": null,
   "outputs": []
  },
  {
   "cell_type": "markdown",
   "source": "Penjumlahan vektor dan matriks juga memanfaatkan *broadcasting* di mana vektor akan direntangkan untuk mengikuti ukuran suatu matriks. Syarat agar operasi ini dapat dilakukan adalah salah satu *axis* antara vektor dan matriks harus sama. Ekspresi `x + z` merupakan salah satu contoh penjumlahan vektor dengan matriks, di mana `x` adalah vektor, dan `z` adalah matriks atau array 2-dimensi.",
   "metadata": {
    "slideshow": {
     "slide_type": "subslide"
    },
    "tags": [],
    "cell_id": "00055-584aa931-aa00-40fa-a737-3377930b4f3c",
    "deepnote_cell_type": "markdown"
   }
  },
  {
   "cell_type": "code",
   "metadata": {
    "cell_id": "00056-3de54657-f4d5-4857-b805-b01c942052c3",
    "deepnote_to_be_reexecuted": false,
    "source_hash": "b2ff2c99",
    "execution_start": 1635334248480,
    "output_cleared": true,
    "deepnote_cell_type": "code"
   },
   "source": "xx = np.resize(x, (4, x.shape[0]))\nprint(xx)",
   "execution_count": null,
   "outputs": []
  },
  {
   "cell_type": "code",
   "metadata": {
    "cell_id": "00057-72ca99f6-0b4e-4eaa-ac9c-3dd3d11cda96",
    "deepnote_to_be_reexecuted": false,
    "source_hash": "19750390",
    "execution_start": 1635334248511,
    "output_cleared": true,
    "deepnote_cell_type": "code"
   },
   "source": "x + xx",
   "execution_count": null,
   "outputs": []
  },
  {
   "cell_type": "code",
   "metadata": {
    "cell_id": "00058-edba2a44-d3f5-4f7c-b222-d686a596c630",
    "deepnote_to_be_reexecuted": false,
    "source_hash": "b1139d89",
    "execution_start": 1635334248512,
    "output_cleared": true,
    "deepnote_cell_type": "code"
   },
   "source": "xx + y",
   "execution_count": null,
   "outputs": []
  },
  {
   "cell_type": "code",
   "metadata": {
    "cell_id": "00059-8eb4aa93-8ebe-4bca-b3bb-1f53a281cdc8",
    "deepnote_to_be_reexecuted": false,
    "source_hash": "50e65fc7",
    "execution_start": 1635334248512,
    "output_cleared": true,
    "deepnote_cell_type": "code"
   },
   "source": "xx[:, None] + z",
   "execution_count": null,
   "outputs": []
  },
  {
   "cell_type": "markdown",
   "source": "> **Kuis:**\n>\n> Coba jelaskan dan demokan bagaimana ekspresi `xx[:, None] + z` bisa dijalankan dan kenapa `xx + z` tidak kompatibel!",
   "metadata": {
    "slideshow": {
     "slide_type": "slide"
    },
    "tags": [],
    "cell_id": "00060-3a006043-a04b-4cbd-a60b-c49983416098",
    "deepnote_cell_type": "markdown"
   }
  },
  {
   "cell_type": "markdown",
   "source": "Penjumlahan antar matriks mengikuti aturan pada aljabar di mana ukuran matriks harus sama. *Broadcasting* hanya akan dipakai ketika kita ingin menjumlahkan matriks dengan ukuran yang berbeda dan menambah dimensi baru pada salah satu atau kedua matriks.\n\n> Operasi pengurangan dan pembagian berperilaku sama dengan operasi penjumlahan, mulai dari ekspresi yang menggunakan operator `-` dan `/` secara berturut-turut untuk pengurangan dan pembagian, aturan *broadcasting*, dan operasi vektor-matriks.",
   "metadata": {
    "slideshow": {
     "slide_type": "slide"
    },
    "tags": [],
    "cell_id": "00061-39608f73-e642-4d99-a5e0-90664d824619",
    "deepnote_cell_type": "markdown"
   }
  },
  {
   "cell_type": "code",
   "metadata": {
    "cell_id": "00062-a67aafb0-b644-4f95-9d8b-960ce7598930",
    "deepnote_to_be_reexecuted": false,
    "source_hash": "113e1405",
    "execution_start": 1635334248519,
    "output_cleared": true,
    "deepnote_cell_type": "code"
   },
   "source": "m = np.arange(12).reshape(4, 3)\nprint(m)",
   "execution_count": null,
   "outputs": []
  },
  {
   "cell_type": "code",
   "metadata": {
    "cell_id": "00063-1f3857a1-be52-41ad-9636-59c69a165ad2",
    "deepnote_to_be_reexecuted": false,
    "source_hash": "b23b3958",
    "execution_start": 1635334248563,
    "output_cleared": true,
    "deepnote_cell_type": "code"
   },
   "source": "xx + m",
   "execution_count": null,
   "outputs": []
  },
  {
   "cell_type": "markdown",
   "source": "### Perkalian\n\nBerbeda dengan penjumlahan di atas, ada beberapa cara untuk melakukan operasi perkalian. Setiap cara berperilaku dan menghasilkan hasil yang berbeda.",
   "metadata": {
    "slideshow": {
     "slide_type": "slide"
    },
    "tags": [],
    "cell_id": "00064-e750ff91-89cd-4ba7-b5fb-12526b86bc47",
    "deepnote_cell_type": "markdown"
   }
  },
  {
   "cell_type": "markdown",
   "source": "#### Perkalian Pada Elemen Array\n\nPerkalian vektor dengan skalar dan juga matriks dengan skalar akan mengalikan setiap elemen pada vektor/matriks dengan skalar atau yang disebut dengan *element-wise multiplication*. Untuk melakukan ini, kita bisa menggunakan operator `*`.",
   "metadata": {
    "slideshow": {
     "slide_type": "slide"
    },
    "tags": [],
    "cell_id": "00065-3253f407-24f9-45e3-a2e8-f06f4723eb6b",
    "deepnote_cell_type": "markdown"
   }
  },
  {
   "cell_type": "code",
   "metadata": {
    "cell_id": "00066-1b7a0b75-3f71-4c47-91fe-6ea953410595",
    "deepnote_to_be_reexecuted": false,
    "source_hash": "78575d5",
    "execution_start": 1635334248564,
    "output_cleared": true,
    "deepnote_cell_type": "code"
   },
   "source": "d = 10\nprint(x * d)\nprint(y * d)\nprint(z * d)\nprint(xx * d)\nprint(array3d * d)",
   "execution_count": null,
   "outputs": []
  },
  {
   "cell_type": "markdown",
   "source": "Selain dengan operator `*`, NumPy menyediakan fungsi untuk melakukan hal serupa, yaitu `numpy.multiply`. Untuk melakukan ini, syaratnya adalah kedua array harus berukuran sama atau jika tidak sama, paling tidak bisa dilakukan *broadcasting*.",
   "metadata": {
    "slideshow": {
     "slide_type": "subslide"
    },
    "tags": [],
    "cell_id": "00067-e8b8a331-8b6d-4a5a-bf4e-3ca610a683bb",
    "deepnote_cell_type": "markdown"
   }
  },
  {
   "cell_type": "code",
   "metadata": {
    "cell_id": "00068-9c23952d-38f4-4a4c-b982-f116a5f52f82",
    "deepnote_to_be_reexecuted": false,
    "source_hash": "ff8437eb",
    "execution_start": 1635334248594,
    "output_cleared": true,
    "deepnote_cell_type": "code"
   },
   "source": "print(np.multiply(x, d))\nprint(np.multiply(xx, d))",
   "execution_count": null,
   "outputs": []
  },
  {
   "cell_type": "code",
   "metadata": {
    "cell_id": "00069-45ce7cc1-c71d-4d9e-a503-9edcdd73d6b5",
    "deepnote_to_be_reexecuted": false,
    "source_hash": "e22d190c",
    "execution_start": 1635334248595,
    "output_cleared": true,
    "deepnote_cell_type": "code"
   },
   "source": "print(np.multiply(xx, y))\nprint(np.multiply(y, z))",
   "execution_count": null,
   "outputs": []
  },
  {
   "cell_type": "markdown",
   "source": "#### Perkalian Matriks\n\nIngat bahwa, perkalian antar matriks hanya bisa dilakukan jika dan hanya jika kolom pada matriks pertama sama dengan baris pada matriks kedua. Ini juga berlaku dalam NumPy, yang menggunakan `numpy.dot` untuk melakukan perkalian matriks, atau secara umum *dot/inner product*.",
   "metadata": {
    "slideshow": {
     "slide_type": "slide"
    },
    "tags": [],
    "cell_id": "00070-6747db00-74ab-4dce-a68a-55054d4752bc",
    "deepnote_cell_type": "markdown"
   }
  },
  {
   "cell_type": "code",
   "metadata": {
    "cell_id": "00071-e178434c-2f97-46a5-9add-6ed3cc73bf99",
    "deepnote_to_be_reexecuted": false,
    "source_hash": "3f9b5620",
    "execution_start": 1635334248595,
    "output_cleared": true,
    "deepnote_cell_type": "code"
   },
   "source": "np.dot(xx, xx.T)",
   "execution_count": null,
   "outputs": []
  },
  {
   "cell_type": "code",
   "metadata": {
    "cell_id": "00072-46be1b6c-8ebf-40cb-98a6-7b06860d9225",
    "deepnote_to_be_reexecuted": false,
    "source_hash": "4ea2dd64",
    "execution_start": 1635334248596,
    "output_cleared": true,
    "deepnote_cell_type": "code"
   },
   "source": "np.dot(y, z)",
   "execution_count": null,
   "outputs": []
  },
  {
   "cell_type": "code",
   "metadata": {
    "cell_id": "00073-bc7191b5-b40a-4d02-9f2d-84d93070cf27",
    "deepnote_to_be_reexecuted": false,
    "source_hash": "b8e2f8fe",
    "execution_start": 1635334248619,
    "output_cleared": true,
    "deepnote_cell_type": "code"
   },
   "source": "np.dot(z, y)",
   "execution_count": null,
   "outputs": []
  },
  {
   "cell_type": "markdown",
   "source": "**Eksplorasi**:\n* https://numpy.org/doc/stable/user/quickstart.html\n* https://numpy.org/doc/stable/user/absolute_beginners.html",
   "metadata": {
    "tags": [],
    "cell_id": "00074-86e7768f-3f4d-420a-a342-a983faba8bcb",
    "deepnote_cell_type": "markdown"
   }
  },
  {
   "cell_type": "markdown",
   "source": "## Mentoring",
   "metadata": {
    "tags": [],
    "cell_id": "00075-66565f2c-3e7f-4c21-a8cf-3e0122aeb77d",
    "deepnote_cell_type": "markdown"
   }
  },
  {
   "cell_type": "code",
   "metadata": {
    "tags": [],
    "cell_id": "00076-e5a37f0a-7194-4571-9547-86bcf567a4d9",
    "deepnote_to_be_reexecuted": false,
    "source_hash": "c2602aa8",
    "execution_start": 1635509898101,
    "execution_millis": 84421913,
    "deepnote_cell_type": "code"
   },
   "source": "import numpy as np",
   "execution_count": null,
   "outputs": []
  },
  {
   "cell_type": "code",
   "metadata": {
    "tags": [],
    "cell_id": "00076-94967757-9afc-4320-9c21-3e78a57ae9c7",
    "deepnote_to_be_reexecuted": false,
    "source_hash": "df673202",
    "execution_start": 1635425660603,
    "execution_millis": 1,
    "deepnote_cell_type": "code"
   },
   "source": "array3d = np.full((2, 1, 3), 3)\narray2d = np.full((3, 3), 5)\n\nprint(array3d, array3d.shape)\nprint(array2d, array2d.shape)",
   "execution_count": null,
   "outputs": [
    {
     "name": "stdout",
     "text": "[[[3 3 3]]\n\n [[3 3 3]]] (2, 1, 3)\n[[5 5 5]\n [5 5 5]\n [5 5 5]] (3, 3)\n",
     "output_type": "stream"
    }
   ]
  },
  {
   "cell_type": "code",
   "metadata": {
    "tags": [],
    "cell_id": "00078-f541e0a7-800d-4f05-a3d8-84e0ad77eb25",
    "deepnote_to_be_reexecuted": false,
    "source_hash": "4827a820",
    "execution_start": 1635425735271,
    "execution_millis": 14,
    "deepnote_cell_type": "code"
   },
   "source": "np.concatenate([array2d[:, None], array3d], axis=-1)",
   "execution_count": null,
   "outputs": [
    {
     "output_type": "error",
     "ename": "ValueError",
     "evalue": "all the input array dimensions for the concatenation axis must match exactly, but along dimension 0, the array at index 0 has size 3 and the array at index 1 has size 2",
     "traceback": [
      "\u001b[0;31m---------------------------------------------------------------------------\u001b[0m",
      "\u001b[0;31mValueError\u001b[0m                                Traceback (most recent call last)",
      "\u001b[0;32m<ipython-input-15-6b596e3f0666>\u001b[0m in \u001b[0;36m<module>\u001b[0;34m\u001b[0m\n\u001b[0;32m----> 1\u001b[0;31m \u001b[0mnp\u001b[0m\u001b[0;34m.\u001b[0m\u001b[0mconcatenate\u001b[0m\u001b[0;34m(\u001b[0m\u001b[0;34m[\u001b[0m\u001b[0marray2d\u001b[0m\u001b[0;34m[\u001b[0m\u001b[0;34m:\u001b[0m\u001b[0;34m,\u001b[0m \u001b[0;32mNone\u001b[0m\u001b[0;34m]\u001b[0m\u001b[0;34m,\u001b[0m \u001b[0marray3d\u001b[0m\u001b[0;34m]\u001b[0m\u001b[0;34m,\u001b[0m \u001b[0maxis\u001b[0m\u001b[0;34m=\u001b[0m\u001b[0;34m-\u001b[0m\u001b[0;36m1\u001b[0m\u001b[0;34m)\u001b[0m\u001b[0;34m\u001b[0m\u001b[0;34m\u001b[0m\u001b[0m\n\u001b[0m",
      "\u001b[0;32m<__array_function__ internals>\u001b[0m in \u001b[0;36mconcatenate\u001b[0;34m(*args, **kwargs)\u001b[0m\n",
      "\u001b[0;31mValueError\u001b[0m: all the input array dimensions for the concatenation axis must match exactly, but along dimension 0, the array at index 0 has size 3 and the array at index 1 has size 2"
     ]
    }
   ]
  },
  {
   "cell_type": "code",
   "metadata": {
    "tags": [],
    "cell_id": "00079-fbc5d7d5-e479-44bc-a7b1-3c491368f41c",
    "deepnote_to_be_reexecuted": false,
    "source_hash": "6e39180f",
    "execution_start": 1635509951806,
    "execution_millis": 4,
    "deepnote_output_heights": [
     136.3125
    ],
    "deepnote_cell_type": "code"
   },
   "source": "array3d",
   "execution_count": null,
   "outputs": [
    {
     "output_type": "execute_result",
     "execution_count": 3,
     "data": {
      "text/plain": "array([[[0.1, 0.4],\n        [0.2, 0.5],\n        [0.3, 0.6]],\n\n       [[0.7, 1. ],\n        [0.8, 1.1],\n        [0.9, 1.2]]])"
     },
     "metadata": {}
    }
   ]
  },
  {
   "cell_type": "code",
   "metadata": {
    "tags": [],
    "cell_id": "00080-804b7927-ffcf-4388-9dc0-7d230e7cd1e7",
    "deepnote_to_be_reexecuted": false,
    "source_hash": "fbfeb5ac",
    "execution_start": 1635510010136,
    "execution_millis": 8,
    "deepnote_output_heights": [
     59.5625
    ],
    "deepnote_cell_type": "code"
   },
   "source": "array3d[0]",
   "execution_count": null,
   "outputs": [
    {
     "output_type": "execute_result",
     "execution_count": 6,
     "data": {
      "text/plain": "array([[0.1, 0.4],\n       [0.2, 0.5],\n       [0.3, 0.6]])"
     },
     "metadata": {}
    }
   ]
  },
  {
   "cell_type": "code",
   "metadata": {
    "tags": [],
    "cell_id": "00080-eb8d82d3-c6ef-4406-8199-37d0dfd6b18f",
    "deepnote_to_be_reexecuted": false,
    "source_hash": "d1e8e4e1",
    "execution_start": 1635510045978,
    "execution_millis": 5,
    "deepnote_output_heights": [
     40.375
    ],
    "deepnote_cell_type": "code"
   },
   "source": "array3d[:, 0, :]",
   "execution_count": null,
   "outputs": [
    {
     "output_type": "execute_result",
     "execution_count": 7,
     "data": {
      "text/plain": "array([[0.1, 0.4],\n       [0.7, 1. ]])"
     },
     "metadata": {}
    }
   ]
  },
  {
   "cell_type": "code",
   "metadata": {
    "tags": [],
    "cell_id": "00082-90a09631-8b40-4db2-b9c6-7cfbb14e74fa",
    "deepnote_to_be_reexecuted": false,
    "source_hash": "16870c86",
    "execution_start": 1635510371768,
    "execution_millis": 105,
    "deepnote_output_heights": [
     78.75
    ],
    "deepnote_cell_type": "code"
   },
   "source": "array3d[0], array3d[0].shape",
   "execution_count": null,
   "outputs": [
    {
     "output_type": "execute_result",
     "execution_count": 17,
     "data": {
      "text/plain": "(array([[0.1, 0.4],\n        [0.2, 0.5],\n        [0.3, 0.6]]),\n (3, 2))"
     },
     "metadata": {}
    }
   ]
  },
  {
   "cell_type": "code",
   "metadata": {
    "tags": [],
    "cell_id": "00083-97ccd6f2-2ba0-4da5-aa35-08f48498592c",
    "deepnote_to_be_reexecuted": false,
    "source_hash": "5e17a21f",
    "execution_start": 1635510375985,
    "execution_millis": 3,
    "deepnote_output_heights": [
     59.5625
    ],
    "deepnote_cell_type": "code"
   },
   "source": "array3d[:, 0], array3d[:, 0].shape",
   "execution_count": null,
   "outputs": [
    {
     "output_type": "execute_result",
     "execution_count": 18,
     "data": {
      "text/plain": "(array([[0.1, 0.4],\n        [0.7, 1. ]]),\n (2, 2))"
     },
     "metadata": {}
    }
   ]
  },
  {
   "cell_type": "code",
   "metadata": {
    "tags": [],
    "cell_id": "00084-4101e181-45b5-4970-a10f-d734faae000e",
    "deepnote_to_be_reexecuted": false,
    "source_hash": "f5902dc1",
    "execution_start": 1635510397031,
    "execution_millis": 9,
    "deepnote_output_heights": [
     59.5625
    ],
    "deepnote_cell_type": "code"
   },
   "source": "array3d[:, :, 0], array3d[:, :, 0].shape",
   "execution_count": null,
   "outputs": [
    {
     "output_type": "execute_result",
     "execution_count": 19,
     "data": {
      "text/plain": "(array([[0.1, 0.2, 0.3],\n        [0.7, 0.8, 0.9]]),\n (2, 3))"
     },
     "metadata": {}
    }
   ]
  },
  {
   "cell_type": "code",
   "metadata": {
    "tags": [],
    "cell_id": "00085-12ef53fd-307e-4b2c-9c44-495e760742c9",
    "deepnote_to_be_reexecuted": false,
    "source_hash": "c142c5b4",
    "execution_start": 1635510486372,
    "execution_millis": 2,
    "deepnote_output_heights": [
     59.5625
    ],
    "deepnote_cell_type": "code"
   },
   "source": "array3d[:, :, 1], array3d[:, :, 1].shape",
   "execution_count": null,
   "outputs": [
    {
     "output_type": "execute_result",
     "execution_count": 20,
     "data": {
      "text/plain": "(array([[0.4, 0.5, 0.6],\n        [1. , 1.1, 1.2]]),\n (2, 3))"
     },
     "metadata": {}
    }
   ]
  },
  {
   "cell_type": "code",
   "metadata": {
    "tags": [],
    "cell_id": "00080-d2dccc22-2d1f-4803-9018-afce4be7b03d",
    "deepnote_to_be_reexecuted": false,
    "source_hash": "5c542353",
    "execution_start": 1635509991108,
    "execution_millis": 3,
    "deepnote_cell_type": "code"
   },
   "source": "test = np.transpose(array3d, axes=(2, 0, 1))\nprint(test)\nprint(test.shape)",
   "execution_count": null,
   "outputs": [
    {
     "name": "stdout",
     "text": "[[[0.1 0.2 0.3]\n  [0.7 0.8 0.9]]\n\n [[0.4 0.5 0.6]\n  [1.  1.1 1.2]]]\n(2, 2, 3)\n",
     "output_type": "stream"
    }
   ]
  },
  {
   "cell_type": "code",
   "metadata": {
    "tags": [],
    "cell_id": "00081-d0e48f3f-0a68-4fb0-b5cb-cb3b6b49db7d",
    "deepnote_cell_type": "code"
   },
   "source": "",
   "execution_count": null,
   "outputs": []
  },
  {
   "cell_type": "markdown",
   "source": "<a style='text-decoration:none;line-height:16px;display:flex;color:#5B5B62;padding:10px;justify-content:end;' href='https://deepnote.com?utm_source=created-in-deepnote-cell&projectId=755892f1-a617-4a5f-868e-ec54428f8e09' target=\"_blank\">\n<img alt='Created in deepnote.com' style='display:inline;max-height:16px;margin:0px;margin-right:7.5px;' src='data:image/svg+xml;base64,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' > </img>\nCreated in <span style='font-weight:600;margin-left:4px;'>Deepnote</span></a>",
   "metadata": {
    "tags": [],
    "created_in_deepnote_cell": true,
    "deepnote_cell_type": "markdown"
   }
  }
 ],
 "nbformat": 4,
 "nbformat_minor": 5,
 "metadata": {
  "kernelspec": {
   "display_name": "Python 3 (ipykernel)",
   "language": "python",
   "name": "python3"
  },
  "language_info": {
   "codemirror_mode": {
    "name": "ipython",
    "version": 3
   },
   "file_extension": ".py",
   "mimetype": "text/x-python",
   "name": "python",
   "nbconvert_exporter": "python",
   "pygments_lexer": "ipython3",
   "version": "3.9.4"
  },
  "deepnote_notebook_id": "4b3f941e-9d45-4854-8900-6287e4ab8e62",
  "deepnote": {},
  "deepnote_execution_queue": []
 }
}