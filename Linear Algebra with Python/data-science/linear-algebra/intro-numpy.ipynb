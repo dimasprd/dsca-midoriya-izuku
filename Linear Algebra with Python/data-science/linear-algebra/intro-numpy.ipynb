{
 "cells": [
  {
   "cell_type": "markdown",
   "source": "# Pengenalan NumPy\n\nProyek data science selalu melibatkan data. Data tersebut berbentuk vektor dan matriks yang terdiri dari baris dan kolom yang secara berturut-turut merepresentasikan satu entitas data/informasi dan fitur/variabel yang berhubungan.\n\nPython sebenarnya sudah menyediakan struktur data untuk keperluan tersebut, seperti `list` atau `tuple`. Akan tetapi, pada materi sebelumnya, kita tidak bisa melakukan operasi sederhana seperti perkalian matriks dengan skalar secara langsung, tapi harus menggunakan perulangan.\n\nPada bagian ini, kita akan mencoba salah satu pustaka khusus yang bisa menangani vektor dan matriks dengan mudah dan intuitif: **NumPy** atau **Numerical Python**.",
   "metadata": {
    "slideshow": {
     "slide_type": "slide"
    },
    "tags": [],
    "cell_id": "00000-fb512c3b-aa1e-48db-89f9-490d14d56567",
    "deepnote_cell_type": "markdown"
   }
  },
  {
   "cell_type": "markdown",
   "source": "## Menyiapkan NumPy\n\nUntuk menggunakan NumPy, kita harus pastikan bahwa pustaka NumPy sudah terpasang pada *environment* kita.\n\n> Kita harus memasang NumPy terlebih dahulu karena NumPy bukan pustaka bawaan dari Python. Untuk lebih jelasnya, silakan buka dokumentasi resmi NumPy [berikut](https://numpy.org).\n\nKita bisa cek ketersediaan NumPy dengan `conda`.",
   "metadata": {
    "slideshow": {
     "slide_type": "slide"
    },
    "tags": [],
    "cell_id": "00001-3145d332-8fc3-4493-aaba-7b212d18b26e",
    "deepnote_cell_type": "markdown"
   }
  },
  {
   "cell_type": "markdown",
   "source": "Setelah NumPy terpasang, kita bisa langsung import pustaka NumPy dan mengecek versi yang terpasang.\n\n```python\nimport numpy\nprint(numpy.__version__)\n```\n\nMenurut konvensi, sangat disarankan kita menggunakan alias `np` ketika mengimpor NumPy. Sehingga, kode di atas menjadi seperti di bawah ini.\n\n```python\nimport numpy as np\nprint(np.__version__)\n```\n\nMari kita jalankan pada cell di bawah.",
   "metadata": {
    "slideshow": {
     "slide_type": "subslide"
    },
    "tags": [],
    "cell_id": "00002-5f0b40b1-5a6a-4741-ad9d-bc2729896c7a",
    "deepnote_cell_type": "markdown"
   }
  },
  {
   "cell_type": "code",
   "metadata": {
    "cell_id": "00003-537c3a8c-f7e6-4592-924f-214ead443e05",
    "deepnote_to_be_reexecuted": false,
    "source_hash": "acd3b495",
    "execution_start": 1639568261121,
    "execution_millis": 5,
    "output_cleared": false,
    "deepnote_cell_type": "code"
   },
   "source": "import numpy as np\nprint(np.__version__)",
   "outputs": [
    {
     "name": "stdout",
     "text": "1.19.5\n",
     "output_type": "stream",
     "data": {}
    }
   ],
   "execution_count": null
  },
  {
   "cell_type": "markdown",
   "source": "## Kenapa List Tak Cukup?\n\nMisalkan kita punya sebuah matriks dalam bentuk `list` di dalam `list` berikut.",
   "metadata": {
    "slideshow": {
     "slide_type": "slide"
    },
    "tags": [],
    "cell_id": "00004-55a24a61-ee5b-43d7-925f-66ad46a9910b",
    "deepnote_cell_type": "markdown"
   }
  },
  {
   "cell_type": "code",
   "metadata": {
    "cell_id": "00005-70f6b1e8-abdf-4f5d-9658-e1d51bf344b6",
    "deepnote_to_be_reexecuted": false,
    "source_hash": "bb54b902",
    "execution_start": 1635333858784,
    "execution_millis": 1,
    "output_cleared": true,
    "deepnote_cell_type": "code"
   },
   "source": "list_of_list = [[1, 2, 3, 4],\n                [5, 6, 7, 8],\n                [9, 10, 11, 12]]\nprint(list_of_list)",
   "execution_count": null,
   "outputs": []
  },
  {
   "cell_type": "markdown",
   "source": "Jika kita ingin melakukan operasi perkalian matriks dengan skalar `2`, kita tidak bisa langsung mengalikan kedua objek tersebut. Kita harus melakukan perulangan dalam perulangan.",
   "metadata": {
    "slideshow": {
     "slide_type": "subslide"
    },
    "tags": [],
    "cell_id": "00006-731c0927-58cf-4fb3-b283-792dd68d8318",
    "deepnote_cell_type": "markdown"
   }
  },
  {
   "cell_type": "code",
   "metadata": {
    "cell_id": "00007-920da49d-f821-4388-9308-68c683648283",
    "deepnote_to_be_reexecuted": false,
    "source_hash": "dfdf5867",
    "execution_start": 1635333858828,
    "execution_millis": 70,
    "output_cleared": true,
    "deepnote_cell_type": "code"
   },
   "source": "list_of_list * 2",
   "execution_count": null,
   "outputs": []
  },
  {
   "cell_type": "code",
   "metadata": {
    "cell_id": "00008-569d4dde-d3ac-43bc-8ebe-a58fd5e33f6e",
    "deepnote_to_be_reexecuted": false,
    "source_hash": "fc0aa28a",
    "execution_start": 1635333858932,
    "execution_millis": 9,
    "output_cleared": true,
    "deepnote_cell_type": "code"
   },
   "source": "matrix_x_scalar = []\nfor row in list_of_list:\n    temp = []\n    for item in row:\n        temp.append(2 * item)\n    matrix_x_scalar.append(temp)\n\nprint(matrix_x_scalar)",
   "execution_count": null,
   "outputs": []
  },
  {
   "cell_type": "markdown",
   "source": "Tentu saja akan lebih rumit untuk melakukan perkalian antar matriks dengan ukuran yang besar. Oleh karena itu, kita menggunakan NumPy yang menggunakan **array** untuk merepresentasikan vektor, matriks, dan bahkan array berimensi `n`. Beberapa karaketeristik array NumPy adalah sebagai berikut:\n\n* Lebih cepat dibandingkan list dengan **vektorisasi**.\n* Lebih ringkas, terutama ketika dimensi berkembang sampai `n` dimensi.\n* Lebih lambat untuk penambahan elemen pada indeks terakhir suatu array.\n* Menampung kumpulan objek yang homogen, yaitu bertipe data sama.",
   "metadata": {
    "slideshow": {
     "slide_type": "subslide"
    },
    "tags": [],
    "cell_id": "00009-ad8d0898-2e18-48aa-a780-98592936a85f",
    "deepnote_cell_type": "markdown"
   }
  },
  {
   "cell_type": "markdown",
   "source": "## Array\n\nArray adalah struktur data utama NumPy. NumPy membolehkan kita untuk membuat array dengan berbagai ukuran dan dimensi yang hanya dibatasi oleh komputer kita sendiri. Sintaks untuk mendefinisikan array adalah menggunakan fungsi `np.array` dan menyediakan sebuah list sesuai dengan dimensi array yang akan dibuat. Beberapa atribut yang penting adalah sebagai berikut.\n\n| syntax | usage | example |\n| ------ | ----- | ------- |\n| `ndarray.shape` | dimension of the array, which is a tuple of integers indicating the size of the array in each dimension | `arr.shape` |\n| `ndarray.ndim` | number of axes (dimensions) | `arr.ndim` |\n| `ndarray.size` | total number of items in array, which is equal to the product of its `shape` attribute | `arr.size` |\n| `ndarray.dtype` | type of elements in the array and not be confused with the object type of array, which is `ndarray` | `arr.dtype` |\n| `ndarray.itemsize` | size (in bytes) of each element of the array, which is equivalent to `ndarray.dtype.itemsize` | `arr.itemsize` |",
   "metadata": {
    "slideshow": {
     "slide_type": "slide"
    },
    "tags": [],
    "cell_id": "00010-9a9ec2c6-4e4a-416d-a2b8-3981dd6d75b5",
    "deepnote_cell_type": "markdown"
   }
  },
  {
   "cell_type": "markdown",
   "source": "### Vektor, Array 1-Dimensi\n\nUntuk mendefinisikan sebuah array 1-dimensi, kita menggunakan fungsi di atas dan menyediakan sebuah list seperti di bawah ini.\n\n```python\nnp.array([1, 2, 3])\n```\n\n<div align=\"middle\">\n<img src=\"../../assets/images/array-1d.png\">\n</div>\n\nIngat bahwa semua elemen dalam sebuah array harus homogen atau memiliki tipe data yang sama, jika tidak, maka array yang dihasilkan akan bertipe `object` yang sama tidak efektifnya dengan list untuk operasi aljabar.",
   "metadata": {
    "slideshow": {
     "slide_type": "slide"
    },
    "tags": [],
    "cell_id": "00011-9dc3a71a-f810-4c56-a1cf-81e2f7f40db9",
    "deepnote_cell_type": "markdown"
   }
  },
  {
   "cell_type": "code",
   "metadata": {
    "slideshow": {
     "slide_type": "subslide"
    },
    "tags": [],
    "cell_id": "00012-9b13dafe-f3bf-4819-8ce4-e76237cfe94c",
    "deepnote_to_be_reexecuted": false,
    "source_hash": "b1002e9d",
    "execution_start": 1636444209775,
    "execution_millis": 9,
    "output_cleared": false,
    "deepnote_cell_type": "code"
   },
   "source": "int_array = np.array([1, 2, 3])\nfloat_array = np.array([.1, .2, .3, .4])\n\nprint(int_array, type(int_array), int_array.dtype)\nprint(float_array, type(int_array), float_array.dtype)",
   "execution_count": null,
   "outputs": [
    {
     "name": "stdout",
     "text": "[1 2 3] <class 'numpy.ndarray'> int64\n[0.1 0.2 0.3 0.4] <class 'numpy.ndarray'> float64\n",
     "output_type": "stream"
    }
   ]
  },
  {
   "cell_type": "markdown",
   "source": "Pada cell di atas, terlihat bahwa tipe objek dari kedua array tersebut adalah `ndarray`, di mana `ndarray` merupakan kelas utama dalam NumPy untuk merepresentasikan sebuah array.\n\nTipe data elemen dalam suatu array (`dtype`), secara default, ditentukan oleh tipe data barisan yang kita sediakan atau kita tentukan sendiri. Jika kita berikan barisan bilangan integer, maka tipe data nya adalah integer, dan float jika **ada salah satu elemen bertipe data `float`**. Kita juga bisa sediakan tipe data yang diinginkan dengan menyediakan nilai pada `dtype`.",
   "metadata": {
    "cell_id": "00013-3dc492a7-812e-49aa-bb6a-1a23d8be3e3c",
    "deepnote_cell_type": "markdown"
   }
  },
  {
   "cell_type": "code",
   "metadata": {
    "cell_id": "00014-4b3afb68-b350-4b7a-a6d7-b55b15416c80",
    "deepnote_to_be_reexecuted": false,
    "source_hash": "89cc86a9",
    "execution_start": 1636444150903,
    "execution_millis": 7,
    "output_cleared": false,
    "deepnote_cell_type": "code"
   },
   "source": "print(np.array([.1, .2, .4], dtype=\"int\"))\nprint(np.array([1, 3, 4], dtype=\"float\"))",
   "execution_count": null,
   "outputs": [
    {
     "name": "stdout",
     "text": "[0 0 0]\n[1. 3. 4.]\n",
     "output_type": "stream"
    }
   ]
  },
  {
   "cell_type": "markdown",
   "source": "Dari segi dimensi array, kita sudah tahu bahwa array di atas berdimensi 1. Kita bisa buktikan dengan mengakses atribut seperti `shape`, `ndim`, dan `size` di bawah ini.",
   "metadata": {
    "slideshow": {
     "slide_type": "subslide"
    },
    "tags": [],
    "cell_id": "00015-e798db4d-5a11-409f-ac74-a12ca1359b4a",
    "deepnote_cell_type": "markdown"
   }
  },
  {
   "cell_type": "code",
   "metadata": {
    "cell_id": "00016-820200cb-2fb2-4ed2-9c74-7dcd9dabb4ee",
    "deepnote_to_be_reexecuted": false,
    "source_hash": "92efbcc7",
    "execution_start": 1636444215222,
    "execution_millis": 4,
    "output_cleared": false,
    "deepnote_cell_type": "code"
   },
   "source": "print(int_array.ndim, float_array.ndim)\nprint(int_array.shape, float_array.shape)\nprint(int_array.size, float_array.size)",
   "execution_count": null,
   "outputs": [
    {
     "name": "stdout",
     "text": "1 1\n(3,) (4,)\n3 4\n",
     "output_type": "stream"
    }
   ]
  },
  {
   "cell_type": "markdown",
   "source": "Pertama, jumlah dimensi kedua array `int_array` dan `float_array` adalah 1 karena memang merupakan vektor 1-dimensi. Khusus untuk array 1-dimensi, nilai dari dimensi sama dengan panjang dari array tersebut jika kita gunakan fungsi `len`.\n\n> Karena atribut `shape` mengembalikan sebuah `tuple`, maka notasi ukuran dari array 1-dimensi juga berbentuk tuple dengan 1 elemen (`(3,)`), yaitu jumlah elemen dari array tersebut. Nanti akan kita lihat notasi ukuran dari array 2-dimensi atau bahkan n-dimensi juga berbentuk tuple yang terdiri dari 2 atau n elemen.",
   "metadata": {
    "slideshow": {
     "slide_type": "subslide"
    },
    "tags": [],
    "cell_id": "00017-bc4ebc76-06a8-4174-9977-9114b6226b9a",
    "deepnote_cell_type": "markdown"
   }
  },
  {
   "cell_type": "markdown",
   "source": "> **Kuis:**\n>\n> Dengan menggunakan fungsi `np.array`, buatlah:\n> 1. array berukuran `(5,)` yang semua elemennya adalah **0**.\n> 2. array dengan ukuran yang sama dengan array nomor 1 yang elemennya adalah bilangan genap",
   "metadata": {
    "slideshow": {
     "slide_type": "slide"
    },
    "tags": [],
    "cell_id": "00018-4435a47f-4a69-4c12-81b9-cb84dca42b3a",
    "deepnote_cell_type": "markdown"
   }
  },
  {
   "cell_type": "code",
   "metadata": {
    "cell_id": "00020-e2e66437-3c45-4b41-a745-6ef0627f0c16",
    "deepnote_to_be_reexecuted": false,
    "source_hash": "f525cb87",
    "execution_start": 1636444313079,
    "execution_millis": 2,
    "output_cleared": false,
    "deepnote_cell_type": "code"
   },
   "source": "array_kuis = np.array ([[0,0,0,0,0]])\nprint (array_kuis, array_kuis.shape)",
   "execution_count": null,
   "outputs": [
    {
     "name": "stdout",
     "text": "[[0 0 0 0 0]] (1, 5)\n",
     "output_type": "stream"
    }
   ]
  },
  {
   "cell_type": "markdown",
   "source": "### Matriks, Array 2-Dimensi\n\nSama halnya dengan array 1-dimensi, kita gunakan `np.array` untuk membuat array 2-dimensi. Hanya saja, kita harus menyediakan sebuah barisan 2 dimensi. Barisan 2D ini bisa berupa list yang berisi list atau jenis barisan lain yang disediakan oleh Python.\n\n<div align=\"middle\">\n<img src=\"../../assets/images/array-2d.png\">\n</div>",
   "metadata": {
    "slideshow": {
     "slide_type": "slide"
    },
    "tags": [],
    "cell_id": "00021-039e91b6-81b5-4b0f-9a2a-a29b1011f8a9",
    "deepnote_cell_type": "markdown"
   }
  },
  {
   "cell_type": "code",
   "metadata": {
    "slideshow": {
     "slide_type": "subslide"
    },
    "tags": [],
    "cell_id": "00022-34252371-e638-4ee3-81cb-6f0ed7ba630a",
    "deepnote_to_be_reexecuted": false,
    "source_hash": "f92bd886",
    "execution_start": 1635333859254,
    "execution_millis": 2,
    "output_cleared": true,
    "deepnote_cell_type": "code"
   },
   "source": "array_2x2 = np.array([[1, 2], [3, 4]])\narray_1x2 = np.array([[5, 5]])\narray_2x1 = np.array([[2], [4]])\n\nprint(array_2x2)\nprint(array_1x2)\nprint(array_2x1)",
   "execution_count": null,
   "outputs": []
  },
  {
   "cell_type": "code",
   "metadata": {
    "cell_id": "00023-228345a2-4163-48a7-a925-42e42a029c51",
    "deepnote_to_be_reexecuted": false,
    "source_hash": "20e83011",
    "execution_start": 1635333859342,
    "execution_millis": 1,
    "output_cleared": true,
    "deepnote_cell_type": "code"
   },
   "source": "print([[1, 2], [3, 4]])",
   "execution_count": null,
   "outputs": []
  },
  {
   "cell_type": "markdown",
   "source": "Terlihat jelas perbedaan saat kita menampilkan array 2-dimensi di atas dengan list bawaan Python. Sedalam-dalamnya list dalam list yang kita buat, masih akan ditampilkan satu baris saja seperti di atas. Dengan NumPy, kita seakan-akan bisa tahu masing-masing dimensi dan jumlah elemen tiap dimensi.",
   "metadata": {
    "cell_id": "00024-0c70f04f-a1f7-4567-b579-6e6993a08315",
    "deepnote_cell_type": "markdown"
   }
  },
  {
   "cell_type": "markdown",
   "source": "Sekarang, mari kita coba akses beberapa atribut penting seperti sebelumnya.",
   "metadata": {
    "slideshow": {
     "slide_type": "subslide"
    },
    "tags": [],
    "cell_id": "00025-c80d44cb-5ecd-4d1f-8cf1-201ba11fe050",
    "deepnote_cell_type": "markdown"
   }
  },
  {
   "cell_type": "code",
   "metadata": {
    "cell_id": "00026-e6b0b1a7-6e22-4e8d-a118-dd512d85c465",
    "deepnote_to_be_reexecuted": false,
    "source_hash": "b4f35e2a",
    "execution_start": 1635333859387,
    "execution_millis": 3,
    "output_cleared": true,
    "deepnote_cell_type": "code"
   },
   "source": "print(array_2x2.ndim, array_1x2.ndim, array_2x1.ndim)\nprint(array_2x2.shape, array_1x2.shape, array_2x1.shape)\nprint(array_2x2.size, array_1x2.size, array_2x1.size)",
   "execution_count": null,
   "outputs": []
  },
  {
   "cell_type": "markdown",
   "source": "Bisa kita lihat jumlah dimensi ketiga array tersebut adalah 2, yang menunjukkan bahwa ketiganya merupakan array 2-dimensi. Karena merupakan aray 2-dimensi, elemen dari dimensi masing-masing array sejumlah 2 yang merepresentasikan jumlah elemen pada masing-masing dimensi.\n\nSebagai contoh, `array_2x2` berukuran `(2,2)` dan `array_1x2` berukuran `(1, 2)`. Khusus untuk `array_2x1` dan `array_1x2`, meskipun merupakan array 2D, kita bisa anggap kedua array tersebut sebagai **vektor kolom** dan **vektor baris** secara berturut-turut.",
   "metadata": {
    "cell_id": "00027-5bdff7ed-1089-4cfd-9bdd-31351d791dec",
    "deepnote_cell_type": "markdown"
   }
  },
  {
   "cell_type": "markdown",
   "source": "> Barisan yang disediakan untuk membuat sebuah array harus memiliki ukuran dan panjang yang sama. Misalkan, kita ingin membuat array 2D berukuran `2x3` maka untuk setiap elemen pada dimensi pertama (baris), harus berukuran atau memiliki panjang elemen (kolom) `3`. Jika ternyata tidak sama, maka kita akan mendapatkan *array of list*, yaitu array yang setiap elemennya adalah list bawaan Python. Sehingga, kita tidak bisa melakukan operasi atau komputasi array secara efisien.",
   "metadata": {
    "slideshow": {
     "slide_type": "subslide"
    },
    "tags": [],
    "cell_id": "00028-c74d6625-0d0c-4a44-b0ab-930a1c39794f",
    "deepnote_cell_type": "markdown"
   }
  },
  {
   "cell_type": "code",
   "metadata": {
    "cell_id": "00029-6f869ff3-f9ea-4ca7-9dc8-f3ba83946b5d",
    "deepnote_to_be_reexecuted": false,
    "source_hash": "33dc0906",
    "execution_start": 1635333859478,
    "execution_millis": 1,
    "output_cleared": true,
    "deepnote_cell_type": "code"
   },
   "source": "np.array([[1, 2], [3]])",
   "execution_count": null,
   "outputs": []
  },
  {
   "cell_type": "markdown",
   "source": "### Array N-Dimensi\n\nSemua sifat, karakter, dan aturan dalam membuat array 1D ataupun 2D, juga berlaku untuk pembuatan array n-dimensi. Sebagai contoh, misalkan kita ingin membuat sebuah array 3D atau bahkan 4D, kita bisa langsung sediakan *nested list* yang terdiri dari **3 lapis list** dan **4 lapis list** secara berturut-turut.",
   "metadata": {
    "slideshow": {
     "slide_type": "slide"
    },
    "tags": [],
    "cell_id": "00030-906b7a09-8796-4b55-be9c-e98d997e0f82",
    "deepnote_cell_type": "markdown"
   }
  },
  {
   "cell_type": "code",
   "metadata": {
    "cell_id": "00031-cdceb7a1-237f-458b-b3e2-4d8d70971344",
    "deepnote_to_be_reexecuted": false,
    "source_hash": "9b5c16a3",
    "execution_start": 1639568272596,
    "execution_millis": 9,
    "output_cleared": false,
    "deepnote_cell_type": "code"
   },
   "source": "array_3d = np.array([[[1, 2, 1], [3, 4, 3]], [[5, 4, 5], [6, 5, 6]]])\narray_4d = np.array([[[[1, 2, 1], [3, 4, 3]], [[5, 6, 5], [7, 8, 7]]], [[[12, 13, 12], [11, 12, 11]], [[13, 14, 13], [15, 16, 15]]]])\n\nprint(array_3d)\nprint(array_4d)",
   "outputs": [
    {
     "name": "stdout",
     "text": "[[[1 2 1]\n  [3 4 3]]\n\n [[5 4 5]\n  [6 5 6]]]\n[[[[ 1  2  1]\n   [ 3  4  3]]\n\n  [[ 5  6  5]\n   [ 7  8  7]]]\n\n\n [[[12 13 12]\n   [11 12 11]]\n\n  [[13 14 13]\n   [15 16 15]]]]\n",
     "output_type": "stream",
     "data": {}
    }
   ],
   "execution_count": null
  },
  {
   "cell_type": "code",
   "source": "array_3d.shape, array_4d.shape",
   "metadata": {
    "tags": [],
    "cell_id": "00031-28e01052-029c-462a-b64f-82e6e0a8983d",
    "deepnote_to_be_reexecuted": false,
    "source_hash": "5dbb039",
    "execution_start": 1639568285864,
    "execution_millis": 3,
    "deepnote_output_heights": [
     21.1875
    ],
    "deepnote_cell_type": "code"
   },
   "outputs": [
    {
     "output_type": "execute_result",
     "execution_count": 3,
     "data": {
      "text/plain": "((2, 2, 3), (2, 2, 2, 3))"
     },
     "metadata": {}
    }
   ],
   "execution_count": null
  },
  {
   "cell_type": "markdown",
   "source": "Semakin banyak dimensi sebuah array, memang semakin membingungkan untuk dibayangkan karena susah dibayangkan representasi objek di atas 3D. Sebagai analogi, anggap saja array multidimensi adalah array yang berisi array yang juga berisi array dan seterusnya. Ini akan semakin jelas kita sudah mengakses atribut yang berkaitan dengan dimensi.",
   "metadata": {
    "slideshow": {
     "slide_type": "subslide"
    },
    "tags": [],
    "cell_id": "00032-279d2e7c-bef1-440b-9a8e-8b345baf022f",
    "deepnote_cell_type": "markdown"
   }
  },
  {
   "cell_type": "code",
   "metadata": {
    "cell_id": "00033-5ace87db-a191-4344-b6c2-173e2db58dbd",
    "deepnote_to_be_reexecuted": false,
    "source_hash": "2a5493a0",
    "execution_start": 1635333859660,
    "execution_millis": 3964010,
    "output_cleared": true,
    "deepnote_cell_type": "code"
   },
   "source": "print(array_3d.ndim, array_4d.ndim)\nprint(array_3d.shape, array_4d.shape)\nprint(array_3d.size, array_4d.size)",
   "execution_count": null,
   "outputs": []
  },
  {
   "cell_type": "markdown",
   "source": "> **Kuis:**\n>\n> Buatlah array multidimensional dengan elemen sebarang dan dengan ukuran sebagai berikut:\n> 1. `(3, 3, 3)`\n> 2. `(2, 1, 4)`\n> 3. `(2, 2, 1, 2, 1)`",
   "metadata": {
    "slideshow": {
     "slide_type": "slide"
    },
    "tags": [],
    "cell_id": "00034-bc6d9e60-2127-4ef9-ad05-9a2f540a198f",
    "deepnote_cell_type": "markdown"
   }
  },
  {
   "cell_type": "code",
   "metadata": {
    "cell_id": "00035-52f2fff4-22de-47e1-9742-4b3d659ff8be",
    "deepnote_to_be_reexecuted": false,
    "source_hash": "9801247",
    "execution_start": 1635333859774,
    "execution_millis": 3964027,
    "output_cleared": true,
    "deepnote_cell_type": "code"
   },
   "source": "# KETIK DI SINI\n",
   "execution_count": null,
   "outputs": []
  },
  {
   "cell_type": "code",
   "metadata": {
    "cell_id": "00036-696fb58c-02e9-4a09-babb-2f3ef9a896b7",
    "deepnote_to_be_reexecuted": false,
    "source_hash": "9801247",
    "execution_start": 1635333859819,
    "execution_millis": 3964030,
    "output_cleared": true,
    "deepnote_cell_type": "code"
   },
   "source": "# KETIK DI SINI",
   "execution_count": null,
   "outputs": []
  },
  {
   "cell_type": "code",
   "metadata": {
    "cell_id": "00037-90b7d787-a1f7-45ec-a6c3-72f2ba67c21a",
    "deepnote_to_be_reexecuted": false,
    "source_hash": "9801247",
    "execution_start": 1635333859863,
    "execution_millis": 3964058,
    "output_cleared": true,
    "deepnote_cell_type": "code"
   },
   "source": "# KETIK DI SINI",
   "execution_count": null,
   "outputs": []
  },
  {
   "cell_type": "markdown",
   "source": "## Penciptaan Array\n\nSelain menggunakan `np.array`, NumPy menyediakan fungsi untuk membuat array khusus seperti array yang semua elemennya `0` atau `1`, array yang semua elemennya sama, dan lain-lain, tanpa harus mengetik elemennya satu per satu.",
   "metadata": {
    "slideshow": {
     "slide_type": "slide"
    },
    "tags": [],
    "cell_id": "00038-37fbffdf-4ee1-4b1c-b3fc-20c408ebf33e",
    "deepnote_cell_type": "markdown"
   }
  },
  {
   "cell_type": "markdown",
   "source": "### `numpy.linspace` dan `numpy.arange`\n\nDua fungsi pertama adalah `numpy.linspace` dan `numpy.arange`. Kedua fungsi ini akan membangkitkan array 1-dimensi dengan menyediakan minimal **2 masukan**:\n* `start` sebagai batas bawah nilai\n* `stop` sebagai batas atas nilai\n\n> Satu *optional argument* yang bisa kita kasih adalah `step` yang berfungsi sebagai besar penambahan/pengurangan dari `start` sampai tepat sebelum mencapai `stop`.",
   "metadata": {
    "slideshow": {
     "slide_type": "subslide"
    },
    "tags": [],
    "cell_id": "00039-a9e0ecee-38b6-471f-bd05-7312304b2703",
    "deepnote_cell_type": "markdown"
   }
  },
  {
   "cell_type": "markdown",
   "source": "`numpy.arange` akan membuat sebuah array dengan nilai yang bertambah/berkurang secara teratur. Fungsi ini mirip dengan fungsi bawaan Python `range`, di mana yang berbeda adalah hasilnya, yang pertama array dan yang kedua list.",
   "metadata": {
    "slideshow": {
     "slide_type": "subslide"
    },
    "tags": [],
    "cell_id": "00040-180d44b5-d338-4a56-88b0-b3df1df47780",
    "deepnote_cell_type": "markdown"
   }
  },
  {
   "cell_type": "code",
   "metadata": {
    "slideshow": {
     "slide_type": "subslide"
    },
    "tags": [],
    "cell_id": "00041-4ffef393-3119-43af-86f0-ced05de33ad4",
    "deepnote_to_be_reexecuted": false,
    "source_hash": "3b60cda0",
    "execution_start": 1635333859916,
    "execution_millis": 3964095,
    "output_cleared": true,
    "deepnote_cell_type": "code"
   },
   "source": "np.arange(10)",
   "execution_count": null,
   "outputs": []
  },
  {
   "cell_type": "code",
   "metadata": {
    "cell_id": "00042-a22dedac-9438-4ec6-a21d-7c14eda2b399",
    "deepnote_to_be_reexecuted": false,
    "source_hash": "c7452b85",
    "execution_start": 1635333859995,
    "execution_millis": 3964138,
    "output_cleared": true,
    "deepnote_cell_type": "code"
   },
   "source": "# providing a dtype\nnp.arange(1, 10, dtype=float)",
   "execution_count": null,
   "outputs": []
  },
  {
   "cell_type": "code",
   "metadata": {
    "cell_id": "00043-df708c46-4394-417b-94b6-be9138902631",
    "deepnote_to_be_reexecuted": false,
    "source_hash": "2d71b8f9",
    "execution_start": 1635333860039,
    "execution_millis": 3964111,
    "output_cleared": true,
    "deepnote_cell_type": "code"
   },
   "source": "np.arange(0, 11, 2)",
   "execution_count": null,
   "outputs": []
  },
  {
   "cell_type": "markdown",
   "source": "Untuk membangkitkan array dengan nilai yang konsisten menurun, kita tinggal menyediakan nilai `start` yang lebih besar daripada `stop`, dan `step` yang bernilai negatif seperti di bawah ini. Akan tetapi, jika kita gunakan `step` yang negatif untuk array yang konsisten naik, kita akan mendapatkan array kosong.",
   "metadata": {
    "slideshow": {
     "slide_type": "subslide"
    },
    "tags": [],
    "cell_id": "00044-50330fe8-e288-4674-96f7-d393a95de70a",
    "deepnote_cell_type": "markdown"
   }
  },
  {
   "cell_type": "code",
   "metadata": {
    "cell_id": "00045-31d15280-ddd0-4768-9119-65ca33fc3a6a",
    "deepnote_to_be_reexecuted": false,
    "source_hash": "c3e31fb1",
    "execution_start": 1635333860082,
    "execution_millis": 3964154,
    "output_cleared": true,
    "deepnote_cell_type": "code"
   },
   "source": "np.arange(10, 0, -1)",
   "execution_count": null,
   "outputs": []
  },
  {
   "cell_type": "code",
   "metadata": {
    "cell_id": "00046-5e8a34a0-35a7-4045-8030-ce5cd90b294d",
    "deepnote_to_be_reexecuted": false,
    "source_hash": "fa3d103d",
    "execution_start": 1635333860168,
    "execution_millis": 3964198,
    "output_cleared": true,
    "deepnote_cell_type": "code"
   },
   "source": "np.arange(1, 10, -1)",
   "execution_count": null,
   "outputs": []
  },
  {
   "cell_type": "markdown",
   "source": "`numpy.linspace` membuat array dengan jumlah elemen yang sudah kita berikan sebagai parameter `num`, sedemikian hingga jarak antar elemen selalu sama. Dengan kata lain, `numpy.linspace` akan membagi array dengan nilai antara `start` sampai dengan `stop` menjadi `num` bagian.",
   "metadata": {
    "slideshow": {
     "slide_type": "subslide"
    },
    "tags": [],
    "cell_id": "00047-89051a19-34da-40a3-aefc-ec744ed51452",
    "deepnote_cell_type": "markdown"
   }
  },
  {
   "cell_type": "code",
   "metadata": {
    "cell_id": "00048-abba2a93-1d46-49d8-89ac-bf7327786794",
    "deepnote_to_be_reexecuted": false,
    "source_hash": "b1ca19c4",
    "execution_start": 1635333860270,
    "execution_millis": 3964213,
    "output_cleared": true,
    "deepnote_cell_type": "code"
   },
   "source": "np.linspace(1, 10, 20)",
   "execution_count": null,
   "outputs": []
  },
  {
   "cell_type": "code",
   "metadata": {
    "cell_id": "00049-fb90ecab-6741-41b8-bb04-3b8e4fcd9671",
    "deepnote_to_be_reexecuted": false,
    "source_hash": "7b9605ba",
    "execution_start": 1635333860359,
    "execution_millis": 3964301,
    "output_cleared": true,
    "deepnote_cell_type": "code"
   },
   "source": "np.linspace(0, 100, 50)",
   "execution_count": null,
   "outputs": []
  },
  {
   "cell_type": "markdown",
   "source": "### `numpy.eye`\n\n`numpy.eye(n, m)` akan membuat array 2-dimensi dengan elemen diagonalnya (ketika `i=j`) sama dengan 1 dan 0 untuk lainnya. Kita mengenal array 2-dimensi jenis ini sebagai **matriks identitas**. Kita juga harus menyediakan ukuran array yang akan kita buat dalam `n` dan `m` (opsional) sebagai jumlah elemen dimensi pertama (baris) dan kedua (kolom).",
   "metadata": {
    "slideshow": {
     "slide_type": "slide"
    },
    "tags": [],
    "cell_id": "00050-fb96b7e8-7b3d-47d3-aed6-6538e7e744b0",
    "deepnote_cell_type": "markdown"
   }
  },
  {
   "cell_type": "code",
   "metadata": {
    "cell_id": "00051-423fac62-28d3-4717-9617-183d9f9c283d",
    "deepnote_to_be_reexecuted": false,
    "source_hash": "d6a36dcf",
    "execution_start": 1635333860368,
    "execution_millis": 3964292,
    "output_cleared": true,
    "deepnote_cell_type": "code"
   },
   "source": "print(np.eye(5))",
   "execution_count": null,
   "outputs": []
  },
  {
   "cell_type": "code",
   "metadata": {
    "cell_id": "00052-73875662-63b0-438d-9ad4-c3e038010383",
    "deepnote_to_be_reexecuted": false,
    "source_hash": "83793c4f",
    "execution_start": 1635333860447,
    "execution_millis": 3964380,
    "output_cleared": true,
    "deepnote_cell_type": "code"
   },
   "source": "print(np.eye(4, 6))",
   "execution_count": null,
   "outputs": []
  },
  {
   "cell_type": "markdown",
   "source": "Jika kita hanya menyediakan satu argumen `N`, maka array yang dihasilkan adalah berupa matriks persegi, yaitu `nxn`. Jika diberikan `n` dan `m`, maka array yang dihasilkan akan berukuran `nxm`, meskipun $n \\neq m$. Khusus untuk $n \\neq m$, semua elemennya akan bernilai 0 kecuali untuk elemen-elemen di mana `i=j` yang bernilai 1.",
   "metadata": {
    "slideshow": {
     "slide_type": "subslide"
    },
    "tags": [],
    "cell_id": "00053-5f175f80-10cc-4507-b52b-d5a2ee4bdb80",
    "deepnote_cell_type": "markdown"
   }
  },
  {
   "cell_type": "markdown",
   "source": "> **Tugas Eksplorasi**\n>\n> Silakan mencoba fungsi lain untuk membuat sebuah matriks atau array 2-dimensi, seperti `numpy.tri`, `numpy.tril`, dan `numpy.triu`.",
   "metadata": {
    "slideshow": {
     "slide_type": "slide"
    },
    "tags": [],
    "cell_id": "00054-e3472be9-5c04-452d-b90a-ca29b1d9d73d",
    "deepnote_cell_type": "markdown"
   }
  },
  {
   "cell_type": "markdown",
   "source": "### Array Nol, Satuan, dan Acak\n\nKita akan mencoba beberapa fungsi untuk membuat array n-dimensi yang bisa kita tentukan ukurannya. Ukuran yang kita tentukan tidak terbatas sampai 3-dimensi saja, tapi bisa berapapun dimensi dan panjang elemen di setiap dimensi tersebut.",
   "metadata": {
    "slideshow": {
     "slide_type": "slide"
    },
    "tags": [],
    "cell_id": "00055-ff9b6297-54d0-4ac0-96fb-ebd692d94d9b",
    "deepnote_cell_type": "markdown"
   }
  },
  {
   "cell_type": "markdown",
   "source": "`numpy.zeros` akan membuat array yang semua elemennya bernilai 0 dengan ukuran yang kita tentukan. Tipe data dalam array tersebut adalah `float64` secara default yang bisa juga diubah.",
   "metadata": {
    "slideshow": {
     "slide_type": "slide"
    },
    "tags": [],
    "cell_id": "00056-1f388463-2b3b-4293-8176-4743f31e2764",
    "deepnote_cell_type": "markdown"
   }
  },
  {
   "cell_type": "code",
   "metadata": {
    "cell_id": "00057-01cff6ef-0ddf-4fef-9f90-835762687378",
    "deepnote_to_be_reexecuted": false,
    "source_hash": "cb149832",
    "execution_start": 1635333860491,
    "execution_millis": 3964312,
    "output_cleared": true,
    "deepnote_cell_type": "code"
   },
   "source": "print(np.zeros(10))",
   "execution_count": null,
   "outputs": []
  },
  {
   "cell_type": "code",
   "metadata": {
    "cell_id": "00058-7f6d1dff-1a21-42bb-97e5-1c35dd007d8e",
    "deepnote_to_be_reexecuted": false,
    "source_hash": "a5138452",
    "execution_start": 1635333860535,
    "execution_millis": 3964357,
    "output_cleared": true,
    "deepnote_cell_type": "code"
   },
   "source": "print(np.zeros((3, 3)))",
   "execution_count": null,
   "outputs": []
  },
  {
   "cell_type": "code",
   "metadata": {
    "cell_id": "00059-6250f88f-5133-41c0-8f98-4b4f513b9992",
    "deepnote_to_be_reexecuted": false,
    "source_hash": "1b33fa42",
    "execution_start": 1635333860600,
    "execution_millis": 61,
    "output_cleared": true,
    "deepnote_cell_type": "code"
   },
   "source": "print(np.zeros((2, 3, 2)))",
   "execution_count": null,
   "outputs": []
  },
  {
   "cell_type": "code",
   "metadata": {
    "cell_id": "00060-4ac1eec0-0a76-489f-8f5b-3004778a5a17",
    "deepnote_to_be_reexecuted": false,
    "source_hash": "f406aeb6",
    "execution_start": 1635333860686,
    "execution_millis": 3964400,
    "output_cleared": true,
    "deepnote_cell_type": "code"
   },
   "source": "print(np.zeros((3, 2, 4)))",
   "execution_count": null,
   "outputs": []
  },
  {
   "cell_type": "markdown",
   "source": "`numpy.ones` akan membuat array yang semua elemennya bernilai 1. Fungsi ini mirip dengan `zeros` dalam hal penciptaan array seperti di bawah ini.",
   "metadata": {
    "slideshow": {
     "slide_type": "subslide"
    },
    "tags": [],
    "cell_id": "00061-f93c7778-1797-4225-a12c-2fba1060d5cc",
    "deepnote_cell_type": "markdown"
   }
  },
  {
   "cell_type": "code",
   "metadata": {
    "cell_id": "00062-392f37d3-4c5a-4ca3-9ec7-1dab245ae141",
    "deepnote_to_be_reexecuted": false,
    "source_hash": "2236973a",
    "execution_start": 1635333860731,
    "execution_millis": 3964517,
    "output_cleared": true,
    "deepnote_cell_type": "code"
   },
   "source": "np.ones(10)",
   "execution_count": null,
   "outputs": []
  },
  {
   "cell_type": "code",
   "metadata": {
    "cell_id": "00063-32794187-8b53-40d0-a91d-9bf931294006",
    "deepnote_to_be_reexecuted": false,
    "source_hash": "b046bd28",
    "execution_start": 1635333860818,
    "execution_millis": 3964480,
    "output_cleared": true,
    "deepnote_cell_type": "code"
   },
   "source": "print(np.ones((3, 3)))",
   "execution_count": null,
   "outputs": []
  },
  {
   "cell_type": "code",
   "metadata": {
    "cell_id": "00064-010a7889-762b-4b5b-9077-e24d2503688c",
    "deepnote_to_be_reexecuted": false,
    "source_hash": "f77b72d6",
    "execution_start": 1635333860851,
    "execution_millis": 3964478,
    "output_cleared": true,
    "deepnote_cell_type": "code"
   },
   "source": "print(np.ones((2, 3, 2)))",
   "execution_count": null,
   "outputs": []
  },
  {
   "cell_type": "code",
   "metadata": {
    "cell_id": "00065-18bf04b1-699d-48d2-95ae-171493e9d752",
    "deepnote_to_be_reexecuted": false,
    "source_hash": "fcbdc8f0",
    "execution_start": 1635333860950,
    "execution_millis": 3964352,
    "output_cleared": true,
    "deepnote_cell_type": "code"
   },
   "source": "print(np.ones((3, 2, 4)))",
   "execution_count": null,
   "outputs": []
  },
  {
   "cell_type": "markdown",
   "source": "`numpy.random` adalah sebuah modul digunakan untuk memangkitkan bilangan acak dari beberapa distribusi. Pada versi terbaru NumPy, sangat disarankan untuk menggunakan `numpy.random` dengan modul `default_rng`. Beberapa distribusi yang disediakan meliputi normal, uniform, integers, binomial, dan bahkan permutasi. Kita akan mencoba beberapa distribusi di sini sebagai contoh.\n\nPertama, kita harus mendefinisikan sebuah `Generator` dengan menggunakan `default_rng` yang akan kita gunakan untuk membangkitkan bilangan acak.",
   "metadata": {
    "slideshow": {
     "slide_type": "subslide"
    },
    "tags": [],
    "cell_id": "00066-7c30f599-ee01-4331-b1ec-e29cab5406c4",
    "deepnote_cell_type": "markdown"
   }
  },
  {
   "cell_type": "code",
   "metadata": {
    "cell_id": "00067-6814081c-254b-44a4-ade3-8ae41962f1d9",
    "deepnote_to_be_reexecuted": false,
    "source_hash": "e0848bd5",
    "execution_start": 1635333860995,
    "execution_millis": 3964396,
    "output_cleared": true,
    "deepnote_cell_type": "code"
   },
   "source": "rng = np.random.default_rng()\n\nprint(rng, type(rng))",
   "execution_count": null,
   "outputs": []
  },
  {
   "cell_type": "markdown",
   "source": "`rng` memiliki beberapa metode yang digunakan untuk membangkitkan bilangan acak dengan distribusi tertentu. Di bawah ini beberapa contoh distribusi yang bisa kita bangkitkan.",
   "metadata": {
    "slideshow": {
     "slide_type": "subslide"
    },
    "tags": [],
    "cell_id": "00068-7d652fbd-cbd9-41e8-a7ab-79247adc16aa",
    "deepnote_cell_type": "markdown"
   }
  },
  {
   "cell_type": "code",
   "metadata": {
    "cell_id": "00069-8f9b0798-da9b-48cd-8e1f-893330b88b9c",
    "deepnote_to_be_reexecuted": false,
    "source_hash": "33a6cf26",
    "execution_start": 1635333861048,
    "execution_millis": 3964397,
    "output_cleared": true,
    "deepnote_cell_type": "code"
   },
   "source": "print(rng.standard_normal(size=5))",
   "execution_count": null,
   "outputs": []
  },
  {
   "cell_type": "code",
   "metadata": {
    "cell_id": "00070-c7dabb0e-31d5-48a4-8e53-80b68ab1c510",
    "deepnote_to_be_reexecuted": false,
    "source_hash": "e8cb9816",
    "execution_start": 1635333861135,
    "execution_millis": 3964442,
    "output_cleared": true,
    "deepnote_cell_type": "code"
   },
   "source": "print(rng.standard_normal(size=(3, 3)))",
   "execution_count": null,
   "outputs": []
  },
  {
   "cell_type": "code",
   "metadata": {
    "cell_id": "00071-fb9ea97d-8d24-4c19-b8c4-11d0a397c093",
    "deepnote_to_be_reexecuted": false,
    "source_hash": "bb3270a2",
    "execution_start": 1635333861179,
    "execution_millis": 3964423,
    "output_cleared": true,
    "deepnote_cell_type": "code"
   },
   "source": "print(rng.integers(5, 10, size=10))",
   "execution_count": null,
   "outputs": []
  },
  {
   "cell_type": "code",
   "metadata": {
    "cell_id": "00072-a9acb242-19ec-4143-9721-a23e11a3e640",
    "deepnote_to_be_reexecuted": false,
    "source_hash": "7975f4d8",
    "execution_start": 1635333861235,
    "execution_millis": 3964458,
    "output_cleared": true,
    "deepnote_cell_type": "code"
   },
   "source": "print(rng.uniform(size=(2, 5)))",
   "execution_count": null,
   "outputs": []
  },
  {
   "cell_type": "code",
   "metadata": {
    "cell_id": "00073-a1287117-2b09-4219-a8bf-432be5ed3594",
    "deepnote_to_be_reexecuted": false,
    "source_hash": "a89bf85",
    "execution_start": 1635333861279,
    "execution_millis": 3964518,
    "output_cleared": true,
    "deepnote_cell_type": "code"
   },
   "source": "print(rng.uniform(10, size=(1, 6)))",
   "execution_count": null,
   "outputs": []
  },
  {
   "cell_type": "markdown",
   "source": "`default_rng` juga bisa menerima sebuah integer yang berfungsi sebagai *random state* atau *seed* supaya bilangan acak yang dibangkitkan selalu sama. Jika tidak, seperti pada `rng` di atas, maka setiap kali dilakukan pembangkitan, bilangan acak yang dihasilkan akan selalu berbeda. Ini biasanya menjadi isu dalam hal *reproducibility*.",
   "metadata": {
    "slideshow": {
     "slide_type": "subslide"
    },
    "tags": [],
    "cell_id": "00074-9fc2b292-bdd7-46ec-9609-4f5c1c6a9f7b",
    "deepnote_cell_type": "markdown"
   }
  },
  {
   "cell_type": "code",
   "metadata": {
    "cell_id": "00075-717f01fc-e5cf-4d70-9dfa-f7f1c8423146",
    "deepnote_to_be_reexecuted": false,
    "source_hash": "925cbeeb",
    "execution_start": 1635333861323,
    "execution_millis": 3964520,
    "output_cleared": true,
    "deepnote_cell_type": "code"
   },
   "source": "rng_with_seed = np.random.default_rng(111)\n\nprint(rng_with_seed, type(rng_with_seed))",
   "execution_count": null,
   "outputs": []
  },
  {
   "cell_type": "code",
   "metadata": {
    "cell_id": "00076-062546f0-8c1a-402d-9151-6fc4b0f1a246",
    "deepnote_to_be_reexecuted": false,
    "source_hash": "bb3270a2",
    "execution_start": 1635333861387,
    "execution_millis": 3964561,
    "output_cleared": true,
    "deepnote_cell_type": "code"
   },
   "source": "print(rng.integers(5, 10, size=10))",
   "execution_count": null,
   "outputs": []
  },
  {
   "cell_type": "code",
   "metadata": {
    "cell_id": "00077-9782c25e-78a7-4480-948c-6ed794b1a2d7",
    "deepnote_to_be_reexecuted": false,
    "source_hash": "e5443ef9",
    "execution_start": 1635333870466,
    "execution_millis": 25,
    "output_cleared": true,
    "deepnote_cell_type": "code"
   },
   "source": "print(rng_with_seed.integers(5, 10, size=10))",
   "execution_count": null,
   "outputs": []
  },
  {
   "cell_type": "code",
   "metadata": {
    "cell_id": "00078-254127d8-1070-4ab1-a565-de0e06401259",
    "deepnote_to_be_reexecuted": false,
    "source_hash": "e5443ef9",
    "execution_start": 1635333875999,
    "execution_millis": 31,
    "output_cleared": true,
    "deepnote_cell_type": "code"
   },
   "source": "print(rng_with_seed.integers(5, 10, size=10))",
   "execution_count": null,
   "outputs": []
  },
  {
   "cell_type": "markdown",
   "source": "## *Indexing*, *Slicing*, dan Perulangan\n\n*Indexing* di sini merujuk kepada penggunaan kurung siku (`[]`) untuk mengakses nilai dari suatu array. Secara umum, prinsip *indexing* dalam NumPy array mirip dengan list bawaan Python. Kita juga bisa menggunakan *slicing* dengan cara yang sama dengan list.\n\n<div align=\"middle\">\n<img src=\"../../assets/images/numpy-array-slice.png\">\n</div>",
   "metadata": {
    "slideshow": {
     "slide_type": "slide"
    },
    "tags": [],
    "cell_id": "00079-5b1ade3e-ced5-4f3f-82f0-631a7d99723f",
    "deepnote_cell_type": "markdown"
   }
  },
  {
   "cell_type": "code",
   "metadata": {
    "slideshow": {
     "slide_type": "subslide"
    },
    "tags": [],
    "cell_id": "00080-5169b062-b5a3-4588-a346-3752405ba6d6",
    "deepnote_to_be_reexecuted": false,
    "source_hash": "a14ac6be",
    "execution_start": 1635333876082,
    "execution_millis": 2,
    "output_cleared": true,
    "deepnote_cell_type": "code"
   },
   "source": "print(\"array:\", int_array)\nprint(int_array[2])\nprint(int_array[-2])\nprint(int_array[:2])",
   "execution_count": null,
   "outputs": []
  },
  {
   "cell_type": "markdown",
   "source": "Yang membedakan *indexing* dalam array dan list adalah saat kita mengakses nilai pada array 2-dimensi. Misalkan, untuk mengakses nilai kedua pada list pertama dalam sebuah list `[[1, 2], [4, 5]]` digunakan notasi `[0][0]`, untuk nilai pertama pada list kedua dengan notasi `[1][0]` atau `[-1][0]`. Pada array serupa, kita bisa mengakses kedua nilai tersebut secara berturut-turut dengan notasi `[0, 0]` dan `[1, 0]`. Untuk array multidimensi, notasi umum nya berbentuk `[i, j, k, ...]`, di mana $i, j, k, ...$ adalah indeks dalam tiap dimensi.",
   "metadata": {
    "slideshow": {
     "slide_type": "subslide"
    },
    "tags": [],
    "cell_id": "00081-a3cdc31f-548a-42c9-8077-28430e1aeea5",
    "deepnote_cell_type": "markdown"
   }
  },
  {
   "cell_type": "code",
   "metadata": {
    "slideshow": {
     "slide_type": "fragment"
    },
    "tags": [],
    "cell_id": "00082-a0dd540c-17e1-4365-a71b-32c9e1b1129a",
    "deepnote_to_be_reexecuted": false,
    "source_hash": "58fd04cd",
    "execution_start": 1635333876127,
    "execution_millis": 0,
    "output_cleared": true,
    "deepnote_cell_type": "code"
   },
   "source": "print(\"array 2D:\", array_2x2)\nprint(array_2x2[0, 1])\nprint(array_2x2[:, 0])\nprint(array_2x2[1])",
   "execution_count": null,
   "outputs": []
  },
  {
   "cell_type": "code",
   "metadata": {
    "slideshow": {
     "slide_type": "fragment"
    },
    "tags": [],
    "cell_id": "00083-fa2e73de-39b5-49c7-912a-97bb869190e2",
    "deepnote_to_be_reexecuted": false,
    "source_hash": "4afae8a5",
    "execution_start": 1635333876128,
    "execution_millis": 1,
    "output_cleared": true,
    "deepnote_cell_type": "code"
   },
   "source": "print(array_4d, array_4d.shape)\nprint(array_4d[0])\nprint(array_4d[0, 0])\nprint(array_4d[1, :, 1, :])\nprint(array_4d[:, :, :, 0])",
   "execution_count": null,
   "outputs": []
  },
  {
   "cell_type": "markdown",
   "source": "<a style='text-decoration:none;line-height:16px;display:flex;color:#5B5B62;padding:10px;justify-content:end;' href='https://deepnote.com?utm_source=created-in-deepnote-cell&projectId=755892f1-a617-4a5f-868e-ec54428f8e09' target=\"_blank\">\n<img alt='Created in deepnote.com' style='display:inline;max-height:16px;margin:0px;margin-right:7.5px;' src='data:image/svg+xml;base64,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' > </img>\nCreated in <span style='font-weight:600;margin-left:4px;'>Deepnote</span></a>",
   "metadata": {
    "tags": [],
    "created_in_deepnote_cell": true,
    "deepnote_cell_type": "markdown"
   }
  }
 ],
 "nbformat": 4,
 "nbformat_minor": 5,
 "metadata": {
  "kernelspec": {
   "display_name": "Python 3 (ipykernel)",
   "language": "python",
   "name": "python3"
  },
  "language_info": {
   "codemirror_mode": {
    "name": "ipython",
    "version": 3
   },
   "file_extension": ".py",
   "mimetype": "text/x-python",
   "name": "python",
   "nbconvert_exporter": "python",
   "pygments_lexer": "ipython3",
   "version": "3.9.4"
  },
  "deepnote_notebook_id": "76116f25-caed-42f7-8308-6c0410c02c04",
  "deepnote": {},
  "deepnote_execution_queue": []
 }
}