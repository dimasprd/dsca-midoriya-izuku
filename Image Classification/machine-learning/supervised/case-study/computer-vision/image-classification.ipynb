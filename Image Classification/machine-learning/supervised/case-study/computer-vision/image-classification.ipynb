{
 "cells": [
  {
   "cell_type": "markdown",
   "source": "# Image Classification\n\nPada notebook ini, kita akan belajar tentang:\n* Apa itu *image classification*?\n* Tantangan dalam *image classification*\n* *Image feature*\n* Modeling untuk *image classification*\n* Studi kasus: *Fashion-MNIST image classification*",
   "metadata": {
    "cell_id": "00000-8aea6ba5-b022-4744-a8dd-6dfe38f43dcb",
    "deepnote_cell_type": "markdown"
   }
  },
  {
   "cell_type": "markdown",
   "source": "## Apa Itu *Image Classification*?\n\nKlasifikasi gambar atau yang biasa disebut dengan *image classification* adalah sebuah *task* dalam *computer vision* untuk memproses sebuah gambar dan membuat komputer untuk mengenali atau mengklasifikasi konten dalam gambar ke dalam sebuah *class* (dalam bentuk probabilitas).\n\n![](../../../../assets/images/cat-classification.png)\n\n<!-- ```{figure} ../../../../assets/images/cat-classification.png\n:name: cat-classification\n:width: 50%\n\nGambar diambil dari [Coursera](https://www.coursera.org/learn/introduction-computer-vision-watson-opencv).\n``` -->\n\n*Class* yang dimaksud ini adalah sebuah label atau kategori yang merepresentasikan target variabel yang akan kita prediksi, seperti kucing, mobil, atau lainnya. Beberapa aplikasi dari *image classification* seperti:\n* Pengelompokkan foto pada handphone\n* Pengelompokkan gambar pada *travel agent*\n* Pengenalan wajah\n* dan lainnya\n",
   "metadata": {
    "cell_id": "00001-8a3b8289-bdba-4c98-84f7-fa12bb168f91",
    "deepnote_cell_type": "markdown"
   }
  },
  {
   "cell_type": "markdown",
   "source": "## Jenis *Image Classification*\n\nSecara umum, ada 2 jenis *task* klasifikasi:\n\n```{panels}\n**Binary Classificastion**\n^^^\nKlasifikasi yang variabel targetnya terdiri dari 2 jenis. Seperti kucing/anjing, benar/salah, positif/negatif, dan lainnya.\n---\n\n**Multiclass Classification**\n^^^\nKlasifikasi yang variabel targetnya lebih dari 2 jenis. Seperti positif/negatif/netral, angka 1/2/3/dst.\n```\n\n![](https://raw.githubusercontent.com/zalandoresearch/fashion-mnist/master/doc/img/fashion-mnist-sprite.png)\n<!-- ```{figure} https://raw.githubusercontent.com/zalandoresearch/fashion-mnist/master/doc/img/fashion-mnist-sprite.png\n:name: fashion-mnist\n:width: 50%\n\nContoh *multiclass classification* pada data [Fashion-MNIST](https://github.com/zalandoresearch/fashion-mnist).\n``` -->\n\n![](../../../../assets/images/cat-dog-binary.png)\n<!-- ```{figure} ../../../../assets/images/cat-dog-binary.png\n:name: cat-dog-binary\n:width: 50%\n\nContoh *binary classification* diambil dari [Coursera](https://www.coursera.org/learn/introduction-computer-vision-watson-opencv).\n``` -->",
   "metadata": {
    "cell_id": "00002-bcb2b376-a5e1-46b4-a158-3b356bcef728",
    "deepnote_cell_type": "markdown"
   }
  },
  {
   "cell_type": "markdown",
   "source": "## Tantangan dalam *Image Classification*\n\nKita dengan mudah mengenali bahwa objek dalma kedua gambar di bawah ini adalah kucing. Akan tetapi, bisa saja komputer tidak bisa mengenali salah satu gambar tersebut.\n\n![](../../../../assets/images/cats.png)\n<!-- ```{figure} ../../../../assets/images/cats.png\n:name: cats\n:width: 50%\n\nGambar [1](https://www.npr.org/2019/04/04/709916647/study-your-cat-knows-when-youre-calling-him-he-just-doesnt-care) dan [2](https://static01.nyt.com/images/2021/08/17/science/28cats1/28cats1-mobileMasterAt3x.jpg).\n``` -->\n\nHal ini dikarenakan ada beberapa tantangan yang datang dari ragam gambar/foto. Diantaranya adalah {cite:p}`ibm-image-classification`:\n* Illumination\n    ![](../../../../assets/images/img-illumination.png)\n    <!-- ```{figure} ../../../../assets/images/img-illumination.png\n    :name: img-illumination\n    ``` -->\n* Deformation\n    ![](../../../../assets/images/img-deformation.png)\n    <!-- ```{figure} ../../../../assets/images/img-deformation.png\n    :name: img-deformation\n    ``` -->\n* Occlusion\n    ![](../../../../assets/images/img-occlusion.png)\n    <!-- ```{figure} ../../../../assets/images/img-occlusion.png\n    :name: img-occlussion\n    ``` -->\n* Background clutter\n    ![](../../../../assets/images/img-bg-clutter.png)\n    <!-- ```{figure} ../../../../assets/images/img-bg-clutter.png\n    :name: img-bg-clutter\n    ``` -->",
   "metadata": {
    "cell_id": "00003-b54c8cd4-5511-4232-892b-549de51cb258",
    "deepnote_cell_type": "markdown"
   }
  },
  {
   "cell_type": "markdown",
   "source": "## *Image Feature*\n\nUntuk komputer bisa memproses sebuah gambar, akan digunakan nilai intensitas sebuah gambar yang direpresentasikan oleh matriks piksel.\n\n![](../../../../assets/images/dog-pixel.png)\n<!-- ```{figure} ../../../../assets/images/dog-pixel.png\n:name: dog-pixel\n\nContoh gambar dan reprsentasi matriks piksel ([ref](https://www.coursera.org/learn/introduction-computer-vision-watson-opencv))\n``` -->\n\n```{note}\nPada gambar di atas, hanya ada 1 jenis matriks piksel karena gambar dalam format *grayscale*. Pada gambar berwarna, kita akan punyai matriks piksel sesuai dengan jumlah channel warnanya, yaitu 3 jenis, merah, hijau, dan biru (RGB).\n```\n\nJika pada data tabel, umumnya kita memiliki beberapa baris data dengan beberapa kolom yang merupakan fitur dari data. Pada data gambar, fitur digunakan adalah matriks piksel pada gambar tersebut. Hal ini dikarenakan matriks piksel mengandung intensitas warna yang bisa menentukan konten ataupun pola yang ada dalam gambar.",
   "metadata": {
    "cell_id": "00004-82a9190e-8f3a-43cd-89fd-edeaa804c8e1",
    "deepnote_cell_type": "markdown"
   }
  },
  {
   "cell_type": "markdown",
   "source": "## Modelling\n\nSekarang, mari kita coba beberapa model untuk mengklasifikasi apakah suatu gambar merupakan gambar kucing atau anjing. Data gambar yang akan digunakan adalah hasil pengambilan sampel dari data [Dogs vs Cats](https://www.kaggle.com/c/dogs-vs-cats) dari Kaggle. Silakan download datanya melalui link [berikut](https://drive.google.com/file/d/1NC6u1-4eGXQPH5BFVXWLLJCCbp3Y4RD4/view?usp=sharing).\n\n````{tip}\nSetelah selesai mengunduh, sangat disarankan untuk diletakkan dalam folder `data` yang sejajar dengan notebook ini.\n```\n|- image-classification.ipynb\n|- data\n    |- dogs_vs_cats\n        |- cat\n            |- cat.1.jpg\n            |- cat.2.jpg\n            |- ...\n        |- dog\n            |- dog.1.jpg\n            |- dog.2.jpg\n            |- ...\n```\n````\n\n```{note}\nKita akan coba latih beberapa model sekaligus, di antaranya:\n* Logistic Regression\n* SVM\n* Decision Tree\n* Random Forest\n```\n\n\n### Import Libraries\n\nPertama, kita impor terlebih dahulu beberapa library yang akan kita gunakan dalam notebook ini pada cell berikut.\n\n```{note}\nUntuk pemrosesan gambar, notebook ini akan menggunakan `OpenCV`. Jika kamu memilih menggunakan `Pillow` juga tidak masalah.\n```",
   "metadata": {
    "cell_id": "00005-d0e9ae0e-0c49-4033-80bd-8e738365b329",
    "deepnote_cell_type": "markdown"
   }
  },
  {
   "cell_type": "code",
   "metadata": {
    "cell_id": "00006-b6ff2345-7899-4776-9d10-430ccc981548",
    "deepnote_cell_type": "code"
   },
   "source": "import random\nimport time\nfrom pathlib import Path\n\nimport cv2\nimport matplotlib.pyplot as plt\nimport numpy as np\nfrom sklearn.ensemble import RandomForestClassifier\nfrom sklearn.linear_model import LogisticRegression\nfrom sklearn.metrics import classification_report\nfrom sklearn.model_selection import train_test_split, GridSearchCV\nfrom sklearn.neighbors import NearestNeighbors\nfrom sklearn.preprocessing import LabelEncoder\nfrom sklearn.svm import SVC\nfrom sklearn.tree import DecisionTreeClassifier",
   "execution_count": null,
   "outputs": []
  },
  {
   "cell_type": "markdown",
   "source": "### Data Loading\n\nUntuk memuat semua gambar, baik kucing dan anjing, kita akan definisikan sebuah fungsi yang akan menerima lokasi gambar dalam bentuk *string*, kemudian mengembalikan gambar dalam format RGB.\n\n```python\ndef load_rgb_image(image_path):\n    \"\"\"Load image from `image_path` to RGB image.\n    \n    Args:\n        image_path (str): path to the image file.\n            Must be in string.\n\n    Returns:\n        numpy.ndarray: image's pixel matrix in RGB.\n    \"\"\"\n    img = cv2.imread(image_path)\n    img = cv2.cvtColor(img, cv2.COLOR_BGR2RGB)\n    return img\n```",
   "metadata": {
    "cell_id": "00007-2c42c79f-b79d-4ecb-8a5c-9df3889f0249",
    "deepnote_cell_type": "markdown"
   }
  },
  {
   "cell_type": "code",
   "metadata": {
    "tags": [
     "remove-cell"
    ],
    "cell_id": "00008-73e9225f-a86a-43f4-b69b-781d4fc8adb6",
    "deepnote_cell_type": "code"
   },
   "source": "def load_rgb_image(image_path):\n    \"\"\"Load image from `image_path` to RGB image.\n    \n    Args:\n        image_path (str): path to the image file.\n            Must be in string.\n\n    Returns:\n        numpy.ndarray: image's pixel matrix in RGB.\n    \"\"\"\n    img = cv2.imread(image_path)\n    img = cv2.cvtColor(img, cv2.COLOR_BGR2RGB)\n    return img",
   "execution_count": null,
   "outputs": []
  },
  {
   "cell_type": "code",
   "metadata": {
    "cell_id": "00009-b28495c1-b41b-41d4-bdb2-cec31b071e8b",
    "deepnote_cell_type": "code"
   },
   "source": "data_dir = Path(\"../../../../data/dogs_vs_cats\")\ncat_dir = data_dir / \"cat\"\ndog_dir = data_dir / \"dog\"\n\ndog_cat_filenames = (\n    [file for file in cat_dir.glob(\"*.jpg\")]\n    + [file for file in dog_dir.glob(\"*.jpg\")]\n)",
   "execution_count": null,
   "outputs": []
  },
  {
   "cell_type": "code",
   "metadata": {
    "cell_id": "00010-3e0a4888-75f5-4765-bde6-eb4e1f3177ad",
    "deepnote_cell_type": "code"
   },
   "source": "dog_cat_images = {\n    file.name: load_rgb_image(file.as_posix())\n    for file in dog_cat_filenames\n}\n\nprint(f\"{len(dog_cat_images) = }\")",
   "execution_count": null,
   "outputs": []
  },
  {
   "cell_type": "markdown",
   "source": "Untuk menampilkan gambar kucing ataupun anjing, kita akan buat fungsi yang menerima `n` sebagai jumlah gambar yang akan ditampilkan secara acak.\n\n```python\ndef show_n_images(n):\n    \"\"\"Show `n` images randomly.\n    \n    Args:\n        n (int): number of images to be shown.\n            Must be multiple of 2.\n    \"\"\"\n    n_cols = n // 2\n    sample_img = random.sample(list(dog_cat_images.items()), n)\n    fig, ax = plt.subplots(2, n_cols, figsize=(n_cols*5, 6))\n    for axis, img in zip(ax.flatten(), sample_img):\n        axis.imshow(img[1])\n        axis.set_title(f\"{img[0].split('.')[0].title()} - {img[0]}\")\n        axis.set_yticks([])\n        axis.set_xticks([])\n    plt.show()\n```",
   "metadata": {
    "cell_id": "00011-2f8e4eea-8df6-45c5-8e8f-55ff59fafecc",
    "deepnote_cell_type": "markdown"
   }
  },
  {
   "cell_type": "code",
   "metadata": {
    "tags": [
     "remove-cell"
    ],
    "cell_id": "00012-ecf3227d-f288-4143-827b-8b3535dca28d",
    "deepnote_cell_type": "code"
   },
   "source": "def show_n_images(n):\n    \"\"\"Show `n` images randomly.\n    \n    Args:\n        n (int): number of images to be shown.\n            Must be multiple of 2.\n    \"\"\"\n    n_cols = n // 2\n    sample_img = random.sample(list(dog_cat_images.items()), n)\n    fig, ax = plt.subplots(2, n_cols, figsize=(n_cols*5, 6))\n    for axis, img in zip(ax.flatten(), sample_img):\n        axis.imshow(img[1])\n        axis.set_title(f\"{img[0].split('.')[0].title()} - {img[0]}\")\n        axis.set_yticks([])\n        axis.set_xticks([])\n    plt.show()",
   "execution_count": null,
   "outputs": []
  },
  {
   "cell_type": "code",
   "metadata": {
    "cell_id": "00013-4c2f25a5-fc23-439c-9dc8-6c824b4105ed",
    "deepnote_cell_type": "code"
   },
   "source": "show_n_images(10)",
   "execution_count": null,
   "outputs": []
  },
  {
   "cell_type": "markdown",
   "source": "Seperti yang kita lihat, ukuran gambar berbeda-beda. Karena kita harus membuat *feature image* dari data gambar tersebut, kita harus mengubah ukuran masing-masing gambar sedemikian hingga semua gambar memiliki ukurang yang sama.",
   "metadata": {
    "cell_id": "00014-0e74833c-7d9c-47dc-89f2-affc7c399260",
    "deepnote_cell_type": "markdown"
   }
  },
  {
   "cell_type": "code",
   "metadata": {
    "cell_id": "00015-230d0bfd-4535-40a6-80d8-9381e9ce5c3c",
    "deepnote_cell_type": "code"
   },
   "source": "img_height = [img.shape[0] for img in dog_cat_images.values()]\nimg_width = [img.shape[1] for img in dog_cat_images.values()]\n\nprint(f\"height stats: {np.max(img_height) = }.. \"\n      f\"{np.min(img_height) = }.. {np.mean(img_height) = }.. \"\n      f\"{np.median(img_height) = }\")\nprint(f\"width stats: {np.max(img_width) = }.. \"\n      f\"{np.min(img_width) = }.. {np.mean(img_width) = }.. \"\n      f`\"{np.median(img_width) = }\")",
   "execution_count": null,
   "outputs": []
  },
  {
   "cell_type": "markdown",
   "source": "Berdasarkan statistik di atas, kita akan mengubah semua gambar menjadi berukuran `64x64` menggunakan fungsi `cv2.resize`. Sehingga, jumlah total fitur gambar yang akan kita masukkan ke dalam model adalah 4096 fitur/piksel.",
   "metadata": {
    "cell_id": "00016-3daea623-3dd8-4707-94e8-6d3cd0269ebf",
    "deepnote_cell_type": "markdown"
   }
  },
  {
   "cell_type": "code",
   "metadata": {
    "cell_id": "00017-612a9bc0-bcff-4d4e-b7a5-5ae32189da2e",
    "deepnote_cell_type": "code"
   },
   "source": "image_dim = (64, 64)\nfor filename, image in dog_cat_images.items():\n    dog_cat_images[filename] = cv2.resize(image, image_dim)",
   "execution_count": null,
   "outputs": []
  },
  {
   "cell_type": "markdown",
   "source": "Jika kita hitung statistik gambar sekali lagi, maka baik *width* ataupun *height* akan berukuran sama.",
   "metadata": {
    "cell_id": "00018-8a0a4849-ca98-4b84-bd1b-af778bf554bb",
    "deepnote_cell_type": "markdown"
   }
  },
  {
   "cell_type": "code",
   "metadata": {
    "cell_id": "00019-07355698-a601-4775-9c34-af351838454c",
    "deepnote_cell_type": "code"
   },
   "source": "\n\nprint(f\"height stats: {np.max(img_height) = }.. {np.min(img_height) = }.. \"\n      f\"{np.mean(img_height) = }.. {np.median(img_height) = }\")\nprint(f\"width stats: {np.max(img_width) = }.. {np.min(img_width) = }.. \"\n      f\"{np.mean(img_width) = }.. {np.median(img_width) = }\")",
   "execution_count": null,
   "outputs": []
  },
  {
   "cell_type": "code",
   "metadata": {
    "cell_id": "00020-b4bfb04a-9a78-4399-aff0-0da32b924faa",
    "deepnote_cell_type": "code"
   },
   "source": "show_n_images(10)",
   "execution_count": null,
   "outputs": []
  },
  {
   "cell_type": "markdown",
   "source": "### Data Preparation\n\nSebelum kita masukkan data ke dalam model untuk *training*, kita perlu siapkan datanya terlebih dahulu. Ingat bahwa kita belum mempunyai target variabel, sehingga kita harus persiapkan terlebih dahulu. Kita bisa gunakan `dog_cat_images` untuk mendapatkan target variabel dari setiap nama file gambar menggunakan _list comprehension_ berikut.\n\n```python\ntargets = [\n    filename.split(\".\")[0]\n    for filename in dog_cat_images.keys()\n]\n```\n\nKemudian, kita juga harus mendefinisikan data gambar yang berisi fitur-fitur gambar saja sebagai data yang akan kita gunakan untuk _training_. Sama seperti target variabel, kita bisa gunakan `dog_cat_images` dan _list comprehension_ berikut.\n\n```python\nfeatures = np.array([\n    cv2.cvtColor(img, cv2.COLOR_RGB2GRAY)\n    for img in dog_cat_images.values()\n])\n```\n\nUntuk alasan penyederhanaan dan keterbatasan komputasi, kita juga akan ubah data gambar ke dalam format _grayscale_ sehingga hanya memiliki 1 channel warna saja.",
   "metadata": {
    "cell_id": "00021-9cccbd2e-2a63-444c-b411-358eba4ca657",
    "deepnote_cell_type": "markdown"
   }
  },
  {
   "cell_type": "code",
   "metadata": {
    "tags": [
     "remove-cell"
    ],
    "cell_id": "00022-301d512f-f7d8-44fb-9e17-c4b05f1e72d9",
    "deepnote_cell_type": "code"
   },
   "source": "targets = [\n    filename.split(\".\")[0]\n    for filename in dog_cat_images.keys()\n]\n\nfeatures = np.array([\n    cv2.cvtColor(img, cv2.COLOR_RGB2GRAY)\n    for img in dog_cat_images.values()\n])",
   "execution_count": null,
   "outputs": []
  },
  {
   "cell_type": "code",
   "metadata": {
    "cell_id": "00023-fbb58828-6f83-47ac-802e-99946d402deb",
    "deepnote_cell_type": "code"
   },
   "source": "features.shape",
   "execution_count": null,
   "outputs": []
  },
  {
   "cell_type": "markdown",
   "source": "Selanjutnya, kita akan ubah ukuran setiap gambar sedemikian hingga berdimensi 2. Lebih tepatnya, kita akan coba \"ratakan\" fitur gambar yang awalnya `(64, 64)` menjadi `4096` fitur yang sangat panjang.",
   "metadata": {
    "cell_id": "00024-4ba96e2b-e727-4bfe-871f-748f3bb708fd",
    "deepnote_cell_type": "markdown"
   }
  },
  {
   "cell_type": "code",
   "metadata": {
    "cell_id": "00025-66725280-4000-4675-b0a6-d8a8b3081fe9",
    "deepnote_cell_type": "code"
   },
   "source": "features = features.reshape((features.shape[0], -1))\nprint(f\"New shape of features:\", features.shape)",
   "execution_count": null,
   "outputs": []
  },
  {
   "cell_type": "markdown",
   "source": "Kemudian, kita akan bagi data tersebut ke dalam data _trainig_ dan _development_.",
   "metadata": {
    "cell_id": "00026-35421960-8e7c-4e4f-bb6f-59db31104b7a",
    "deepnote_cell_type": "markdown"
   }
  },
  {
   "cell_type": "code",
   "metadata": {
    "cell_id": "00027-206cdd72-bb68-411b-8b39-522f023010ab",
    "deepnote_cell_type": "code"
   },
   "source": "X_train, X_dev, y_train, y_dev = train_test_split(\n    features, targets,\n    test_size=.2,\n    random_state=11\n)\n\nprint(f\"{len(X_train) = }.. {len(X_dev) = }..\")",
   "execution_count": null,
   "outputs": []
  },
  {
   "cell_type": "markdown",
   "source": "### Logistic Regression\n\nModel pertama yang akan kita coba adalah _Logistic Regression_.",
   "metadata": {
    "cell_id": "00028-879f853d-37e5-4515-9d14-ee957786af03",
    "deepnote_cell_type": "markdown"
   }
  },
  {
   "cell_type": "code",
   "metadata": {
    "cell_id": "00029-a8f91844-aa85-4ccb-b2c4-0d0e2805aeff",
    "deepnote_cell_type": "code"
   },
   "source": "# define estimator\nlog_reg = LogisticRegression()\n# log_reg = LogisticRegression(max_iter=500)\n# log_reg = LogisticRegression(max_iter=1000)\n\n# model training\nprint(\"Start training..\")\nstart_time = time.time()\nlog_reg.fit(X_train, y_train)\nprint(f\"Done training in {time.time() - start_time:.3f}s\")\n\n# prediction\nlog_reg_pred_train = log_reg.predict(X_train)\nlog_reg_pred_dev = log_reg.predict(X_dev)\n\n# classification reports\nprint(\n    \"Performance on training set:\",\n    classification_report(y_train, log_reg_pred_train),\n    sep=\"\\n\"\n)\nprint(\n    \"Performance on development set:\",\n    classification_report(y_dev, log_reg_pred_dev),\n    sep=\"\\n\"\n)",
   "execution_count": null,
   "outputs": []
  },
  {
   "cell_type": "markdown",
   "source": "### SVM\n\nModel pertama yang akan kita coba adalah _Support Vector Machine_.",
   "metadata": {
    "cell_id": "00030-0e0205a1-decc-4168-8bd6-333770ea06b4",
    "deepnote_cell_type": "markdown"
   }
  },
  {
   "cell_type": "code",
   "metadata": {
    "cell_id": "00031-dc4d2c06-6bf7-4a9c-bf2e-dcc470a7686a",
    "deepnote_cell_type": "code"
   },
   "source": "# define estimator\nsvc = SVC()\n\n# model training\nprint(\"Start training..\")\nstart_time = time.time()\nsvc.fit(X_train, y_train)\nprint(f\"Done training in {time.time() - start_time:.3f}s\")\n\n# prediction\nsvc_pred_train = svc.predict(X_train)\nsvc_pred_dev = svc.predict(X_dev)\n\n# classification reports\nprint(\n    \"Performance on training set:\",\n    classification_report(y_train, svc_pred_train),\n    sep=\"\\n\"\n)\nprint(\n    \"Performance on development set:\",\n    classification_report(y_dev, svc_pred_dev),\n    sep=\"\\n\"\n)",
   "execution_count": null,
   "outputs": []
  },
  {
   "cell_type": "markdown",
   "source": "### Decision Tree\n\nModel pertama yang akan kita coba adalah _Decision Tree_.",
   "metadata": {
    "cell_id": "00032-4aa0b9b9-d4d7-4b9e-877d-fc40283d47a4",
    "deepnote_cell_type": "markdown"
   }
  },
  {
   "cell_type": "code",
   "metadata": {
    "cell_id": "00033-215d13cc-ffde-4998-9bdd-05081c23c8f5",
    "deepnote_cell_type": "code"
   },
   "source": "# define estimator\ndtree = DecisionTreeClassifier()\n\n# model training\nprint(\"Start training..\")\nstart_time = time.time()\ndtree.fit(X_train, y_train)\nprint(f\"Done training in {time.time() - start_time:.3f}s\")\n\n# prediction\ndtree_pred_train = dtree.predict(X_train)\ndtree_pred_dev = dtree.predict(X_dev)\n\n# classification reports\nprint(\n    \"Performance on training set:\",\n    classification_report(y_train, dtree_pred_train),\n    sep=\"\\n\"\n)\nprint(\n    \"Performance on development set:\",\n    classification_report(y_dev, dtree_pred_dev),\n    sep=\"\\n\"\n)",
   "execution_count": null,
   "outputs": []
  },
  {
   "cell_type": "markdown",
   "source": "### Random Forest\n\nModel pertama yang akan kita coba adalah _Decision Tree_.",
   "metadata": {
    "cell_id": "00034-29023799-7f80-4563-914e-7faf6d3dd80a",
    "deepnote_cell_type": "markdown"
   }
  },
  {
   "cell_type": "code",
   "metadata": {
    "cell_id": "00035-2c437f2a-543a-4778-9e63-823fdf3b490e",
    "deepnote_cell_type": "code"
   },
   "source": "# define estimator\nrf = RandomForestClassifier()\n\n# model training\nprint(\"Start training..\")\nstart_time = time.time()\nrf.fit(X_train, y_train)\nprint(f\"Done training in {time.time() - start_time:.3f}s\")\n\n# prediction\nrf_pred_train = rf.predict(X_train)\nrf_pred_dev = rf.predict(X_dev)\n\n# classification reports\nprint(\n    \"Performance on training set:\",\n    classification_report(y_train, rf_pred_train),\n    sep=\"\\n\"\n)\nprint(\n    \"Performance on development set:\",\n    classification_report(y_dev, rf_pred_dev),\n    sep=\"\\n\"\n)",
   "execution_count": null,
   "outputs": []
  },
  {
   "cell_type": "markdown",
   "source": "```{admonition} Eksplorasi\nKamu bisa eksplor lebih jauh lagi untuk mendapatkan dan menentukan model yang paling bagus, tidak _overfit_, apalagi _underfit_ menggunakan `GridSearch`.\n```",
   "metadata": {
    "cell_id": "00036-5ebb8d87-e1aa-49a1-ae50-4b7dd50b09ce",
    "deepnote_cell_type": "markdown"
   }
  },
  {
   "cell_type": "markdown",
   "source": "## Fashion-MNIST\n\nSetelah mencoba beberapa model pada dataset sebelumnya, sekarang giliran kamu untuk mengimplementasikannya menggunakan data Fashion-MNIST {cite:p}`xiao2017/online`.\n\n<!-- ![](../../../../assets/images/fashion-mnist-sample.png) -->\n\n```{figure} ../../../../assets/images/fashion-mnist-sample.png\n:name: fashion-mnist-sample\n:width: 50%\n\nSampel gambar dari data Fashion-MNIST ([ref](https://github.com/zalandoresearch/fashion-mnist)).\n```\n\nUntuk mengakses data, silakan unduh dataset melalui [Kaggle](https://www.kaggle.com/zalando-research/fashionmnist).\n\n```{warning}\nHarap perhatikan sisa kapasitas penyimpanan komputer kamu.\n```\n\nTerdapat $785$ kolom di mana kolom pertama adalah `label` yang merupakan target variabel. Sisanya adalah `pixel1` sampai `pixel784` yang menandakan bahwa setiap gambar pada data Fashion-MNIST berukuran `28x28` piksel atau total $784$ piksel.\n\nDari {cite:p}`xiao2017/online`, dataset Fashion-MNIST memiliki 10 kelas, yaitu:\n\n(fashion-mnist-label)=\n\n| Label | Description |\n| :---: | :---------: |\n| 0 | T-shirt/top |\n| 1 | Trouser |\n| 2 | Pullover |\n| 3 | Dress |\n| 4 | Coat |\n| 5 | Sandal |\n| 6 | Shirt |\n| 7 | Sneaker |\n| 8 | Bag |\n| 9 | Ankle boot |",
   "metadata": {
    "cell_id": "00037-8b4b240e-4b31-42d3-a353-2cd530fa12fa",
    "deepnote_cell_type": "markdown"
   }
  },
  {
   "cell_type": "code",
   "metadata": {
    "cell_id": "00038-d835d114-4db1-4dbc-a33f-cbdd023c5d70",
    "deepnote_cell_type": "code"
   },
   "source": "# KETIK DI SINI",
   "execution_count": null,
   "outputs": []
  },
  {
   "cell_type": "markdown",
   "source": "<a style='text-decoration:none;line-height:16px;display:flex;color:#5B5B62;padding:10px;justify-content:end;' href='https://deepnote.com?utm_source=created-in-deepnote-cell&projectId=2223ede1-8efb-486f-85ff-5fb31b0e703e' target=\"_blank\">\n<img alt='Created in deepnote.com' style='display:inline;max-height:16px;margin:0px;margin-right:7.5px;' src='data:image/svg+xml;base64,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' > </img>\nCreated in <span style='font-weight:600;margin-left:4px;'>Deepnote</span></a>",
   "metadata": {
    "tags": [],
    "created_in_deepnote_cell": true,
    "deepnote_cell_type": "markdown"
   }
  }
 ],
 "nbformat": 4,
 "nbformat_minor": 5,
 "metadata": {
  "kernelspec": {
   "display_name": "Python 3 (ipykernel)",
   "language": "python",
   "name": "python3"
  },
  "language_info": {
   "codemirror_mode": {
    "name": "ipython",
    "version": 3
   },
   "file_extension": ".py",
   "mimetype": "text/x-python",
   "name": "python",
   "nbconvert_exporter": "python",
   "pygments_lexer": "ipython3",
   "version": "3.9.5"
  },
  "deepnote_notebook_id": "d438a890-2e48-4a8e-bbeb-9c48667e4438",
  "deepnote": {},
  "deepnote_execution_queue": []
 }
}