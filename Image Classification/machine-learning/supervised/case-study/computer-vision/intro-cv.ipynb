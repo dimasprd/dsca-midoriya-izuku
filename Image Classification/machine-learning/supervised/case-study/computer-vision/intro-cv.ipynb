{
 "cells": [
  {
   "cell_type": "markdown",
   "source": "# Introduction to Computer Vision\n\nPada notebook ini, kita akan belajar tentang:\n* Definisi *Computer Vision*\n* Aplikasi *Computer Vision*\n* Pemrosesan gambar pada komputer dengan OpenCV dan Pillow",
   "metadata": {
    "cell_id": "00000-4b95c921-cab9-4bc7-8e4b-86e40a62c2f7",
    "deepnote_cell_type": "markdown"
   }
  },
  {
   "cell_type": "markdown",
   "source": "## Definisi *Computer Vision*\n\n![](https://www.ruparupa.com/blog/wp-content/uploads/2021/08/Screen-Shot-2021-08-16-at-11.19.50.png)\n\n<!-- ```{figure} https://www.ruparupa.com/blog/wp-content/uploads/2021/08/Screen-Shot-2021-08-16-at-11.19.50.png\n:name: cat-image\n:alt: cat\n:width: 50%\n\nGambar apa yang kamu lihat? ([ref](https://www.ruparupa.com/blog/cara-merawat-anak-kucing-tanpa-induk/))\n``` -->\n\nKita dengan mudahnya mengenali gambar di atas, yaitu gambar kucing. Sebaliknya, komputer akan kesulitan untuk mengenali gambar tersebut dan gambar lainnya secara langsung. __*Computer vision* adalah sebuah usaha untuk membuat komputer memiliki kemampuan untuk melihat, membaca, dan memahami gambar__.\n\nComputer Vision - [from IBM](https://www.ibm.com/topics/computer-vision#:~:text=a%20field%20of%20artificial%20intelligence%20(AI)%20that%20enables%20computers%20and%20systems%20to%20derive%20meaningful%20information%20from%20digital%20images%2C%20videos%20and%20other%20visual%20inputs%20%E2%80%94%20and%20take%20actions%20or%20make%20recommendations%20based%20on%20that%20information.)\n: a field of artificial intelligence (AI) that enables computers and systems to derive meaningful information from digital images, videos and other visual inputs — and take actions or make recommendations based on that information\n\n\n## Aplikasi *Computer Vision*\n\nSangat banyak aplikasi *computer vision* yang sudah kita rasakan. Sebagai contoh:\n* Aplikasi Google Translate dapat menerjemahkan teks melalui kamera secara real time\n* Self-driving car\n* Deteksi masker wajah (*face mask detection*)\n* Dan lainnya\n\nBeberapa aplikasi tersebut mengimplementasikan beberapa jenis *task* dalam *computer vision* seperti {cite:p}`ibm-cv`:\n* **Image Classification** yang memproses sebuah gambar dan bisa mengklasifikasikan ke dalam beberapa jenis gambar (kucing, apel, wajah orang, dll.)\n* **Object Detection** juga menggunakan *image classification* yang kemudian mendeteksi dan membuat sebuah kotak pembatas pada objek tersebut dalam gambar atau video.\n* **Image Retrieval** menggunakan *computer vision* untuk menelusuri, mencari, dan mengambil gambar dari sekumpulan data gambar yang sangat besar, berdasarkan konten pada gambar yang ingin dicari.\n\n\n## Image Processing\n\nSebuah gambar digital dapat diinterpretasikan sebagai sebuah matriks atau array, yang disebut dengan **pixel**, berisikan nilai yang merepresentasikan **intensitas warna gambar**. Untuk gambar *grayscale*, nilai tersebut merepresentasikan intensitas *gray level*. Sedangkan, untuk gambar berwarna, nilai tersebut merepresentasikan intensitas masing-masing *channel* warna (merah, hijau, dan biru atau yang disingkat RGB).\n\n![](../../../../assets/images/pixel-value.jpeg)\n\n<!-- ```{figure} ../../../../assets/images/pixel-value.jpeg\n:name: pixel-value\n\nIntensity value of grayscale color ([ref](https://medium.com/javarevisited/converting-rgb-image-to-the-grayscale-image-in-java-9e1edc5bd6e7))\n``` -->\n\n### Load Image using Pillow and OpenCV\n\nSekarang, mari kita coba untuk memuat sebuah gambar berikut.\n\n![](../../../../assets/images/barbara.png)\n\n<!-- ```{figure} ../../../../assets/images/barbara.png\n:name: barbara.png\n:alt: barbara\n\nContoh gambar grayscale\n``` -->\n\n````{note}\nSebelum memuat gambar tersebut, kita memerlukan beberapa *library*, seperti Pillow dan/atau OpenCV. Jika belum tersedia, silakan install terlebih dahulu menggunakan perintah berikut.\n\n```\npip install Pillow opencv-python\n```\n````\n\nBerikut adalah code yang digunakan untuk memuat gambar menggunakan Pillow ataupun OpenCV.\n\n````{tabbed} Pillow\n```python\nfrom PIL import Image\n\nimage = Image.open(\"path to image\")\n```\n````\n\n````{tabbed} OpenCV\n```python\nimport cv2\n\nimage = cv2.imread(\"path to image\")\n```\n````\n\nPertama, mari kita *import library* yang akan kita gunakan dalam notebook ini.",
   "metadata": {
    "cell_id": "00001-0748f8c1-669e-4c98-9c67-6885dd39611e",
    "deepnote_cell_type": "markdown"
   }
  },
  {
   "cell_type": "code",
   "metadata": {
    "cell_id": "00002-68d7dcaf-30ed-44f3-b7d5-60923d1478c9",
    "deepnote_cell_type": "code"
   },
   "source": "import cv2\nimport matplotlib.pyplot as plt\nimport numpy as np\nfrom PIL import Image, ImageOps",
   "execution_count": null,
   "outputs": []
  },
  {
   "cell_type": "code",
   "metadata": {
    "cell_id": "00003-bfc4bf0c-c7a5-459a-95ef-9177177b9598",
    "deepnote_cell_type": "code"
   },
   "source": "# load image using Pillow\npil_image = Image.open(\"../../../data/barbara.png\")\ntype(pil_image)",
   "execution_count": null,
   "outputs": []
  },
  {
   "cell_type": "code",
   "metadata": {
    "cell_id": "00004-62a12dcb-d16e-4bf8-a8c8-45f32036f235",
    "deepnote_cell_type": "code"
   },
   "source": "pil_image",
   "execution_count": null,
   "outputs": []
  },
  {
   "cell_type": "markdown",
   "source": "```{warning}\nJika kita dalam environment Jupyter, kita bisa menampilkan gambar `pil_image` secara langsung. Akan tetapi, normalnya, kita perlu menggunakan metode `.show`: `pil_image.show()`.\n\nMetode ini akan membuka aplikasi gambar default masing-masing.\n```",
   "metadata": {
    "cell_id": "00005-67220b9b-7525-4c2c-a1a4-f29b03fd435c",
    "deepnote_cell_type": "markdown"
   }
  },
  {
   "cell_type": "code",
   "metadata": {
    "cell_id": "00006-e2eb8b89-668a-45b1-907b-79fa6ca295b0",
    "deepnote_cell_type": "code"
   },
   "source": "cv2_image = cv2.imread(\"../../../data/barbara.png\")\ntype(cv2_image)",
   "execution_count": null,
   "outputs": []
  },
  {
   "cell_type": "code",
   "metadata": {
    "cell_id": "00007-5e547c2a-6af7-44d9-8ba8-8bf85ea4f6a0",
    "deepnote_cell_type": "code"
   },
   "source": "cv2_image",
   "execution_count": null,
   "outputs": []
  },
  {
   "cell_type": "markdown",
   "source": "Bisa kita lihat bahwa `Pillow` memuat gambar ke dalam format `PIL.PngImagePlugin.PngImageFile`, sedangkan `OpenCV` memuat gambar ke dalam format `numpy.ndarray`.",
   "metadata": {
    "cell_id": "00008-d0bc6dbf-96c3-4722-bdd7-9784928de8da",
    "deepnote_cell_type": "markdown"
   }
  },
  {
   "cell_type": "code",
   "metadata": {
    "cell_id": "00009-1f82a50c-2cd0-4496-840b-4ba9530b2e4a",
    "deepnote_cell_type": "code"
   },
   "source": "# pil_image.show()",
   "execution_count": null,
   "outputs": []
  },
  {
   "cell_type": "markdown",
   "source": "Kita juga bisa menggunakan `matplotlib` untuk menampilkan gambar yang sudah dimuat tersebut.",
   "metadata": {
    "cell_id": "00010-2ceba90e-b769-4ad8-9048-5320a58cc86e",
    "deepnote_cell_type": "markdown"
   }
  },
  {
   "cell_type": "code",
   "metadata": {
    "cell_id": "00011-d712c0f0-5c55-4b7d-99a2-91eb6836cec5",
    "deepnote_cell_type": "code"
   },
   "source": "plt.figure(figsize=(6, 6))\nplt.imshow(pil_image, cmap=\"gray\")\nplt.show()",
   "execution_count": null,
   "outputs": []
  },
  {
   "cell_type": "code",
   "metadata": {
    "cell_id": "00012-fc8fed82-09ae-4a93-8e39-4e35acb7ae3d",
    "deepnote_cell_type": "code"
   },
   "source": "plt.figure(figsize=(6, 6))\nplt.imshow(cv2_image)\nplt.show()",
   "execution_count": null,
   "outputs": []
  },
  {
   "cell_type": "markdown",
   "source": "```{admonition} Kuis\n:class: note\n\nSekarang, coba *load* gambar apapun yang ingin menurut kamu menarik, menggunakan `Pillow` dan `OpenCV`\n```",
   "metadata": {
    "cell_id": "00013-80068094-f28e-491d-b12c-ec7a80c37abe",
    "deepnote_cell_type": "markdown"
   }
  },
  {
   "cell_type": "code",
   "metadata": {
    "cell_id": "00014-0a30a50f-407e-4f2f-873e-0349bb60e83c",
    "deepnote_cell_type": "code"
   },
   "source": "# KETIK DI SINI\n",
   "execution_count": null,
   "outputs": []
  },
  {
   "cell_type": "markdown",
   "source": "### RGB Image\n\nSekarang kita akan coba *load* gambar berwarna berikut.\n\n![](../../../../assets/images/cat.jpeg)\n\n<!-- ```{figure} ../../../../assets/images/cat.jpeg\n:name: cat.jpeg\n:width: 50%\n:alt: cat image\n\nGambar berwarna ([ref](https://www.theguardian.com/lifeandstyle/2020/sep/05/what-cats-mean-by-miaow-japans-pet-guru-knows-just-what-your-feline-friend-wants))\n``` -->",
   "metadata": {
    "cell_id": "00015-a07e09e7-7f05-4fd0-ab81-8e00be6b1d3a",
    "deepnote_cell_type": "markdown"
   }
  },
  {
   "cell_type": "code",
   "metadata": {
    "cell_id": "00016-794152b3-7655-4de9-be89-c95b0aab3de9",
    "deepnote_cell_type": "code"
   },
   "source": "pil_cat = Image.open(\"../../../data/cat.jpeg\")\ncv2_cat = cv2.imread(\"../../../data/cat.jpeg\")",
   "execution_count": null,
   "outputs": []
  },
  {
   "cell_type": "code",
   "metadata": {
    "cell_id": "00017-74179857-1223-42c3-b22f-2afb6e4b99c7",
    "deepnote_cell_type": "code"
   },
   "source": "fig, ax = plt.subplots(1, 2, figsize=(12, 6))\nfor axis, img in zip(ax, [pil_cat, cv2_cat]):\n    axis.imshow(img)\n    axis.set_title(type(img))",
   "execution_count": null,
   "outputs": []
  },
  {
   "cell_type": "markdown",
   "source": "Terlihat bahwa gambar yang dimuat oleh `Pillow` bisa ditampilkan dengan warna yang sesuai dengan gambar. Akan tetapi, berbeda halnya dengan gambar yang dimuat oleh `OpenCV`. Ini dikarenakan `cv2.imread` secara default menghasilkan urutan channel warna BGR, bukan RGB. Oleh karena itu, kita perlu mengubahnya menjadi RGB menggunakan fungsi `cv2.cvtColor`.",
   "metadata": {
    "cell_id": "00018-3fba76bf-0ecf-41c6-9eaa-0ee989030bda",
    "deepnote_cell_type": "markdown"
   }
  },
  {
   "cell_type": "code",
   "metadata": {
    "cell_id": "00019-1ff1f736-6eeb-4e27-a2d9-8a205bf1c8ac",
    "deepnote_cell_type": "code"
   },
   "source": "cv2_cat_rgb = cv2.cvtColor(cv2_cat, cv2.COLOR_BGR2RGB)\n\nplt.figure(figsize=(5, 6))\nplt.imshow(cv2_cat_rgb)\nplt.title(type(cv2_cat_rgb))\nplt.show()",
   "execution_count": null,
   "outputs": []
  },
  {
   "cell_type": "markdown",
   "source": "Khusus untuk `Pillow`, kita bisa mengecek mode channel warna yang dimuat dengan atribut `.mode` seperti di bawah ini.",
   "metadata": {
    "cell_id": "00020-42e9cea5-009f-4cb7-b7a6-951eddde14a3",
    "deepnote_cell_type": "markdown"
   }
  },
  {
   "cell_type": "code",
   "metadata": {
    "cell_id": "00021-99df59d8-37be-4c96-8c35-0c7758f404c2",
    "deepnote_cell_type": "code"
   },
   "source": "print(pil_cat.mode)",
   "execution_count": null,
   "outputs": []
  },
  {
   "cell_type": "markdown",
   "source": "Karena setiap gambar direpresentasikan oleh array pixel, kita bisa mengecek ukuran dari array tersebut.\n\n````{tabbed} Pillow\n```python\nprint(pil_cat.size)\n```\n````\n\n````{tabbed} OpenCV\n```python\nprint(cv2_cat_rgb.shape)\n```\n````",
   "metadata": {
    "cell_id": "00022-a07c3dc5-ecaa-4602-a9b4-0a0462858b88",
    "deepnote_cell_type": "markdown"
   }
  },
  {
   "cell_type": "code",
   "metadata": {
    "cell_id": "00023-eea00eb2-a856-4f50-b659-000eb9e078e9",
    "deepnote_cell_type": "code"
   },
   "source": "print(\"Image from Pillow:\", pil_cat.size)\nprint(\"Image from OpenCV:\", cv2_cat_rgb.shape)",
   "execution_count": null,
   "outputs": []
  },
  {
   "cell_type": "markdown",
   "source": "Karena gambar kucing di atas memiliki 3 channel warna, maka ukuran array yang dihasilkan juga memiliki 3 channel. Perhatikan bahwa ukurang gambar yang dihasilkan `Pillow` dan `OpenCV` berbeda urutannya antara *height* dan *weight*.\n\n````{tabbed} Pillow\n```python\nwidth, height = pil_cat.size\n```\n````\n\n````{tabbed} OpenCV\n```python\nheight, width, channel = cv2_cat_rgb.shape\n```\n````\n\nUntuk setiap pixel pada gambar `Pillow`, kita bisa mengakses nilai pixel setelah kita mengambil data array pixel dengan metode `.load` berikut.",
   "metadata": {
    "cell_id": "00024-dad4de3b-2a6e-4fc2-90dc-da75c1d2f490",
    "deepnote_cell_type": "markdown"
   }
  },
  {
   "cell_type": "code",
   "metadata": {
    "cell_id": "00025-0d322097-7c55-4a93-8800-f9dc12fbbe6a",
    "deepnote_cell_type": "code"
   },
   "source": "cat = pil_cat.load()\n\nx = 0\ny = 1\ncat[x, y], type(cat[x, y])",
   "execution_count": null,
   "outputs": []
  },
  {
   "cell_type": "markdown",
   "source": "Sedangkan pada gambar `OpenCV`, karena sudah dalam bentuk `numpy.ndarray`, kita bisa langsung mengakses nilai pixel seperti mengakses nilai pada array.",
   "metadata": {
    "cell_id": "00026-00b642ae-18bb-4f73-b9d3-49b2c288e976",
    "deepnote_cell_type": "markdown"
   }
  },
  {
   "cell_type": "code",
   "metadata": {
    "cell_id": "00027-73d24d7f-2ba9-4167-8ecd-7e295bf4cc49",
    "deepnote_cell_type": "code"
   },
   "source": "cv2_cat_rgb[x, y], type(cv2_cat_rgb[x, y])",
   "execution_count": null,
   "outputs": []
  },
  {
   "cell_type": "markdown",
   "source": "### Grayscale Image\n\nDi awal kita telah memuat gambar *grayscale* yang memiliki 1 channel warna saja. Kita bisa cek menggunakan `Pillow` dengan metode `mode`.",
   "metadata": {
    "cell_id": "00028-9d578dc4-b9e3-4255-bffd-f90b7b7dcb00",
    "deepnote_cell_type": "markdown"
   }
  },
  {
   "cell_type": "code",
   "metadata": {
    "cell_id": "00029-6ccab903-840e-4d05-b310-38aa9e517c16",
    "deepnote_cell_type": "code"
   },
   "source": "pil_image.mode",
   "execution_count": null,
   "outputs": []
  },
  {
   "cell_type": "markdown",
   "source": "Kita juga bisa mengubah gambar berwarna menjadi *grayscale* menggunakan `Pillow` ataupun `OpenCV`.\n\n````{tabbed} Pillow\n```python\nfrom PIL import ImageOps\n\npil_cat_gray = ImageOps.grayscale(pil_cat)\n```\n\nModul `ImageOps` berfungsi untuk melakukan beberapa pemrosesan gambar dan masih bersifat eksperimental {cite:p}`clark2015pillow`.\n````\n\n````{tabbed} OpenCV\n```python\ncv2_cat_gray = cv2.cvtColor(cv2_cat, cv2.COLOR_BGR2GRAY)\n```\n\nTransformasi warna pada `OpenCV` menggunakan fungsi `cv2.cvtColor`.\n````",
   "metadata": {
    "cell_id": "00030-0dd188e0-7cf5-42af-955c-12f8db0d475a",
    "deepnote_cell_type": "markdown"
   }
  },
  {
   "cell_type": "code",
   "metadata": {
    "cell_id": "00031-a1c12cf5-eae2-44bd-8ad7-72e411b614fe",
    "deepnote_cell_type": "code"
   },
   "source": "pil_cat_gray = ImageOps.grayscale(pil_cat)\ncv2_cat_gray = cv2.cvtColor(cv2_cat, cv2.COLOR_BGR2GRAY)",
   "execution_count": null,
   "outputs": []
  },
  {
   "cell_type": "code",
   "metadata": {
    "cell_id": "00032-d9838005-9d32-4603-8e05-5aeb677ce56a",
    "deepnote_cell_type": "code"
   },
   "source": "fig, ax = plt.subplots(1, 2, figsize=(12, 6))\nfor axis, img in zip(ax, [pil_cat_gray, cv2_cat_gray]):\n    axis.imshow(img, cmap=\"gray\")\n    axis.set_title(type(img))",
   "execution_count": null,
   "outputs": []
  },
  {
   "cell_type": "code",
   "metadata": {
    "cell_id": "00033-1332926f-f88d-4c5e-9736-a8bfa2152607",
    "deepnote_cell_type": "code"
   },
   "source": "print(\"Grayscale image from Pillow:\", pil_cat_gray.size)\nprint(\"Grayscale image from OpenCV:\", cv2_cat_gray.shape)",
   "execution_count": null,
   "outputs": []
  },
  {
   "cell_type": "code",
   "metadata": {
    "cell_id": "00034-cfd693dc-65e7-4613-bd8c-fe919f7f7d97",
    "deepnote_cell_type": "code"
   },
   "source": "x = 400\ny = 1000\nimage_gray = pil_cat_gray.load()\n\nprint(\"Pillow:\", image_gray[x, y])\nprint(\"OpenCV:\", cv2_cat_gray[y, x])",
   "execution_count": null,
   "outputs": []
  },
  {
   "cell_type": "markdown",
   "source": "Karena hanya terdiri dari 1 channel warna saja, ukurang matriks pixel gambar pun hanya terdiri dari 1 channel saja.\n\n```{note}\nIngat bahwa metode `size` pada `Pillow` menghasilkan (W, H) dan ukuran matriks pada `OpenCV` menghasilkan (H, W).\n```\n\n### Channel Warna\n\nKita juga bisa mengakses masing-masing channel warna, yaitu merah, hijau, dan biru. Sekarang, misalkan kita gunakan gambar di bawah ini.\n\n![](../../../../assets/images/burger.jpg)\n\n<!-- ```{figure} ../../../../assets/images/burger.jpg\n:name: burger.jpg\n:width: 50%\n:alt: burger image\nPhoto by <a href=\"https://unsplash.com/@claybanks?utm_source=unsplash&utm_medium=referral&utm_content=creditCopyText\">Clay Banks</a> on <a href=\"https://unsplash.com/t/food-drink?utm_source=unsplash&utm_medium=referral&utm_content=creditCopyText\">Unsplash</a>\n``` -->",
   "metadata": {
    "cell_id": "00035-7522cff7-4137-4dbc-816d-622badbf5a13",
    "deepnote_cell_type": "markdown"
   }
  },
  {
   "cell_type": "code",
   "metadata": {
    "tags": [
     "remove-input"
    ],
    "cell_id": "00036-93f3cef8-e997-4aac-b5f5-d45d28a83c0e",
    "deepnote_cell_type": "code"
   },
   "source": "def get_concat_h(im1, im2):\n    \"\"\"Concatenate 2 images horizontally\n    \n    https://note.nkmk.me/en/python-pillow-concat-images/\n    \"\"\"\n    dst = Image.new('RGB', (im1.width + im2.width, im1.height))\n    dst.paste(im1, (0, 0))\n    dst.paste(im2, (im1.width, 0))\n    return dst",
   "execution_count": null,
   "outputs": []
  },
  {
   "cell_type": "code",
   "metadata": {
    "cell_id": "00037-d5cc1512-d585-411d-87e1-a446a4c82665",
    "deepnote_cell_type": "code"
   },
   "source": "pil_burger = Image.open(\"../../../assets/images/burger.jpg\")\ncv2_burger = cv2.imread(\"../../../assets/images/burger.jpg\")\n\nfig, ax = plt.subplots(1, 2, figsize=(12, 6))\nfor axis, img in zip(ax, [pil_burger, cv2_burger]):\n    size = img.size\n    if isinstance(img, np.ndarray):\n        img = cv2.cvtColor(img, cv2.COLOR_BGR2RGB)\n        size = img.shape\n    axis.imshow(img)\n    axis.set_title(f\"{type(img)} ukuran: {size}\")",
   "execution_count": null,
   "outputs": []
  },
  {
   "cell_type": "markdown",
   "source": "Kita bisa definisikan variabel untuk masing-masing channel warna.\n\n````{tabbed} Pillow\n```python\npil_burger_red, pil_burger_green, pil_burger_blue = pil_burger.split()\n```\n\nMetode `split` akan memecah gambar sesuai dengan jumlah channel warnanya.\n````\n\n````{tabbed} OpenCV\n```python\ncv2_burger_blue, cv2_burger_green, cv2_burger_red = cv2_burger[..., 0], cv2_burger[..., 1], cv2_burger[..., 2]\n```\n````",
   "metadata": {
    "cell_id": "00038-e38db936-8978-4102-a15e-1b5cbb05ce69",
    "deepnote_cell_type": "markdown"
   }
  },
  {
   "cell_type": "code",
   "metadata": {
    "cell_id": "00039-654c20b4-995a-4f11-b5c2-e23edccf1da2",
    "deepnote_cell_type": "code"
   },
   "source": "pil_burger_red, pil_burger_green, pil_burger_blue = pil_burger.split()\ncv2_burger_blue, cv2_burger_green, cv2_burger_red = cv2_burger[..., 0], cv2_burger[..., 1], cv2_burger[..., 2]",
   "execution_count": null,
   "outputs": []
  },
  {
   "cell_type": "markdown",
   "source": "Untuk `Pillow`, kita akan menggunakan bantuan fungsi berikut untuk menampilkan gambar.\n\n```python\ndef get_concat_h(im1, im2):\n    \"\"\"Concatenate 2 images horizontally\n    \n    https://note.nkmk.me/en/python-pillow-concat-images/\n    \"\"\"\n    dst = Image.new('RGB', (im1.width + im2.width, im1.height))\n    dst.paste(im1, (0, 0))\n    dst.paste(im2, (im1.width, 0))\n    return dst\n```",
   "metadata": {
    "cell_id": "00040-ddc21de4-f4ff-47b2-b48a-975891ece59a",
    "deepnote_cell_type": "markdown"
   }
  },
  {
   "cell_type": "code",
   "metadata": {
    "cell_id": "00041-bad315b3-b221-4b0c-968d-360be227d409",
    "deepnote_cell_type": "code"
   },
   "source": "fig, ax = plt.subplots(3, 1, figsize=(12, 21))\nfor axis, img, color in zip(ax, [pil_burger_red, pil_burger_green, pil_burger_blue], [\"Red\", \"Green\", \"Blue\"]):\n    axis.imshow(get_concat_h(pil_burger, img))\n    axis.set_title(f\"{color} Channel\")",
   "execution_count": null,
   "outputs": []
  },
  {
   "cell_type": "markdown",
   "source": "Begitu halnya dengan `OpenCV`, kita bisa menampilkan masing-masing channel warnanya yang hasilnya tentu saja sama dengan `Pillow`",
   "metadata": {
    "cell_id": "00042-55a815b8-4877-4ae0-b42e-1cc95878d11d",
    "deepnote_cell_type": "markdown"
   }
  },
  {
   "cell_type": "code",
   "metadata": {
    "cell_id": "00043-29cff5b3-d884-45c1-9140-cd13e61a9bbf",
    "deepnote_cell_type": "code"
   },
   "source": "burger_bgr = cv2.vconcat([cv2_burger_blue, cv2_burger_green, cv2_burger_red])\n\nplt.figure(figsize=(10,10))\nplt.subplot(121)\nplt.imshow(cv2.cvtColor(cv2_burger, cv2.COLOR_BGR2RGB))\nplt.title(\"RGB image\")\nplt.subplot(122)\nplt.imshow(burger_bgr, cmap='gray')\nplt.title(\"Different color channels  blue (top), green (middle), red (bottom)  \")\nplt.show()",
   "execution_count": null,
   "outputs": []
  },
  {
   "cell_type": "markdown",
   "source": "Untuk memudahkan pemrosesan gambar, kita perlu mengubah objek gambar pada `Pillow` menjadi `numpy.ndarray`.\n\n```{note}\nKita tidak perlu mengubah objek gambar pada `OpenCV` karena sudah dalam bentuk `numpy.ndarray`.\n```\n\nKita bisa menggunakan fungsi `np.asarray` untuk mengubah objek gambar pada `Pillow` menjadi `numpy.ndarray`.",
   "metadata": {
    "cell_id": "00044-a551f5a2-6152-4310-9355-86369decf8e0",
    "deepnote_cell_type": "markdown"
   }
  },
  {
   "cell_type": "code",
   "metadata": {
    "cell_id": "00045-8bdc00ee-e309-41d2-aec1-e49919dab174",
    "deepnote_cell_type": "code"
   },
   "source": "arr_burger = np.asarray(pil_burger)\nprint(\"shape from Pillow:\", arr_burger.shape)\nprint(\"shape from OpenCV:\", cv2_burger.shape)\n\nx = 1500\ny = 2000\nprint(f\"Channels at [{x}, {y}] from Pillow:\", arr_burger[x, y])\nprint(f\"Channels at [{x}, {y}] from OpenCV:\", cv2_burger[x, y])",
   "execution_count": null,
   "outputs": []
  },
  {
   "cell_type": "markdown",
   "source": "Setelah mentransformasi objek `Pillow` menjadi `numpy.ndarray`, ukuran array yang dihasilkan secara default adalah `(h, w, c)`. Hal ini berbeda dengan `size` dari gambar `Pillow` yang berukuran `(w, h, c)`.\n\n```{note}\nPerhatikan bahwa hasil dari `Pillow` dan `OpenCV` terbalik karena mode dari `Pillow` adalah RGB, sedangkan `OpenCV` adalah BGR.\n```\n\nDalam bentuk array, kita bisa melakukan indexing pada gambar dan menampilkannnya dengan `imshow`. Misalkan, kita ingin memotong gambar menjadi setengah.",
   "metadata": {
    "cell_id": "00046-b56b2b02-7eb4-4252-9263-e18d0a420090",
    "deepnote_cell_type": "markdown"
   }
  },
  {
   "cell_type": "code",
   "metadata": {
    "cell_id": "00047-b82fe329-8c48-4095-8f4e-bd63d0a8a975",
    "deepnote_cell_type": "code"
   },
   "source": "max_width = 2000",
   "execution_count": null,
   "outputs": []
  },
  {
   "cell_type": "code",
   "metadata": {
    "cell_id": "00048-2b350ec9-908f-4b88-a654-be6769d63e9a",
    "deepnote_cell_type": "code"
   },
   "source": "plt.imshow(arr_burger[:max_width, ...])\nplt.show()",
   "execution_count": null,
   "outputs": []
  },
  {
   "cell_type": "code",
   "metadata": {
    "cell_id": "00049-386d15c4-4272-4537-90d5-990fe2acb151",
    "deepnote_cell_type": "code"
   },
   "source": "plt.imshow(arr_burger[max_width:, ...])\nplt.show()",
   "execution_count": null,
   "outputs": []
  },
  {
   "cell_type": "markdown",
   "source": "Untuk `OpenCV`, kita perlu mengubah objek gambar menjadi RGB terlebih dahulu.",
   "metadata": {
    "cell_id": "00050-dd336e3c-6ada-48e6-8904-eab57b35d37c",
    "deepnote_cell_type": "markdown"
   }
  },
  {
   "cell_type": "code",
   "metadata": {
    "cell_id": "00051-6c0e4f81-fc42-4445-86cb-097cc36db80f",
    "deepnote_cell_type": "code"
   },
   "source": "cv2_burger_rgb = cv2.cvtColor(cv2_burger, cv2.COLOR_BGR2RGB)",
   "execution_count": null,
   "outputs": []
  },
  {
   "cell_type": "code",
   "metadata": {
    "cell_id": "00052-03ff4565-8e37-4a8e-b71f-d781d0403943",
    "deepnote_cell_type": "code"
   },
   "source": "plt.imshow(cv2_burger_rgb[:max_width, ...])\nplt.show()",
   "execution_count": null,
   "outputs": []
  },
  {
   "cell_type": "code",
   "metadata": {
    "cell_id": "00053-732d3aee-c668-4358-b462-e68372683d72",
    "deepnote_cell_type": "code"
   },
   "source": "plt.imshow(cv2_burger_rgb[max_width:, ...])\nplt.show()",
   "execution_count": null,
   "outputs": []
  },
  {
   "cell_type": "markdown",
   "source": "```{admonition} Kuis\nCoba potong gambar, menggunakan `Pillow` dan `OpenCV`, sedemikian hingga memuat objek burger saja tanpa ada dominasi background.\n```",
   "metadata": {
    "cell_id": "00054-9e4b2f9e-7a95-4116-90a6-85b29bc265d6",
    "deepnote_cell_type": "markdown"
   }
  },
  {
   "cell_type": "code",
   "metadata": {
    "cell_id": "00055-9f6e0240-6410-4e20-882b-3d975f5da6da",
    "deepnote_cell_type": "code"
   },
   "source": "# KETIK DI SINI",
   "execution_count": null,
   "outputs": []
  },
  {
   "cell_type": "markdown",
   "source": "### Image Transformation\n\nDalam pemrosesan gambar, terkadang kita perlu untuk melakukan transformasi gambar dengan tujuan menambah keragaman gambar pada data. Hal ini bisa menambah jumlah data yang kita miliki, meskipun dengan konten yang mirip, tapi dengan orientasi yang berbeda.\n\n#### Flip",
   "metadata": {
    "cell_id": "00056-f80eec1e-9172-415c-b4d5-fcd0f2b6c582",
    "deepnote_cell_type": "markdown"
   }
  },
  {
   "cell_type": "code",
   "metadata": {
    "cell_id": "00057-8ef7f236-e96f-4602-be03-c319059a9162",
    "deepnote_cell_type": "code"
   },
   "source": "plt.imshow(arr_burger.transpose(1, 0, -1))\nplt.show()",
   "execution_count": null,
   "outputs": []
  },
  {
   "cell_type": "markdown",
   "source": "Selain secara manual, kita bisa gunakan `ImageOps` dari `Pillow` untuk mengubah orientasi gambar menjadi terbalik (*flip*). Atau dengan menggunakan fungsi `flip` dari `OpenCV`.",
   "metadata": {
    "cell_id": "00058-eedbe36e-1533-4e73-bf70-e4ebc5d17f62",
    "deepnote_cell_type": "markdown"
   }
  },
  {
   "cell_type": "code",
   "metadata": {
    "cell_id": "00059-9bd1c025-cc7d-4feb-9bc9-39fe9a2056b1",
    "deepnote_cell_type": "code"
   },
   "source": "pil_burger_flip = ImageOps.flip(pil_burger)\nplt.imshow(pil_burger_flip)\nplt.show()",
   "execution_count": null,
   "outputs": []
  },
  {
   "cell_type": "code",
   "metadata": {
    "cell_id": "00060-12f26ad0-b95c-4b39-9968-85ed987acdf3",
    "deepnote_cell_type": "code"
   },
   "source": "cv2_burger_flip = cv2.flip(cv2_burger_rgb, flipCode=0)\nplt.imshow(cv2_burger_flip)\nplt.show()",
   "execution_count": null,
   "outputs": []
  },
  {
   "cell_type": "markdown",
   "source": "Kita juga bisa menggunakan metode `transpose` dari objek gambar `Pillow` berikut.\n\n```python\nplt.imshow(pil_burger.transpose(Image.FLIP_TOP_BOTTOM))\nplt.show()\n```\n\nAtau, menggunakan fungsi `cv2.rotate` dari `OpenCV` berikut.\n\n```python\nplt.imshow(cv2.rotate(cv2_burger_rgb, cv2.ROTATE_180))\nplt.show()\n```",
   "metadata": {
    "cell_id": "00061-a6e65eed-b909-4779-a54c-14318dc810d7",
    "deepnote_cell_type": "markdown"
   }
  },
  {
   "cell_type": "markdown",
   "source": "#### Mirror\n\nKita bisa gunakan fungsi `mirror` dari `ImageOps` untuk mengubah orientasi gambar secara horizontal atau menggunakan `cv2.flip` dengan nilai `flipCode` lebih dari 0.",
   "metadata": {
    "cell_id": "00062-622ffcd5-75e0-4828-bbde-1b589789a3bd",
    "deepnote_cell_type": "markdown"
   }
  },
  {
   "cell_type": "code",
   "metadata": {
    "cell_id": "00063-695f9df1-0d2f-4f83-84d9-1da0198e076a",
    "deepnote_cell_type": "code"
   },
   "source": "pil_burger_mirror = ImageOps.mirror(pil_burger)\nplt.imshow(pil_burger_mirror)\nplt.show()",
   "execution_count": null,
   "outputs": []
  },
  {
   "cell_type": "markdown",
   "source": "Kita juga bisa menggunakan metode `transpose` dari objek gambar `Pillow` berikut.\n\n```python\nplt.imshow(pil_burger.transpose(Image.FLIP_LEFT_RIGHT))\nplt.show()\n```",
   "metadata": {
    "cell_id": "00064-23b92704-cb1e-4ea3-8911-bfa85db3b46d",
    "deepnote_cell_type": "markdown"
   }
  },
  {
   "cell_type": "code",
   "metadata": {
    "cell_id": "00065-84874b3f-b9b4-4611-898f-41fcd91434f3",
    "deepnote_cell_type": "code"
   },
   "source": "cv2_burger_mirror = cv2.flip(cv2_burger_rgb, flipCode=1)\nplt.imshow(cv2_burger_mirror)\nplt.show()",
   "execution_count": null,
   "outputs": []
  },
  {
   "cell_type": "markdown",
   "source": "<a style='text-decoration:none;line-height:16px;display:flex;color:#5B5B62;padding:10px;justify-content:end;' href='https://deepnote.com?utm_source=created-in-deepnote-cell&projectId=2223ede1-8efb-486f-85ff-5fb31b0e703e' target=\"_blank\">\n<img alt='Created in deepnote.com' style='display:inline;max-height:16px;margin:0px;margin-right:7.5px;' src='data:image/svg+xml;base64,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' > </img>\nCreated in <span style='font-weight:600;margin-left:4px;'>Deepnote</span></a>",
   "metadata": {
    "tags": [],
    "created_in_deepnote_cell": true,
    "deepnote_cell_type": "markdown"
   }
  }
 ],
 "nbformat": 4,
 "nbformat_minor": 5,
 "metadata": {
  "kernelspec": {
   "display_name": "Python 3 (ipykernel)",
   "language": "python",
   "name": "python3"
  },
  "language_info": {
   "codemirror_mode": {
    "name": "ipython",
    "version": 3
   },
   "file_extension": ".py",
   "mimetype": "text/x-python",
   "name": "python",
   "nbconvert_exporter": "python",
   "pygments_lexer": "ipython3",
   "version": "3.9.5"
  },
  "deepnote_notebook_id": "3659693c-a3e8-4976-8ab6-038dfe224143",
  "deepnote": {},
  "deepnote_execution_queue": []
 }
}