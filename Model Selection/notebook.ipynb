{
 "cells": [
  {
   "cell_type": "markdown",
   "source": "# Model Selection\n\nPada materi ini, kita akan membahas beberapa *supervised* model sekaligus. Kita akan coba bandingkan masing-masing performa model untuk menentukan model mana yang paling bagus sesuai dengan metrik yang dipilih.\n\nBeberapa model yang akan kita bahas di antaranya:\n* k-Nearest Neighbor (kNN)\n* Support Vector Machine (SVM)\n* Decision Tree\n\n\n## k-Nearest Neighbor\n\n*k-Nearest Neighbor* merupakan model *machine learning* yang tidak mempunyai parameter atau yang biasa disebut dengan **non-parametrik**. Hal ini dikarenakan proses belajar kNN tidak menghasilkan parameter apapun, beda halnya dengan model-model sebelumnya, seperti *linear regression* ataupun *logistic regression*.\n\nkNN merupakan model yang paling sederhana dan bisa digunakan baik untuk *task* **klasifikasi** ataupun **regresi**.\n\n\n### Cara Kerja kNN\n\nDalam memprediksi suatu data, kNN akan memanfaatkan mayoritas `k` tetangga yang paling dekat dengan data tersebut. Perhatikan ilustrasi berikut.\n\n![](assets/images/knn.png)\nsumber: [datacamp](https://www.datacamp.com/community/tutorials/k-nearest-neighbor-classification-scikit-learn)\n\nMisalkan kita ingin memprediksi data seperti pada gambar di atas. Maka, nilai prediksi akan berdasarkan `k` tetangga yang paling dekat, dalam hal ini $k = 1$. Sehingga, data tersebut akan diprediksi mirip dengan data berwarna merah.\n\n![](assets/images/knn-algorithm.png)\nsumber: [datacamp](https://www.datacamp.com/community/tutorials/k-nearest-neighbor-classification-scikit-learn)\n\nSesuai ilustrasi di atas, algorithma dari kNN adalah:\n1. Tentukan `k`\n2. Masukkan semua data yang akan digunakan\n3. Hitung jarak antara data yang ingin diprediksi dengan semua data yang ada\n4. Prediksi nilai data tersebut berdasarkan mayoritas `k` tetangga terdekat dari data tersebut.\n\nUmumnya:\n* Untuk klasifikasi, prediksi akan ditentukan melalui *voting*\n* Untuk regresi, prediksi akan ditentukan dengan cara menghitung rata-rata\n\n\n### kNN pada Scikit-Learn\n\nSekarang, kita akan coba menggunakan kNN dengan scikit-learn. Kita akan coba gunakan data *california housing* yang disedikan oleh scikit-learn. Untuk menggunakan kNN, kita gunakan sintak berikut.\n\n```python\nfrom sklearn.neighbors import KNeighborsRegressor\n```\n\n> Untuk masalah klasifikasi, kita gunakan `KNeighborsClassifier`.",
   "metadata": {
    "tags": [],
    "cell_id": "00000-64c03229-b8bc-4738-afa7-f1bc55122314",
    "deepnote_cell_type": "markdown"
   }
  },
  {
   "cell_type": "code",
   "metadata": {
    "tags": [],
    "cell_id": "00000-df7a1f19-e2b0-46f1-af12-69af8478dcfd",
    "deepnote_to_be_reexecuted": false,
    "source_hash": "305624c1",
    "execution_start": 1639543553651,
    "execution_millis": 1359,
    "deepnote_cell_type": "code"
   },
   "source": "import matplotlib.pyplot as plt\nimport numpy as np\nimport pandas as pd\nfrom sklearn.datasets import fetch_california_housing, load_breast_cancer\nfrom sklearn.neighbors import KNeighborsRegressor\nfrom sklearn.metrics import mean_squared_error, classification_report\nfrom sklearn.model_selection import train_test_split, GridSearchCV\nfrom sklearn.preprocessing import StandardScaler\nfrom sklearn.svm import SVC\nfrom sklearn.tree import DecisionTreeClassifier, plot_tree",
   "execution_count": null,
   "outputs": []
  },
  {
   "cell_type": "markdown",
   "source": "#### California Housing Dataset",
   "metadata": {
    "tags": [],
    "cell_id": "00002-0cb11d98-edfc-4fe4-a362-bcd66e0ab55a",
    "deepnote_cell_type": "markdown"
   }
  },
  {
   "cell_type": "code",
   "metadata": {
    "tags": [],
    "cell_id": "00002-57af9ce6-3360-46f5-a465-9414e715ad92",
    "deepnote_to_be_reexecuted": false,
    "source_hash": "5bd3553f",
    "execution_start": 1639381292190,
    "execution_millis": 21,
    "deepnote_cell_type": "code"
   },
   "source": "california_housing = fetch_california_housing(data_home=\"./data\")",
   "execution_count": null,
   "outputs": []
  },
  {
   "cell_type": "code",
   "metadata": {
    "tags": [],
    "cell_id": "00004-806d0139-6af0-4f03-bed4-877257c59c5f",
    "deepnote_to_be_reexecuted": false,
    "source_hash": "7a6903b7",
    "execution_start": 1639381292213,
    "execution_millis": 48,
    "deepnote_output_heights": [
     21.1875
    ],
    "deepnote_cell_type": "code"
   },
   "source": "print(california_housing.DESCR)",
   "execution_count": null,
   "outputs": [
    {
     "name": "stdout",
     "text": ".. _california_housing_dataset:\n\nCalifornia Housing dataset\n--------------------------\n\n**Data Set Characteristics:**\n\n    :Number of Instances: 20640\n\n    :Number of Attributes: 8 numeric, predictive attributes and the target\n\n    :Attribute Information:\n        - MedInc        median income in block group\n        - HouseAge      median house age in block group\n        - AveRooms      average number of rooms per household\n        - AveBedrms     average number of bedrooms per household\n        - Population    block group population\n        - AveOccup      average number of household members\n        - Latitude      block group latitude\n        - Longitude     block group longitude\n\n    :Missing Attribute Values: None\n\nThis dataset was obtained from the StatLib repository.\nhttps://www.dcc.fc.up.pt/~ltorgo/Regression/cal_housing.html\n\nThe target variable is the median house value for California districts,\nexpressed in hundreds of thousands of dollars ($100,000).\n\nThis dataset was derived from the 1990 U.S. census, using one row per census\nblock group. A block group is the smallest geographical unit for which the U.S.\nCensus Bureau publishes sample data (a block group typically has a population\nof 600 to 3,000 people).\n\nAn household is a group of people residing within a home. Since the average\nnumber of rooms and bedrooms in this dataset are provided per household, these\ncolumns may take surpinsingly large values for block groups with few households\nand many empty houses, such as vacation resorts.\n\nIt can be downloaded/loaded using the\n:func:`sklearn.datasets.fetch_california_housing` function.\n\n.. topic:: References\n\n    - Pace, R. Kelley and Ronald Barry, Sparse Spatial Autoregressions,\n      Statistics and Probability Letters, 33 (1997) 291-297\n\n",
     "output_type": "stream"
    }
   ]
  },
  {
   "cell_type": "markdown",
   "source": "Dari deskripsi data di atas, kita tahu bahwa:\n* Terdapat 20.640 data\n* Terdiri dari 8 kolom numerik yang tidak ada *missing value* sama sekali\n* Variabel target adalah **median house value** dalam satuan ribuan dolar ($100,000)",
   "metadata": {
    "tags": [],
    "cell_id": "00005-9eff6d76-2851-4e25-a72f-240ffafc1014",
    "deepnote_cell_type": "markdown"
   }
  },
  {
   "cell_type": "code",
   "metadata": {
    "tags": [],
    "cell_id": "00005-359a179c-fd9d-4a05-b39c-015a574e2c78",
    "deepnote_to_be_reexecuted": false,
    "source_hash": "952fdc22",
    "execution_start": 1639381292260,
    "execution_millis": 0,
    "deepnote_cell_type": "code"
   },
   "source": "X = pd.DataFrame(california_housing.data, columns=california_housing.feature_names)\ny = pd.DataFrame(california_housing.target, columns=california_housing.target_names)",
   "execution_count": null,
   "outputs": []
  },
  {
   "cell_type": "code",
   "metadata": {
    "tags": [],
    "cell_id": "00007-f1e46360-175d-4f86-96f0-147659a70d5f",
    "deepnote_to_be_reexecuted": false,
    "source_hash": "91c01c58",
    "execution_start": 1639381292260,
    "execution_millis": 6,
    "deepnote_cell_type": "code"
   },
   "source": "X.head()",
   "execution_count": null,
   "outputs": [
    {
     "output_type": "execute_result",
     "execution_count": 5,
     "data": {
      "application/vnd.deepnote.dataframe.v2+json": {
       "row_count": 5,
       "column_count": 8,
       "columns": [
        {
         "name": "MedInc",
         "dtype": "float64",
         "stats": {
          "unique_count": 5,
          "nan_count": 0,
          "min": "3.8462",
          "max": "8.3252",
          "histogram": [
           {
            "bin_start": 3.8462,
            "bin_end": 4.2941,
            "count": 1
           },
           {
            "bin_start": 4.2941,
            "bin_end": 4.742,
            "count": 0
           },
           {
            "bin_start": 4.742,
            "bin_end": 5.1899,
            "count": 0
           },
           {
            "bin_start": 5.1899,
            "bin_end": 5.6378,
            "count": 0
           },
           {
            "bin_start": 5.6378,
            "bin_end": 6.085700000000001,
            "count": 1
           },
           {
            "bin_start": 6.085700000000001,
            "bin_end": 6.5336,
            "count": 0
           },
           {
            "bin_start": 6.5336,
            "bin_end": 6.9815000000000005,
            "count": 0
           },
           {
            "bin_start": 6.9815000000000005,
            "bin_end": 7.429400000000001,
            "count": 1
           },
           {
            "bin_start": 7.429400000000001,
            "bin_end": 7.8773,
            "count": 0
           },
           {
            "bin_start": 7.8773,
            "bin_end": 8.3252,
            "count": 2
           }
          ]
         }
        },
        {
         "name": "HouseAge",
         "dtype": "float64",
         "stats": {
          "unique_count": 3,
          "nan_count": 0,
          "min": "21.0",
          "max": "52.0",
          "histogram": [
           {
            "bin_start": 21,
            "bin_end": 24.1,
            "count": 1
           },
           {
            "bin_start": 24.1,
            "bin_end": 27.2,
            "count": 0
           },
           {
            "bin_start": 27.2,
            "bin_end": 30.3,
            "count": 0
           },
           {
            "bin_start": 30.3,
            "bin_end": 33.4,
            "count": 0
           },
           {
            "bin_start": 33.4,
            "bin_end": 36.5,
            "count": 0
           },
           {
            "bin_start": 36.5,
            "bin_end": 39.6,
            "count": 0
           },
           {
            "bin_start": 39.6,
            "bin_end": 42.7,
            "count": 1
           },
           {
            "bin_start": 42.7,
            "bin_end": 45.8,
            "count": 0
           },
           {
            "bin_start": 45.8,
            "bin_end": 48.900000000000006,
            "count": 0
           },
           {
            "bin_start": 48.900000000000006,
            "bin_end": 52,
            "count": 3
           }
          ]
         }
        },
        {
         "name": "AveRooms",
         "dtype": "float64",
         "stats": {
          "unique_count": 5,
          "nan_count": 0,
          "min": "5.8173515981735155",
          "max": "8.288135593220339",
          "histogram": [
           {
            "bin_start": 5.8173515981735155,
            "bin_end": 6.064429997678198,
            "count": 1
           },
           {
            "bin_start": 6.064429997678198,
            "bin_end": 6.31150839718288,
            "count": 2
           },
           {
            "bin_start": 6.31150839718288,
            "bin_end": 6.558586796687562,
            "count": 0
           },
           {
            "bin_start": 6.558586796687562,
            "bin_end": 6.805665196192245,
            "count": 0
           },
           {
            "bin_start": 6.805665196192245,
            "bin_end": 7.052743595696928,
            "count": 1
           },
           {
            "bin_start": 7.052743595696928,
            "bin_end": 7.29982199520161,
            "count": 0
           },
           {
            "bin_start": 7.29982199520161,
            "bin_end": 7.546900394706292,
            "count": 0
           },
           {
            "bin_start": 7.546900394706292,
            "bin_end": 7.793978794210974,
            "count": 0
           },
           {
            "bin_start": 7.793978794210974,
            "bin_end": 8.041057193715657,
            "count": 0
           },
           {
            "bin_start": 8.041057193715657,
            "bin_end": 8.288135593220339,
            "count": 1
           }
          ]
         }
        },
        {
         "name": "AveBedrms",
         "dtype": "float64",
         "stats": {
          "unique_count": 5,
          "nan_count": 0,
          "min": "0.9718804920913884",
          "max": "1.0810810810810811",
          "histogram": [
           {
            "bin_start": 0.9718804920913884,
            "bin_end": 0.9828005509903577,
            "count": 1
           },
           {
            "bin_start": 0.9828005509903577,
            "bin_end": 0.993720609889327,
            "count": 0
           },
           {
            "bin_start": 0.993720609889327,
            "bin_end": 1.0046406687882963,
            "count": 0
           },
           {
            "bin_start": 1.0046406687882963,
            "bin_end": 1.0155607276872656,
            "count": 0
           },
           {
            "bin_start": 1.0155607276872656,
            "bin_end": 1.0264807865862347,
            "count": 1
           },
           {
            "bin_start": 1.0264807865862347,
            "bin_end": 1.037400845485204,
            "count": 0
           },
           {
            "bin_start": 1.037400845485204,
            "bin_end": 1.0483209043841732,
            "count": 0
           },
           {
            "bin_start": 1.0483209043841732,
            "bin_end": 1.0592409632831425,
            "count": 0
           },
           {
            "bin_start": 1.0592409632831425,
            "bin_end": 1.0701610221821118,
            "count": 0
           },
           {
            "bin_start": 1.0701610221821118,
            "bin_end": 1.0810810810810811,
            "count": 3
           }
          ]
         }
        },
        {
         "name": "Population",
         "dtype": "float64",
         "stats": {
          "unique_count": 5,
          "nan_count": 0,
          "min": "322.0",
          "max": "2401.0",
          "histogram": [
           {
            "bin_start": 322,
            "bin_end": 529.9,
            "count": 2
           },
           {
            "bin_start": 529.9,
            "bin_end": 737.8,
            "count": 2
           },
           {
            "bin_start": 737.8,
            "bin_end": 945.7,
            "count": 0
           },
           {
            "bin_start": 945.7,
            "bin_end": 1153.6,
            "count": 0
           },
           {
            "bin_start": 1153.6,
            "bin_end": 1361.5,
            "count": 0
           },
           {
            "bin_start": 1361.5,
            "bin_end": 1569.4,
            "count": 0
           },
           {
            "bin_start": 1569.4,
            "bin_end": 1777.3,
            "count": 0
           },
           {
            "bin_start": 1777.3,
            "bin_end": 1985.2,
            "count": 0
           },
           {
            "bin_start": 1985.2,
            "bin_end": 2193.1000000000004,
            "count": 0
           },
           {
            "bin_start": 2193.1000000000004,
            "bin_end": 2401,
            "count": 1
           }
          ]
         }
        },
        {
         "name": "AveOccup",
         "dtype": "float64",
         "stats": {
          "unique_count": 5,
          "nan_count": 0,
          "min": "2.109841827768014",
          "max": "2.8022598870056497",
          "histogram": [
           {
            "bin_start": 2.109841827768014,
            "bin_end": 2.1790836336917776,
            "count": 1
           },
           {
            "bin_start": 2.1790836336917776,
            "bin_end": 2.248325439615541,
            "count": 1
           },
           {
            "bin_start": 2.248325439615541,
            "bin_end": 2.317567245539305,
            "count": 0
           },
           {
            "bin_start": 2.317567245539305,
            "bin_end": 2.3868090514630684,
            "count": 0
           },
           {
            "bin_start": 2.3868090514630684,
            "bin_end": 2.456050857386832,
            "count": 0
           },
           {
            "bin_start": 2.456050857386832,
            "bin_end": 2.525292663310595,
            "count": 0
           },
           {
            "bin_start": 2.525292663310595,
            "bin_end": 2.594534469234359,
            "count": 2
           },
           {
            "bin_start": 2.594534469234359,
            "bin_end": 2.6637762751581224,
            "count": 0
           },
           {
            "bin_start": 2.6637762751581224,
            "bin_end": 2.733018081081886,
            "count": 0
           },
           {
            "bin_start": 2.733018081081886,
            "bin_end": 2.8022598870056497,
            "count": 1
           }
          ]
         }
        },
        {
         "name": "Latitude",
         "dtype": "float64",
         "stats": {
          "unique_count": 3,
          "nan_count": 0,
          "min": "37.85",
          "max": "37.88",
          "histogram": [
           {
            "bin_start": 37.85,
            "bin_end": 37.853,
            "count": 3
           },
           {
            "bin_start": 37.853,
            "bin_end": 37.856,
            "count": 0
           },
           {
            "bin_start": 37.856,
            "bin_end": 37.859,
            "count": 0
           },
           {
            "bin_start": 37.859,
            "bin_end": 37.862,
            "count": 1
           },
           {
            "bin_start": 37.862,
            "bin_end": 37.865,
            "count": 0
           },
           {
            "bin_start": 37.865,
            "bin_end": 37.868,
            "count": 0
           },
           {
            "bin_start": 37.868,
            "bin_end": 37.871,
            "count": 0
           },
           {
            "bin_start": 37.871,
            "bin_end": 37.874,
            "count": 0
           },
           {
            "bin_start": 37.874,
            "bin_end": 37.877,
            "count": 0
           },
           {
            "bin_start": 37.877,
            "bin_end": 37.88,
            "count": 1
           }
          ]
         }
        },
        {
         "name": "Longitude",
         "dtype": "float64",
         "stats": {
          "unique_count": 4,
          "nan_count": 0,
          "min": "-122.25",
          "max": "-122.22",
          "histogram": [
           {
            "bin_start": -122.25,
            "bin_end": -122.247,
            "count": 2
           },
           {
            "bin_start": -122.247,
            "bin_end": -122.244,
            "count": 0
           },
           {
            "bin_start": -122.244,
            "bin_end": -122.241,
            "count": 0
           },
           {
            "bin_start": -122.241,
            "bin_end": -122.238,
            "count": 1
           },
           {
            "bin_start": -122.238,
            "bin_end": -122.235,
            "count": 0
           },
           {
            "bin_start": -122.235,
            "bin_end": -122.232,
            "count": 0
           },
           {
            "bin_start": -122.232,
            "bin_end": -122.229,
            "count": 1
           },
           {
            "bin_start": -122.229,
            "bin_end": -122.226,
            "count": 0
           },
           {
            "bin_start": -122.226,
            "bin_end": -122.223,
            "count": 0
           },
           {
            "bin_start": -122.223,
            "bin_end": -122.22,
            "count": 1
           }
          ]
         }
        },
        {
         "name": "_deepnote_index_column",
         "dtype": "int64"
        }
       ],
       "rows_top": [
        {
         "MedInc": 8.3252,
         "HouseAge": 41,
         "AveRooms": 6.984126984126984,
         "AveBedrms": 1.0238095238095237,
         "Population": 322,
         "AveOccup": 2.5555555555555554,
         "Latitude": 37.88,
         "Longitude": -122.23,
         "_deepnote_index_column": 0
        },
        {
         "MedInc": 8.3014,
         "HouseAge": 21,
         "AveRooms": 6.238137082601054,
         "AveBedrms": 0.9718804920913884,
         "Population": 2401,
         "AveOccup": 2.109841827768014,
         "Latitude": 37.86,
         "Longitude": -122.22,
         "_deepnote_index_column": 1
        },
        {
         "MedInc": 7.2574,
         "HouseAge": 52,
         "AveRooms": 8.288135593220339,
         "AveBedrms": 1.073446327683616,
         "Population": 496,
         "AveOccup": 2.8022598870056497,
         "Latitude": 37.85,
         "Longitude": -122.24,
         "_deepnote_index_column": 2
        },
        {
         "MedInc": 5.6431,
         "HouseAge": 52,
         "AveRooms": 5.8173515981735155,
         "AveBedrms": 1.0730593607305936,
         "Population": 558,
         "AveOccup": 2.547945205479452,
         "Latitude": 37.85,
         "Longitude": -122.25,
         "_deepnote_index_column": 3
        },
        {
         "MedInc": 3.8462,
         "HouseAge": 52,
         "AveRooms": 6.281853281853282,
         "AveBedrms": 1.0810810810810811,
         "Population": 565,
         "AveOccup": 2.1814671814671813,
         "Latitude": 37.85,
         "Longitude": -122.25,
         "_deepnote_index_column": 4
        }
       ],
       "rows_bottom": null
      },
      "text/plain": "   MedInc  HouseAge  AveRooms  AveBedrms  Population  AveOccup  Latitude  \\\n0  8.3252      41.0  6.984127   1.023810       322.0  2.555556     37.88   \n1  8.3014      21.0  6.238137   0.971880      2401.0  2.109842     37.86   \n2  7.2574      52.0  8.288136   1.073446       496.0  2.802260     37.85   \n3  5.6431      52.0  5.817352   1.073059       558.0  2.547945     37.85   \n4  3.8462      52.0  6.281853   1.081081       565.0  2.181467     37.85   \n\n   Longitude  \n0    -122.23  \n1    -122.22  \n2    -122.24  \n3    -122.25  \n4    -122.25  ",
      "text/html": "<div>\n<style scoped>\n    .dataframe tbody tr th:only-of-type {\n        vertical-align: middle;\n    }\n\n    .dataframe tbody tr th {\n        vertical-align: top;\n    }\n\n    .dataframe thead th {\n        text-align: right;\n    }\n</style>\n<table border=\"1\" class=\"dataframe\">\n  <thead>\n    <tr style=\"text-align: right;\">\n      <th></th>\n      <th>MedInc</th>\n      <th>HouseAge</th>\n      <th>AveRooms</th>\n      <th>AveBedrms</th>\n      <th>Population</th>\n      <th>AveOccup</th>\n      <th>Latitude</th>\n      <th>Longitude</th>\n    </tr>\n  </thead>\n  <tbody>\n    <tr>\n      <th>0</th>\n      <td>8.3252</td>\n      <td>41.0</td>\n      <td>6.984127</td>\n      <td>1.023810</td>\n      <td>322.0</td>\n      <td>2.555556</td>\n      <td>37.88</td>\n      <td>-122.23</td>\n    </tr>\n    <tr>\n      <th>1</th>\n      <td>8.3014</td>\n      <td>21.0</td>\n      <td>6.238137</td>\n      <td>0.971880</td>\n      <td>2401.0</td>\n      <td>2.109842</td>\n      <td>37.86</td>\n      <td>-122.22</td>\n    </tr>\n    <tr>\n      <th>2</th>\n      <td>7.2574</td>\n      <td>52.0</td>\n      <td>8.288136</td>\n      <td>1.073446</td>\n      <td>496.0</td>\n      <td>2.802260</td>\n      <td>37.85</td>\n      <td>-122.24</td>\n    </tr>\n    <tr>\n      <th>3</th>\n      <td>5.6431</td>\n      <td>52.0</td>\n      <td>5.817352</td>\n      <td>1.073059</td>\n      <td>558.0</td>\n      <td>2.547945</td>\n      <td>37.85</td>\n      <td>-122.25</td>\n    </tr>\n    <tr>\n      <th>4</th>\n      <td>3.8462</td>\n      <td>52.0</td>\n      <td>6.281853</td>\n      <td>1.081081</td>\n      <td>565.0</td>\n      <td>2.181467</td>\n      <td>37.85</td>\n      <td>-122.25</td>\n    </tr>\n  </tbody>\n</table>\n</div>"
     },
     "metadata": {}
    }
   ]
  },
  {
   "cell_type": "code",
   "metadata": {
    "tags": [],
    "cell_id": "00008-9e3f3b6d-b563-482c-9c7b-0c489ad90800",
    "deepnote_to_be_reexecuted": false,
    "source_hash": "8aefbd80",
    "execution_start": 1639381292274,
    "execution_millis": 5,
    "deepnote_cell_type": "code"
   },
   "source": "y.head()",
   "execution_count": null,
   "outputs": [
    {
     "output_type": "execute_result",
     "execution_count": 6,
     "data": {
      "application/vnd.deepnote.dataframe.v2+json": {
       "row_count": 5,
       "column_count": 1,
       "columns": [
        {
         "name": "MedHouseVal",
         "dtype": "float64",
         "stats": {
          "unique_count": 5,
          "nan_count": 0,
          "min": "3.413",
          "max": "4.526",
          "histogram": [
           {
            "bin_start": 3.413,
            "bin_end": 3.5242999999999998,
            "count": 3
           },
           {
            "bin_start": 3.5242999999999998,
            "bin_end": 3.6355999999999997,
            "count": 1
           },
           {
            "bin_start": 3.6355999999999997,
            "bin_end": 3.7468999999999997,
            "count": 0
           },
           {
            "bin_start": 3.7468999999999997,
            "bin_end": 3.8581999999999996,
            "count": 0
           },
           {
            "bin_start": 3.8581999999999996,
            "bin_end": 3.9695,
            "count": 0
           },
           {
            "bin_start": 3.9695,
            "bin_end": 4.0808,
            "count": 0
           },
           {
            "bin_start": 4.0808,
            "bin_end": 4.1921,
            "count": 0
           },
           {
            "bin_start": 4.1921,
            "bin_end": 4.3034,
            "count": 0
           },
           {
            "bin_start": 4.3034,
            "bin_end": 4.4147,
            "count": 0
           },
           {
            "bin_start": 4.4147,
            "bin_end": 4.526,
            "count": 1
           }
          ]
         }
        },
        {
         "name": "_deepnote_index_column",
         "dtype": "int64"
        }
       ],
       "rows_top": [
        {
         "MedHouseVal": 4.526,
         "_deepnote_index_column": 0
        },
        {
         "MedHouseVal": 3.585,
         "_deepnote_index_column": 1
        },
        {
         "MedHouseVal": 3.521,
         "_deepnote_index_column": 2
        },
        {
         "MedHouseVal": 3.413,
         "_deepnote_index_column": 3
        },
        {
         "MedHouseVal": 3.422,
         "_deepnote_index_column": 4
        }
       ],
       "rows_bottom": null
      },
      "text/plain": "   MedHouseVal\n0        4.526\n1        3.585\n2        3.521\n3        3.413\n4        3.422",
      "text/html": "<div>\n<style scoped>\n    .dataframe tbody tr th:only-of-type {\n        vertical-align: middle;\n    }\n\n    .dataframe tbody tr th {\n        vertical-align: top;\n    }\n\n    .dataframe thead th {\n        text-align: right;\n    }\n</style>\n<table border=\"1\" class=\"dataframe\">\n  <thead>\n    <tr style=\"text-align: right;\">\n      <th></th>\n      <th>MedHouseVal</th>\n    </tr>\n  </thead>\n  <tbody>\n    <tr>\n      <th>0</th>\n      <td>4.526</td>\n    </tr>\n    <tr>\n      <th>1</th>\n      <td>3.585</td>\n    </tr>\n    <tr>\n      <th>2</th>\n      <td>3.521</td>\n    </tr>\n    <tr>\n      <th>3</th>\n      <td>3.413</td>\n    </tr>\n    <tr>\n      <th>4</th>\n      <td>3.422</td>\n    </tr>\n  </tbody>\n</table>\n</div>"
     },
     "metadata": {}
    }
   ]
  },
  {
   "cell_type": "markdown",
   "source": "Pertama, kita bagi dulu dataset menjadi `train_set` dan `dev_set`.",
   "metadata": {
    "tags": [],
    "cell_id": "00009-7e3b9aac-db78-47dd-a798-2a9dbe125ca2",
    "deepnote_cell_type": "markdown"
   }
  },
  {
   "cell_type": "code",
   "metadata": {
    "tags": [],
    "cell_id": "00009-eeac0f91-c283-470e-b522-ae69c3063b68",
    "deepnote_to_be_reexecuted": false,
    "source_hash": "38f011fb",
    "execution_start": 1639381292282,
    "execution_millis": 6,
    "deepnote_cell_type": "code"
   },
   "source": "X_train, X_dev, y_train, y_dev = train_test_split(\n    X, y,\n    test_size=.2,\n    random_state=11\n)\n\nprint(f\"{len(X_train) = }.. {len(X_dev) = }\")",
   "execution_count": null,
   "outputs": [
    {
     "name": "stdout",
     "text": "len(X_train) = 16512.. len(X_dev) = 4128\n",
     "output_type": "stream"
    }
   ]
  },
  {
   "cell_type": "markdown",
   "source": "### Model Training & Evaluation\n\nMari kita langsung coba definisikan dan latih model `kNeighborsRegressor`.",
   "metadata": {
    "tags": [],
    "cell_id": "00009-5281cca8-8f38-4f92-81d5-2b0c8ac4be34",
    "deepnote_cell_type": "markdown"
   }
  },
  {
   "cell_type": "code",
   "metadata": {
    "tags": [],
    "cell_id": "00009-50dc5d3f-4c8f-440c-8217-05f2a261a1ac",
    "deepnote_to_be_reexecuted": false,
    "source_hash": "9a5b1fb4",
    "execution_start": 1639381292294,
    "execution_millis": 123,
    "deepnote_cell_type": "code"
   },
   "source": "knn = KNeighborsRegressor(n_neighbors=5)\nknn.fit(X_train, y_train)\n\npred_train = knn.predict(X_train)\npred_dev = knn.predict(X_dev)\n\nmse_train = mean_squared_error(y_train, pred_train)\nmse_dev = mean_squared_error(y_dev, pred_dev)\n\nprint(f\"{mse_train = }.. {mse_dev = }\")",
   "execution_count": null,
   "outputs": [
    {
     "name": "stdout",
     "text": "mse_train = 0.7279888869891515.. mse_dev = 1.134529791104954\n",
     "output_type": "stream"
    }
   ]
  },
  {
   "cell_type": "markdown",
   "source": "Sekarang, mari kita bandingkan performa model jika kita lakukan pra-pemrosesan data terlebih dahulu menggunakan `StandardScaler`.",
   "metadata": {
    "tags": [],
    "cell_id": "00013-70698dee-ed19-4d36-9a1b-cc69d40ebb28",
    "deepnote_cell_type": "markdown"
   }
  },
  {
   "cell_type": "code",
   "metadata": {
    "tags": [],
    "cell_id": "00013-9121f749-6034-4164-a329-42a497438281",
    "deepnote_to_be_reexecuted": false,
    "source_hash": "78f10dcb",
    "execution_start": 1639381292461,
    "execution_millis": 1,
    "deepnote_cell_type": "code"
   },
   "source": "scaler = StandardScaler()\nscaled_X_train = scaler.fit_transform(X_train)\nscaled_X_dev = scaler.transform(X_dev)",
   "execution_count": null,
   "outputs": []
  },
  {
   "cell_type": "code",
   "metadata": {
    "tags": [],
    "cell_id": "00015-1a907b8f-8d0c-42ca-89e9-87a0eb38141c",
    "deepnote_to_be_reexecuted": false,
    "source_hash": "1aa5c887",
    "execution_start": 1639381292462,
    "execution_millis": 1128,
    "deepnote_cell_type": "code"
   },
   "source": "knn = KNeighborsRegressor(n_neighbors=5)\nknn.fit(scaled_X_train, y_train)\n\npred_train = knn.predict(scaled_X_train)\npred_dev = knn.predict(scaled_X_dev)\n\nmse_train = mean_squared_error(y_train, pred_train)\nmse_dev = mean_squared_error(y_dev, pred_dev)\n\nprint(f\"{mse_train = }.. {mse_dev = }\")",
   "execution_count": null,
   "outputs": [
    {
     "name": "stdout",
     "text": "mse_train = 0.27669857535847453.. mse_dev = 0.41882816727045247\n",
     "output_type": "stream"
    }
   ]
  },
  {
   "cell_type": "markdown",
   "source": "> Kesimpulan apa yang bisa diambil dari kedua performa model tersebut?",
   "metadata": {
    "tags": [],
    "cell_id": "00016-d7fa5175-509f-44ca-aa0b-3f7fae838dad",
    "deepnote_cell_type": "markdown"
   }
  },
  {
   "cell_type": "markdown",
   "source": "## Support Vector Machine\n\nModel selanjutnya adalah *support vector machine* atau yang biasa disingkat dengan SVM. SVM sedikit berbeda dengan model yang lain. Hal ini dikarenakan tujuan dari SVM selain meminimalkan eror, juga memaksimalkan margin atau pembatas antara masing-masing target kelas.\n\n![](assets/images/svm.png)\nsumber: [datacamp](https://www.datacamp.com/community/tutorials/svm-classification-scikit-learn-python)\n\nMisalkan kita punyai data GRE dari beberapa siswa, di mana **biru berarti diterima** dan **kuning berarti tidak diterima**. Jika kita ingin membuat sebuah _boundary_ yang bisa dengan tepat memisahkan data tersebut, maka ada beberapa skenario.\n\n![](assets/images/1d-data.png)\n\n1. Misalkan kita buat _boundary_ yang agak condong ke sebelah kiri atau dekat dengan data siswa yang tidak diterima.\n\n![](assets/images/boundary-decision-left.png)\n\n2. Kita juga bisa buat _boundary_ yang agak condong ke sebelah kanan atau dekat dengan data siswa yang diterima.\n\n![](assets/images/boundary-decision-right.png)\n\n3. Atau, kita juga bisa buat _boundary_ dengan jarak antara kedua kelas paling besar, seperti ilustrasi di bawah.\n\n![](assets/images/boundary-decision-mid.png)\n\n> **Konsep**\n>\n> Kira-kira _decision boundary mana yang akan kita pilih dan mampu mengklasifikasikan penerimaan siswa dengan tepat?\n\nSVM berusaha untuk membuat _decision boundary_ yang memisahkan antar target _class_ dengan tepat dan dengan margin yang sebesar mungkin. Untuk detail cara kerja SVM, silakan lihat video berikut:\n\n<div align=\"center\">\n<iframe width=\"560\" height=\"315\" src=\"https://www.youtube.com/embed/efR1C6CvhmE\" title=\"YouTube video player\" frameborder=\"0\" allow=\"accelerometer; autoplay; clipboard-write; encrypted-media; gyroscope; picture-in-picture\" allowfullscreen></iframe></div>\n\n\n### SVM pada Scikit-Learn\n\nUntuk menggunakan SVM pada scikit-learn, kita perlu mengimpor modulnya terlebih dahulu menggunakan sintaks berikut.\n\n```python\nfrom sklearn.svm import SVC\n```\n\n> Untuk masalah regresi, kita bisa gunakan `SVR`.\n\n\n#### Data Loading\n\nKita akan menggunakan data *breast cancer* yang tersedia dalam scikit-learn melalui.",
   "metadata": {
    "tags": [],
    "cell_id": "00017-1481590a-aa5c-483b-8ca8-978b531fcc20",
    "deepnote_cell_type": "markdown"
   }
  },
  {
   "cell_type": "code",
   "metadata": {
    "tags": [],
    "cell_id": "00016-59676236-e0ac-48ce-b332-95f99211b5e6",
    "deepnote_to_be_reexecuted": false,
    "source_hash": "78cff155",
    "execution_start": 1639381293547,
    "execution_millis": 14,
    "deepnote_cell_type": "code"
   },
   "source": "cancer = load_breast_cancer()",
   "execution_count": null,
   "outputs": []
  },
  {
   "cell_type": "code",
   "metadata": {
    "tags": [],
    "cell_id": "00019-06dc338c-c13a-46de-9e56-6e320ad1a880",
    "deepnote_to_be_reexecuted": false,
    "source_hash": "f3c7e4cb",
    "execution_start": 1639381293569,
    "execution_millis": 23,
    "deepnote_cell_type": "code"
   },
   "source": "print(cancer.DESCR)",
   "execution_count": null,
   "outputs": [
    {
     "name": "stdout",
     "text": ".. _breast_cancer_dataset:\n\nBreast cancer wisconsin (diagnostic) dataset\n--------------------------------------------\n\n**Data Set Characteristics:**\n\n    :Number of Instances: 569\n\n    :Number of Attributes: 30 numeric, predictive attributes and the class\n\n    :Attribute Information:\n        - radius (mean of distances from center to points on the perimeter)\n        - texture (standard deviation of gray-scale values)\n        - perimeter\n        - area\n        - smoothness (local variation in radius lengths)\n        - compactness (perimeter^2 / area - 1.0)\n        - concavity (severity of concave portions of the contour)\n        - concave points (number of concave portions of the contour)\n        - symmetry\n        - fractal dimension (\"coastline approximation\" - 1)\n\n        The mean, standard error, and \"worst\" or largest (mean of the three\n        worst/largest values) of these features were computed for each image,\n        resulting in 30 features.  For instance, field 0 is Mean Radius, field\n        10 is Radius SE, field 20 is Worst Radius.\n\n        - class:\n                - WDBC-Malignant\n                - WDBC-Benign\n\n    :Summary Statistics:\n\n    ===================================== ====== ======\n                                           Min    Max\n    ===================================== ====== ======\n    radius (mean):                        6.981  28.11\n    texture (mean):                       9.71   39.28\n    perimeter (mean):                     43.79  188.5\n    area (mean):                          143.5  2501.0\n    smoothness (mean):                    0.053  0.163\n    compactness (mean):                   0.019  0.345\n    concavity (mean):                     0.0    0.427\n    concave points (mean):                0.0    0.201\n    symmetry (mean):                      0.106  0.304\n    fractal dimension (mean):             0.05   0.097\n    radius (standard error):              0.112  2.873\n    texture (standard error):             0.36   4.885\n    perimeter (standard error):           0.757  21.98\n    area (standard error):                6.802  542.2\n    smoothness (standard error):          0.002  0.031\n    compactness (standard error):         0.002  0.135\n    concavity (standard error):           0.0    0.396\n    concave points (standard error):      0.0    0.053\n    symmetry (standard error):            0.008  0.079\n    fractal dimension (standard error):   0.001  0.03\n    radius (worst):                       7.93   36.04\n    texture (worst):                      12.02  49.54\n    perimeter (worst):                    50.41  251.2\n    area (worst):                         185.2  4254.0\n    smoothness (worst):                   0.071  0.223\n    compactness (worst):                  0.027  1.058\n    concavity (worst):                    0.0    1.252\n    concave points (worst):               0.0    0.291\n    symmetry (worst):                     0.156  0.664\n    fractal dimension (worst):            0.055  0.208\n    ===================================== ====== ======\n\n    :Missing Attribute Values: None\n\n    :Class Distribution: 212 - Malignant, 357 - Benign\n\n    :Creator:  Dr. William H. Wolberg, W. Nick Street, Olvi L. Mangasarian\n\n    :Donor: Nick Street\n\n    :Date: November, 1995\n\nThis is a copy of UCI ML Breast Cancer Wisconsin (Diagnostic) datasets.\nhttps://goo.gl/U2Uwz2\n\nFeatures are computed from a digitized image of a fine needle\naspirate (FNA) of a breast mass.  They describe\ncharacteristics of the cell nuclei present in the image.\n\nSeparating plane described above was obtained using\nMultisurface Method-Tree (MSM-T) [K. P. Bennett, \"Decision Tree\nConstruction Via Linear Programming.\" Proceedings of the 4th\nMidwest Artificial Intelligence and Cognitive Science Society,\npp. 97-101, 1992], a classification method which uses linear\nprogramming to construct a decision tree.  Relevant features\nwere selected using an exhaustive search in the space of 1-4\nfeatures and 1-3 separating planes.\n\nThe actual linear program used to obtain the separating plane\nin the 3-dimensional space is that described in:\n[K. P. Bennett and O. L. Mangasarian: \"Robust Linear\nProgramming Discrimination of Two Linearly Inseparable Sets\",\nOptimization Methods and Software 1, 1992, 23-34].\n\nThis database is also available through the UW CS ftp server:\n\nftp ftp.cs.wisc.edu\ncd math-prog/cpo-dataset/machine-learn/WDBC/\n\n.. topic:: References\n\n   - W.N. Street, W.H. Wolberg and O.L. Mangasarian. Nuclear feature extraction \n     for breast tumor diagnosis. IS&T/SPIE 1993 International Symposium on \n     Electronic Imaging: Science and Technology, volume 1905, pages 861-870,\n     San Jose, CA, 1993.\n   - O.L. Mangasarian, W.N. Street and W.H. Wolberg. Breast cancer diagnosis and \n     prognosis via linear programming. Operations Research, 43(4), pages 570-577, \n     July-August 1995.\n   - W.H. Wolberg, W.N. Street, and O.L. Mangasarian. Machine learning techniques\n     to diagnose breast cancer from fine-needle aspirates. Cancer Letters 77 (1994) \n     163-171.\n",
     "output_type": "stream"
    }
   ]
  },
  {
   "cell_type": "markdown",
   "source": "Dari deskripsi data di atas, kita tahu bahwa:\n* Terdapat 569 data\n* Terdiri dari 30 kolom numerik\n* Terdapat 2 jenis kelas: *malignant* dan *benign*",
   "metadata": {
    "tags": [],
    "cell_id": "00020-f1d5eb7c-cc57-41b8-9f84-52df894a6624",
    "deepnote_cell_type": "markdown"
   }
  },
  {
   "cell_type": "code",
   "metadata": {
    "tags": [],
    "cell_id": "00020-ebba92b9-772e-43a9-ba63-ddf9c89d424c",
    "deepnote_to_be_reexecuted": false,
    "source_hash": "21e144f6",
    "execution_start": 1639381293571,
    "execution_millis": 3,
    "deepnote_cell_type": "code"
   },
   "source": "X = pd.DataFrame(cancer.data, columns=cancer.feature_names)\ny = pd.DataFrame(cancer.target, columns=[\"class\"])",
   "execution_count": null,
   "outputs": []
  },
  {
   "cell_type": "code",
   "metadata": {
    "tags": [],
    "cell_id": "00022-5ad87b10-5d28-47f6-ac6a-b479e2fc70f2",
    "deepnote_to_be_reexecuted": false,
    "source_hash": "91c01c58",
    "execution_start": 1639381293575,
    "execution_millis": 92,
    "deepnote_cell_type": "code"
   },
   "source": "X.head()",
   "execution_count": null,
   "outputs": [
    {
     "output_type": "execute_result",
     "execution_count": 14,
     "data": {
      "application/vnd.deepnote.dataframe.v2+json": {
       "row_count": 5,
       "column_count": 30,
       "columns": [
        {
         "name": "mean radius",
         "dtype": "float64",
         "stats": {
          "unique_count": 5,
          "nan_count": 0,
          "min": "11.42",
          "max": "20.57",
          "histogram": [
           {
            "bin_start": 11.42,
            "bin_end": 12.335,
            "count": 1
           },
           {
            "bin_start": 12.335,
            "bin_end": 13.25,
            "count": 0
           },
           {
            "bin_start": 13.25,
            "bin_end": 14.165,
            "count": 0
           },
           {
            "bin_start": 14.165,
            "bin_end": 15.08,
            "count": 0
           },
           {
            "bin_start": 15.08,
            "bin_end": 15.995000000000001,
            "count": 0
           },
           {
            "bin_start": 15.995000000000001,
            "bin_end": 16.91,
            "count": 0
           },
           {
            "bin_start": 16.91,
            "bin_end": 17.825,
            "count": 0
           },
           {
            "bin_start": 17.825,
            "bin_end": 18.740000000000002,
            "count": 1
           },
           {
            "bin_start": 18.740000000000002,
            "bin_end": 19.655,
            "count": 0
           },
           {
            "bin_start": 19.655,
            "bin_end": 20.57,
            "count": 3
           }
          ]
         }
        },
        {
         "name": "mean texture",
         "dtype": "float64",
         "stats": {
          "unique_count": 5,
          "nan_count": 0,
          "min": "10.38",
          "max": "21.25",
          "histogram": [
           {
            "bin_start": 10.38,
            "bin_end": 11.467,
            "count": 1
           },
           {
            "bin_start": 11.467,
            "bin_end": 12.554,
            "count": 0
           },
           {
            "bin_start": 12.554,
            "bin_end": 13.641000000000002,
            "count": 0
           },
           {
            "bin_start": 13.641000000000002,
            "bin_end": 14.728000000000002,
            "count": 1
           },
           {
            "bin_start": 14.728000000000002,
            "bin_end": 15.815000000000001,
            "count": 0
           },
           {
            "bin_start": 15.815000000000001,
            "bin_end": 16.902,
            "count": 0
           },
           {
            "bin_start": 16.902,
            "bin_end": 17.989,
            "count": 1
           },
           {
            "bin_start": 17.989,
            "bin_end": 19.076,
            "count": 0
           },
           {
            "bin_start": 19.076,
            "bin_end": 20.163,
            "count": 0
           },
           {
            "bin_start": 20.163,
            "bin_end": 21.25,
            "count": 2
           }
          ]
         }
        },
        {
         "name": "mean perimeter",
         "dtype": "float64",
         "stats": {
          "unique_count": 5,
          "nan_count": 0,
          "min": "77.58",
          "max": "135.1",
          "histogram": [
           {
            "bin_start": 77.58,
            "bin_end": 83.332,
            "count": 1
           },
           {
            "bin_start": 83.332,
            "bin_end": 89.084,
            "count": 0
           },
           {
            "bin_start": 89.084,
            "bin_end": 94.836,
            "count": 0
           },
           {
            "bin_start": 94.836,
            "bin_end": 100.588,
            "count": 0
           },
           {
            "bin_start": 100.588,
            "bin_end": 106.34,
            "count": 0
           },
           {
            "bin_start": 106.34,
            "bin_end": 112.092,
            "count": 0
           },
           {
            "bin_start": 112.092,
            "bin_end": 117.844,
            "count": 0
           },
           {
            "bin_start": 117.844,
            "bin_end": 123.596,
            "count": 1
           },
           {
            "bin_start": 123.596,
            "bin_end": 129.348,
            "count": 0
           },
           {
            "bin_start": 129.348,
            "bin_end": 135.1,
            "count": 3
           }
          ]
         }
        },
        {
         "name": "mean area",
         "dtype": "float64",
         "stats": {
          "unique_count": 5,
          "nan_count": 0,
          "min": "386.1",
          "max": "1326.0",
          "histogram": [
           {
            "bin_start": 386.1,
            "bin_end": 480.09000000000003,
            "count": 1
           },
           {
            "bin_start": 480.09000000000003,
            "bin_end": 574.08,
            "count": 0
           },
           {
            "bin_start": 574.08,
            "bin_end": 668.0699999999999,
            "count": 0
           },
           {
            "bin_start": 668.0699999999999,
            "bin_end": 762.06,
            "count": 0
           },
           {
            "bin_start": 762.06,
            "bin_end": 856.05,
            "count": 0
           },
           {
            "bin_start": 856.05,
            "bin_end": 950.04,
            "count": 0
           },
           {
            "bin_start": 950.04,
            "bin_end": 1044.03,
            "count": 1
           },
           {
            "bin_start": 1044.03,
            "bin_end": 1138.02,
            "count": 0
           },
           {
            "bin_start": 1138.02,
            "bin_end": 1232.01,
            "count": 1
           },
           {
            "bin_start": 1232.01,
            "bin_end": 1326,
            "count": 2
           }
          ]
         }
        },
        {
         "name": "mean smoothness",
         "dtype": "float64",
         "stats": {
          "unique_count": 5,
          "nan_count": 0,
          "min": "0.08474",
          "max": "0.1425",
          "histogram": [
           {
            "bin_start": 0.08474,
            "bin_end": 0.090516,
            "count": 1
           },
           {
            "bin_start": 0.090516,
            "bin_end": 0.09629199999999999,
            "count": 0
           },
           {
            "bin_start": 0.09629199999999999,
            "bin_end": 0.10206799999999999,
            "count": 1
           },
           {
            "bin_start": 0.10206799999999999,
            "bin_end": 0.107844,
            "count": 0
           },
           {
            "bin_start": 0.107844,
            "bin_end": 0.11362,
            "count": 1
           },
           {
            "bin_start": 0.11362,
            "bin_end": 0.11939599999999999,
            "count": 1
           },
           {
            "bin_start": 0.11939599999999999,
            "bin_end": 0.125172,
            "count": 0
           },
           {
            "bin_start": 0.125172,
            "bin_end": 0.13094799999999998,
            "count": 0
           },
           {
            "bin_start": 0.13094799999999998,
            "bin_end": 0.13672399999999998,
            "count": 0
           },
           {
            "bin_start": 0.13672399999999998,
            "bin_end": 0.1425,
            "count": 1
           }
          ]
         }
        },
        {
         "name": "mean compactness",
         "dtype": "float64",
         "stats": {
          "unique_count": 5,
          "nan_count": 0,
          "min": "0.07864",
          "max": "0.2839",
          "histogram": [
           {
            "bin_start": 0.07864,
            "bin_end": 0.099166,
            "count": 1
           },
           {
            "bin_start": 0.099166,
            "bin_end": 0.11969199999999999,
            "count": 0
           },
           {
            "bin_start": 0.11969199999999999,
            "bin_end": 0.140218,
            "count": 1
           },
           {
            "bin_start": 0.140218,
            "bin_end": 0.160744,
            "count": 1
           },
           {
            "bin_start": 0.160744,
            "bin_end": 0.18127,
            "count": 0
           },
           {
            "bin_start": 0.18127,
            "bin_end": 0.20179599999999998,
            "count": 0
           },
           {
            "bin_start": 0.20179599999999998,
            "bin_end": 0.22232200000000002,
            "count": 0
           },
           {
            "bin_start": 0.22232200000000002,
            "bin_end": 0.242848,
            "count": 0
           },
           {
            "bin_start": 0.242848,
            "bin_end": 0.263374,
            "count": 0
           },
           {
            "bin_start": 0.263374,
            "bin_end": 0.2839,
            "count": 2
           }
          ]
         }
        },
        {
         "name": "mean concavity",
         "dtype": "float64",
         "stats": {
          "unique_count": 5,
          "nan_count": 0,
          "min": "0.0869",
          "max": "0.3001",
          "histogram": [
           {
            "bin_start": 0.0869,
            "bin_end": 0.10822000000000001,
            "count": 1
           },
           {
            "bin_start": 0.10822000000000001,
            "bin_end": 0.12954,
            "count": 0
           },
           {
            "bin_start": 0.12954,
            "bin_end": 0.15086,
            "count": 0
           },
           {
            "bin_start": 0.15086,
            "bin_end": 0.17218,
            "count": 0
           },
           {
            "bin_start": 0.17218,
            "bin_end": 0.1935,
            "count": 0
           },
           {
            "bin_start": 0.1935,
            "bin_end": 0.21481999999999998,
            "count": 2
           },
           {
            "bin_start": 0.21481999999999998,
            "bin_end": 0.23614,
            "count": 0
           },
           {
            "bin_start": 0.23614,
            "bin_end": 0.25746,
            "count": 1
           },
           {
            "bin_start": 0.25746,
            "bin_end": 0.27878000000000003,
            "count": 0
           },
           {
            "bin_start": 0.27878000000000003,
            "bin_end": 0.3001,
            "count": 1
           }
          ]
         }
        },
        {
         "name": "mean concave points",
         "dtype": "float64",
         "stats": {
          "unique_count": 5,
          "nan_count": 0,
          "min": "0.07017",
          "max": "0.1471",
          "histogram": [
           {
            "bin_start": 0.07017,
            "bin_end": 0.077863,
            "count": 1
           },
           {
            "bin_start": 0.077863,
            "bin_end": 0.085556,
            "count": 0
           },
           {
            "bin_start": 0.085556,
            "bin_end": 0.093249,
            "count": 0
           },
           {
            "bin_start": 0.093249,
            "bin_end": 0.100942,
            "count": 0
           },
           {
            "bin_start": 0.100942,
            "bin_end": 0.10863500000000001,
            "count": 2
           },
           {
            "bin_start": 0.10863500000000001,
            "bin_end": 0.116328,
            "count": 0
           },
           {
            "bin_start": 0.116328,
            "bin_end": 0.124021,
            "count": 0
           },
           {
            "bin_start": 0.124021,
            "bin_end": 0.131714,
            "count": 1
           },
           {
            "bin_start": 0.131714,
            "bin_end": 0.139407,
            "count": 0
           },
           {
            "bin_start": 0.139407,
            "bin_end": 0.1471,
            "count": 1
           }
          ]
         }
        },
        {
         "name": "mean symmetry",
         "dtype": "float64",
         "stats": {
          "unique_count": 5,
          "nan_count": 0,
          "min": "0.1809",
          "max": "0.2597",
          "histogram": [
           {
            "bin_start": 0.1809,
            "bin_end": 0.18878,
            "count": 2
           },
           {
            "bin_start": 0.18878,
            "bin_end": 0.19666,
            "count": 0
           },
           {
            "bin_start": 0.19666,
            "bin_end": 0.20454,
            "count": 0
           },
           {
            "bin_start": 0.20454,
            "bin_end": 0.21242,
            "count": 1
           },
           {
            "bin_start": 0.21242,
            "bin_end": 0.2203,
            "count": 0
           },
           {
            "bin_start": 0.2203,
            "bin_end": 0.22818,
            "count": 0
           },
           {
            "bin_start": 0.22818,
            "bin_end": 0.23606,
            "count": 0
           },
           {
            "bin_start": 0.23606,
            "bin_end": 0.24394,
            "count": 1
           },
           {
            "bin_start": 0.24394,
            "bin_end": 0.25182,
            "count": 0
           },
           {
            "bin_start": 0.25182,
            "bin_end": 0.2597,
            "count": 1
           }
          ]
         }
        },
        {
         "name": "mean fractal dimension",
         "dtype": "float64",
         "stats": {
          "unique_count": 5,
          "nan_count": 0,
          "min": "0.05667",
          "max": "0.09744",
          "histogram": [
           {
            "bin_start": 0.05667,
            "bin_end": 0.060746999999999995,
            "count": 3
           },
           {
            "bin_start": 0.060746999999999995,
            "bin_end": 0.06482399999999999,
            "count": 0
           },
           {
            "bin_start": 0.06482399999999999,
            "bin_end": 0.06890099999999999,
            "count": 0
           },
           {
            "bin_start": 0.06890099999999999,
            "bin_end": 0.072978,
            "count": 0
           },
           {
            "bin_start": 0.072978,
            "bin_end": 0.077055,
            "count": 0
           },
           {
            "bin_start": 0.077055,
            "bin_end": 0.081132,
            "count": 1
           },
           {
            "bin_start": 0.081132,
            "bin_end": 0.085209,
            "count": 0
           },
           {
            "bin_start": 0.085209,
            "bin_end": 0.089286,
            "count": 0
           },
           {
            "bin_start": 0.089286,
            "bin_end": 0.093363,
            "count": 0
           },
           {
            "bin_start": 0.093363,
            "bin_end": 0.09744,
            "count": 1
           }
          ]
         }
        },
        {
         "name": "radius error",
         "dtype": "float64",
         "stats": {
          "unique_count": 5,
          "nan_count": 0,
          "min": "0.4956",
          "max": "1.095",
          "histogram": [
           {
            "bin_start": 0.4956,
            "bin_end": 0.5555399999999999,
            "count": 2
           },
           {
            "bin_start": 0.5555399999999999,
            "bin_end": 0.61548,
            "count": 0
           },
           {
            "bin_start": 0.61548,
            "bin_end": 0.6754199999999999,
            "count": 0
           },
           {
            "bin_start": 0.6754199999999999,
            "bin_end": 0.73536,
            "count": 0
           },
           {
            "bin_start": 0.73536,
            "bin_end": 0.7952999999999999,
            "count": 2
           },
           {
            "bin_start": 0.7952999999999999,
            "bin_end": 0.85524,
            "count": 0
           },
           {
            "bin_start": 0.85524,
            "bin_end": 0.9151799999999999,
            "count": 0
           },
           {
            "bin_start": 0.9151799999999999,
            "bin_end": 0.97512,
            "count": 0
           },
           {
            "bin_start": 0.97512,
            "bin_end": 1.0350599999999999,
            "count": 0
           },
           {
            "bin_start": 1.0350599999999999,
            "bin_end": 1.095,
            "count": 1
           }
          ]
         }
        },
        {
         "name": "texture error",
         "dtype": "float64",
         "stats": {
          "unique_count": 5,
          "nan_count": 0,
          "min": "0.7339",
          "max": "1.156",
          "histogram": [
           {
            "bin_start": 0.7339,
            "bin_end": 0.77611,
            "count": 1
           },
           {
            "bin_start": 0.77611,
            "bin_end": 0.8183199999999999,
            "count": 2
           },
           {
            "bin_start": 0.8183199999999999,
            "bin_end": 0.86053,
            "count": 0
           },
           {
            "bin_start": 0.86053,
            "bin_end": 0.90274,
            "count": 0
           },
           {
            "bin_start": 0.90274,
            "bin_end": 0.94495,
            "count": 1
           },
           {
            "bin_start": 0.94495,
            "bin_end": 0.9871599999999999,
            "count": 0
           },
           {
            "bin_start": 0.9871599999999999,
            "bin_end": 1.02937,
            "count": 0
           },
           {
            "bin_start": 1.02937,
            "bin_end": 1.07158,
            "count": 0
           },
           {
            "bin_start": 1.07158,
            "bin_end": 1.1137899999999998,
            "count": 0
           },
           {
            "bin_start": 1.1137899999999998,
            "bin_end": 1.156,
            "count": 1
           }
          ]
         }
        },
        {
         "name": "perimeter error",
         "dtype": "float64",
         "stats": {
          "unique_count": 5,
          "nan_count": 0,
          "min": "3.398",
          "max": "8.589",
          "histogram": [
           {
            "bin_start": 3.398,
            "bin_end": 3.9171000000000005,
            "count": 2
           },
           {
            "bin_start": 3.9171000000000005,
            "bin_end": 4.4362,
            "count": 0
           },
           {
            "bin_start": 4.4362,
            "bin_end": 4.9553,
            "count": 1
           },
           {
            "bin_start": 4.9553,
            "bin_end": 5.474400000000001,
            "count": 1
           },
           {
            "bin_start": 5.474400000000001,
            "bin_end": 5.993500000000001,
            "count": 0
           },
           {
            "bin_start": 5.993500000000001,
            "bin_end": 6.512600000000001,
            "count": 0
           },
           {
            "bin_start": 6.512600000000001,
            "bin_end": 7.031700000000001,
            "count": 0
           },
           {
            "bin_start": 7.031700000000001,
            "bin_end": 7.550800000000001,
            "count": 0
           },
           {
            "bin_start": 7.550800000000001,
            "bin_end": 8.0699,
            "count": 0
           },
           {
            "bin_start": 8.0699,
            "bin_end": 8.589,
            "count": 1
           }
          ]
         }
        },
        {
         "name": "area error",
         "dtype": "float64",
         "stats": {
          "unique_count": 5,
          "nan_count": 0,
          "min": "27.23",
          "max": "153.4",
          "histogram": [
           {
            "bin_start": 27.23,
            "bin_end": 39.847,
            "count": 1
           },
           {
            "bin_start": 39.847,
            "bin_end": 52.464,
            "count": 0
           },
           {
            "bin_start": 52.464,
            "bin_end": 65.081,
            "count": 0
           },
           {
            "bin_start": 65.081,
            "bin_end": 77.69800000000001,
            "count": 1
           },
           {
            "bin_start": 77.69800000000001,
            "bin_end": 90.31500000000001,
            "count": 0
           },
           {
            "bin_start": 90.31500000000001,
            "bin_end": 102.932,
            "count": 2
           },
           {
            "bin_start": 102.932,
            "bin_end": 115.549,
            "count": 0
           },
           {
            "bin_start": 115.549,
            "bin_end": 128.166,
            "count": 0
           },
           {
            "bin_start": 128.166,
            "bin_end": 140.78300000000002,
            "count": 0
           },
           {
            "bin_start": 140.78300000000002,
            "bin_end": 153.4,
            "count": 1
           }
          ]
         }
        },
        {
         "name": "smoothness error",
         "dtype": "float64",
         "stats": {
          "unique_count": 5,
          "nan_count": 0,
          "min": "0.005225",
          "max": "0.01149",
          "histogram": [
           {
            "bin_start": 0.005225,
            "bin_end": 0.0058515,
            "count": 1
           },
           {
            "bin_start": 0.0058515,
            "bin_end": 0.006477999999999999,
            "count": 2
           },
           {
            "bin_start": 0.006477999999999999,
            "bin_end": 0.0071045,
            "count": 0
           },
           {
            "bin_start": 0.0071045,
            "bin_end": 0.007731,
            "count": 0
           },
           {
            "bin_start": 0.007731,
            "bin_end": 0.0083575,
            "count": 0
           },
           {
            "bin_start": 0.0083575,
            "bin_end": 0.008984,
            "count": 0
           },
           {
            "bin_start": 0.008984,
            "bin_end": 0.009610500000000001,
            "count": 1
           },
           {
            "bin_start": 0.009610500000000001,
            "bin_end": 0.010237,
            "count": 0
           },
           {
            "bin_start": 0.010237,
            "bin_end": 0.010863500000000002,
            "count": 0
           },
           {
            "bin_start": 0.010863500000000002,
            "bin_end": 0.01149,
            "count": 1
           }
          ]
         }
        },
        {
         "name": "compactness error",
         "dtype": "float64",
         "stats": {
          "unique_count": 5,
          "nan_count": 0,
          "min": "0.01308",
          "max": "0.07458",
          "histogram": [
           {
            "bin_start": 0.01308,
            "bin_end": 0.019229999999999997,
            "count": 1
           },
           {
            "bin_start": 0.019229999999999997,
            "bin_end": 0.02538,
            "count": 1
           },
           {
            "bin_start": 0.02538,
            "bin_end": 0.031529999999999996,
            "count": 0
           },
           {
            "bin_start": 0.031529999999999996,
            "bin_end": 0.03768,
            "count": 0
           },
           {
            "bin_start": 0.03768,
            "bin_end": 0.043829999999999994,
            "count": 1
           },
           {
            "bin_start": 0.043829999999999994,
            "bin_end": 0.04998,
            "count": 1
           },
           {
            "bin_start": 0.04998,
            "bin_end": 0.05612999999999999,
            "count": 0
           },
           {
            "bin_start": 0.05612999999999999,
            "bin_end": 0.062279999999999995,
            "count": 0
           },
           {
            "bin_start": 0.062279999999999995,
            "bin_end": 0.06842999999999999,
            "count": 0
           },
           {
            "bin_start": 0.06842999999999999,
            "bin_end": 0.07458,
            "count": 1
           }
          ]
         }
        },
        {
         "name": "concavity error",
         "dtype": "float64",
         "stats": {
          "unique_count": 5,
          "nan_count": 0,
          "min": "0.0186",
          "max": "0.05688",
          "histogram": [
           {
            "bin_start": 0.0186,
            "bin_end": 0.022428,
            "count": 1
           },
           {
            "bin_start": 0.022428,
            "bin_end": 0.026255999999999998,
            "count": 0
           },
           {
            "bin_start": 0.026255999999999998,
            "bin_end": 0.030084,
            "count": 0
           },
           {
            "bin_start": 0.030084,
            "bin_end": 0.033912,
            "count": 0
           },
           {
            "bin_start": 0.033912,
            "bin_end": 0.037739999999999996,
            "count": 0
           },
           {
            "bin_start": 0.037739999999999996,
            "bin_end": 0.041568,
            "count": 1
           },
           {
            "bin_start": 0.041568,
            "bin_end": 0.045396,
            "count": 0
           },
           {
            "bin_start": 0.045396,
            "bin_end": 0.049224000000000004,
            "count": 0
           },
           {
            "bin_start": 0.049224000000000004,
            "bin_end": 0.053052,
            "count": 0
           },
           {
            "bin_start": 0.053052,
            "bin_end": 0.05688,
            "count": 3
           }
          ]
         }
        },
        {
         "name": "concave points error",
         "dtype": "float64",
         "stats": {
          "unique_count": 5,
          "nan_count": 0,
          "min": "0.0134",
          "max": "0.02058",
          "histogram": [
           {
            "bin_start": 0.0134,
            "bin_end": 0.014118,
            "count": 1
           },
           {
            "bin_start": 0.014118,
            "bin_end": 0.014836,
            "count": 0
           },
           {
            "bin_start": 0.014836,
            "bin_end": 0.015554000000000002,
            "count": 0
           },
           {
            "bin_start": 0.015554000000000002,
            "bin_end": 0.016272000000000002,
            "count": 1
           },
           {
            "bin_start": 0.016272000000000002,
            "bin_end": 0.01699,
            "count": 0
           },
           {
            "bin_start": 0.01699,
            "bin_end": 0.017708,
            "count": 0
           },
           {
            "bin_start": 0.017708,
            "bin_end": 0.018426,
            "count": 0
           },
           {
            "bin_start": 0.018426,
            "bin_end": 0.019144,
            "count": 2
           },
           {
            "bin_start": 0.019144,
            "bin_end": 0.019862,
            "count": 0
           },
           {
            "bin_start": 0.019862,
            "bin_end": 0.02058,
            "count": 1
           }
          ]
         }
        },
        {
         "name": "symmetry error",
         "dtype": "float64",
         "stats": {
          "unique_count": 5,
          "nan_count": 0,
          "min": "0.01389",
          "max": "0.05963",
          "histogram": [
           {
            "bin_start": 0.01389,
            "bin_end": 0.018464,
            "count": 2
           },
           {
            "bin_start": 0.018464,
            "bin_end": 0.023038,
            "count": 1
           },
           {
            "bin_start": 0.023038,
            "bin_end": 0.027611999999999998,
            "count": 0
           },
           {
            "bin_start": 0.027611999999999998,
            "bin_end": 0.032186,
            "count": 1
           },
           {
            "bin_start": 0.032186,
            "bin_end": 0.03676,
            "count": 0
           },
           {
            "bin_start": 0.03676,
            "bin_end": 0.041333999999999996,
            "count": 0
           },
           {
            "bin_start": 0.041333999999999996,
            "bin_end": 0.045908,
            "count": 0
           },
           {
            "bin_start": 0.045908,
            "bin_end": 0.050482,
            "count": 0
           },
           {
            "bin_start": 0.050482,
            "bin_end": 0.055056,
            "count": 0
           },
           {
            "bin_start": 0.055056,
            "bin_end": 0.05963,
            "count": 1
           }
          ]
         }
        },
        {
         "name": "fractal dimension error",
         "dtype": "float64",
         "stats": {
          "unique_count": 5,
          "nan_count": 0,
          "min": "0.003532",
          "max": "0.009208",
          "histogram": [
           {
            "bin_start": 0.003532,
            "bin_end": 0.0040996,
            "count": 1
           },
           {
            "bin_start": 0.0040996,
            "bin_end": 0.0046672,
            "count": 1
           },
           {
            "bin_start": 0.0046672,
            "bin_end": 0.0052347999999999995,
            "count": 1
           },
           {
            "bin_start": 0.0052347999999999995,
            "bin_end": 0.005802399999999999,
            "count": 0
           },
           {
            "bin_start": 0.005802399999999999,
            "bin_end": 0.006369999999999999,
            "count": 1
           },
           {
            "bin_start": 0.006369999999999999,
            "bin_end": 0.0069375999999999995,
            "count": 0
           },
           {
            "bin_start": 0.0069375999999999995,
            "bin_end": 0.0075052,
            "count": 0
           },
           {
            "bin_start": 0.0075052,
            "bin_end": 0.0080728,
            "count": 0
           },
           {
            "bin_start": 0.0080728,
            "bin_end": 0.0086404,
            "count": 0
           },
           {
            "bin_start": 0.0086404,
            "bin_end": 0.009208,
            "count": 1
           }
          ]
         }
        },
        {
         "name": "worst radius",
         "dtype": "float64",
         "stats": {
          "unique_count": 5,
          "nan_count": 0,
          "min": "14.91",
          "max": "25.38",
          "histogram": [
           {
            "bin_start": 14.91,
            "bin_end": 15.957,
            "count": 1
           },
           {
            "bin_start": 15.957,
            "bin_end": 17.004,
            "count": 0
           },
           {
            "bin_start": 17.004,
            "bin_end": 18.051000000000002,
            "count": 0
           },
           {
            "bin_start": 18.051000000000002,
            "bin_end": 19.098,
            "count": 0
           },
           {
            "bin_start": 19.098,
            "bin_end": 20.145,
            "count": 0
           },
           {
            "bin_start": 20.145,
            "bin_end": 21.192,
            "count": 0
           },
           {
            "bin_start": 21.192,
            "bin_end": 22.239,
            "count": 0
           },
           {
            "bin_start": 22.239,
            "bin_end": 23.286,
            "count": 1
           },
           {
            "bin_start": 23.286,
            "bin_end": 24.333,
            "count": 1
           },
           {
            "bin_start": 24.333,
            "bin_end": 25.38,
            "count": 2
           }
          ]
         }
        },
        {
         "name": "worst texture",
         "dtype": "float64",
         "stats": {
          "unique_count": 5,
          "nan_count": 0,
          "min": "16.67",
          "max": "26.5",
          "histogram": [
           {
            "bin_start": 16.67,
            "bin_end": 17.653000000000002,
            "count": 2
           },
           {
            "bin_start": 17.653000000000002,
            "bin_end": 18.636000000000003,
            "count": 0
           },
           {
            "bin_start": 18.636000000000003,
            "bin_end": 19.619,
            "count": 0
           },
           {
            "bin_start": 19.619,
            "bin_end": 20.602,
            "count": 0
           },
           {
            "bin_start": 20.602,
            "bin_end": 21.585,
            "count": 0
           },
           {
            "bin_start": 21.585,
            "bin_end": 22.568,
            "count": 0
           },
           {
            "bin_start": 22.568,
            "bin_end": 23.551000000000002,
            "count": 1
           },
           {
            "bin_start": 23.551000000000002,
            "bin_end": 24.534,
            "count": 0
           },
           {
            "bin_start": 24.534,
            "bin_end": 25.517000000000003,
            "count": 0
           },
           {
            "bin_start": 25.517000000000003,
            "bin_end": 26.5,
            "count": 2
           }
          ]
         }
        },
        {
         "name": "worst perimeter",
         "dtype": "float64",
         "stats": {
          "unique_count": 5,
          "nan_count": 0,
          "min": "98.87",
          "max": "184.6",
          "histogram": [
           {
            "bin_start": 98.87,
            "bin_end": 107.443,
            "count": 1
           },
           {
            "bin_start": 107.443,
            "bin_end": 116.016,
            "count": 0
           },
           {
            "bin_start": 116.016,
            "bin_end": 124.589,
            "count": 0
           },
           {
            "bin_start": 124.589,
            "bin_end": 133.162,
            "count": 0
           },
           {
            "bin_start": 133.162,
            "bin_end": 141.735,
            "count": 0
           },
           {
            "bin_start": 141.735,
            "bin_end": 150.308,
            "count": 0
           },
           {
            "bin_start": 150.308,
            "bin_end": 158.881,
            "count": 3
           },
           {
            "bin_start": 158.881,
            "bin_end": 167.454,
            "count": 0
           },
           {
            "bin_start": 167.454,
            "bin_end": 176.027,
            "count": 0
           },
           {
            "bin_start": 176.027,
            "bin_end": 184.6,
            "count": 1
           }
          ]
         }
        },
        {
         "name": "worst area",
         "dtype": "float64",
         "stats": {
          "unique_count": 5,
          "nan_count": 0,
          "min": "567.7",
          "max": "2019.0",
          "histogram": [
           {
            "bin_start": 567.7,
            "bin_end": 712.83,
            "count": 1
           },
           {
            "bin_start": 712.83,
            "bin_end": 857.96,
            "count": 0
           },
           {
            "bin_start": 857.96,
            "bin_end": 1003.09,
            "count": 0
           },
           {
            "bin_start": 1003.09,
            "bin_end": 1148.22,
            "count": 0
           },
           {
            "bin_start": 1148.22,
            "bin_end": 1293.35,
            "count": 0
           },
           {
            "bin_start": 1293.35,
            "bin_end": 1438.48,
            "count": 0
           },
           {
            "bin_start": 1438.48,
            "bin_end": 1583.6100000000001,
            "count": 1
           },
           {
            "bin_start": 1583.6100000000001,
            "bin_end": 1728.74,
            "count": 1
           },
           {
            "bin_start": 1728.74,
            "bin_end": 1873.8700000000001,
            "count": 0
           },
           {
            "bin_start": 1873.8700000000001,
            "bin_end": 2019,
            "count": 2
           }
          ]
         }
        },
        {
         "name": "worst smoothness",
         "dtype": "float64",
         "stats": {
          "unique_count": 5,
          "nan_count": 0,
          "min": "0.1238",
          "max": "0.2098",
          "histogram": [
           {
            "bin_start": 0.1238,
            "bin_end": 0.1324,
            "count": 1
           },
           {
            "bin_start": 0.1324,
            "bin_end": 0.141,
            "count": 1
           },
           {
            "bin_start": 0.141,
            "bin_end": 0.14959999999999998,
            "count": 1
           },
           {
            "bin_start": 0.14959999999999998,
            "bin_end": 0.1582,
            "count": 0
           },
           {
            "bin_start": 0.1582,
            "bin_end": 0.1668,
            "count": 1
           },
           {
            "bin_start": 0.1668,
            "bin_end": 0.1754,
            "count": 0
           },
           {
            "bin_start": 0.1754,
            "bin_end": 0.184,
            "count": 0
           },
           {
            "bin_start": 0.184,
            "bin_end": 0.1926,
            "count": 0
           },
           {
            "bin_start": 0.1926,
            "bin_end": 0.2012,
            "count": 0
           },
           {
            "bin_start": 0.2012,
            "bin_end": 0.2098,
            "count": 1
           }
          ]
         }
        },
        {
         "name": "worst compactness",
         "dtype": "float64",
         "stats": {
          "unique_count": 5,
          "nan_count": 0,
          "min": "0.1866",
          "max": "0.8663",
          "histogram": [
           {
            "bin_start": 0.1866,
            "bin_end": 0.25456999999999996,
            "count": 2
           },
           {
            "bin_start": 0.25456999999999996,
            "bin_end": 0.32254,
            "count": 0
           },
           {
            "bin_start": 0.32254,
            "bin_end": 0.39051,
            "count": 0
           },
           {
            "bin_start": 0.39051,
            "bin_end": 0.45848,
            "count": 1
           },
           {
            "bin_start": 0.45848,
            "bin_end": 0.52645,
            "count": 0
           },
           {
            "bin_start": 0.52645,
            "bin_end": 0.59442,
            "count": 0
           },
           {
            "bin_start": 0.59442,
            "bin_end": 0.66239,
            "count": 0
           },
           {
            "bin_start": 0.66239,
            "bin_end": 0.73036,
            "count": 1
           },
           {
            "bin_start": 0.73036,
            "bin_end": 0.79833,
            "count": 0
           },
           {
            "bin_start": 0.79833,
            "bin_end": 0.8663,
            "count": 1
           }
          ]
         }
        },
        {
         "name": "worst concavity",
         "dtype": "float64",
         "stats": {
          "unique_count": 5,
          "nan_count": 0,
          "min": "0.2416",
          "max": "0.7119",
          "histogram": [
           {
            "bin_start": 0.2416,
            "bin_end": 0.28863,
            "count": 1
           },
           {
            "bin_start": 0.28863,
            "bin_end": 0.33566,
            "count": 0
           },
           {
            "bin_start": 0.33566,
            "bin_end": 0.38269,
            "count": 0
           },
           {
            "bin_start": 0.38269,
            "bin_end": 0.42972,
            "count": 1
           },
           {
            "bin_start": 0.42972,
            "bin_end": 0.47675,
            "count": 1
           },
           {
            "bin_start": 0.47675,
            "bin_end": 0.52378,
            "count": 0
           },
           {
            "bin_start": 0.52378,
            "bin_end": 0.5708099999999999,
            "count": 0
           },
           {
            "bin_start": 0.5708099999999999,
            "bin_end": 0.61784,
            "count": 0
           },
           {
            "bin_start": 0.61784,
            "bin_end": 0.66487,
            "count": 0
           },
           {
            "bin_start": 0.66487,
            "bin_end": 0.7119,
            "count": 2
           }
          ]
         }
        },
        {
         "name": "worst concave points",
         "dtype": "float64",
         "stats": {
          "unique_count": 5,
          "nan_count": 0,
          "min": "0.1625",
          "max": "0.2654",
          "histogram": [
           {
            "bin_start": 0.1625,
            "bin_end": 0.17279,
            "count": 1
           },
           {
            "bin_start": 0.17279,
            "bin_end": 0.18308000000000002,
            "count": 0
           },
           {
            "bin_start": 0.18308000000000002,
            "bin_end": 0.19337000000000001,
            "count": 1
           },
           {
            "bin_start": 0.19337000000000001,
            "bin_end": 0.20366,
            "count": 0
           },
           {
            "bin_start": 0.20366,
            "bin_end": 0.21395000000000003,
            "count": 0
           },
           {
            "bin_start": 0.21395000000000003,
            "bin_end": 0.22424000000000002,
            "count": 0
           },
           {
            "bin_start": 0.22424000000000002,
            "bin_end": 0.23453000000000002,
            "count": 0
           },
           {
            "bin_start": 0.23453000000000002,
            "bin_end": 0.24482000000000004,
            "count": 1
           },
           {
            "bin_start": 0.24482000000000004,
            "bin_end": 0.25511000000000006,
            "count": 0
           },
           {
            "bin_start": 0.25511000000000006,
            "bin_end": 0.2654,
            "count": 2
           }
          ]
         }
        },
        {
         "name": "worst symmetry",
         "dtype": "float64",
         "stats": {
          "unique_count": 5,
          "nan_count": 0,
          "min": "0.2364",
          "max": "0.6638",
          "histogram": [
           {
            "bin_start": 0.2364,
            "bin_end": 0.27914,
            "count": 2
           },
           {
            "bin_start": 0.27914,
            "bin_end": 0.32188,
            "count": 0
           },
           {
            "bin_start": 0.32188,
            "bin_end": 0.36461999999999994,
            "count": 1
           },
           {
            "bin_start": 0.36461999999999994,
            "bin_end": 0.40735999999999994,
            "count": 0
           },
           {
            "bin_start": 0.40735999999999994,
            "bin_end": 0.45009999999999994,
            "count": 0
           },
           {
            "bin_start": 0.45009999999999994,
            "bin_end": 0.49283999999999994,
            "count": 1
           },
           {
            "bin_start": 0.49283999999999994,
            "bin_end": 0.53558,
            "count": 0
           },
           {
            "bin_start": 0.53558,
            "bin_end": 0.57832,
            "count": 0
           },
           {
            "bin_start": 0.57832,
            "bin_end": 0.62106,
            "count": 0
           },
           {
            "bin_start": 0.62106,
            "bin_end": 0.6638,
            "count": 1
           }
          ]
         }
        },
        {
         "name": "worst fractal dimension",
         "dtype": "float64",
         "stats": {
          "unique_count": 5,
          "nan_count": 0,
          "min": "0.07678",
          "max": "0.173",
          "histogram": [
           {
            "bin_start": 0.07678,
            "bin_end": 0.086402,
            "count": 1
           },
           {
            "bin_start": 0.086402,
            "bin_end": 0.096024,
            "count": 2
           },
           {
            "bin_start": 0.096024,
            "bin_end": 0.10564599999999999,
            "count": 0
           },
           {
            "bin_start": 0.10564599999999999,
            "bin_end": 0.115268,
            "count": 0
           },
           {
            "bin_start": 0.115268,
            "bin_end": 0.12489,
            "count": 1
           },
           {
            "bin_start": 0.12489,
            "bin_end": 0.134512,
            "count": 0
           },
           {
            "bin_start": 0.134512,
            "bin_end": 0.14413399999999998,
            "count": 0
           },
           {
            "bin_start": 0.14413399999999998,
            "bin_end": 0.153756,
            "count": 0
           },
           {
            "bin_start": 0.153756,
            "bin_end": 0.16337799999999997,
            "count": 0
           },
           {
            "bin_start": 0.16337799999999997,
            "bin_end": 0.173,
            "count": 1
           }
          ]
         }
        },
        {
         "name": "_deepnote_index_column",
         "dtype": "int64"
        }
       ],
       "rows_top": [
        {
         "mean radius": 17.99,
         "mean texture": 10.38,
         "mean perimeter": 122.8,
         "mean area": 1001,
         "mean smoothness": 0.1184,
         "mean compactness": 0.2776,
         "mean concavity": 0.3001,
         "mean concave points": 0.1471,
         "mean symmetry": 0.2419,
         "mean fractal dimension": 0.07871,
         "radius error": 1.095,
         "texture error": 0.9053,
         "perimeter error": 8.589,
         "area error": 153.4,
         "smoothness error": 0.006399,
         "compactness error": 0.04904,
         "concavity error": 0.05373,
         "concave points error": 0.01587,
         "symmetry error": 0.03003,
         "fractal dimension error": 0.006193,
         "worst radius": 25.38,
         "worst texture": 17.33,
         "worst perimeter": 184.6,
         "worst area": 2019,
         "worst smoothness": 0.1622,
         "worst compactness": 0.6656,
         "worst concavity": 0.7119,
         "worst concave points": 0.2654,
         "worst symmetry": 0.4601,
         "worst fractal dimension": 0.1189,
         "_deepnote_index_column": 0
        },
        {
         "mean radius": 20.57,
         "mean texture": 17.77,
         "mean perimeter": 132.9,
         "mean area": 1326,
         "mean smoothness": 0.08474,
         "mean compactness": 0.07864,
         "mean concavity": 0.0869,
         "mean concave points": 0.07017,
         "mean symmetry": 0.1812,
         "mean fractal dimension": 0.05667,
         "radius error": 0.5435,
         "texture error": 0.7339,
         "perimeter error": 3.398,
         "area error": 74.08,
         "smoothness error": 0.005225,
         "compactness error": 0.01308,
         "concavity error": 0.0186,
         "concave points error": 0.0134,
         "symmetry error": 0.01389,
         "fractal dimension error": 0.003532,
         "worst radius": 24.99,
         "worst texture": 23.41,
         "worst perimeter": 158.8,
         "worst area": 1956,
         "worst smoothness": 0.1238,
         "worst compactness": 0.1866,
         "worst concavity": 0.2416,
         "worst concave points": 0.186,
         "worst symmetry": 0.275,
         "worst fractal dimension": 0.08902,
         "_deepnote_index_column": 1
        },
        {
         "mean radius": 19.69,
         "mean texture": 21.25,
         "mean perimeter": 130,
         "mean area": 1203,
         "mean smoothness": 0.1096,
         "mean compactness": 0.1599,
         "mean concavity": 0.1974,
         "mean concave points": 0.1279,
         "mean symmetry": 0.2069,
         "mean fractal dimension": 0.05999,
         "radius error": 0.7456,
         "texture error": 0.7869,
         "perimeter error": 4.585,
         "area error": 94.03,
         "smoothness error": 0.00615,
         "compactness error": 0.04006,
         "concavity error": 0.03832,
         "concave points error": 0.02058,
         "symmetry error": 0.0225,
         "fractal dimension error": 0.004571,
         "worst radius": 23.57,
         "worst texture": 25.53,
         "worst perimeter": 152.5,
         "worst area": 1709,
         "worst smoothness": 0.1444,
         "worst compactness": 0.4245,
         "worst concavity": 0.4504,
         "worst concave points": 0.243,
         "worst symmetry": 0.3613,
         "worst fractal dimension": 0.08758,
         "_deepnote_index_column": 2
        },
        {
         "mean radius": 11.42,
         "mean texture": 20.38,
         "mean perimeter": 77.58,
         "mean area": 386.1,
         "mean smoothness": 0.1425,
         "mean compactness": 0.2839,
         "mean concavity": 0.2414,
         "mean concave points": 0.1052,
         "mean symmetry": 0.2597,
         "mean fractal dimension": 0.09744,
         "radius error": 0.4956,
         "texture error": 1.156,
         "perimeter error": 3.445,
         "area error": 27.23,
         "smoothness error": 0.00911,
         "compactness error": 0.07458,
         "concavity error": 0.05661,
         "concave points error": 0.01867,
         "symmetry error": 0.05963,
         "fractal dimension error": 0.009208,
         "worst radius": 14.91,
         "worst texture": 26.5,
         "worst perimeter": 98.87,
         "worst area": 567.7,
         "worst smoothness": 0.2098,
         "worst compactness": 0.8663,
         "worst concavity": 0.6869,
         "worst concave points": 0.2575,
         "worst symmetry": 0.6638,
         "worst fractal dimension": 0.173,
         "_deepnote_index_column": 3
        },
        {
         "mean radius": 20.29,
         "mean texture": 14.34,
         "mean perimeter": 135.1,
         "mean area": 1297,
         "mean smoothness": 0.1003,
         "mean compactness": 0.1328,
         "mean concavity": 0.198,
         "mean concave points": 0.1043,
         "mean symmetry": 0.1809,
         "mean fractal dimension": 0.05883,
         "radius error": 0.7572,
         "texture error": 0.7813,
         "perimeter error": 5.438,
         "area error": 94.44,
         "smoothness error": 0.01149,
         "compactness error": 0.02461,
         "concavity error": 0.05688,
         "concave points error": 0.01885,
         "symmetry error": 0.01756,
         "fractal dimension error": 0.005115,
         "worst radius": 22.54,
         "worst texture": 16.67,
         "worst perimeter": 152.2,
         "worst area": 1575,
         "worst smoothness": 0.1374,
         "worst compactness": 0.205,
         "worst concavity": 0.4,
         "worst concave points": 0.1625,
         "worst symmetry": 0.2364,
         "worst fractal dimension": 0.07678,
         "_deepnote_index_column": 4
        }
       ],
       "rows_bottom": null
      },
      "text/plain": "   mean radius  mean texture  mean perimeter  mean area  mean smoothness  \\\n0        17.99         10.38          122.80     1001.0          0.11840   \n1        20.57         17.77          132.90     1326.0          0.08474   \n2        19.69         21.25          130.00     1203.0          0.10960   \n3        11.42         20.38           77.58      386.1          0.14250   \n4        20.29         14.34          135.10     1297.0          0.10030   \n\n   mean compactness  mean concavity  mean concave points  mean symmetry  \\\n0           0.27760          0.3001              0.14710         0.2419   \n1           0.07864          0.0869              0.07017         0.1812   \n2           0.15990          0.1974              0.12790         0.2069   \n3           0.28390          0.2414              0.10520         0.2597   \n4           0.13280          0.1980              0.10430         0.1809   \n\n   mean fractal dimension  ...  worst radius  worst texture  worst perimeter  \\\n0                 0.07871  ...         25.38          17.33           184.60   \n1                 0.05667  ...         24.99          23.41           158.80   \n2                 0.05999  ...         23.57          25.53           152.50   \n3                 0.09744  ...         14.91          26.50            98.87   \n4                 0.05883  ...         22.54          16.67           152.20   \n\n   worst area  worst smoothness  worst compactness  worst concavity  \\\n0      2019.0            0.1622             0.6656           0.7119   \n1      1956.0            0.1238             0.1866           0.2416   \n2      1709.0            0.1444             0.4245           0.4504   \n3       567.7            0.2098             0.8663           0.6869   \n4      1575.0            0.1374             0.2050           0.4000   \n\n   worst concave points  worst symmetry  worst fractal dimension  \n0                0.2654          0.4601                  0.11890  \n1                0.1860          0.2750                  0.08902  \n2                0.2430          0.3613                  0.08758  \n3                0.2575          0.6638                  0.17300  \n4                0.1625          0.2364                  0.07678  \n\n[5 rows x 30 columns]",
      "text/html": "<div>\n<style scoped>\n    .dataframe tbody tr th:only-of-type {\n        vertical-align: middle;\n    }\n\n    .dataframe tbody tr th {\n        vertical-align: top;\n    }\n\n    .dataframe thead th {\n        text-align: right;\n    }\n</style>\n<table border=\"1\" class=\"dataframe\">\n  <thead>\n    <tr style=\"text-align: right;\">\n      <th></th>\n      <th>mean radius</th>\n      <th>mean texture</th>\n      <th>mean perimeter</th>\n      <th>mean area</th>\n      <th>mean smoothness</th>\n      <th>mean compactness</th>\n      <th>mean concavity</th>\n      <th>mean concave points</th>\n      <th>mean symmetry</th>\n      <th>mean fractal dimension</th>\n      <th>...</th>\n      <th>worst radius</th>\n      <th>worst texture</th>\n      <th>worst perimeter</th>\n      <th>worst area</th>\n      <th>worst smoothness</th>\n      <th>worst compactness</th>\n      <th>worst concavity</th>\n      <th>worst concave points</th>\n      <th>worst symmetry</th>\n      <th>worst fractal dimension</th>\n    </tr>\n  </thead>\n  <tbody>\n    <tr>\n      <th>0</th>\n      <td>17.99</td>\n      <td>10.38</td>\n      <td>122.80</td>\n      <td>1001.0</td>\n      <td>0.11840</td>\n      <td>0.27760</td>\n      <td>0.3001</td>\n      <td>0.14710</td>\n      <td>0.2419</td>\n      <td>0.07871</td>\n      <td>...</td>\n      <td>25.38</td>\n      <td>17.33</td>\n      <td>184.60</td>\n      <td>2019.0</td>\n      <td>0.1622</td>\n      <td>0.6656</td>\n      <td>0.7119</td>\n      <td>0.2654</td>\n      <td>0.4601</td>\n      <td>0.11890</td>\n    </tr>\n    <tr>\n      <th>1</th>\n      <td>20.57</td>\n      <td>17.77</td>\n      <td>132.90</td>\n      <td>1326.0</td>\n      <td>0.08474</td>\n      <td>0.07864</td>\n      <td>0.0869</td>\n      <td>0.07017</td>\n      <td>0.1812</td>\n      <td>0.05667</td>\n      <td>...</td>\n      <td>24.99</td>\n      <td>23.41</td>\n      <td>158.80</td>\n      <td>1956.0</td>\n      <td>0.1238</td>\n      <td>0.1866</td>\n      <td>0.2416</td>\n      <td>0.1860</td>\n      <td>0.2750</td>\n      <td>0.08902</td>\n    </tr>\n    <tr>\n      <th>2</th>\n      <td>19.69</td>\n      <td>21.25</td>\n      <td>130.00</td>\n      <td>1203.0</td>\n      <td>0.10960</td>\n      <td>0.15990</td>\n      <td>0.1974</td>\n      <td>0.12790</td>\n      <td>0.2069</td>\n      <td>0.05999</td>\n      <td>...</td>\n      <td>23.57</td>\n      <td>25.53</td>\n      <td>152.50</td>\n      <td>1709.0</td>\n      <td>0.1444</td>\n      <td>0.4245</td>\n      <td>0.4504</td>\n      <td>0.2430</td>\n      <td>0.3613</td>\n      <td>0.08758</td>\n    </tr>\n    <tr>\n      <th>3</th>\n      <td>11.42</td>\n      <td>20.38</td>\n      <td>77.58</td>\n      <td>386.1</td>\n      <td>0.14250</td>\n      <td>0.28390</td>\n      <td>0.2414</td>\n      <td>0.10520</td>\n      <td>0.2597</td>\n      <td>0.09744</td>\n      <td>...</td>\n      <td>14.91</td>\n      <td>26.50</td>\n      <td>98.87</td>\n      <td>567.7</td>\n      <td>0.2098</td>\n      <td>0.8663</td>\n      <td>0.6869</td>\n      <td>0.2575</td>\n      <td>0.6638</td>\n      <td>0.17300</td>\n    </tr>\n    <tr>\n      <th>4</th>\n      <td>20.29</td>\n      <td>14.34</td>\n      <td>135.10</td>\n      <td>1297.0</td>\n      <td>0.10030</td>\n      <td>0.13280</td>\n      <td>0.1980</td>\n      <td>0.10430</td>\n      <td>0.1809</td>\n      <td>0.05883</td>\n      <td>...</td>\n      <td>22.54</td>\n      <td>16.67</td>\n      <td>152.20</td>\n      <td>1575.0</td>\n      <td>0.1374</td>\n      <td>0.2050</td>\n      <td>0.4000</td>\n      <td>0.1625</td>\n      <td>0.2364</td>\n      <td>0.07678</td>\n    </tr>\n  </tbody>\n</table>\n<p>5 rows × 30 columns</p>\n</div>"
     },
     "metadata": {}
    }
   ]
  },
  {
   "cell_type": "code",
   "metadata": {
    "tags": [],
    "cell_id": "00023-52c4977d-e2bc-4043-8913-684b8ed856b8",
    "deepnote_to_be_reexecuted": false,
    "source_hash": "8aefbd80",
    "execution_start": 1639381293668,
    "execution_millis": 4,
    "deepnote_cell_type": "code"
   },
   "source": "y.head()",
   "execution_count": null,
   "outputs": [
    {
     "output_type": "execute_result",
     "execution_count": 15,
     "data": {
      "application/vnd.deepnote.dataframe.v2+json": {
       "row_count": 5,
       "column_count": 1,
       "columns": [
        {
         "name": "class",
         "dtype": "int64",
         "stats": {
          "unique_count": 1,
          "nan_count": 0,
          "min": "0",
          "max": "0",
          "histogram": [
           {
            "bin_start": -0.5,
            "bin_end": -0.4,
            "count": 0
           },
           {
            "bin_start": -0.4,
            "bin_end": -0.3,
            "count": 0
           },
           {
            "bin_start": -0.3,
            "bin_end": -0.19999999999999996,
            "count": 0
           },
           {
            "bin_start": -0.19999999999999996,
            "bin_end": -0.09999999999999998,
            "count": 0
           },
           {
            "bin_start": -0.09999999999999998,
            "bin_end": 0,
            "count": 0
           },
           {
            "bin_start": 0,
            "bin_end": 0.10000000000000009,
            "count": 5
           },
           {
            "bin_start": 0.10000000000000009,
            "bin_end": 0.20000000000000007,
            "count": 0
           },
           {
            "bin_start": 0.20000000000000007,
            "bin_end": 0.30000000000000004,
            "count": 0
           },
           {
            "bin_start": 0.30000000000000004,
            "bin_end": 0.4,
            "count": 0
           },
           {
            "bin_start": 0.4,
            "bin_end": 0.5,
            "count": 0
           }
          ]
         }
        },
        {
         "name": "_deepnote_index_column",
         "dtype": "int64"
        }
       ],
       "rows_top": [
        {
         "class": 0,
         "_deepnote_index_column": 0
        },
        {
         "class": 0,
         "_deepnote_index_column": 1
        },
        {
         "class": 0,
         "_deepnote_index_column": 2
        },
        {
         "class": 0,
         "_deepnote_index_column": 3
        },
        {
         "class": 0,
         "_deepnote_index_column": 4
        }
       ],
       "rows_bottom": null
      },
      "text/plain": "   class\n0      0\n1      0\n2      0\n3      0\n4      0",
      "text/html": "<div>\n<style scoped>\n    .dataframe tbody tr th:only-of-type {\n        vertical-align: middle;\n    }\n\n    .dataframe tbody tr th {\n        vertical-align: top;\n    }\n\n    .dataframe thead th {\n        text-align: right;\n    }\n</style>\n<table border=\"1\" class=\"dataframe\">\n  <thead>\n    <tr style=\"text-align: right;\">\n      <th></th>\n      <th>class</th>\n    </tr>\n  </thead>\n  <tbody>\n    <tr>\n      <th>0</th>\n      <td>0</td>\n    </tr>\n    <tr>\n      <th>1</th>\n      <td>0</td>\n    </tr>\n    <tr>\n      <th>2</th>\n      <td>0</td>\n    </tr>\n    <tr>\n      <th>3</th>\n      <td>0</td>\n    </tr>\n    <tr>\n      <th>4</th>\n      <td>0</td>\n    </tr>\n  </tbody>\n</table>\n</div>"
     },
     "metadata": {}
    }
   ]
  },
  {
   "cell_type": "markdown",
   "source": "Sama seperti sebelumnya, mari kita bagi data *cancer* menjadi `train_set` dan `dev_set`.",
   "metadata": {
    "tags": [],
    "cell_id": "00024-5e23f352-e80e-48ba-95c0-50ccbd3ecdd4",
    "deepnote_cell_type": "markdown"
   }
  },
  {
   "cell_type": "code",
   "metadata": {
    "tags": [],
    "cell_id": "00024-b7a401f7-0e27-4b6a-a70c-bf739a44049e",
    "deepnote_to_be_reexecuted": false,
    "source_hash": "e7f23161",
    "execution_start": 1639381293674,
    "execution_millis": 10,
    "deepnote_cell_type": "code"
   },
   "source": "X_train, X_dev, y_train, y_dev = train_test_split(\n    X, y,\n    test_size=.2,\n    random_state=111\n)\n\nprint(f\"{len(X_train) = }.. {len(X_dev) = }\")",
   "execution_count": null,
   "outputs": [
    {
     "name": "stdout",
     "text": "len(X_train) = 455.. len(X_dev) = 114\n",
     "output_type": "stream"
    }
   ]
  },
  {
   "cell_type": "markdown",
   "source": "### Model Training & Evaluation\n\nSekarang, mari langsung kita coba gunakan SVM pada scikit-learn menggunakan `SVC`.",
   "metadata": {
    "tags": [],
    "cell_id": "00024-ce5accae-1788-4389-9968-8fc6b56c36d3",
    "deepnote_cell_type": "markdown"
   }
  },
  {
   "cell_type": "code",
   "metadata": {
    "tags": [],
    "cell_id": "00024-b95a47be-a3a5-4a48-94d7-8a70803269ab",
    "deepnote_to_be_reexecuted": false,
    "source_hash": "1f95d375",
    "execution_start": 1639381293693,
    "execution_millis": 22,
    "deepnote_cell_type": "code"
   },
   "source": "svc = SVC()\nsvc.fit(X_train, y_train)\n\npred_train = svc.predict(X_train)\npred_dev = svc.predict(X_dev)\n\nprint(\n    \"Performance on training set:\",\n    classification_report(y_train, pred_train, target_names=cancer.target_names),\n    sep=\"\\n\"\n)\nprint(\n    \"Performance on dev set:\",\n    classification_report(y_dev, pred_dev, target_names=cancer.target_names),\n    sep=\"\\n\"\n)",
   "execution_count": null,
   "outputs": [
    {
     "name": "stdout",
     "text": "Performance on training set:\n              precision    recall  f1-score   support\n\n   malignant       0.96      0.82      0.88       168\n      benign       0.90      0.98      0.94       287\n\n    accuracy                           0.92       455\n   macro avg       0.93      0.90      0.91       455\nweighted avg       0.92      0.92      0.92       455\n\nPerformance on dev set:\n              precision    recall  f1-score   support\n\n   malignant       0.95      0.84      0.89        44\n      benign       0.91      0.97      0.94        70\n\n    accuracy                           0.92       114\n   macro avg       0.93      0.91      0.91       114\nweighted avg       0.92      0.92      0.92       114\n\n/shared-libs/python3.9/py/lib/python3.9/site-packages/sklearn/utils/validation.py:985: DataConversionWarning: A column-vector y was passed when a 1d array was expected. Please change the shape of y to (n_samples, ), for example using ravel().\n  y = column_or_1d(y, warn=True)\n",
     "output_type": "stream"
    }
   ]
  },
  {
   "cell_type": "markdown",
   "source": "## Decision Tree\n\nSama seperti model lainnya, _decision tree_ juga dapat digunakna untuk masalah **klasifikasi** ataupun **regresi**. Intuisi cara kerja _decision tree_ mirip dengan pengambilan keputusan manusia pada umumnya. Misalkan kita ingin memutuskan apakah sebaiknya kita memakai jaket atau tidak hari ini. Proses penentuan pada _decision tree_ digambarkan melalui ilustrasi berikut.\n\n![](assets/images/decision-tree-jacket.png)\nsumber: [_Grokking Machine Learning - Luis G. Serrano_](https://www.manning.com/books/grokking-machine-learning)\n\nSecara umum, _decision tree_ tersusun dari **_node_** dan **_edge_**. _Node_ adalah tempat di mana suatu keadaan dipertanyakan sebelum mengambil keputusan, sedangkan _edge_ adalah percabangan yang menentukan beberapa kemungkinan keputusan.\n\nSetiap _node_ yang memiliki percabangan setelahnya disebut dengan **_decision node_**, sedangkan _node_ yang tidak memiliki percabangan (_node_ paling terakhir) disebut dengan **_leaf nodes_**. Khusus untuk _node_ yang berada di puncak pohon disebut dengan **_root node_**.\n\n![](assets/images/decision-tree-with-label.png)\nsumber: [_Grokking Machine Learning - Luis G. Serrano_](https://www.manning.com/books/grokking-machine-learning)\n\n> _decision tree_ yang memiliki **2 cabang untuk setiap _node_** disebut juga _binary decision tree_.\n\n\n### Decision Tree pada Scikit-Learn\n\nUntuk menggunakan _decision tree_ pada scikit-learn, kita perlu mengimpor modul berikut.\n\n```python\nfrom sklearn.tree import DecisionTreeClassifier\n```\n\n> khusus untuk masalah **regresi**, kita gunakan `DecisionTreeRegressor`.\n\n\n#### Data Loading\n\nKita akan gunakan data sebelumnya, yaitu _breast cancer_.",
   "metadata": {
    "tags": [],
    "cell_id": "00028-238afca6-9f8e-4474-80b2-ca012bac359c",
    "deepnote_cell_type": "markdown"
   }
  },
  {
   "cell_type": "code",
   "metadata": {
    "tags": [],
    "cell_id": "00028-1a203906-4dca-4b20-a45e-dc334885d567",
    "deepnote_to_be_reexecuted": false,
    "source_hash": "b6a4cf44",
    "execution_start": 1639543574880,
    "execution_millis": 1,
    "deepnote_cell_type": "code"
   },
   "source": "cancer = load_breast_cancer()\n\nX = pd.DataFrame(cancer.data, columns=cancer.feature_names)\ny = pd.DataFrame(cancer.target, columns=[\"class\"])",
   "execution_count": null,
   "outputs": []
  },
  {
   "cell_type": "code",
   "metadata": {
    "tags": [],
    "cell_id": "00030-7fdb8c22-ecb8-467a-9913-897292db2e49",
    "deepnote_to_be_reexecuted": false,
    "source_hash": "91c01c58",
    "execution_start": 1639543576253,
    "execution_millis": 290,
    "deepnote_cell_type": "code"
   },
   "source": "X.head()",
   "execution_count": null,
   "outputs": [
    {
     "output_type": "execute_result",
     "execution_count": 3,
     "data": {
      "application/vnd.deepnote.dataframe.v2+json": {
       "row_count": 5,
       "column_count": 30,
       "columns": [
        {
         "name": "mean radius",
         "dtype": "float64",
         "stats": {
          "unique_count": 5,
          "nan_count": 0,
          "min": "11.42",
          "max": "20.57",
          "histogram": [
           {
            "bin_start": 11.42,
            "bin_end": 12.335,
            "count": 1
           },
           {
            "bin_start": 12.335,
            "bin_end": 13.25,
            "count": 0
           },
           {
            "bin_start": 13.25,
            "bin_end": 14.165,
            "count": 0
           },
           {
            "bin_start": 14.165,
            "bin_end": 15.08,
            "count": 0
           },
           {
            "bin_start": 15.08,
            "bin_end": 15.995000000000001,
            "count": 0
           },
           {
            "bin_start": 15.995000000000001,
            "bin_end": 16.91,
            "count": 0
           },
           {
            "bin_start": 16.91,
            "bin_end": 17.825,
            "count": 0
           },
           {
            "bin_start": 17.825,
            "bin_end": 18.740000000000002,
            "count": 1
           },
           {
            "bin_start": 18.740000000000002,
            "bin_end": 19.655,
            "count": 0
           },
           {
            "bin_start": 19.655,
            "bin_end": 20.57,
            "count": 3
           }
          ]
         }
        },
        {
         "name": "mean texture",
         "dtype": "float64",
         "stats": {
          "unique_count": 5,
          "nan_count": 0,
          "min": "10.38",
          "max": "21.25",
          "histogram": [
           {
            "bin_start": 10.38,
            "bin_end": 11.467,
            "count": 1
           },
           {
            "bin_start": 11.467,
            "bin_end": 12.554,
            "count": 0
           },
           {
            "bin_start": 12.554,
            "bin_end": 13.641000000000002,
            "count": 0
           },
           {
            "bin_start": 13.641000000000002,
            "bin_end": 14.728000000000002,
            "count": 1
           },
           {
            "bin_start": 14.728000000000002,
            "bin_end": 15.815000000000001,
            "count": 0
           },
           {
            "bin_start": 15.815000000000001,
            "bin_end": 16.902,
            "count": 0
           },
           {
            "bin_start": 16.902,
            "bin_end": 17.989,
            "count": 1
           },
           {
            "bin_start": 17.989,
            "bin_end": 19.076,
            "count": 0
           },
           {
            "bin_start": 19.076,
            "bin_end": 20.163,
            "count": 0
           },
           {
            "bin_start": 20.163,
            "bin_end": 21.25,
            "count": 2
           }
          ]
         }
        },
        {
         "name": "mean perimeter",
         "dtype": "float64",
         "stats": {
          "unique_count": 5,
          "nan_count": 0,
          "min": "77.58",
          "max": "135.1",
          "histogram": [
           {
            "bin_start": 77.58,
            "bin_end": 83.332,
            "count": 1
           },
           {
            "bin_start": 83.332,
            "bin_end": 89.084,
            "count": 0
           },
           {
            "bin_start": 89.084,
            "bin_end": 94.836,
            "count": 0
           },
           {
            "bin_start": 94.836,
            "bin_end": 100.588,
            "count": 0
           },
           {
            "bin_start": 100.588,
            "bin_end": 106.34,
            "count": 0
           },
           {
            "bin_start": 106.34,
            "bin_end": 112.092,
            "count": 0
           },
           {
            "bin_start": 112.092,
            "bin_end": 117.844,
            "count": 0
           },
           {
            "bin_start": 117.844,
            "bin_end": 123.596,
            "count": 1
           },
           {
            "bin_start": 123.596,
            "bin_end": 129.348,
            "count": 0
           },
           {
            "bin_start": 129.348,
            "bin_end": 135.1,
            "count": 3
           }
          ]
         }
        },
        {
         "name": "mean area",
         "dtype": "float64",
         "stats": {
          "unique_count": 5,
          "nan_count": 0,
          "min": "386.1",
          "max": "1326.0",
          "histogram": [
           {
            "bin_start": 386.1,
            "bin_end": 480.09000000000003,
            "count": 1
           },
           {
            "bin_start": 480.09000000000003,
            "bin_end": 574.08,
            "count": 0
           },
           {
            "bin_start": 574.08,
            "bin_end": 668.0699999999999,
            "count": 0
           },
           {
            "bin_start": 668.0699999999999,
            "bin_end": 762.06,
            "count": 0
           },
           {
            "bin_start": 762.06,
            "bin_end": 856.05,
            "count": 0
           },
           {
            "bin_start": 856.05,
            "bin_end": 950.04,
            "count": 0
           },
           {
            "bin_start": 950.04,
            "bin_end": 1044.03,
            "count": 1
           },
           {
            "bin_start": 1044.03,
            "bin_end": 1138.02,
            "count": 0
           },
           {
            "bin_start": 1138.02,
            "bin_end": 1232.01,
            "count": 1
           },
           {
            "bin_start": 1232.01,
            "bin_end": 1326,
            "count": 2
           }
          ]
         }
        },
        {
         "name": "mean smoothness",
         "dtype": "float64",
         "stats": {
          "unique_count": 5,
          "nan_count": 0,
          "min": "0.08474",
          "max": "0.1425",
          "histogram": [
           {
            "bin_start": 0.08474,
            "bin_end": 0.090516,
            "count": 1
           },
           {
            "bin_start": 0.090516,
            "bin_end": 0.09629199999999999,
            "count": 0
           },
           {
            "bin_start": 0.09629199999999999,
            "bin_end": 0.10206799999999999,
            "count": 1
           },
           {
            "bin_start": 0.10206799999999999,
            "bin_end": 0.107844,
            "count": 0
           },
           {
            "bin_start": 0.107844,
            "bin_end": 0.11362,
            "count": 1
           },
           {
            "bin_start": 0.11362,
            "bin_end": 0.11939599999999999,
            "count": 1
           },
           {
            "bin_start": 0.11939599999999999,
            "bin_end": 0.125172,
            "count": 0
           },
           {
            "bin_start": 0.125172,
            "bin_end": 0.13094799999999998,
            "count": 0
           },
           {
            "bin_start": 0.13094799999999998,
            "bin_end": 0.13672399999999998,
            "count": 0
           },
           {
            "bin_start": 0.13672399999999998,
            "bin_end": 0.1425,
            "count": 1
           }
          ]
         }
        },
        {
         "name": "mean compactness",
         "dtype": "float64",
         "stats": {
          "unique_count": 5,
          "nan_count": 0,
          "min": "0.07864",
          "max": "0.2839",
          "histogram": [
           {
            "bin_start": 0.07864,
            "bin_end": 0.099166,
            "count": 1
           },
           {
            "bin_start": 0.099166,
            "bin_end": 0.11969199999999999,
            "count": 0
           },
           {
            "bin_start": 0.11969199999999999,
            "bin_end": 0.140218,
            "count": 1
           },
           {
            "bin_start": 0.140218,
            "bin_end": 0.160744,
            "count": 1
           },
           {
            "bin_start": 0.160744,
            "bin_end": 0.18127,
            "count": 0
           },
           {
            "bin_start": 0.18127,
            "bin_end": 0.20179599999999998,
            "count": 0
           },
           {
            "bin_start": 0.20179599999999998,
            "bin_end": 0.22232200000000002,
            "count": 0
           },
           {
            "bin_start": 0.22232200000000002,
            "bin_end": 0.242848,
            "count": 0
           },
           {
            "bin_start": 0.242848,
            "bin_end": 0.263374,
            "count": 0
           },
           {
            "bin_start": 0.263374,
            "bin_end": 0.2839,
            "count": 2
           }
          ]
         }
        },
        {
         "name": "mean concavity",
         "dtype": "float64",
         "stats": {
          "unique_count": 5,
          "nan_count": 0,
          "min": "0.0869",
          "max": "0.3001",
          "histogram": [
           {
            "bin_start": 0.0869,
            "bin_end": 0.10822000000000001,
            "count": 1
           },
           {
            "bin_start": 0.10822000000000001,
            "bin_end": 0.12954,
            "count": 0
           },
           {
            "bin_start": 0.12954,
            "bin_end": 0.15086,
            "count": 0
           },
           {
            "bin_start": 0.15086,
            "bin_end": 0.17218,
            "count": 0
           },
           {
            "bin_start": 0.17218,
            "bin_end": 0.1935,
            "count": 0
           },
           {
            "bin_start": 0.1935,
            "bin_end": 0.21481999999999998,
            "count": 2
           },
           {
            "bin_start": 0.21481999999999998,
            "bin_end": 0.23614,
            "count": 0
           },
           {
            "bin_start": 0.23614,
            "bin_end": 0.25746,
            "count": 1
           },
           {
            "bin_start": 0.25746,
            "bin_end": 0.27878000000000003,
            "count": 0
           },
           {
            "bin_start": 0.27878000000000003,
            "bin_end": 0.3001,
            "count": 1
           }
          ]
         }
        },
        {
         "name": "mean concave points",
         "dtype": "float64",
         "stats": {
          "unique_count": 5,
          "nan_count": 0,
          "min": "0.07017",
          "max": "0.1471",
          "histogram": [
           {
            "bin_start": 0.07017,
            "bin_end": 0.077863,
            "count": 1
           },
           {
            "bin_start": 0.077863,
            "bin_end": 0.085556,
            "count": 0
           },
           {
            "bin_start": 0.085556,
            "bin_end": 0.093249,
            "count": 0
           },
           {
            "bin_start": 0.093249,
            "bin_end": 0.100942,
            "count": 0
           },
           {
            "bin_start": 0.100942,
            "bin_end": 0.10863500000000001,
            "count": 2
           },
           {
            "bin_start": 0.10863500000000001,
            "bin_end": 0.116328,
            "count": 0
           },
           {
            "bin_start": 0.116328,
            "bin_end": 0.124021,
            "count": 0
           },
           {
            "bin_start": 0.124021,
            "bin_end": 0.131714,
            "count": 1
           },
           {
            "bin_start": 0.131714,
            "bin_end": 0.139407,
            "count": 0
           },
           {
            "bin_start": 0.139407,
            "bin_end": 0.1471,
            "count": 1
           }
          ]
         }
        },
        {
         "name": "mean symmetry",
         "dtype": "float64",
         "stats": {
          "unique_count": 5,
          "nan_count": 0,
          "min": "0.1809",
          "max": "0.2597",
          "histogram": [
           {
            "bin_start": 0.1809,
            "bin_end": 0.18878,
            "count": 2
           },
           {
            "bin_start": 0.18878,
            "bin_end": 0.19666,
            "count": 0
           },
           {
            "bin_start": 0.19666,
            "bin_end": 0.20454,
            "count": 0
           },
           {
            "bin_start": 0.20454,
            "bin_end": 0.21242,
            "count": 1
           },
           {
            "bin_start": 0.21242,
            "bin_end": 0.2203,
            "count": 0
           },
           {
            "bin_start": 0.2203,
            "bin_end": 0.22818,
            "count": 0
           },
           {
            "bin_start": 0.22818,
            "bin_end": 0.23606,
            "count": 0
           },
           {
            "bin_start": 0.23606,
            "bin_end": 0.24394,
            "count": 1
           },
           {
            "bin_start": 0.24394,
            "bin_end": 0.25182,
            "count": 0
           },
           {
            "bin_start": 0.25182,
            "bin_end": 0.2597,
            "count": 1
           }
          ]
         }
        },
        {
         "name": "mean fractal dimension",
         "dtype": "float64",
         "stats": {
          "unique_count": 5,
          "nan_count": 0,
          "min": "0.05667",
          "max": "0.09744",
          "histogram": [
           {
            "bin_start": 0.05667,
            "bin_end": 0.060746999999999995,
            "count": 3
           },
           {
            "bin_start": 0.060746999999999995,
            "bin_end": 0.06482399999999999,
            "count": 0
           },
           {
            "bin_start": 0.06482399999999999,
            "bin_end": 0.06890099999999999,
            "count": 0
           },
           {
            "bin_start": 0.06890099999999999,
            "bin_end": 0.072978,
            "count": 0
           },
           {
            "bin_start": 0.072978,
            "bin_end": 0.077055,
            "count": 0
           },
           {
            "bin_start": 0.077055,
            "bin_end": 0.081132,
            "count": 1
           },
           {
            "bin_start": 0.081132,
            "bin_end": 0.085209,
            "count": 0
           },
           {
            "bin_start": 0.085209,
            "bin_end": 0.089286,
            "count": 0
           },
           {
            "bin_start": 0.089286,
            "bin_end": 0.093363,
            "count": 0
           },
           {
            "bin_start": 0.093363,
            "bin_end": 0.09744,
            "count": 1
           }
          ]
         }
        },
        {
         "name": "radius error",
         "dtype": "float64",
         "stats": {
          "unique_count": 5,
          "nan_count": 0,
          "min": "0.4956",
          "max": "1.095",
          "histogram": [
           {
            "bin_start": 0.4956,
            "bin_end": 0.5555399999999999,
            "count": 2
           },
           {
            "bin_start": 0.5555399999999999,
            "bin_end": 0.61548,
            "count": 0
           },
           {
            "bin_start": 0.61548,
            "bin_end": 0.6754199999999999,
            "count": 0
           },
           {
            "bin_start": 0.6754199999999999,
            "bin_end": 0.73536,
            "count": 0
           },
           {
            "bin_start": 0.73536,
            "bin_end": 0.7952999999999999,
            "count": 2
           },
           {
            "bin_start": 0.7952999999999999,
            "bin_end": 0.85524,
            "count": 0
           },
           {
            "bin_start": 0.85524,
            "bin_end": 0.9151799999999999,
            "count": 0
           },
           {
            "bin_start": 0.9151799999999999,
            "bin_end": 0.97512,
            "count": 0
           },
           {
            "bin_start": 0.97512,
            "bin_end": 1.0350599999999999,
            "count": 0
           },
           {
            "bin_start": 1.0350599999999999,
            "bin_end": 1.095,
            "count": 1
           }
          ]
         }
        },
        {
         "name": "texture error",
         "dtype": "float64",
         "stats": {
          "unique_count": 5,
          "nan_count": 0,
          "min": "0.7339",
          "max": "1.156",
          "histogram": [
           {
            "bin_start": 0.7339,
            "bin_end": 0.77611,
            "count": 1
           },
           {
            "bin_start": 0.77611,
            "bin_end": 0.8183199999999999,
            "count": 2
           },
           {
            "bin_start": 0.8183199999999999,
            "bin_end": 0.86053,
            "count": 0
           },
           {
            "bin_start": 0.86053,
            "bin_end": 0.90274,
            "count": 0
           },
           {
            "bin_start": 0.90274,
            "bin_end": 0.94495,
            "count": 1
           },
           {
            "bin_start": 0.94495,
            "bin_end": 0.9871599999999999,
            "count": 0
           },
           {
            "bin_start": 0.9871599999999999,
            "bin_end": 1.02937,
            "count": 0
           },
           {
            "bin_start": 1.02937,
            "bin_end": 1.07158,
            "count": 0
           },
           {
            "bin_start": 1.07158,
            "bin_end": 1.1137899999999998,
            "count": 0
           },
           {
            "bin_start": 1.1137899999999998,
            "bin_end": 1.156,
            "count": 1
           }
          ]
         }
        },
        {
         "name": "perimeter error",
         "dtype": "float64",
         "stats": {
          "unique_count": 5,
          "nan_count": 0,
          "min": "3.398",
          "max": "8.589",
          "histogram": [
           {
            "bin_start": 3.398,
            "bin_end": 3.9171000000000005,
            "count": 2
           },
           {
            "bin_start": 3.9171000000000005,
            "bin_end": 4.4362,
            "count": 0
           },
           {
            "bin_start": 4.4362,
            "bin_end": 4.9553,
            "count": 1
           },
           {
            "bin_start": 4.9553,
            "bin_end": 5.474400000000001,
            "count": 1
           },
           {
            "bin_start": 5.474400000000001,
            "bin_end": 5.993500000000001,
            "count": 0
           },
           {
            "bin_start": 5.993500000000001,
            "bin_end": 6.512600000000001,
            "count": 0
           },
           {
            "bin_start": 6.512600000000001,
            "bin_end": 7.031700000000001,
            "count": 0
           },
           {
            "bin_start": 7.031700000000001,
            "bin_end": 7.550800000000001,
            "count": 0
           },
           {
            "bin_start": 7.550800000000001,
            "bin_end": 8.0699,
            "count": 0
           },
           {
            "bin_start": 8.0699,
            "bin_end": 8.589,
            "count": 1
           }
          ]
         }
        },
        {
         "name": "area error",
         "dtype": "float64",
         "stats": {
          "unique_count": 5,
          "nan_count": 0,
          "min": "27.23",
          "max": "153.4",
          "histogram": [
           {
            "bin_start": 27.23,
            "bin_end": 39.847,
            "count": 1
           },
           {
            "bin_start": 39.847,
            "bin_end": 52.464,
            "count": 0
           },
           {
            "bin_start": 52.464,
            "bin_end": 65.081,
            "count": 0
           },
           {
            "bin_start": 65.081,
            "bin_end": 77.69800000000001,
            "count": 1
           },
           {
            "bin_start": 77.69800000000001,
            "bin_end": 90.31500000000001,
            "count": 0
           },
           {
            "bin_start": 90.31500000000001,
            "bin_end": 102.932,
            "count": 2
           },
           {
            "bin_start": 102.932,
            "bin_end": 115.549,
            "count": 0
           },
           {
            "bin_start": 115.549,
            "bin_end": 128.166,
            "count": 0
           },
           {
            "bin_start": 128.166,
            "bin_end": 140.78300000000002,
            "count": 0
           },
           {
            "bin_start": 140.78300000000002,
            "bin_end": 153.4,
            "count": 1
           }
          ]
         }
        },
        {
         "name": "smoothness error",
         "dtype": "float64",
         "stats": {
          "unique_count": 5,
          "nan_count": 0,
          "min": "0.005225",
          "max": "0.01149",
          "histogram": [
           {
            "bin_start": 0.005225,
            "bin_end": 0.0058515,
            "count": 1
           },
           {
            "bin_start": 0.0058515,
            "bin_end": 0.006477999999999999,
            "count": 2
           },
           {
            "bin_start": 0.006477999999999999,
            "bin_end": 0.0071045,
            "count": 0
           },
           {
            "bin_start": 0.0071045,
            "bin_end": 0.007731,
            "count": 0
           },
           {
            "bin_start": 0.007731,
            "bin_end": 0.0083575,
            "count": 0
           },
           {
            "bin_start": 0.0083575,
            "bin_end": 0.008984,
            "count": 0
           },
           {
            "bin_start": 0.008984,
            "bin_end": 0.009610500000000001,
            "count": 1
           },
           {
            "bin_start": 0.009610500000000001,
            "bin_end": 0.010237,
            "count": 0
           },
           {
            "bin_start": 0.010237,
            "bin_end": 0.010863500000000002,
            "count": 0
           },
           {
            "bin_start": 0.010863500000000002,
            "bin_end": 0.01149,
            "count": 1
           }
          ]
         }
        },
        {
         "name": "compactness error",
         "dtype": "float64",
         "stats": {
          "unique_count": 5,
          "nan_count": 0,
          "min": "0.01308",
          "max": "0.07458",
          "histogram": [
           {
            "bin_start": 0.01308,
            "bin_end": 0.019229999999999997,
            "count": 1
           },
           {
            "bin_start": 0.019229999999999997,
            "bin_end": 0.02538,
            "count": 1
           },
           {
            "bin_start": 0.02538,
            "bin_end": 0.031529999999999996,
            "count": 0
           },
           {
            "bin_start": 0.031529999999999996,
            "bin_end": 0.03768,
            "count": 0
           },
           {
            "bin_start": 0.03768,
            "bin_end": 0.043829999999999994,
            "count": 1
           },
           {
            "bin_start": 0.043829999999999994,
            "bin_end": 0.04998,
            "count": 1
           },
           {
            "bin_start": 0.04998,
            "bin_end": 0.05612999999999999,
            "count": 0
           },
           {
            "bin_start": 0.05612999999999999,
            "bin_end": 0.062279999999999995,
            "count": 0
           },
           {
            "bin_start": 0.062279999999999995,
            "bin_end": 0.06842999999999999,
            "count": 0
           },
           {
            "bin_start": 0.06842999999999999,
            "bin_end": 0.07458,
            "count": 1
           }
          ]
         }
        },
        {
         "name": "concavity error",
         "dtype": "float64",
         "stats": {
          "unique_count": 5,
          "nan_count": 0,
          "min": "0.0186",
          "max": "0.05688",
          "histogram": [
           {
            "bin_start": 0.0186,
            "bin_end": 0.022428,
            "count": 1
           },
           {
            "bin_start": 0.022428,
            "bin_end": 0.026255999999999998,
            "count": 0
           },
           {
            "bin_start": 0.026255999999999998,
            "bin_end": 0.030084,
            "count": 0
           },
           {
            "bin_start": 0.030084,
            "bin_end": 0.033912,
            "count": 0
           },
           {
            "bin_start": 0.033912,
            "bin_end": 0.037739999999999996,
            "count": 0
           },
           {
            "bin_start": 0.037739999999999996,
            "bin_end": 0.041568,
            "count": 1
           },
           {
            "bin_start": 0.041568,
            "bin_end": 0.045396,
            "count": 0
           },
           {
            "bin_start": 0.045396,
            "bin_end": 0.049224000000000004,
            "count": 0
           },
           {
            "bin_start": 0.049224000000000004,
            "bin_end": 0.053052,
            "count": 0
           },
           {
            "bin_start": 0.053052,
            "bin_end": 0.05688,
            "count": 3
           }
          ]
         }
        },
        {
         "name": "concave points error",
         "dtype": "float64",
         "stats": {
          "unique_count": 5,
          "nan_count": 0,
          "min": "0.0134",
          "max": "0.02058",
          "histogram": [
           {
            "bin_start": 0.0134,
            "bin_end": 0.014118,
            "count": 1
           },
           {
            "bin_start": 0.014118,
            "bin_end": 0.014836,
            "count": 0
           },
           {
            "bin_start": 0.014836,
            "bin_end": 0.015554000000000002,
            "count": 0
           },
           {
            "bin_start": 0.015554000000000002,
            "bin_end": 0.016272000000000002,
            "count": 1
           },
           {
            "bin_start": 0.016272000000000002,
            "bin_end": 0.01699,
            "count": 0
           },
           {
            "bin_start": 0.01699,
            "bin_end": 0.017708,
            "count": 0
           },
           {
            "bin_start": 0.017708,
            "bin_end": 0.018426,
            "count": 0
           },
           {
            "bin_start": 0.018426,
            "bin_end": 0.019144,
            "count": 2
           },
           {
            "bin_start": 0.019144,
            "bin_end": 0.019862,
            "count": 0
           },
           {
            "bin_start": 0.019862,
            "bin_end": 0.02058,
            "count": 1
           }
          ]
         }
        },
        {
         "name": "symmetry error",
         "dtype": "float64",
         "stats": {
          "unique_count": 5,
          "nan_count": 0,
          "min": "0.01389",
          "max": "0.05963",
          "histogram": [
           {
            "bin_start": 0.01389,
            "bin_end": 0.018464,
            "count": 2
           },
           {
            "bin_start": 0.018464,
            "bin_end": 0.023038,
            "count": 1
           },
           {
            "bin_start": 0.023038,
            "bin_end": 0.027611999999999998,
            "count": 0
           },
           {
            "bin_start": 0.027611999999999998,
            "bin_end": 0.032186,
            "count": 1
           },
           {
            "bin_start": 0.032186,
            "bin_end": 0.03676,
            "count": 0
           },
           {
            "bin_start": 0.03676,
            "bin_end": 0.041333999999999996,
            "count": 0
           },
           {
            "bin_start": 0.041333999999999996,
            "bin_end": 0.045908,
            "count": 0
           },
           {
            "bin_start": 0.045908,
            "bin_end": 0.050482,
            "count": 0
           },
           {
            "bin_start": 0.050482,
            "bin_end": 0.055056,
            "count": 0
           },
           {
            "bin_start": 0.055056,
            "bin_end": 0.05963,
            "count": 1
           }
          ]
         }
        },
        {
         "name": "fractal dimension error",
         "dtype": "float64",
         "stats": {
          "unique_count": 5,
          "nan_count": 0,
          "min": "0.003532",
          "max": "0.009208",
          "histogram": [
           {
            "bin_start": 0.003532,
            "bin_end": 0.0040996,
            "count": 1
           },
           {
            "bin_start": 0.0040996,
            "bin_end": 0.0046672,
            "count": 1
           },
           {
            "bin_start": 0.0046672,
            "bin_end": 0.0052347999999999995,
            "count": 1
           },
           {
            "bin_start": 0.0052347999999999995,
            "bin_end": 0.005802399999999999,
            "count": 0
           },
           {
            "bin_start": 0.005802399999999999,
            "bin_end": 0.006369999999999999,
            "count": 1
           },
           {
            "bin_start": 0.006369999999999999,
            "bin_end": 0.0069375999999999995,
            "count": 0
           },
           {
            "bin_start": 0.0069375999999999995,
            "bin_end": 0.0075052,
            "count": 0
           },
           {
            "bin_start": 0.0075052,
            "bin_end": 0.0080728,
            "count": 0
           },
           {
            "bin_start": 0.0080728,
            "bin_end": 0.0086404,
            "count": 0
           },
           {
            "bin_start": 0.0086404,
            "bin_end": 0.009208,
            "count": 1
           }
          ]
         }
        },
        {
         "name": "worst radius",
         "dtype": "float64",
         "stats": {
          "unique_count": 5,
          "nan_count": 0,
          "min": "14.91",
          "max": "25.38",
          "histogram": [
           {
            "bin_start": 14.91,
            "bin_end": 15.957,
            "count": 1
           },
           {
            "bin_start": 15.957,
            "bin_end": 17.004,
            "count": 0
           },
           {
            "bin_start": 17.004,
            "bin_end": 18.051000000000002,
            "count": 0
           },
           {
            "bin_start": 18.051000000000002,
            "bin_end": 19.098,
            "count": 0
           },
           {
            "bin_start": 19.098,
            "bin_end": 20.145,
            "count": 0
           },
           {
            "bin_start": 20.145,
            "bin_end": 21.192,
            "count": 0
           },
           {
            "bin_start": 21.192,
            "bin_end": 22.239,
            "count": 0
           },
           {
            "bin_start": 22.239,
            "bin_end": 23.286,
            "count": 1
           },
           {
            "bin_start": 23.286,
            "bin_end": 24.333,
            "count": 1
           },
           {
            "bin_start": 24.333,
            "bin_end": 25.38,
            "count": 2
           }
          ]
         }
        },
        {
         "name": "worst texture",
         "dtype": "float64",
         "stats": {
          "unique_count": 5,
          "nan_count": 0,
          "min": "16.67",
          "max": "26.5",
          "histogram": [
           {
            "bin_start": 16.67,
            "bin_end": 17.653000000000002,
            "count": 2
           },
           {
            "bin_start": 17.653000000000002,
            "bin_end": 18.636000000000003,
            "count": 0
           },
           {
            "bin_start": 18.636000000000003,
            "bin_end": 19.619,
            "count": 0
           },
           {
            "bin_start": 19.619,
            "bin_end": 20.602,
            "count": 0
           },
           {
            "bin_start": 20.602,
            "bin_end": 21.585,
            "count": 0
           },
           {
            "bin_start": 21.585,
            "bin_end": 22.568,
            "count": 0
           },
           {
            "bin_start": 22.568,
            "bin_end": 23.551000000000002,
            "count": 1
           },
           {
            "bin_start": 23.551000000000002,
            "bin_end": 24.534,
            "count": 0
           },
           {
            "bin_start": 24.534,
            "bin_end": 25.517000000000003,
            "count": 0
           },
           {
            "bin_start": 25.517000000000003,
            "bin_end": 26.5,
            "count": 2
           }
          ]
         }
        },
        {
         "name": "worst perimeter",
         "dtype": "float64",
         "stats": {
          "unique_count": 5,
          "nan_count": 0,
          "min": "98.87",
          "max": "184.6",
          "histogram": [
           {
            "bin_start": 98.87,
            "bin_end": 107.443,
            "count": 1
           },
           {
            "bin_start": 107.443,
            "bin_end": 116.016,
            "count": 0
           },
           {
            "bin_start": 116.016,
            "bin_end": 124.589,
            "count": 0
           },
           {
            "bin_start": 124.589,
            "bin_end": 133.162,
            "count": 0
           },
           {
            "bin_start": 133.162,
            "bin_end": 141.735,
            "count": 0
           },
           {
            "bin_start": 141.735,
            "bin_end": 150.308,
            "count": 0
           },
           {
            "bin_start": 150.308,
            "bin_end": 158.881,
            "count": 3
           },
           {
            "bin_start": 158.881,
            "bin_end": 167.454,
            "count": 0
           },
           {
            "bin_start": 167.454,
            "bin_end": 176.027,
            "count": 0
           },
           {
            "bin_start": 176.027,
            "bin_end": 184.6,
            "count": 1
           }
          ]
         }
        },
        {
         "name": "worst area",
         "dtype": "float64",
         "stats": {
          "unique_count": 5,
          "nan_count": 0,
          "min": "567.7",
          "max": "2019.0",
          "histogram": [
           {
            "bin_start": 567.7,
            "bin_end": 712.83,
            "count": 1
           },
           {
            "bin_start": 712.83,
            "bin_end": 857.96,
            "count": 0
           },
           {
            "bin_start": 857.96,
            "bin_end": 1003.09,
            "count": 0
           },
           {
            "bin_start": 1003.09,
            "bin_end": 1148.22,
            "count": 0
           },
           {
            "bin_start": 1148.22,
            "bin_end": 1293.35,
            "count": 0
           },
           {
            "bin_start": 1293.35,
            "bin_end": 1438.48,
            "count": 0
           },
           {
            "bin_start": 1438.48,
            "bin_end": 1583.6100000000001,
            "count": 1
           },
           {
            "bin_start": 1583.6100000000001,
            "bin_end": 1728.74,
            "count": 1
           },
           {
            "bin_start": 1728.74,
            "bin_end": 1873.8700000000001,
            "count": 0
           },
           {
            "bin_start": 1873.8700000000001,
            "bin_end": 2019,
            "count": 2
           }
          ]
         }
        },
        {
         "name": "worst smoothness",
         "dtype": "float64",
         "stats": {
          "unique_count": 5,
          "nan_count": 0,
          "min": "0.1238",
          "max": "0.2098",
          "histogram": [
           {
            "bin_start": 0.1238,
            "bin_end": 0.1324,
            "count": 1
           },
           {
            "bin_start": 0.1324,
            "bin_end": 0.141,
            "count": 1
           },
           {
            "bin_start": 0.141,
            "bin_end": 0.14959999999999998,
            "count": 1
           },
           {
            "bin_start": 0.14959999999999998,
            "bin_end": 0.1582,
            "count": 0
           },
           {
            "bin_start": 0.1582,
            "bin_end": 0.1668,
            "count": 1
           },
           {
            "bin_start": 0.1668,
            "bin_end": 0.1754,
            "count": 0
           },
           {
            "bin_start": 0.1754,
            "bin_end": 0.184,
            "count": 0
           },
           {
            "bin_start": 0.184,
            "bin_end": 0.1926,
            "count": 0
           },
           {
            "bin_start": 0.1926,
            "bin_end": 0.2012,
            "count": 0
           },
           {
            "bin_start": 0.2012,
            "bin_end": 0.2098,
            "count": 1
           }
          ]
         }
        },
        {
         "name": "worst compactness",
         "dtype": "float64",
         "stats": {
          "unique_count": 5,
          "nan_count": 0,
          "min": "0.1866",
          "max": "0.8663",
          "histogram": [
           {
            "bin_start": 0.1866,
            "bin_end": 0.25456999999999996,
            "count": 2
           },
           {
            "bin_start": 0.25456999999999996,
            "bin_end": 0.32254,
            "count": 0
           },
           {
            "bin_start": 0.32254,
            "bin_end": 0.39051,
            "count": 0
           },
           {
            "bin_start": 0.39051,
            "bin_end": 0.45848,
            "count": 1
           },
           {
            "bin_start": 0.45848,
            "bin_end": 0.52645,
            "count": 0
           },
           {
            "bin_start": 0.52645,
            "bin_end": 0.59442,
            "count": 0
           },
           {
            "bin_start": 0.59442,
            "bin_end": 0.66239,
            "count": 0
           },
           {
            "bin_start": 0.66239,
            "bin_end": 0.73036,
            "count": 1
           },
           {
            "bin_start": 0.73036,
            "bin_end": 0.79833,
            "count": 0
           },
           {
            "bin_start": 0.79833,
            "bin_end": 0.8663,
            "count": 1
           }
          ]
         }
        },
        {
         "name": "worst concavity",
         "dtype": "float64",
         "stats": {
          "unique_count": 5,
          "nan_count": 0,
          "min": "0.2416",
          "max": "0.7119",
          "histogram": [
           {
            "bin_start": 0.2416,
            "bin_end": 0.28863,
            "count": 1
           },
           {
            "bin_start": 0.28863,
            "bin_end": 0.33566,
            "count": 0
           },
           {
            "bin_start": 0.33566,
            "bin_end": 0.38269,
            "count": 0
           },
           {
            "bin_start": 0.38269,
            "bin_end": 0.42972,
            "count": 1
           },
           {
            "bin_start": 0.42972,
            "bin_end": 0.47675,
            "count": 1
           },
           {
            "bin_start": 0.47675,
            "bin_end": 0.52378,
            "count": 0
           },
           {
            "bin_start": 0.52378,
            "bin_end": 0.5708099999999999,
            "count": 0
           },
           {
            "bin_start": 0.5708099999999999,
            "bin_end": 0.61784,
            "count": 0
           },
           {
            "bin_start": 0.61784,
            "bin_end": 0.66487,
            "count": 0
           },
           {
            "bin_start": 0.66487,
            "bin_end": 0.7119,
            "count": 2
           }
          ]
         }
        },
        {
         "name": "worst concave points",
         "dtype": "float64",
         "stats": {
          "unique_count": 5,
          "nan_count": 0,
          "min": "0.1625",
          "max": "0.2654",
          "histogram": [
           {
            "bin_start": 0.1625,
            "bin_end": 0.17279,
            "count": 1
           },
           {
            "bin_start": 0.17279,
            "bin_end": 0.18308000000000002,
            "count": 0
           },
           {
            "bin_start": 0.18308000000000002,
            "bin_end": 0.19337000000000001,
            "count": 1
           },
           {
            "bin_start": 0.19337000000000001,
            "bin_end": 0.20366,
            "count": 0
           },
           {
            "bin_start": 0.20366,
            "bin_end": 0.21395000000000003,
            "count": 0
           },
           {
            "bin_start": 0.21395000000000003,
            "bin_end": 0.22424000000000002,
            "count": 0
           },
           {
            "bin_start": 0.22424000000000002,
            "bin_end": 0.23453000000000002,
            "count": 0
           },
           {
            "bin_start": 0.23453000000000002,
            "bin_end": 0.24482000000000004,
            "count": 1
           },
           {
            "bin_start": 0.24482000000000004,
            "bin_end": 0.25511000000000006,
            "count": 0
           },
           {
            "bin_start": 0.25511000000000006,
            "bin_end": 0.2654,
            "count": 2
           }
          ]
         }
        },
        {
         "name": "worst symmetry",
         "dtype": "float64",
         "stats": {
          "unique_count": 5,
          "nan_count": 0,
          "min": "0.2364",
          "max": "0.6638",
          "histogram": [
           {
            "bin_start": 0.2364,
            "bin_end": 0.27914,
            "count": 2
           },
           {
            "bin_start": 0.27914,
            "bin_end": 0.32188,
            "count": 0
           },
           {
            "bin_start": 0.32188,
            "bin_end": 0.36461999999999994,
            "count": 1
           },
           {
            "bin_start": 0.36461999999999994,
            "bin_end": 0.40735999999999994,
            "count": 0
           },
           {
            "bin_start": 0.40735999999999994,
            "bin_end": 0.45009999999999994,
            "count": 0
           },
           {
            "bin_start": 0.45009999999999994,
            "bin_end": 0.49283999999999994,
            "count": 1
           },
           {
            "bin_start": 0.49283999999999994,
            "bin_end": 0.53558,
            "count": 0
           },
           {
            "bin_start": 0.53558,
            "bin_end": 0.57832,
            "count": 0
           },
           {
            "bin_start": 0.57832,
            "bin_end": 0.62106,
            "count": 0
           },
           {
            "bin_start": 0.62106,
            "bin_end": 0.6638,
            "count": 1
           }
          ]
         }
        },
        {
         "name": "worst fractal dimension",
         "dtype": "float64",
         "stats": {
          "unique_count": 5,
          "nan_count": 0,
          "min": "0.07678",
          "max": "0.173",
          "histogram": [
           {
            "bin_start": 0.07678,
            "bin_end": 0.086402,
            "count": 1
           },
           {
            "bin_start": 0.086402,
            "bin_end": 0.096024,
            "count": 2
           },
           {
            "bin_start": 0.096024,
            "bin_end": 0.10564599999999999,
            "count": 0
           },
           {
            "bin_start": 0.10564599999999999,
            "bin_end": 0.115268,
            "count": 0
           },
           {
            "bin_start": 0.115268,
            "bin_end": 0.12489,
            "count": 1
           },
           {
            "bin_start": 0.12489,
            "bin_end": 0.134512,
            "count": 0
           },
           {
            "bin_start": 0.134512,
            "bin_end": 0.14413399999999998,
            "count": 0
           },
           {
            "bin_start": 0.14413399999999998,
            "bin_end": 0.153756,
            "count": 0
           },
           {
            "bin_start": 0.153756,
            "bin_end": 0.16337799999999997,
            "count": 0
           },
           {
            "bin_start": 0.16337799999999997,
            "bin_end": 0.173,
            "count": 1
           }
          ]
         }
        },
        {
         "name": "_deepnote_index_column",
         "dtype": "int64"
        }
       ],
       "rows_top": [
        {
         "mean radius": 17.99,
         "mean texture": 10.38,
         "mean perimeter": 122.8,
         "mean area": 1001,
         "mean smoothness": 0.1184,
         "mean compactness": 0.2776,
         "mean concavity": 0.3001,
         "mean concave points": 0.1471,
         "mean symmetry": 0.2419,
         "mean fractal dimension": 0.07871,
         "radius error": 1.095,
         "texture error": 0.9053,
         "perimeter error": 8.589,
         "area error": 153.4,
         "smoothness error": 0.006399,
         "compactness error": 0.04904,
         "concavity error": 0.05373,
         "concave points error": 0.01587,
         "symmetry error": 0.03003,
         "fractal dimension error": 0.006193,
         "worst radius": 25.38,
         "worst texture": 17.33,
         "worst perimeter": 184.6,
         "worst area": 2019,
         "worst smoothness": 0.1622,
         "worst compactness": 0.6656,
         "worst concavity": 0.7119,
         "worst concave points": 0.2654,
         "worst symmetry": 0.4601,
         "worst fractal dimension": 0.1189,
         "_deepnote_index_column": 0
        },
        {
         "mean radius": 20.57,
         "mean texture": 17.77,
         "mean perimeter": 132.9,
         "mean area": 1326,
         "mean smoothness": 0.08474,
         "mean compactness": 0.07864,
         "mean concavity": 0.0869,
         "mean concave points": 0.07017,
         "mean symmetry": 0.1812,
         "mean fractal dimension": 0.05667,
         "radius error": 0.5435,
         "texture error": 0.7339,
         "perimeter error": 3.398,
         "area error": 74.08,
         "smoothness error": 0.005225,
         "compactness error": 0.01308,
         "concavity error": 0.0186,
         "concave points error": 0.0134,
         "symmetry error": 0.01389,
         "fractal dimension error": 0.003532,
         "worst radius": 24.99,
         "worst texture": 23.41,
         "worst perimeter": 158.8,
         "worst area": 1956,
         "worst smoothness": 0.1238,
         "worst compactness": 0.1866,
         "worst concavity": 0.2416,
         "worst concave points": 0.186,
         "worst symmetry": 0.275,
         "worst fractal dimension": 0.08902,
         "_deepnote_index_column": 1
        },
        {
         "mean radius": 19.69,
         "mean texture": 21.25,
         "mean perimeter": 130,
         "mean area": 1203,
         "mean smoothness": 0.1096,
         "mean compactness": 0.1599,
         "mean concavity": 0.1974,
         "mean concave points": 0.1279,
         "mean symmetry": 0.2069,
         "mean fractal dimension": 0.05999,
         "radius error": 0.7456,
         "texture error": 0.7869,
         "perimeter error": 4.585,
         "area error": 94.03,
         "smoothness error": 0.00615,
         "compactness error": 0.04006,
         "concavity error": 0.03832,
         "concave points error": 0.02058,
         "symmetry error": 0.0225,
         "fractal dimension error": 0.004571,
         "worst radius": 23.57,
         "worst texture": 25.53,
         "worst perimeter": 152.5,
         "worst area": 1709,
         "worst smoothness": 0.1444,
         "worst compactness": 0.4245,
         "worst concavity": 0.4504,
         "worst concave points": 0.243,
         "worst symmetry": 0.3613,
         "worst fractal dimension": 0.08758,
         "_deepnote_index_column": 2
        },
        {
         "mean radius": 11.42,
         "mean texture": 20.38,
         "mean perimeter": 77.58,
         "mean area": 386.1,
         "mean smoothness": 0.1425,
         "mean compactness": 0.2839,
         "mean concavity": 0.2414,
         "mean concave points": 0.1052,
         "mean symmetry": 0.2597,
         "mean fractal dimension": 0.09744,
         "radius error": 0.4956,
         "texture error": 1.156,
         "perimeter error": 3.445,
         "area error": 27.23,
         "smoothness error": 0.00911,
         "compactness error": 0.07458,
         "concavity error": 0.05661,
         "concave points error": 0.01867,
         "symmetry error": 0.05963,
         "fractal dimension error": 0.009208,
         "worst radius": 14.91,
         "worst texture": 26.5,
         "worst perimeter": 98.87,
         "worst area": 567.7,
         "worst smoothness": 0.2098,
         "worst compactness": 0.8663,
         "worst concavity": 0.6869,
         "worst concave points": 0.2575,
         "worst symmetry": 0.6638,
         "worst fractal dimension": 0.173,
         "_deepnote_index_column": 3
        },
        {
         "mean radius": 20.29,
         "mean texture": 14.34,
         "mean perimeter": 135.1,
         "mean area": 1297,
         "mean smoothness": 0.1003,
         "mean compactness": 0.1328,
         "mean concavity": 0.198,
         "mean concave points": 0.1043,
         "mean symmetry": 0.1809,
         "mean fractal dimension": 0.05883,
         "radius error": 0.7572,
         "texture error": 0.7813,
         "perimeter error": 5.438,
         "area error": 94.44,
         "smoothness error": 0.01149,
         "compactness error": 0.02461,
         "concavity error": 0.05688,
         "concave points error": 0.01885,
         "symmetry error": 0.01756,
         "fractal dimension error": 0.005115,
         "worst radius": 22.54,
         "worst texture": 16.67,
         "worst perimeter": 152.2,
         "worst area": 1575,
         "worst smoothness": 0.1374,
         "worst compactness": 0.205,
         "worst concavity": 0.4,
         "worst concave points": 0.1625,
         "worst symmetry": 0.2364,
         "worst fractal dimension": 0.07678,
         "_deepnote_index_column": 4
        }
       ],
       "rows_bottom": null
      },
      "text/plain": "   mean radius  mean texture  mean perimeter  mean area  mean smoothness  \\\n0        17.99         10.38          122.80     1001.0          0.11840   \n1        20.57         17.77          132.90     1326.0          0.08474   \n2        19.69         21.25          130.00     1203.0          0.10960   \n3        11.42         20.38           77.58      386.1          0.14250   \n4        20.29         14.34          135.10     1297.0          0.10030   \n\n   mean compactness  mean concavity  mean concave points  mean symmetry  \\\n0           0.27760          0.3001              0.14710         0.2419   \n1           0.07864          0.0869              0.07017         0.1812   \n2           0.15990          0.1974              0.12790         0.2069   \n3           0.28390          0.2414              0.10520         0.2597   \n4           0.13280          0.1980              0.10430         0.1809   \n\n   mean fractal dimension  ...  worst radius  worst texture  worst perimeter  \\\n0                 0.07871  ...         25.38          17.33           184.60   \n1                 0.05667  ...         24.99          23.41           158.80   \n2                 0.05999  ...         23.57          25.53           152.50   \n3                 0.09744  ...         14.91          26.50            98.87   \n4                 0.05883  ...         22.54          16.67           152.20   \n\n   worst area  worst smoothness  worst compactness  worst concavity  \\\n0      2019.0            0.1622             0.6656           0.7119   \n1      1956.0            0.1238             0.1866           0.2416   \n2      1709.0            0.1444             0.4245           0.4504   \n3       567.7            0.2098             0.8663           0.6869   \n4      1575.0            0.1374             0.2050           0.4000   \n\n   worst concave points  worst symmetry  worst fractal dimension  \n0                0.2654          0.4601                  0.11890  \n1                0.1860          0.2750                  0.08902  \n2                0.2430          0.3613                  0.08758  \n3                0.2575          0.6638                  0.17300  \n4                0.1625          0.2364                  0.07678  \n\n[5 rows x 30 columns]",
      "text/html": "<div>\n<style scoped>\n    .dataframe tbody tr th:only-of-type {\n        vertical-align: middle;\n    }\n\n    .dataframe tbody tr th {\n        vertical-align: top;\n    }\n\n    .dataframe thead th {\n        text-align: right;\n    }\n</style>\n<table border=\"1\" class=\"dataframe\">\n  <thead>\n    <tr style=\"text-align: right;\">\n      <th></th>\n      <th>mean radius</th>\n      <th>mean texture</th>\n      <th>mean perimeter</th>\n      <th>mean area</th>\n      <th>mean smoothness</th>\n      <th>mean compactness</th>\n      <th>mean concavity</th>\n      <th>mean concave points</th>\n      <th>mean symmetry</th>\n      <th>mean fractal dimension</th>\n      <th>...</th>\n      <th>worst radius</th>\n      <th>worst texture</th>\n      <th>worst perimeter</th>\n      <th>worst area</th>\n      <th>worst smoothness</th>\n      <th>worst compactness</th>\n      <th>worst concavity</th>\n      <th>worst concave points</th>\n      <th>worst symmetry</th>\n      <th>worst fractal dimension</th>\n    </tr>\n  </thead>\n  <tbody>\n    <tr>\n      <th>0</th>\n      <td>17.99</td>\n      <td>10.38</td>\n      <td>122.80</td>\n      <td>1001.0</td>\n      <td>0.11840</td>\n      <td>0.27760</td>\n      <td>0.3001</td>\n      <td>0.14710</td>\n      <td>0.2419</td>\n      <td>0.07871</td>\n      <td>...</td>\n      <td>25.38</td>\n      <td>17.33</td>\n      <td>184.60</td>\n      <td>2019.0</td>\n      <td>0.1622</td>\n      <td>0.6656</td>\n      <td>0.7119</td>\n      <td>0.2654</td>\n      <td>0.4601</td>\n      <td>0.11890</td>\n    </tr>\n    <tr>\n      <th>1</th>\n      <td>20.57</td>\n      <td>17.77</td>\n      <td>132.90</td>\n      <td>1326.0</td>\n      <td>0.08474</td>\n      <td>0.07864</td>\n      <td>0.0869</td>\n      <td>0.07017</td>\n      <td>0.1812</td>\n      <td>0.05667</td>\n      <td>...</td>\n      <td>24.99</td>\n      <td>23.41</td>\n      <td>158.80</td>\n      <td>1956.0</td>\n      <td>0.1238</td>\n      <td>0.1866</td>\n      <td>0.2416</td>\n      <td>0.1860</td>\n      <td>0.2750</td>\n      <td>0.08902</td>\n    </tr>\n    <tr>\n      <th>2</th>\n      <td>19.69</td>\n      <td>21.25</td>\n      <td>130.00</td>\n      <td>1203.0</td>\n      <td>0.10960</td>\n      <td>0.15990</td>\n      <td>0.1974</td>\n      <td>0.12790</td>\n      <td>0.2069</td>\n      <td>0.05999</td>\n      <td>...</td>\n      <td>23.57</td>\n      <td>25.53</td>\n      <td>152.50</td>\n      <td>1709.0</td>\n      <td>0.1444</td>\n      <td>0.4245</td>\n      <td>0.4504</td>\n      <td>0.2430</td>\n      <td>0.3613</td>\n      <td>0.08758</td>\n    </tr>\n    <tr>\n      <th>3</th>\n      <td>11.42</td>\n      <td>20.38</td>\n      <td>77.58</td>\n      <td>386.1</td>\n      <td>0.14250</td>\n      <td>0.28390</td>\n      <td>0.2414</td>\n      <td>0.10520</td>\n      <td>0.2597</td>\n      <td>0.09744</td>\n      <td>...</td>\n      <td>14.91</td>\n      <td>26.50</td>\n      <td>98.87</td>\n      <td>567.7</td>\n      <td>0.2098</td>\n      <td>0.8663</td>\n      <td>0.6869</td>\n      <td>0.2575</td>\n      <td>0.6638</td>\n      <td>0.17300</td>\n    </tr>\n    <tr>\n      <th>4</th>\n      <td>20.29</td>\n      <td>14.34</td>\n      <td>135.10</td>\n      <td>1297.0</td>\n      <td>0.10030</td>\n      <td>0.13280</td>\n      <td>0.1980</td>\n      <td>0.10430</td>\n      <td>0.1809</td>\n      <td>0.05883</td>\n      <td>...</td>\n      <td>22.54</td>\n      <td>16.67</td>\n      <td>152.20</td>\n      <td>1575.0</td>\n      <td>0.1374</td>\n      <td>0.2050</td>\n      <td>0.4000</td>\n      <td>0.1625</td>\n      <td>0.2364</td>\n      <td>0.07678</td>\n    </tr>\n  </tbody>\n</table>\n<p>5 rows × 30 columns</p>\n</div>"
     },
     "metadata": {}
    }
   ]
  },
  {
   "cell_type": "code",
   "metadata": {
    "tags": [],
    "cell_id": "00031-0e4b3b94-9e50-4cb7-a796-85b0104c677f",
    "deepnote_to_be_reexecuted": false,
    "source_hash": "8aefbd80",
    "execution_start": 1639543578239,
    "execution_millis": 4,
    "deepnote_cell_type": "code"
   },
   "source": "y.head()",
   "execution_count": null,
   "outputs": [
    {
     "output_type": "execute_result",
     "execution_count": 4,
     "data": {
      "application/vnd.deepnote.dataframe.v2+json": {
       "row_count": 5,
       "column_count": 1,
       "columns": [
        {
         "name": "class",
         "dtype": "int64",
         "stats": {
          "unique_count": 1,
          "nan_count": 0,
          "min": "0",
          "max": "0",
          "histogram": [
           {
            "bin_start": -0.5,
            "bin_end": -0.4,
            "count": 0
           },
           {
            "bin_start": -0.4,
            "bin_end": -0.3,
            "count": 0
           },
           {
            "bin_start": -0.3,
            "bin_end": -0.19999999999999996,
            "count": 0
           },
           {
            "bin_start": -0.19999999999999996,
            "bin_end": -0.09999999999999998,
            "count": 0
           },
           {
            "bin_start": -0.09999999999999998,
            "bin_end": 0,
            "count": 0
           },
           {
            "bin_start": 0,
            "bin_end": 0.10000000000000009,
            "count": 5
           },
           {
            "bin_start": 0.10000000000000009,
            "bin_end": 0.20000000000000007,
            "count": 0
           },
           {
            "bin_start": 0.20000000000000007,
            "bin_end": 0.30000000000000004,
            "count": 0
           },
           {
            "bin_start": 0.30000000000000004,
            "bin_end": 0.4,
            "count": 0
           },
           {
            "bin_start": 0.4,
            "bin_end": 0.5,
            "count": 0
           }
          ]
         }
        },
        {
         "name": "_deepnote_index_column",
         "dtype": "int64"
        }
       ],
       "rows_top": [
        {
         "class": 0,
         "_deepnote_index_column": 0
        },
        {
         "class": 0,
         "_deepnote_index_column": 1
        },
        {
         "class": 0,
         "_deepnote_index_column": 2
        },
        {
         "class": 0,
         "_deepnote_index_column": 3
        },
        {
         "class": 0,
         "_deepnote_index_column": 4
        }
       ],
       "rows_bottom": null
      },
      "text/plain": "   class\n0      0\n1      0\n2      0\n3      0\n4      0",
      "text/html": "<div>\n<style scoped>\n    .dataframe tbody tr th:only-of-type {\n        vertical-align: middle;\n    }\n\n    .dataframe tbody tr th {\n        vertical-align: top;\n    }\n\n    .dataframe thead th {\n        text-align: right;\n    }\n</style>\n<table border=\"1\" class=\"dataframe\">\n  <thead>\n    <tr style=\"text-align: right;\">\n      <th></th>\n      <th>class</th>\n    </tr>\n  </thead>\n  <tbody>\n    <tr>\n      <th>0</th>\n      <td>0</td>\n    </tr>\n    <tr>\n      <th>1</th>\n      <td>0</td>\n    </tr>\n    <tr>\n      <th>2</th>\n      <td>0</td>\n    </tr>\n    <tr>\n      <th>3</th>\n      <td>0</td>\n    </tr>\n    <tr>\n      <th>4</th>\n      <td>0</td>\n    </tr>\n  </tbody>\n</table>\n</div>"
     },
     "metadata": {}
    }
   ]
  },
  {
   "cell_type": "markdown",
   "source": "Sama seperti sebelumnya, mari kita bagi data *cancer* menjadi `train_set` dan `dev_set`.",
   "metadata": {
    "tags": [],
    "cell_id": "00032-617f5493-1f89-48f5-a3b5-ead179d79287",
    "deepnote_cell_type": "markdown"
   }
  },
  {
   "cell_type": "code",
   "metadata": {
    "tags": [],
    "cell_id": "00032-fd7585ce-f4b1-405f-a0b3-4065ce81d835",
    "deepnote_to_be_reexecuted": false,
    "source_hash": "e7f23161",
    "execution_start": 1639543581171,
    "execution_millis": 29,
    "deepnote_cell_type": "code"
   },
   "source": "X_train, X_dev, y_train, y_dev = train_test_split(\n    X, y,\n    test_size=.2,\n    random_state=111\n)\n\nprint(f\"{len(X_train) = }.. {len(X_dev) = }\")",
   "execution_count": null,
   "outputs": [
    {
     "name": "stdout",
     "text": "len(X_train) = 455.. len(X_dev) = 114\n",
     "output_type": "stream",
     "data": {}
    }
   ]
  },
  {
   "cell_type": "markdown",
   "source": "### Model Training & Evaluation\n\nSekarang, mari langsung kita coba gunakan _decision tree_ pada scikit-learn menggunakan `DecisionTreeClassifier`.",
   "metadata": {
    "tags": [],
    "cell_id": "00034-57ddd726-cf35-4551-8daa-14a01a857cc5",
    "deepnote_cell_type": "markdown"
   }
  },
  {
   "cell_type": "code",
   "metadata": {
    "tags": [],
    "cell_id": "00034-f19a2291-fe86-4396-a015-01fd0f10f581",
    "deepnote_to_be_reexecuted": false,
    "source_hash": "ad8a33f4",
    "execution_start": 1639543585056,
    "execution_millis": 37,
    "deepnote_cell_type": "code"
   },
   "source": "dtree = DecisionTreeClassifier()\ndtree.fit(X_train, y_train)\n\npred_train = dtree.predict(X_train)\npred_dev = dtree.predict(X_dev)\n\nprint(\n    \"Performance on training set\",\n    classification_report(y_train, pred_train, target_names=cancer.target_names),\n    sep=\"\\n\"\n)\nprint(\n    \"Performance on development set\",\n    classification_report(y_dev, pred_dev, target_names=cancer.target_names),\n    sep=\"\\n\"\n)",
   "execution_count": null,
   "outputs": [
    {
     "name": "stdout",
     "text": "Performance on training set\n              precision    recall  f1-score   support\n\n   malignant       1.00      1.00      1.00       168\n      benign       1.00      1.00      1.00       287\n\n    accuracy                           1.00       455\n   macro avg       1.00      1.00      1.00       455\nweighted avg       1.00      1.00      1.00       455\n\nPerformance on development set\n              precision    recall  f1-score   support\n\n   malignant       0.93      0.95      0.94        44\n      benign       0.97      0.96      0.96        70\n\n    accuracy                           0.96       114\n   macro avg       0.95      0.96      0.95       114\nweighted avg       0.96      0.96      0.96       114\n\n",
     "output_type": "stream",
     "data": {}
    }
   ]
  },
  {
   "cell_type": "markdown",
   "source": "### Tree Visualization",
   "metadata": {
    "tags": [],
    "cell_id": "00036-f3901df0-ca98-4d10-a296-af7631721dbc",
    "deepnote_cell_type": "markdown"
   }
  },
  {
   "cell_type": "code",
   "metadata": {
    "tags": [],
    "cell_id": "00036-ec5f0dd0-326a-4071-a659-20618fa90f4c",
    "deepnote_to_be_reexecuted": false,
    "source_hash": "8b0f484b",
    "execution_start": 1639543738149,
    "execution_millis": 2709,
    "deepnote_output_heights": [
     507.58331298828125
    ],
    "deepnote_cell_type": "code"
   },
   "source": "plt.figure(figsize=(18, 10))\nplot_tree(dtree, feature_names=cancer.feature_names)\nplt.show()",
   "execution_count": null,
   "outputs": [
    {
     "data": {
      "text/plain": "<Figure size 1296x720 with 1 Axes>",
      "image/png": "[encoded data removed]"
     },
     "metadata": {
      "needs_background": "light",
      "image/png": {
       "width": 1018,
       "height": 558
      }
     },
     "output_type": "display_data"
    }
   ]
  },
  {
   "cell_type": "markdown",
   "source": "## Hyperparamter Tuning\n\n**_Hyperparameter_** adalah variabel-variabel yang harus kita definisikan sebelum _training_. Setiap model memiliki _hyperparameter_ yang berbeda-beda. Misalkan, _k-Nearest Neighbors_ memiliki _hyperparameter_ `k`.\n\n> Meski begitu, umumnya, setiap model memiliki _hyperparameter_ yang sama, seperti **maksimum iterasi**.\n\nKarena _hyperparameter_ juga menentukan bagaimana performa model, kita juga perlu menentukan terlebih dahulu konfigurasi _hyperparameter_ sedemikian sehingga model memiliki performa yang bagus, yaitu **tidak _underfit_** dan **tidak _overfit_**.\n\nAda beberapa cara untuk melakukan _hyperparameter tuning_, di antaranya adalah **_grid search_** dan **_random search_**. Kita akan coba bahas dan gunakan _grid search_ menggunakan scikit-learn.\n\n\n### Grid Search\n\n_Grid search_ merupakan salah satu cara untuk menentukan konfigurasi _hyperparameter_ terbaik dengan cara **melatih model menggunakan seluruh kombinasi yang mungkin** dari konfigurasi yang kita tentukan. Sebagai contoh, perhatikan ilustrasi berikut.\n\n|    | `max_depth = 5` | `max_depth = 10` |\n| -- | --------- | ---------- |\n| `min_samples_split = 2` | ... | ... |\n| `min_samples_split = 10` | ... | ... |\n| `min_samples_split = 50` | ... | ... |\n\nKita bisa melakukan iterasi untuk setiap kombinasi dari 2 _hyperparameter_ tersebut secara manual. Namun, scikit-learn menyediakan modul `GridSearchCV` untuk implementasi yang lebih sederhana dan mudah. Untuk menggunakan `GridSearchCV`, kita perlu impor mengunakan sintaks berikut.\n\n```python\nfrom sklearn.model_selection import GridSearchCV\n```",
   "metadata": {
    "tags": [],
    "cell_id": "00036-9b21c404-f103-4758-8391-56b0013715f5",
    "deepnote_cell_type": "markdown"
   }
  },
  {
   "cell_type": "code",
   "metadata": {
    "tags": [],
    "cell_id": "00037-d39face8-27ff-4853-b9c0-4414bda1969d",
    "deepnote_to_be_reexecuted": false,
    "source_hash": "f74d2220",
    "execution_start": 1639383390545,
    "execution_millis": 405,
    "deepnote_output_heights": [
     59.600006103515625
    ],
    "deepnote_cell_type": "code"
   },
   "source": "max_depth_config = (5, 10)\nmin_samples_split_config = (2, 10, 50)\n\ngrid_search = GridSearchCV(\n    dtree,\n    param_grid={\n        \"max_depth\": max_depth_config,\n        \"min_samples_split\": min_samples_split_config\n    }\n)\ngrid_search.fit(X_train, y_train)",
   "execution_count": null,
   "outputs": [
    {
     "output_type": "execute_result",
     "execution_count": 24,
     "data": {
      "text/plain": "GridSearchCV(estimator=DecisionTreeClassifier(),\n             param_grid={'max_depth': (5, 10),\n                         'min_samples_split': (2, 10, 50)})"
     },
     "metadata": {}
    }
   ]
  },
  {
   "cell_type": "markdown",
   "source": "Untuk mengetahui konfigurasi terbaik dari _grid search_, kita bisa akses dengan properti `.best_params_`.",
   "metadata": {
    "tags": [],
    "cell_id": "00038-16d34a52-f535-4145-b97e-5db3c7081371",
    "deepnote_cell_type": "markdown"
   }
  },
  {
   "cell_type": "code",
   "metadata": {
    "tags": [],
    "cell_id": "00038-0b70f45a-6f4c-4882-b79a-125a0f59baa7",
    "deepnote_to_be_reexecuted": false,
    "source_hash": "d361b2d7",
    "execution_start": 1639383753043,
    "execution_millis": 6,
    "deepnote_output_heights": [
     21.199996948242188
    ],
    "deepnote_cell_type": "code"
   },
   "source": "grid_search.best_params_",
   "execution_count": null,
   "outputs": [
    {
     "output_type": "execute_result",
     "execution_count": 25,
     "data": {
      "text/plain": "{'max_depth': 5, 'min_samples_split': 2}"
     },
     "metadata": {}
    }
   ]
  },
  {
   "cell_type": "markdown",
   "source": "Secara default, instance dari `GridSearchCV`, dalam hal ini `grid_search` adalah estimator atau model dengan performa yan paling bagus, atau yang menggunakan konfigurasi `best_params_` di atas. Meskipun, kita juga bisa akses model tersebut menggunakan properti `.best_estimator_`.",
   "metadata": {
    "tags": [],
    "cell_id": "00040-2ed47d20-019b-4bc3-bf11-e93be7a91554",
    "deepnote_cell_type": "markdown"
   }
  },
  {
   "cell_type": "code",
   "metadata": {
    "tags": [],
    "cell_id": "00040-b5322a06-8e4c-45d0-8c33-6b9de451e1a5",
    "deepnote_to_be_reexecuted": false,
    "source_hash": "f753b60c",
    "execution_start": 1639384271619,
    "execution_millis": 1,
    "deepnote_output_heights": [
     21.199996948242188
    ],
    "deepnote_cell_type": "code"
   },
   "source": "grid_search.best_estimator_",
   "execution_count": null,
   "outputs": [
    {
     "output_type": "execute_result",
     "execution_count": 26,
     "data": {
      "text/plain": "DecisionTreeClassifier(max_depth=5)"
     },
     "metadata": {}
    }
   ]
  },
  {
   "cell_type": "markdown",
   "source": "Mari kita bandingkan dengan performa model _decision tree_ sebelumnya pada _development set_.",
   "metadata": {
    "tags": [],
    "cell_id": "00042-cb2c157f-8de4-4f78-800d-2e33712ae57f",
    "deepnote_cell_type": "markdown"
   }
  },
  {
   "cell_type": "code",
   "metadata": {
    "tags": [],
    "cell_id": "00042-67a52718-f3f5-43f9-9800-df3708ea813a",
    "deepnote_to_be_reexecuted": false,
    "source_hash": "f773cdc1",
    "execution_start": 1639384549192,
    "execution_millis": 27,
    "deepnote_cell_type": "code"
   },
   "source": "print(\n    \"Performance on development set (not using Grid Search)\",\n    classification_report(y_dev, pred_dev, target_names=cancer.target_names),\n    sep=\"\\n\"\n)\nprint(\n    \"Performance on development set (using Grid Search)\",\n    classification_report(y_dev, grid_search.predict(X_dev), target_names=cancer.target_names),\n    sep=\"\\n\"\n)",
   "execution_count": null,
   "outputs": [
    {
     "name": "stdout",
     "text": "Performance on development set (not using Grid Search)\n              precision    recall  f1-score   support\n\n   malignant       0.91      0.93      0.92        44\n      benign       0.96      0.94      0.95        70\n\n    accuracy                           0.94       114\n   macro avg       0.93      0.94      0.94       114\nweighted avg       0.94      0.94      0.94       114\n\nPerformance on development set (using Grid Search)\n              precision    recall  f1-score   support\n\n   malignant       0.95      0.95      0.95        44\n      benign       0.97      0.97      0.97        70\n\n    accuracy                           0.96       114\n   macro avg       0.96      0.96      0.96       114\nweighted avg       0.96      0.96      0.96       114\n\n",
     "output_type": "stream"
    }
   ]
  },
  {
   "cell_type": "markdown",
   "source": "<a style='text-decoration:none;line-height:16px;display:flex;color:#5B5B62;padding:10px;justify-content:end;' href='https://deepnote.com?utm_source=created-in-deepnote-cell&projectId=dfd595f9-5ce1-4500-8a69-d893df76283a' target=\"_blank\">\n<img alt='Created in deepnote.com' style='display:inline;max-height:16px;margin:0px;margin-right:7.5px;' src='data:image/svg+xml;base64,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' > </img>\nCreated in <span style='font-weight:600;margin-left:4px;'>Deepnote</span></a>",
   "metadata": {
    "tags": [],
    "created_in_deepnote_cell": true,
    "deepnote_cell_type": "markdown"
   }
  }
 ],
 "nbformat": 4,
 "nbformat_minor": 2,
 "metadata": {
  "orig_nbformat": 2,
  "deepnote": {
   "is_reactive": false
  },
  "deepnote_notebook_id": "14703aa7-5482-4245-a678-2c9eca409d81",
  "deepnote_execution_queue": []
 }
}